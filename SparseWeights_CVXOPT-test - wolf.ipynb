{
 "cells": [
  {
   "cell_type": "code",
   "execution_count": 1,
   "metadata": {},
   "outputs": [],
   "source": [
    "import glob\n",
    "import time\n",
    "import numpy as np\n",
    "np.set_printoptions(suppress=True)\n",
    "\n",
    "from SmoothSparseWeights_CVXOPT import *"
   ]
  },
  {
   "cell_type": "code",
   "execution_count": 2,
   "metadata": {},
   "outputs": [],
   "source": [
    "# exampleName=\"cheburashka\"\n",
    "# poses_folder=\"poses-2\"\n",
    "# poses_ind=7\n",
    "# clip_k=4\n",
    "# handle_num=11\n",
    "\n",
    "\n",
    "# exampleName=\"cow\"\n",
    "# poses_folder=\"poses-2\"\n",
    "# poses_ind=5\n",
    "# clip_k=4\n",
    "# handle_num=15\n",
    "\n",
    "\n",
    "exampleName=\"wolf\"\n",
    "poses_folder=\"poses-1\"\n",
    "poses_ind=2\n",
    "clip_k=4\n",
    "handle_num=21\n",
    "\n",
    "\n",
    "\n",
    "weights = {'W_spatial': 0.0}"
   ]
  },
  {
   "cell_type": "code",
   "execution_count": 3,
   "metadata": {},
   "outputs": [
    {
     "name": "stdout",
     "output_type": "stream",
     "text": [
      "['./models/wolf-all/poses-1/wolf-1.obj', './models/wolf-all/poses-1/wolf-2.obj', './models/wolf-all/poses-1/wolf-3.obj', './models/wolf-all/poses-1/wolf-4.obj', './models/wolf-all/poses-1/wolf-5.obj', './models/wolf-all/poses-1/wolf-6.obj']\n",
      "(5075, 24)\n",
      "(5075, 18)\n"
     ]
    }
   ],
   "source": [
    "#### read obj file\n",
    "\n",
    "### rest_poses:\n",
    "vertices_obj_path=\"./models/\"+exampleName+\"-all/\"+exampleName+\".obj\"\n",
    "mesh0=TriMesh.FromOBJ_FileName(vertices_obj_path)\n",
    "\n",
    "### other poses\n",
    "vertices_obj_dir=\"./models/\"+exampleName+\"-all/\"+poses_folder+\"/\"\n",
    "filenames=glob.glob(vertices_obj_dir+\"*.obj\")\n",
    "print(filenames)\n",
    "\n",
    "mesh1_list=[]\n",
    "for i in range(len(filenames)):\n",
    "    mesh1_list.append(TriMesh.FromOBJ_FileName(filenames[i]))\n",
    "\n",
    "\n",
    "vertices1=vertices1_temp=np.hstack((np.asarray(mesh0.vs),np.ones((len(mesh0.vs),1))))\n",
    "vertices2=vertices2_temp=np.asarray(mesh1_list[0].vs)\n",
    "for i in range(1,len(mesh1_list)):\n",
    "    vertices1=np.hstack((vertices1, vertices1_temp))\n",
    "    vertices2=np.hstack((vertices2, np.asarray(mesh1_list[i].vs)))\n",
    "print(vertices1.shape) \n",
    "print(vertices2.shape) \n"
   ]
  },
  {
   "cell_type": "code",
   "execution_count": 4,
   "metadata": {},
   "outputs": [
    {
     "name": "stdout",
     "output_type": "stream",
     "text": [
      "(21, 72)\n",
      "(5075, 21)\n",
      "[[0.1589514  0.0000593  0.00474596 0.00048292 0.0000278  0.03343458\n",
      "  0.07699286 0.17446554 0.03199314 0.00009963 0.01256247 0.12470764\n",
      "  0.09002658 0.0000002  0.00000122 0.00001448 0.01316137 0.00123948\n",
      "  0.00000147 0.00000064 0.27703134]\n",
      " [0.15856047 0.00005942 0.00472487 0.0004812  0.00002775 0.03355878\n",
      "  0.07708042 0.17432981 0.03208895 0.00009982 0.01256983 0.12475939\n",
      "  0.08994991 0.0000002  0.00000122 0.00001445 0.01320413 0.00123941\n",
      "  0.00000147 0.00000064 0.27724787]\n",
      " [0.15566619 0.00006021 0.00463952 0.00047399 0.00002755 0.03405925\n",
      "  0.07742135 0.17335098 0.03247172 0.00010021 0.01264691 0.12530878\n",
      "  0.08969101 0.0000002  0.00000124 0.00001417 0.01345853 0.00124074\n",
      "  0.00000144 0.00000064 0.27936539]]\n",
      "[[0.1589514  0.         0.         0.         0.         0.\n",
      "  0.         0.17446554 0.         0.         0.         0.12470764\n",
      "  0.         0.         0.         0.         0.         0.\n",
      "  0.         0.         0.27703134]\n",
      " [0.15856047 0.         0.         0.         0.         0.\n",
      "  0.         0.17432981 0.         0.         0.         0.12475939\n",
      "  0.         0.         0.         0.         0.         0.\n",
      "  0.         0.         0.27724787]\n",
      " [0.15566619 0.         0.         0.         0.         0.\n",
      "  0.         0.17335098 0.         0.         0.         0.12530878\n",
      "  0.         0.         0.         0.         0.         0.\n",
      "  0.         0.         0.27936539]]\n",
      "[13 19 14 18 15  4  1  9  3 17  2 10 16  8  5  6 12 34 40 35 39 36 25 22\n",
      " 30 24 38 23 31 37 29 26 27 33 55 61 56 60 57 46 43 51 45 59 44 52 58 50\n",
      " 47 48 54 76 82 77 81 78 67 64 72 66 80 65 73]\n",
      "0.0\n"
     ]
    }
   ],
   "source": [
    "#### read our output of simplex_hull.py \n",
    "results_path=\"./results_pipeline/\"+exampleName+\"-\"+str(handle_num)+\"/result.txt\"\n",
    "endmembers, mixing_weights=load_result(results_path)\n",
    "### endmembers shape is handle * poses * 12??\n",
    "\n",
    "# ### this is to make sure the 3*4 or 4*3 error does not happen.\n",
    "# endmembers=endmembers.reshape((-1, 4, 3))\n",
    "# endmembers=np.transpose(endmembers, (0,2,1))\n",
    "# endmembers=endmembers.reshape((len(mixing_weights), -1, 12))\n",
    "\n",
    "\n",
    "endmembers=endmembers.reshape((len(mixing_weights),-1))\n",
    "mixing_weights=mixing_weights.T\n",
    "\n",
    "\n",
    "print (endmembers.shape)\n",
    "print (mixing_weights.shape)\n",
    "print (mixing_weights[:3])\n",
    "mixing_weights_clip, grad_zero_indices=clip_first_k_values(mixing_weights, clip_k)\n",
    "print (mixing_weights_clip[:3])\n",
    "\n",
    "print (grad_zero_indices[:len(endmembers)*3])\n",
    "\n",
    "print (mixing_weights_clip.ravel()[grad_zero_indices].sum())"
   ]
  },
  {
   "cell_type": "code",
   "execution_count": 5,
   "metadata": {},
   "outputs": [
    {
     "name": "stdout",
     "output_type": "stream",
     "text": [
      "25.309374465859957\n"
     ]
    }
   ],
   "source": [
    "scale=find_scale(vertices1)\n",
    "print (scale)"
   ]
  },
  {
   "cell_type": "code",
   "execution_count": 6,
   "metadata": {},
   "outputs": [
    {
     "name": "stdout",
     "output_type": "stream",
     "text": [
      "2.90071396789943e-09\n"
     ]
    }
   ],
   "source": [
    "recovered_vertices2=recover_vertices(mixing_weights, vertices1, endmembers)\n",
    "print (E_RMS_kavan2010(vertices2, recovered_vertices2, scale))"
   ]
  },
  {
   "cell_type": "code",
   "execution_count": 7,
   "metadata": {},
   "outputs": [
    {
     "name": "stdout",
     "output_type": "stream",
     "text": [
      "11053.189538523577\n",
      "(106575, 1)\n",
      "(5075, 24)\n",
      "(5075, 18)\n",
      "5075 6 21\n",
      "W_spatial 0.0\n",
      "     pcost       dcost       gap    pres   dres\n",
      " 0: -6.7439e+05 -9.9455e+05  3e+06  4e+00  3e-14\n",
      " 1: -6.7398e+05 -9.6379e+05  2e+06  3e+00  3e-14\n",
      " 2: -6.5363e+05 -8.9195e+05  2e+06  2e+00  3e-14\n",
      " 3: -6.1482e+05 -7.3799e+05  1e+06  1e+00  2e-14\n",
      " 4: -5.6338e+05 -5.7968e+05  1e+06  1e+00  2e-14\n",
      " 5: -5.3459e+05 -3.4072e+05  1e+06  1e+00  2e-14\n",
      " 6: -4.6803e+05  8.2022e+04  1e+06  9e-01  2e-14\n",
      " 7: -4.4614e+05  5.0460e+05  1e+06  9e-01  2e-14\n",
      " 8: -3.7439e+05  1.3931e+06  2e+06  9e-01  2e-14\n",
      " 9: -3.1624e+05  2.0354e+06  2e+06  8e-01  2e-14\n",
      "10: -2.0422e+05  3.2452e+06  2e+06  8e-01  2e-14\n",
      "11: -8.2764e+04  4.4966e+06  2e+06  8e-01  3e-14\n",
      "12:  3.9970e+05  7.3843e+06  3e+06  7e-01  3e-14\n",
      "13:  5.5246e+05  8.3237e+06  3e+06  7e-01  3e-14\n",
      "14:  1.2675e+06  1.2016e+07  4e+06  7e-01  3e-14\n",
      "15:  1.6209e+06  1.4000e+07  4e+06  7e-01  3e-14\n",
      "16:  2.7594e+06  1.8347e+07  6e+06  6e-01  3e-14\n",
      "17:  3.0113e+06  1.9276e+07  6e+06  6e-01  3e-14\n",
      "18:  4.1927e+06  2.3049e+07  7e+06  6e-01  3e-14\n",
      "19:  4.4032e+06  2.5143e+07  7e+06  6e-01  3e-14\n",
      "20:  5.5936e+06  3.1263e+07  9e+06  5e-01  4e-14\n",
      "21:  6.0405e+06  3.3746e+07  9e+06  5e-01  4e-14\n",
      "22:  7.1740e+06  3.9502e+07  1e+07  5e-01  4e-14\n",
      "23:  8.8599e+06  4.9446e+07  1e+07  5e-01  5e-14\n",
      "24:  8.9859e+06  5.0527e+07  1e+07  5e-01  5e-14\n",
      "25:  1.0197e+07  5.9090e+07  2e+07  5e-01  5e-14\n",
      "26:  1.1830e+07  7.0883e+07  2e+07  4e-01  5e-14\n",
      "27:  1.3571e+07  8.2347e+07  2e+07  4e-01  6e-14\n",
      "28:  1.6138e+07  9.4620e+07  2e+07  4e-01  6e-14\n",
      "29:  1.9005e+07  1.1007e+08  3e+07  4e-01  7e-14\n",
      "30:  2.4243e+07  1.3366e+08  4e+07  4e-01  7e-14\n",
      "31:  3.0248e+07  1.5583e+08  4e+07  4e-01  8e-14\n",
      "32:  3.5785e+07  1.7678e+08  5e+07  4e-01  9e-14\n",
      "33:  4.3042e+07  2.1134e+08  6e+07  3e-01  1e-13\n",
      "34:  4.6337e+07  2.4643e+08  7e+07  3e-01  1e-13\n",
      "35:  4.9757e+07  2.8064e+08  7e+07  3e-01  1e-13\n",
      "36:  5.6946e+07  3.2873e+08  9e+07  3e-01  1e-13\n",
      "37:  6.3161e+07  3.8591e+08  1e+08  3e-01  1e-13\n",
      "38:  7.0541e+07  4.6478e+08  1e+08  3e-01  1e-13\n",
      "39:  7.6495e+07  5.1954e+08  1e+08  3e-01  1e-13\n",
      "40:  8.7714e+07  6.7197e+08  2e+08  3e-01  1e-13\n",
      "41:  9.7524e+07  7.6081e+08  2e+08  3e-01  1e-13\n",
      "42:  1.1767e+08  9.7358e+08  2e+08  3e-01  2e-13\n",
      "43:  1.1439e+08  1.0250e+09  2e+08  3e-01  2e-13\n",
      "44:  1.1984e+08  1.1662e+09  3e+08  3e-01  2e-13\n",
      "45:  1.2619e+08  1.3595e+09  3e+08  3e-01  2e-13\n",
      "46:  1.4075e+08  1.7270e+09  4e+08  3e-01  2e-13\n",
      "47:  1.6921e+08  2.3849e+09  5e+08  2e-01  2e-13\n",
      "48:  1.7194e+08  2.4664e+09  5e+08  2e-01  2e-13\n",
      "49:  1.9103e+08  2.8814e+09  6e+08  2e-01  2e-13\n",
      "50:  2.1969e+08  3.6618e+09  8e+08  2e-01  2e-13\n",
      "51:  2.4876e+08  4.3440e+09  9e+08  2e-01  2e-13\n",
      "52:  3.1984e+08  5.5829e+09  1e+09  2e-01  2e-13\n",
      "53:  3.9344e+08  6.7138e+09  1e+09  2e-01  2e-13\n",
      "54:  5.1730e+08  8.4395e+09  2e+09  2e-01  3e-13\n",
      "55:  4.6591e+08  1.0127e+10  2e+09  2e-01  3e-13\n",
      "56:  5.6144e+08  1.1939e+10  2e+09  2e-01  3e-13\n",
      "57:  7.5777e+08  1.5114e+10  3e+09  2e-01  3e-13\n",
      "58:  7.8996e+08  1.5824e+10  3e+09  2e-01  3e-13\n",
      "59:  8.3470e+08  1.6714e+10  3e+09  2e-01  3e-13\n",
      "60:  9.8082e+08  1.9756e+10  4e+09  2e-01  4e-13\n",
      "61:  9.8061e+08  2.2394e+10  4e+09  2e-01  4e-13\n",
      "62:  1.0331e+09  2.6264e+10  5e+09  2e-01  4e-13\n",
      "63:  1.1157e+09  3.0671e+10  6e+09  2e-01  4e-13\n",
      "64:  1.2104e+09  3.4806e+10  6e+09  2e-01  4e-13\n",
      "65:  1.3308e+09  4.0571e+10  7e+09  2e-01  4e-13\n",
      "66:  1.5012e+09  4.7813e+10  8e+09  2e-01  5e-13\n",
      "67:  1.5760e+09  5.1483e+10  9e+09  2e-01  5e-13\n",
      "68:  1.6826e+09  5.5501e+10  1e+10  2e-01  5e-13\n",
      "69:  1.9157e+09  6.3661e+10  1e+10  2e-01  5e-13\n",
      "70:  2.3665e+09  7.6546e+10  1e+10  2e-01  5e-13\n",
      "71:  3.5050e+09  1.0171e+11  2e+10  2e-01  6e-13\n",
      "72:  4.9026e+09  1.2576e+11  2e+10  2e-01  6e-13\n",
      "73:  5.1480e+09  1.3275e+11  2e+10  2e-01  6e-13\n",
      "74:  6.5800e+09  1.5825e+11  3e+10  2e-01  7e-13\n",
      "75:  7.2612e+09  1.7049e+11  3e+10  2e-01  7e-13\n",
      "76:  8.3211e+09  1.8847e+11  3e+10  2e-01  8e-13\n",
      "77:  8.8608e+09  2.1913e+11  4e+10  2e-01  8e-13\n",
      "78:  1.0612e+10  2.8710e+11  5e+10  2e-01  9e-13\n",
      "79:  1.0566e+10  2.8998e+11  5e+10  2e-01  9e-13\n",
      "80:  1.1708e+10  3.8632e+11  6e+10  2e-01  1e-12\n",
      "81:  1.7053e+10  5.5526e+11  9e+10  2e-01  1e-12\n",
      "82:  2.4343e+10  7.2354e+11  1e+11  2e-01  2e-12\n",
      "83:  2.6128e+10  7.6026e+11  1e+11  2e-01  2e-12\n",
      "84:  2.8877e+10  8.2053e+11  1e+11  2e-01  2e-12\n",
      "85:  3.2194e+10  9.0396e+11  1e+11  2e-01  2e-12\n",
      "86:  3.3956e+10  1.0367e+12  2e+11  2e-01  2e-12\n",
      "87:  4.7395e+10  1.4760e+12  2e+11  2e-01  2e-12\n",
      "88:  5.3743e+10  1.6397e+12  3e+11  2e-01  3e-12\n",
      "89:  7.4483e+10  2.0727e+12  3e+11  2e-01  3e-12\n",
      "90:  1.0504e+11  2.5861e+12  4e+11  2e-01  4e-12\n",
      "91:  1.4918e+11  3.1947e+12  5e+11  2e-01  4e-12\n",
      "92:  1.6386e+11  3.4687e+12  6e+11  2e-01  5e-12\n",
      "93:  1.6798e+11  3.7870e+12  6e+11  2e-01  5e-12\n",
      "94:  1.8353e+11  4.1243e+12  7e+11  2e-01  5e-12\n",
      "95:  2.0770e+11  4.5998e+12  8e+11  2e-01  6e-12\n",
      "96:  2.5132e+11  5.4460e+12  9e+11  2e-01  6e-12\n",
      "97:  3.1316e+11  6.8381e+12  1e+12  2e-01  6e-12\n",
      "98:  3.0164e+11  7.2714e+12  1e+12  2e-01  7e-12\n",
      "99:  3.4097e+11  9.2437e+12  1e+12  2e-01  7e-12\n",
      "100:  3.9210e+11  1.0928e+13  2e+12  2e-01  7e-12\n",
      "Terminated (maximum number of iterations reached).\n",
      "Solution status not optimal: unknown\n",
      "using time:  973.3764061927795\n",
      "221732.63962719816\n"
     ]
    }
   ],
   "source": [
    "recovered_vertices2=recover_vertices(mixing_weights_clip, vertices1, endmembers)\n",
    "print (E_RMS_kavan2010(vertices2, recovered_vertices2, scale))\n",
    "\n",
    "initials={'x': col_major(mixing_weights_clip.reshape((-1,len(endmembers)))).reshape((-1,1))}\n",
    "print (initials['x'].shape)\n",
    "\n",
    "start=time.time()\n",
    "\n",
    "res=run(mesh0, mesh1_list, weights, endmembers, mixing_weights.ravel(), grad_zero_indices, initials=initials)\n",
    "\n",
    "res=res.reshape(mixing_weights.shape)\n",
    "end=time.time()\n",
    "print(\"using time: \", end-start)\n",
    "\n",
    "recovered_vertices2=recover_vertices(res, vertices1, endmembers)\n",
    "print (E_RMS_kavan2010(vertices2, recovered_vertices2, scale))"
   ]
  },
  {
   "cell_type": "code",
   "execution_count": 8,
   "metadata": {},
   "outputs": [
    {
     "name": "stdout",
     "output_type": "stream",
     "text": [
      "[[ 0.11850882 -0.07429014 -0.03383018  0.00202295 -0.00737332  0.02974563\n",
      "   0.14073151 -0.11425928  0.02723813  0.06317792 -0.10447811  0.25543346\n",
      "  -0.11236641  0.00010973 -0.00068714  0.04396792 -0.10861816  0.72447324\n",
      "   0.00133004 -0.00319004  0.15235343]\n",
      " [ 0.08921593 -0.00032336  0.07870554  0.01423591  0.00036857  0.08360401\n",
      "   0.08777066  0.08919588  0.08493473 -0.00019055  0.09506711  0.09060728\n",
      "   0.0892062   0.0000012  -0.00001094  0.00014508  0.09794443  0.01056797\n",
      "   0.00001145 -0.00000227  0.08894517]\n",
      " [ 0.08921506 -0.00032321  0.078712    0.01422783  0.00036849  0.08360549\n",
      "   0.08777048  0.08919501  0.08493516 -0.00019102  0.09506785  0.09060547\n",
      "   0.08920496  0.0000012  -0.00001092  0.00014501  0.09794299  0.01057476\n",
      "   0.00001142 -0.00000226  0.08894424]]\n",
      "3313.2507007580944\n",
      "1.1159941713018335\n",
      "5075.000000000025\n"
     ]
    }
   ],
   "source": [
    "print (res.reshape((-1, len(endmembers)))[:3]) ### should have same zeros as initial input.\n",
    "print (res.ravel()[grad_zero_indices].sum()) ### should be zero\n",
    "print (res.ravel()[grad_zero_indices].max()) ### should be zero\n",
    "print (res.sum())"
   ]
  },
  {
   "cell_type": "code",
   "execution_count": 9,
   "metadata": {},
   "outputs": [
    {
     "name": "stdout",
     "output_type": "stream",
     "text": [
      "9.563453912079597e-25\n",
      "-0.11717243200493661 1.1159941713018335\n"
     ]
    }
   ],
   "source": [
    "print (((1-res.sum(axis=-1))**2).sum()/len(res))\n",
    "print (res.min(), res.max())"
   ]
  },
  {
   "cell_type": "code",
   "execution_count": 10,
   "metadata": {},
   "outputs": [
    {
     "name": "stdout",
     "output_type": "stream",
     "text": [
      "392102735161.399\n"
     ]
    }
   ],
   "source": [
    "recover_diff= (res.dot(endmembers)-mixing_weights.dot(endmembers))\n",
    "recover_diff= (recover_diff**2).sum()\n",
    "print (recover_diff)"
   ]
  },
  {
   "cell_type": "code",
   "execution_count": 11,
   "metadata": {},
   "outputs": [],
   "source": [
    "# #### read gt per vertex transformation \n",
    "# groundtruth_names=glob.glob(\"./models/\"+exampleName+\"-all/\"+exampleName+\"-*.DMAT\")\n",
    "# print(groundtruth_names)\n",
    "\n",
    "# gt_all=None\n",
    "# for i in range(len(groundtruth_names)):\n",
    "#     gt=load_DMAT(groundtruth_names[i])\n",
    "#     gt=gt.T\n",
    "#     gt=gt.reshape((-1,4,3))\n",
    "#     gt=np.transpose(gt, (0,2,1)).reshape((-1,12))\n",
    "#     if gt_all is None:\n",
    "#         gt_all=gt\n",
    "#     else:\n",
    "#         gt_all=np.hstack((gt_all, gt))\n",
    "    \n",
    "# print(gt_all.shape)\n"
   ]
  },
  {
   "cell_type": "code",
   "execution_count": 12,
   "metadata": {},
   "outputs": [
    {
     "name": "stdout",
     "output_type": "stream",
     "text": [
      "['./models/wolf-all/wolf.DMAT']\n",
      "(5075, 21)\n",
      "5.575027928616619e-29\n"
     ]
    }
   ],
   "source": [
    "#### read gt per vertex mixing weights \n",
    "groundtruth_names=glob.glob(\"./models/\"+exampleName+\"-all/\"+exampleName+\".DMAT\")\n",
    "print(groundtruth_names)\n",
    "gt=load_DMAT(groundtruth_names[0])\n",
    "gt_mixing_weights=gt.T.copy()\n",
    "print (gt_mixing_weights.shape)\n",
    "\n",
    "print (((gt_mixing_weights.sum(axis=-1)-1)**2).sum())"
   ]
  },
  {
   "cell_type": "code",
   "execution_count": 13,
   "metadata": {},
   "outputs": [
    {
     "name": "stdout",
     "output_type": "stream",
     "text": [
      "['./models/wolf-all/poses-1/wolf-1.Tmat', './models/wolf-all/poses-1/wolf-2.Tmat', './models/wolf-all/poses-1/wolf-3.Tmat', './models/wolf-all/poses-1/wolf-4.Tmat', './models/wolf-all/poses-1/wolf-5.Tmat', './models/wolf-all/poses-1/wolf-6.Tmat']\n",
      "(21, 72)\n",
      "(6, 21, 12)\n",
      "[[1. 0. 0. 0.]\n",
      " [0. 1. 0. 0.]\n",
      " [0. 0. 1. 0.]]\n",
      "[[ 0.963816   0.259295   0.0618401  0.769371 ]\n",
      " [-0.215014   0.893333  -0.394619   1.05772  ]\n",
      " [-0.157567   0.367044   0.916761   2.30098  ]]\n",
      "[[1. 0. 0. 0.]\n",
      " [0. 1. 0. 0.]\n",
      " [0. 0. 1. 0.]]\n",
      "[[1. 0. 0. 0.]\n",
      " [0. 1. 0. 0.]\n",
      " [0. 0. 1. 0.]]\n",
      "[[1. 0. 0. 0.]\n",
      " [0. 1. 0. 0.]\n",
      " [0. 0. 1. 0.]]\n",
      "[[1. 0. 0. 0.]\n",
      " [0. 1. 0. 0.]\n",
      " [0. 0. 1. 0.]]\n",
      "[[ 0.99999966 -0.00000045 -0.00000019]\n",
      " [-0.00000045  0.99999904  0.00000028]\n",
      " [-0.00000019  0.00000028  0.99999908]]\n"
     ]
    }
   ],
   "source": [
    "### load groundtruth endmember\n",
    "groundtruth_names=glob.glob(\"./models/\"+exampleName+\"-all/\"+poses_folder+\"/\"+exampleName+\"-*.Tmat\")\n",
    "print(groundtruth_names)\n",
    "\n",
    "gt_handles=None\n",
    "for i in range(len(groundtruth_names)):\n",
    "    gt=load_Tmat(groundtruth_names[i])\n",
    "    gt=gt.reshape((-1,4,3))\n",
    "    gt=np.transpose(gt, (0,2,1)).reshape((-1,12))\n",
    "    if gt_handles is None:\n",
    "        gt_handles=gt\n",
    "    else:\n",
    "        gt_handles=np.hstack((gt_handles, gt))\n",
    "    \n",
    "print(gt_handles.shape)\n",
    "gt_handles=gt_handles.reshape(len(groundtruth_names), -1, 12)\n",
    "\n",
    "gt_handles=np.transpose(gt_handles.reshape(-1, len(groundtruth_names), 12), (1,0,2)) ### is this true?\n",
    "\n",
    "print(gt_handles.shape)\n",
    "\n",
    "for i in range(len(gt_handles)):\n",
    "    print (gt_handles[i][2].reshape((3,4)))\n",
    "\n",
    "test=gt_handles[1][2].reshape((3,4))[:,:3]\n",
    "print (test.T.dot(test))"
   ]
  },
  {
   "cell_type": "code",
   "execution_count": null,
   "metadata": {},
   "outputs": [],
   "source": []
  },
  {
   "cell_type": "code",
   "execution_count": 14,
   "metadata": {},
   "outputs": [
    {
     "name": "stderr",
     "output_type": "stream",
     "text": [
      "/usr/local/lib/python3.6/site-packages/ipykernel_launcher.py:8: RuntimeWarning: invalid value encountered in true_divide\n",
      "  \n"
     ]
    },
    {
     "name": "stdout",
     "output_type": "stream",
     "text": [
      "Using matplotlib backend: MacOSX\n"
     ]
    }
   ],
   "source": [
    "### plot handles corresponding to gt mixing weights, recovered mixing weights, and post-processed mixing weights.\n",
    "###\n",
    "\n",
    "Vertices=vertices2[:,poses_ind*3:poses_ind*3+3]\n",
    "\n",
    "gt_handle_position=gt_mixing_weights.T.dot(Vertices)/gt_mixing_weights.T.sum(axis=-1)[...,np.newaxis]\n",
    "recovered_handle_position=mixing_weights.T.dot(Vertices)/mixing_weights.T.sum(axis=-1)[...,np.newaxis]\n",
    "cliped_handle_position=mixing_weights_clip.T.dot(Vertices)/mixing_weights_clip.T.sum(axis=-1)[...,np.newaxis]\n",
    "postprocessed_handle_position=res.T.dot(Vertices)/res.T.sum(axis=-1)[...,np.newaxis]\n",
    "\n",
    "%matplotlib \n",
    "import matplotlib.pyplot as plt\n",
    "from mpl_toolkits.mplot3d import Axes3D\n",
    "\n",
    "fig= plt.figure()\n",
    "ax=fig.add_subplot(111, projection='3d')\n",
    "\n",
    "ax.scatter(gt_handle_position[:,0],gt_handle_position[:,1], gt_handle_position[:,2], c='k', s=50)\n",
    "ax.scatter(recovered_handle_position[:,0],recovered_handle_position[:,1], recovered_handle_position[:,2], c='r', s=50)\n",
    "# ax.scatter(cliped_handle_position[:,0],cliped_handle_position[:,1], cliped_handle_position[:,2], c='g', s=50)\n",
    "ax.scatter(postprocessed_handle_position[:,0],postprocessed_handle_position[:,1], postprocessed_handle_position[:,2], c='b', s=50)\n",
    "ax.scatter(Vertices[:,0],Vertices[:,1], Vertices[:,2], color='y', s=1, edgecolors='none')\n",
    "\n",
    "plt.show()"
   ]
  },
  {
   "cell_type": "code",
   "execution_count": null,
   "metadata": {},
   "outputs": [],
   "source": []
  },
  {
   "cell_type": "code",
   "execution_count": null,
   "metadata": {},
   "outputs": [],
   "source": []
  },
  {
   "cell_type": "code",
   "execution_count": null,
   "metadata": {},
   "outputs": [],
   "source": []
  },
  {
   "cell_type": "code",
   "execution_count": null,
   "metadata": {},
   "outputs": [],
   "source": []
  },
  {
   "cell_type": "code",
   "execution_count": null,
   "metadata": {},
   "outputs": [],
   "source": []
  },
  {
   "cell_type": "code",
   "execution_count": null,
   "metadata": {},
   "outputs": [],
   "source": []
  },
  {
   "cell_type": "code",
   "execution_count": null,
   "metadata": {},
   "outputs": [],
   "source": []
  }
 ],
 "metadata": {
  "kernelspec": {
   "display_name": "Python 3",
   "language": "python",
   "name": "python3"
  },
  "language_info": {
   "codemirror_mode": {
    "name": "ipython",
    "version": 3
   },
   "file_extension": ".py",
   "mimetype": "text/x-python",
   "name": "python",
   "nbconvert_exporter": "python",
   "pygments_lexer": "ipython3",
   "version": "3.6.5"
  }
 },
 "nbformat": 4,
 "nbformat_minor": 2
}
