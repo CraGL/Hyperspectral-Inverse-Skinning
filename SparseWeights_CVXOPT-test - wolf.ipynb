{
 "cells": [
  {
   "cell_type": "code",
   "execution_count": 1,
   "metadata": {},
   "outputs": [],
   "source": [
    "import glob\n",
    "import time\n",
    "import numpy as np\n",
    "np.set_printoptions(suppress=True)\n",
    "\n",
    "from SmoothSparseWeights_CVXOPT import *"
   ]
  },
  {
   "cell_type": "code",
   "execution_count": 2,
   "metadata": {},
   "outputs": [],
   "source": [
    "# exampleName=\"cheburashka\"\n",
    "# poses_folder=\"poses-2\"\n",
    "# poses_ind=7\n",
    "# clip_k=4\n",
    "# handle_num=11\n",
    "\n",
    "\n",
    "# exampleName=\"cow\"\n",
    "# poses_folder=\"poses-2\"\n",
    "# poses_ind=5\n",
    "# clip_k=4\n",
    "# handle_num=15\n",
    "\n",
    "\n",
    "exampleName=\"wolf\"\n",
    "poses_folder=\"poses-1\"\n",
    "poses_ind=2\n",
    "clip_k=4\n",
    "handle_num=21\n",
    "\n",
    "\n",
    "\n",
    "weights = {'W_spatial': 0.0}"
   ]
  },
  {
   "cell_type": "code",
   "execution_count": 3,
   "metadata": {},
   "outputs": [
    {
     "name": "stdout",
     "output_type": "stream",
     "text": [
      "['./models/wolf-all/poses-1/wolf-1.obj', './models/wolf-all/poses-1/wolf-2.obj', './models/wolf-all/poses-1/wolf-3.obj', './models/wolf-all/poses-1/wolf-4.obj', './models/wolf-all/poses-1/wolf-5.obj', './models/wolf-all/poses-1/wolf-6.obj']\n",
      "(5075, 24)\n",
      "(5075, 18)\n"
     ]
    }
   ],
   "source": [
    "#### read obj file\n",
    "\n",
    "### rest_poses:\n",
    "vertices_obj_path=\"./models/\"+exampleName+\"-all/\"+exampleName+\".obj\"\n",
    "mesh0=TriMesh.FromOBJ_FileName(vertices_obj_path)\n",
    "\n",
    "### other poses\n",
    "vertices_obj_dir=\"./models/\"+exampleName+\"-all/\"+poses_folder+\"/\"\n",
    "filenames=glob.glob(vertices_obj_dir+\"*.obj\")\n",
    "print(filenames)\n",
    "\n",
    "mesh1_list=[]\n",
    "for i in range(len(filenames)):\n",
    "    mesh1_list.append(TriMesh.FromOBJ_FileName(filenames[i]))\n",
    "\n",
    "\n",
    "vertices1=vertices1_temp=np.hstack((np.asarray(mesh0.vs),np.ones((len(mesh0.vs),1))))\n",
    "vertices2=vertices2_temp=np.asarray(mesh1_list[0].vs)\n",
    "for i in range(1,len(mesh1_list)):\n",
    "    vertices1=np.hstack((vertices1, vertices1_temp))\n",
    "    vertices2=np.hstack((vertices2, np.asarray(mesh1_list[i].vs)))\n",
    "print(vertices1.shape) \n",
    "print(vertices2.shape) \n"
   ]
  },
  {
   "cell_type": "code",
   "execution_count": 4,
   "metadata": {},
   "outputs": [
    {
     "name": "stdout",
     "output_type": "stream",
     "text": [
      "(21, 72)\n",
      "(5075, 21)\n",
      "[[0.1589514  0.0000593  0.00474596 0.00048292 0.0000278  0.03343458\n",
      "  0.07699286 0.17446554 0.03199314 0.00009963 0.01256247 0.12470764\n",
      "  0.09002658 0.0000002  0.00000122 0.00001448 0.01316137 0.00123948\n",
      "  0.00000147 0.00000064 0.27703134]\n",
      " [0.15856047 0.00005942 0.00472487 0.0004812  0.00002775 0.03355878\n",
      "  0.07708042 0.17432981 0.03208895 0.00009982 0.01256983 0.12475939\n",
      "  0.08994991 0.0000002  0.00000122 0.00001445 0.01320413 0.00123941\n",
      "  0.00000147 0.00000064 0.27724787]\n",
      " [0.15566619 0.00006021 0.00463952 0.00047399 0.00002755 0.03405925\n",
      "  0.07742135 0.17335098 0.03247172 0.00010021 0.01264691 0.12530878\n",
      "  0.08969101 0.0000002  0.00000124 0.00001417 0.01345853 0.00124074\n",
      "  0.00000144 0.00000064 0.27936539]]\n",
      "[[0.1589514  0.         0.         0.         0.         0.\n",
      "  0.         0.17446554 0.         0.         0.         0.12470764\n",
      "  0.         0.         0.         0.         0.         0.\n",
      "  0.         0.         0.27703134]\n",
      " [0.15856047 0.         0.         0.         0.         0.\n",
      "  0.         0.17432981 0.         0.         0.         0.12475939\n",
      "  0.         0.         0.         0.         0.         0.\n",
      "  0.         0.         0.27724787]\n",
      " [0.15566619 0.         0.         0.         0.         0.\n",
      "  0.         0.17335098 0.         0.         0.         0.12530878\n",
      "  0.         0.         0.         0.         0.         0.\n",
      "  0.         0.         0.27936539]]\n",
      "0.0\n"
     ]
    }
   ],
   "source": [
    "#### read our output of simplex_hull.py \n",
    "results_path=\"./results_pipeline/\"+exampleName+\"-\"+str(handle_num)+\"/result.txt\"\n",
    "endmembers, mixing_weights=load_result(results_path)\n",
    "### endmembers shape is handle * poses * 12??\n",
    "\n",
    "# ### this is to make sure the 3*4 or 4*3 error does not happen.\n",
    "# endmembers=endmembers.reshape((-1, 4, 3))\n",
    "# endmembers=np.transpose(endmembers, (0,2,1))\n",
    "# endmembers=endmembers.reshape((len(mixing_weights), -1, 12))\n",
    "\n",
    "\n",
    "endmembers=endmembers.reshape((len(mixing_weights),-1))\n",
    "mixing_weights=mixing_weights.T\n",
    "\n",
    "\n",
    "print (endmembers.shape)\n",
    "print (mixing_weights.shape)\n",
    "print (mixing_weights[:3])\n",
    "mixing_weights_clip, grad_zero_indices=clip_first_k_values(mixing_weights, clip_k)\n",
    "print (mixing_weights_clip[:3])\n",
    "print ((col_major(mixing_weights_clip)[grad_zero_indices]).sum()) ### should be zero"
   ]
  },
  {
   "cell_type": "code",
   "execution_count": 5,
   "metadata": {},
   "outputs": [
    {
     "name": "stdout",
     "output_type": "stream",
     "text": [
      "25.309374465859957\n"
     ]
    }
   ],
   "source": [
    "scale=find_scale(vertices1)\n",
    "print (scale)"
   ]
  },
  {
   "cell_type": "code",
   "execution_count": 6,
   "metadata": {},
   "outputs": [
    {
     "name": "stdout",
     "output_type": "stream",
     "text": [
      "2.90071396789943e-09\n"
     ]
    }
   ],
   "source": [
    "recovered_vertices2=recover_vertices(mixing_weights, vertices1, endmembers)\n",
    "print (E_RMS_kavan2010(vertices2, recovered_vertices2, scale))"
   ]
  },
  {
   "cell_type": "code",
   "execution_count": 7,
   "metadata": {},
   "outputs": [
    {
     "name": "stdout",
     "output_type": "stream",
     "text": [
      "11053.189538523577\n",
      "(106575, 1)\n",
      "(5075, 24)\n",
      "(5075, 18)\n",
      "5075 6 21\n",
      "W_spatial 0.0\n",
      "     pcost       dcost       gap    pres   dres\n",
      " 0: -2.8654e+06 -3.6498e+06  1e+07  1e+01  1e-15\n",
      " 1: -2.8627e+06 -3.6870e+06  1e+07  7e+00  1e-15\n",
      " 2: -2.8612e+06 -3.7371e+06  9e+06  6e+00  1e-15\n",
      " 3: -2.8541e+06 -3.7391e+06  5e+06  3e+00  1e-15\n",
      " 4: -2.8531e+06 -3.7637e+06  5e+06  2e+00  1e-15\n",
      " 5: -2.8509e+06 -3.7559e+06  4e+06  2e+00  1e-15\n",
      " 6: -2.8400e+06 -3.8370e+06  3e+06  1e+00  1e-15\n",
      " 7: -2.8349e+06 -3.7721e+06  3e+06  8e-01  1e-15\n",
      " 8: -2.8297e+06 -3.5831e+06  2e+06  5e-01  1e-15\n",
      " 9: -2.8244e+06 -3.5625e+06  2e+06  3e-01  1e-15\n",
      "10: -2.8198e+06 -3.5230e+06  2e+06  2e-01  1e-15\n",
      "11: -2.8188e+06 -3.5144e+06  1e+06  2e-01  1e-15\n",
      "12: -2.8163e+06 -3.5108e+06  1e+06  2e-01  1e-15\n",
      "13: -2.8137e+06 -3.4583e+06  1e+06  2e-01  1e-15\n",
      "14: -2.8090e+06 -3.4435e+06  1e+06  1e-01  1e-15\n",
      "15: -2.8054e+06 -3.3530e+06  1e+06  1e-01  1e-15\n",
      "16: -2.8014e+06 -3.3323e+06  1e+06  8e-02  1e-15\n",
      "17: -2.7954e+06 -3.1082e+06  6e+05  4e-02  1e-15\n",
      "18: -2.7932e+06 -3.0855e+06  5e+05  3e-02  1e-15\n",
      "19: -2.7889e+06 -3.0645e+06  5e+05  3e-02  1e-15\n",
      "20: -2.7775e+06 -3.0298e+06  5e+05  2e-02  1e-15\n",
      "21: -2.7696e+06 -2.9921e+06  4e+05  2e-02  1e-15\n",
      "22: -2.7678e+06 -2.9880e+06  4e+05  2e-02  1e-15\n",
      "23: -2.7610e+06 -2.9726e+06  4e+05  2e-02  1e-15\n",
      "24: -2.7525e+06 -2.9255e+06  4e+05  1e-02  1e-15\n",
      "25: -2.7509e+06 -2.9232e+06  4e+05  1e-02  1e-15\n",
      "26: -2.7475e+06 -2.9049e+06  3e+05  9e-03  1e-15\n",
      "27: -2.7431e+06 -2.8854e+06  3e+05  9e-03  1e-15\n",
      "28: -2.7330e+06 -2.8590e+06  3e+05  7e-03  1e-15\n",
      "29: -2.7283e+06 -2.8494e+06  3e+05  7e-03  1e-15\n",
      "30: -2.7183e+06 -2.8274e+06  3e+05  6e-03  1e-15\n",
      "31: -2.7085e+06 -2.8120e+06  3e+05  5e-03  1e-15\n",
      "32: -2.6983e+06 -2.7943e+06  3e+05  4e-03  1e-15\n",
      "33: -2.6923e+06 -2.7847e+06  3e+05  4e-03  1e-15\n",
      "34: -2.6886e+06 -2.7809e+06  3e+05  3e-03  1e-15\n",
      "35: -2.6847e+06 -2.7746e+06  3e+05  3e-03  1e-15\n",
      "36: -2.6811e+06 -2.7719e+06  3e+05  3e-03  1e-15\n",
      "37: -2.6758e+06 -2.7656e+06  3e+05  3e-03  1e-15\n",
      "38: -2.6682e+06 -2.7583e+06  3e+05  2e-03  1e-15\n",
      "39: -2.6637e+06 -2.7515e+06  3e+05  2e-03  1e-15\n",
      "40: -2.6578e+06 -2.7422e+06  2e+05  2e-03  1e-15\n",
      "41: -2.6511e+06 -2.7336e+06  2e+05  2e-03  1e-15\n",
      "42: -2.6445e+06 -2.7270e+06  2e+05  1e-03  1e-15\n",
      "43: -2.6393e+06 -2.7207e+06  2e+05  1e-03  1e-15\n",
      "44: -2.6365e+06 -2.7159e+06  2e+05  1e-03  1e-15\n",
      "45: -2.6337e+06 -2.7137e+06  2e+05  1e-03  1e-15\n",
      "46: -2.6262e+06 -2.7022e+06  2e+05  1e-03  1e-15\n",
      "47: -2.6209e+06 -2.6946e+06  2e+05  9e-04  1e-15\n",
      "48: -2.6184e+06 -2.6911e+06  2e+05  8e-04  1e-15\n",
      "49: -2.6133e+06 -2.6818e+06  2e+05  7e-04  1e-15\n",
      "50: -2.6085e+06 -2.6727e+06  2e+05  6e-04  1e-15\n",
      "51: -2.6020e+06 -2.6620e+06  2e+05  5e-04  1e-15\n",
      "52: -2.5977e+06 -2.6566e+06  2e+05  5e-04  1e-15\n",
      "53: -2.5943e+06 -2.6489e+06  2e+05  4e-04  1e-15\n",
      "54: -2.5886e+06 -2.6402e+06  2e+05  4e-04  1e-15\n",
      "55: -2.5858e+06 -2.6364e+06  2e+05  3e-04  1e-15\n",
      "56: -2.5817e+06 -2.6288e+06  2e+05  3e-04  9e-16\n",
      "57: -2.5796e+06 -2.6247e+06  2e+05  3e-04  9e-16\n",
      "58: -2.5770e+06 -2.6216e+06  1e+05  3e-04  9e-16\n",
      "59: -2.5723e+06 -2.6169e+06  1e+05  2e-04  9e-16\n",
      "60: -2.5693e+06 -2.6130e+06  1e+05  2e-04  9e-16\n",
      "61: -2.5673e+06 -2.6110e+06  1e+05  2e-04  9e-16\n",
      "62: -2.5652e+06 -2.6081e+06  1e+05  2e-04  9e-16\n",
      "63: -2.5604e+06 -2.6017e+06  1e+05  2e-04  8e-16\n",
      "64: -2.5559e+06 -2.5947e+06  1e+05  1e-04  8e-16\n",
      "65: -2.5517e+06 -2.5883e+06  1e+05  1e-04  7e-16\n",
      "66: -2.5489e+06 -2.5836e+06  1e+05  1e-04  7e-16\n",
      "67: -2.5479e+06 -2.5819e+06  1e+05  1e-04  7e-16\n",
      "68: -2.5446e+06 -2.5770e+06  1e+05  1e-04  7e-16\n",
      "69: -2.5406e+06 -2.5705e+06  1e+05  9e-05  7e-16\n",
      "70: -2.5373e+06 -2.5662e+06  1e+05  8e-05  7e-16\n",
      "71: -2.5369e+06 -2.5649e+06  1e+05  8e-05  7e-16\n",
      "72: -2.5345e+06 -2.5561e+06  1e+05  8e-05  7e-16\n",
      "73: -2.5323e+06 -2.5476e+06  1e+05  7e-05  7e-16\n",
      "74: -2.5289e+06 -2.5458e+06  1e+05  7e-05  7e-16\n",
      "75: -2.5241e+06 -2.5365e+06  1e+05  6e-05  7e-16\n",
      "76: -2.5197e+06 -2.5281e+06  1e+05  6e-05  7e-16\n",
      "77: -2.5154e+06 -2.5197e+06  1e+05  5e-05  7e-16\n",
      "78: -2.5096e+06 -2.5091e+06  1e+05  5e-05  7e-16\n",
      "79: -2.5050e+06 -2.5018e+06  1e+05  5e-05  7e-16\n",
      "80: -2.5007e+06 -2.4955e+06  1e+05  4e-05  7e-16\n",
      "81: -2.4984e+06 -2.4921e+06  1e+05  4e-05  7e-16\n",
      "82: -2.4960e+06 -2.4876e+06  1e+05  4e-05  7e-16\n",
      "83: -2.4920e+06 -2.4815e+06  1e+05  4e-05  7e-16\n",
      "84: -2.4899e+06 -2.4784e+06  2e+05  4e-05  7e-16\n",
      "85: -2.4868e+06 -2.4732e+06  2e+05  4e-05  7e-16\n",
      "86: -2.4826e+06 -2.4659e+06  2e+05  3e-05  7e-16\n",
      "87: -2.4754e+06 -2.4533e+06  2e+05  3e-05  7e-16\n",
      "88: -2.4705e+06 -2.4438e+06  2e+05  3e-05  7e-16\n",
      "89: -2.4632e+06 -2.4312e+06  2e+05  3e-05  6e-16\n",
      "90: -2.4630e+06 -2.4300e+06  2e+05  3e-05  7e-16\n",
      "91: -2.4554e+06 -2.4162e+06  2e+05  2e-05  6e-16\n",
      "92: -2.4402e+06 -2.3960e+06  2e+05  2e-05  6e-16\n",
      "93: -2.4373e+06 -2.3913e+06  2e+05  2e-05  6e-16\n",
      "94: -2.4254e+06 -2.3716e+06  2e+05  2e-05  6e-16\n",
      "95: -2.4186e+06 -2.3605e+06  2e+05  2e-05  6e-16\n",
      "96: -2.4183e+06 -2.3605e+06  2e+05  2e-05  6e-16\n",
      "97: -2.4140e+06 -2.3534e+06  2e+05  2e-05  6e-16\n",
      "98: -2.4062e+06 -2.3403e+06  2e+05  2e-05  6e-16\n",
      "99: -2.3994e+06 -2.3325e+06  2e+05  1e-05  6e-16\n",
      "100: -2.3950e+06 -2.3272e+06  2e+05  1e-05  6e-16\n",
      "Terminated (maximum number of iterations reached).\n",
      "Solution status not optimal: unknown\n",
      "using time:  1581.1055591106415\n",
      "1759.1513899239992\n"
     ]
    }
   ],
   "source": [
    "recovered_vertices2=recover_vertices(mixing_weights_clip, vertices1, endmembers)\n",
    "print (E_RMS_kavan2010(vertices2, recovered_vertices2, scale))\n",
    "\n",
    "initials={'x': col_major(mixing_weights_clip.reshape((-1,len(endmembers)))).reshape((-1,1))}\n",
    "print (initials['x'].shape)\n",
    "\n",
    "start=time.time()\n",
    "\n",
    "res=run(mesh0, mesh1_list, weights, endmembers, mixing_weights.ravel(), grad_zero_indices, initials=initials)\n",
    "\n",
    "res=res.reshape(mixing_weights.shape)\n",
    "end=time.time()\n",
    "print(\"using time: \", end-start)\n",
    "\n",
    "recovered_vertices2=recover_vertices(res, vertices1, endmembers)\n",
    "print (E_RMS_kavan2010(vertices2, recovered_vertices2, scale))"
   ]
  },
  {
   "cell_type": "code",
   "execution_count": 8,
   "metadata": {},
   "outputs": [
    {
     "name": "stdout",
     "output_type": "stream",
     "text": [
      "[[ 0.0314606   0.00000184 -0.00000578 -0.0000056  -0.00000404 -0.00000579\n",
      "  -0.0000058   0.43806026 -0.00000579 -0.00000337 -0.00000581  0.02142753\n",
      "  -0.0000058  -0.00000023  0.00000076  0.00003852 -0.00000582 -0.00000553\n",
      "   0.00000853 -0.00000184  0.50906316]\n",
      " [ 0.03174131  0.00000176 -0.00000578 -0.0000056  -0.00000408 -0.00000579\n",
      "  -0.0000058   0.44561361 -0.00000579 -0.0000034  -0.00000581  0.02104947\n",
      "  -0.0000058  -0.00000022  0.00000085  0.00003823 -0.00000582 -0.00000553\n",
      "   0.00000835 -0.00000173  0.50160759]\n",
      " [ 0.03228857  0.0000017  -0.00000578 -0.00000562 -0.00000413 -0.00000579\n",
      "  -0.0000058   0.47293269 -0.00000579 -0.00000344 -0.00000581  0.01962018\n",
      "  -0.0000058  -0.00000019  0.00000115  0.00003764 -0.00000582 -0.00000554\n",
      "   0.00000769 -0.00000153  0.47517143]]\n",
      "-9.020562075079397e-17\n",
      "0.03083508822633423\n"
     ]
    }
   ],
   "source": [
    "print (res.reshape((-1, len(endmembers)))[:3]) ### should have same zeros as initial input.\n",
    "print ((col_major(res)[grad_zero_indices]).sum()) ### should be zero\n",
    "print ((col_major(res)[grad_zero_indices]).max()) ### should be zero"
   ]
  },
  {
   "cell_type": "code",
   "execution_count": 9,
   "metadata": {},
   "outputs": [
    {
     "name": "stdout",
     "output_type": "stream",
     "text": [
      "2.1453227758057872e-32\n",
      "-1.0020860305304335e-05 0.9975009192528367\n"
     ]
    }
   ],
   "source": [
    "print (((1-res.sum(axis=-1))**2).sum()/len(res))\n",
    "print (res.min(), res.max())"
   ]
  },
  {
   "cell_type": "code",
   "execution_count": 10,
   "metadata": {},
   "outputs": [
    {
     "name": "stdout",
     "output_type": "stream",
     "text": [
      "252856541.8422539\n"
     ]
    }
   ],
   "source": [
    "recover_diff= (res.dot(endmembers)-mixing_weights.dot(endmembers))\n",
    "recover_diff= (recover_diff**2).sum()\n",
    "print (recover_diff)"
   ]
  },
  {
   "cell_type": "code",
   "execution_count": 11,
   "metadata": {},
   "outputs": [],
   "source": [
    "# #### read gt per vertex transformation \n",
    "# groundtruth_names=glob.glob(\"./models/\"+exampleName+\"-all/\"+exampleName+\"-*.DMAT\")\n",
    "# print(groundtruth_names)\n",
    "\n",
    "# gt_all=None\n",
    "# for i in range(len(groundtruth_names)):\n",
    "#     gt=load_DMAT(groundtruth_names[i])\n",
    "#     gt=gt.T\n",
    "#     gt=gt.reshape((-1,4,3))\n",
    "#     gt=np.transpose(gt, (0,2,1)).reshape((-1,12))\n",
    "#     if gt_all is None:\n",
    "#         gt_all=gt\n",
    "#     else:\n",
    "#         gt_all=np.hstack((gt_all, gt))\n",
    "    \n",
    "# print(gt_all.shape)\n"
   ]
  },
  {
   "cell_type": "code",
   "execution_count": 12,
   "metadata": {},
   "outputs": [
    {
     "name": "stdout",
     "output_type": "stream",
     "text": [
      "['./models/wolf-all/wolf.DMAT']\n",
      "(5075, 21)\n",
      "5.575027928616619e-29\n"
     ]
    }
   ],
   "source": [
    "#### read gt per vertex mixing weights \n",
    "groundtruth_names=glob.glob(\"./models/\"+exampleName+\"-all/\"+exampleName+\".DMAT\")\n",
    "print(groundtruth_names)\n",
    "gt=load_DMAT(groundtruth_names[0])\n",
    "gt_mixing_weights=gt.T.copy()\n",
    "print (gt_mixing_weights.shape)\n",
    "\n",
    "print (((gt_mixing_weights.sum(axis=-1)-1)**2).sum())"
   ]
  },
  {
   "cell_type": "code",
   "execution_count": 13,
   "metadata": {},
   "outputs": [
    {
     "name": "stdout",
     "output_type": "stream",
     "text": [
      "['./models/wolf-all/poses-1/wolf-1.Tmat', './models/wolf-all/poses-1/wolf-2.Tmat', './models/wolf-all/poses-1/wolf-3.Tmat', './models/wolf-all/poses-1/wolf-4.Tmat', './models/wolf-all/poses-1/wolf-5.Tmat', './models/wolf-all/poses-1/wolf-6.Tmat']\n",
      "(21, 72)\n",
      "(6, 21, 12)\n",
      "[[1. 0. 0. 0.]\n",
      " [0. 1. 0. 0.]\n",
      " [0. 0. 1. 0.]]\n",
      "[[ 0.963816   0.259295   0.0618401  0.769371 ]\n",
      " [-0.215014   0.893333  -0.394619   1.05772  ]\n",
      " [-0.157567   0.367044   0.916761   2.30098  ]]\n",
      "[[1. 0. 0. 0.]\n",
      " [0. 1. 0. 0.]\n",
      " [0. 0. 1. 0.]]\n",
      "[[1. 0. 0. 0.]\n",
      " [0. 1. 0. 0.]\n",
      " [0. 0. 1. 0.]]\n",
      "[[1. 0. 0. 0.]\n",
      " [0. 1. 0. 0.]\n",
      " [0. 0. 1. 0.]]\n",
      "[[1. 0. 0. 0.]\n",
      " [0. 1. 0. 0.]\n",
      " [0. 0. 1. 0.]]\n",
      "[[ 0.99999966 -0.00000045 -0.00000019]\n",
      " [-0.00000045  0.99999904  0.00000028]\n",
      " [-0.00000019  0.00000028  0.99999908]]\n"
     ]
    }
   ],
   "source": [
    "### load groundtruth endmember\n",
    "groundtruth_names=glob.glob(\"./models/\"+exampleName+\"-all/\"+poses_folder+\"/\"+exampleName+\"-*.Tmat\")\n",
    "print(groundtruth_names)\n",
    "\n",
    "gt_handles=None\n",
    "for i in range(len(groundtruth_names)):\n",
    "    gt=load_Tmat(groundtruth_names[i])\n",
    "    gt=gt.reshape((-1,4,3))\n",
    "    gt=np.transpose(gt, (0,2,1)).reshape((-1,12))\n",
    "    if gt_handles is None:\n",
    "        gt_handles=gt\n",
    "    else:\n",
    "        gt_handles=np.hstack((gt_handles, gt))\n",
    "    \n",
    "print(gt_handles.shape)\n",
    "gt_handles=gt_handles.reshape(len(groundtruth_names), -1, 12)\n",
    "\n",
    "gt_handles=np.transpose(gt_handles.reshape(-1, len(groundtruth_names), 12), (1,0,2)) ### is this true?\n",
    "\n",
    "print(gt_handles.shape)\n",
    "\n",
    "for i in range(len(gt_handles)):\n",
    "    print (gt_handles[i][2].reshape((3,4)))\n",
    "\n",
    "test=gt_handles[1][2].reshape((3,4))[:,:3]\n",
    "print (test.T.dot(test))"
   ]
  },
  {
   "cell_type": "code",
   "execution_count": null,
   "metadata": {},
   "outputs": [],
   "source": []
  },
  {
   "cell_type": "code",
   "execution_count": 22,
   "metadata": {},
   "outputs": [
    {
     "name": "stdout",
     "output_type": "stream",
     "text": [
      "Using matplotlib backend: MacOSX\n"
     ]
    }
   ],
   "source": [
    "### plot handles corresponding to gt mixing weights, recovered mixing weights, and post-processed mixing weights.\n",
    "###\n",
    "\n",
    "eps=1e-10\n",
    "\n",
    "# Vertices=vertices2[:,poses_ind*3:poses_ind*3+3]\n",
    "\n",
    "## use recovered vertices instead.\n",
    "recovered_vertices2=recover_vertices(res, vertices1, endmembers).reshape((len(vertices1),-1))\n",
    "Vertices=recovered_vertices2[:,poses_ind*3:poses_ind*3+3]\n",
    "\n",
    "\n",
    "gt_handle_position=gt_mixing_weights.T.dot(Vertices)/(gt_mixing_weights.T.sum(axis=-1)[...,np.newaxis]+eps)\n",
    "recovered_handle_position=mixing_weights.T.dot(Vertices)/(mixing_weights.T.sum(axis=-1)[...,np.newaxis]+eps)\n",
    "cliped_handle_position=mixing_weights_clip.T.dot(Vertices)/(mixing_weights_clip.T.sum(axis=-1)[...,np.newaxis]+eps)\n",
    "postprocessed_handle_position=res.T.dot(Vertices)/(res.T.sum(axis=-1)[...,np.newaxis]+eps)\n",
    "\n",
    "%matplotlib \n",
    "import matplotlib.pyplot as plt\n",
    "from mpl_toolkits.mplot3d import Axes3D\n",
    "\n",
    "fig= plt.figure()\n",
    "ax=fig.add_subplot(111, projection='3d')\n",
    "\n",
    "ax.scatter(gt_handle_position[:,0],gt_handle_position[:,1], gt_handle_position[:,2], c='k', s=50)\n",
    "ax.scatter(recovered_handle_position[:,0],recovered_handle_position[:,1], recovered_handle_position[:,2], c='r', s=50)\n",
    "# ax.scatter(cliped_handle_position[:,0],cliped_handle_position[:,1], cliped_handle_position[:,2], c='g', s=50)\n",
    "ax.scatter(postprocessed_handle_position[:,0],postprocessed_handle_position[:,1], postprocessed_handle_position[:,2], c='b', s=50)\n",
    "ax.scatter(Vertices[:,0],Vertices[:,1], Vertices[:,2], color='y', s=1, edgecolors='none')\n",
    "\n",
    "plt.show()"
   ]
  },
  {
   "cell_type": "code",
   "execution_count": null,
   "metadata": {},
   "outputs": [],
   "source": []
  },
  {
   "cell_type": "code",
   "execution_count": null,
   "metadata": {},
   "outputs": [],
   "source": []
  },
  {
   "cell_type": "code",
   "execution_count": null,
   "metadata": {},
   "outputs": [],
   "source": []
  },
  {
   "cell_type": "code",
   "execution_count": null,
   "metadata": {},
   "outputs": [],
   "source": []
  },
  {
   "cell_type": "code",
   "execution_count": null,
   "metadata": {},
   "outputs": [],
   "source": []
  },
  {
   "cell_type": "code",
   "execution_count": null,
   "metadata": {},
   "outputs": [],
   "source": []
  },
  {
   "cell_type": "code",
   "execution_count": null,
   "metadata": {},
   "outputs": [],
   "source": []
  }
 ],
 "metadata": {
  "kernelspec": {
   "display_name": "Python 3",
   "language": "python",
   "name": "python3"
  },
  "language_info": {
   "codemirror_mode": {
    "name": "ipython",
    "version": 3
   },
   "file_extension": ".py",
   "mimetype": "text/x-python",
   "name": "python",
   "nbconvert_exporter": "python",
   "pygments_lexer": "ipython3",
   "version": "3.6.5"
  }
 },
 "nbformat": 4,
 "nbformat_minor": 2
}
