{
 "cells": [
  {
   "cell_type": "code",
   "execution_count": 1,
   "metadata": {},
   "outputs": [],
   "source": [
    "import glob\n",
    "import time\n",
    "import numpy as np\n",
    "np.set_printoptions(suppress=True)\n",
    "\n",
    "from SmoothSparseWeights_CVXOPT import *"
   ]
  },
  {
   "cell_type": "code",
   "execution_count": 2,
   "metadata": {},
   "outputs": [],
   "source": [
    "# exampleName=\"cheburashka\"\n",
    "# poses_folder=\"poses-2\"\n",
    "# poses_ind=7\n",
    "# clip_k=4\n",
    "# handle_num=11\n",
    "\n",
    "\n",
    "exampleName=\"cow\"\n",
    "poses_folder=\"poses-2\"\n",
    "poses_ind=5\n",
    "clip_k=4\n",
    "handle_num=15\n",
    "\n",
    "\n",
    "# exampleName=\"wolf\"\n",
    "# poses_folder=\"poses-1\"\n",
    "# poses_ind=2\n",
    "# clip_k=4\n",
    "# handle_num=21\n",
    "\n",
    "\n",
    "\n",
    "weights = {'W_spatial': 0.0}"
   ]
  },
  {
   "cell_type": "code",
   "execution_count": 3,
   "metadata": {},
   "outputs": [
    {
     "name": "stdout",
     "output_type": "stream",
     "text": [
      "['./models/cow-all/poses-2/cow-1.obj', './models/cow-all/poses-2/cow-2.obj', './models/cow-all/poses-2/cow-3.obj', './models/cow-all/poses-2/cow-4.obj', './models/cow-all/poses-2/cow-5.obj', './models/cow-all/poses-2/cow-6.obj', './models/cow-all/poses-2/cow-7.obj']\n",
      "(11666, 28)\n",
      "(11666, 21)\n"
     ]
    }
   ],
   "source": [
    "#### read obj file\n",
    "\n",
    "### rest_poses:\n",
    "vertices_obj_path=\"./models/\"+exampleName+\"-all/\"+exampleName+\".obj\"\n",
    "mesh0=TriMesh.FromOBJ_FileName(vertices_obj_path)\n",
    "\n",
    "### other poses\n",
    "vertices_obj_dir=\"./models/\"+exampleName+\"-all/\"+poses_folder+\"/\"\n",
    "filenames=glob.glob(vertices_obj_dir+\"*.obj\")\n",
    "print(filenames)\n",
    "\n",
    "mesh1_list=[]\n",
    "for i in range(len(filenames)):\n",
    "    mesh1_list.append(TriMesh.FromOBJ_FileName(filenames[i]))\n",
    "\n",
    "\n",
    "vertices1=vertices1_temp=np.hstack((np.asarray(mesh0.vs),np.ones((len(mesh0.vs),1))))\n",
    "vertices2=vertices2_temp=np.asarray(mesh1_list[0].vs)\n",
    "for i in range(1,len(mesh1_list)):\n",
    "    vertices1=np.hstack((vertices1, vertices1_temp))\n",
    "    vertices2=np.hstack((vertices2, np.asarray(mesh1_list[i].vs)))\n",
    "print(vertices1.shape) \n",
    "print(vertices2.shape) \n"
   ]
  },
  {
   "cell_type": "code",
   "execution_count": 4,
   "metadata": {},
   "outputs": [
    {
     "name": "stdout",
     "output_type": "stream",
     "text": [
      "(15, 84)\n",
      "(11666, 15)\n",
      "[[0.20570602 0.00042219 0.02655054 0.15167153 0.00018981 0.00004767\n",
      "  0.00030539 0.00002423 0.02001831 0.00000105 0.00102998 0.14445015\n",
      "  0.00045419 0.44910447 0.00002447]\n",
      " [0.21555833 0.0004373  0.02679411 0.16466939 0.00016431 0.00004939\n",
      "  0.00029969 0.00002367 0.01424946 0.00000119 0.00101018 0.15187666\n",
      "  0.00048589 0.42435294 0.00002749]\n",
      " [0.24024097 0.00040106 0.02997077 0.15734726 0.00013956 0.00004676\n",
      "  0.00030475 0.00002278 0.01438586 0.00000122 0.00103343 0.11445163\n",
      "  0.00051674 0.44110425 0.00003297]]\n",
      "[[0.20570602 0.         0.         0.15167153 0.         0.\n",
      "  0.         0.         0.         0.         0.         0.14445015\n",
      "  0.         0.44910447 0.        ]\n",
      " [0.21555833 0.         0.         0.16466939 0.         0.\n",
      "  0.         0.         0.         0.         0.         0.15187666\n",
      "  0.         0.42435294 0.        ]\n",
      " [0.24024097 0.         0.         0.15734726 0.         0.\n",
      "  0.         0.         0.         0.         0.         0.11445163\n",
      "  0.         0.44110425 0.        ]]\n",
      "0.0\n"
     ]
    }
   ],
   "source": [
    "#### read our output of simplex_hull.py \n",
    "results_path=\"./results_pipeline/\"+exampleName+\"-\"+str(handle_num)+\"/result.txt\"\n",
    "endmembers, mixing_weights=load_result(results_path)\n",
    "### endmembers shape is handle * poses * 12??\n",
    "\n",
    "# ### this is to make sure the 3*4 or 4*3 error does not happen.\n",
    "# endmembers=endmembers.reshape((-1, 4, 3))\n",
    "# endmembers=np.transpose(endmembers, (0,2,1))\n",
    "# endmembers=endmembers.reshape((len(mixing_weights), -1, 12))\n",
    "\n",
    "\n",
    "endmembers=endmembers.reshape((len(mixing_weights),-1))\n",
    "mixing_weights=mixing_weights.T\n",
    "\n",
    "\n",
    "print (endmembers.shape)\n",
    "print (mixing_weights.shape)\n",
    "print (mixing_weights[:3])\n",
    "mixing_weights_clip, grad_zero_indices=clip_first_k_values(mixing_weights, clip_k)\n",
    "print (mixing_weights_clip[:3])\n",
    "print ((col_major(mixing_weights_clip)[grad_zero_indices]).sum()) ### should be zero"
   ]
  },
  {
   "cell_type": "code",
   "execution_count": 5,
   "metadata": {},
   "outputs": [
    {
     "name": "stdout",
     "output_type": "stream",
     "text": [
      "708.6870049193496\n"
     ]
    }
   ],
   "source": [
    "scale=find_scale(vertices1)\n",
    "print (scale)"
   ]
  },
  {
   "cell_type": "code",
   "execution_count": 6,
   "metadata": {},
   "outputs": [
    {
     "name": "stdout",
     "output_type": "stream",
     "text": [
      "0.07533573276941448\n"
     ]
    }
   ],
   "source": [
    "recovered_vertices2=recover_vertices(mixing_weights, vertices1, endmembers)\n",
    "print (E_RMS_kavan2010(vertices2, recovered_vertices2, scale))"
   ]
  },
  {
   "cell_type": "code",
   "execution_count": 7,
   "metadata": {},
   "outputs": [
    {
     "name": "stdout",
     "output_type": "stream",
     "text": [
      "37144.77739542565\n",
      "(174990, 1)\n",
      "(11666, 28)\n",
      "(11666, 21)\n",
      "11666 7 15\n",
      "use vertices error as obj\n",
      "W_spatial 0.0\n",
      "     pcost       dcost       gap    pres   dres\n",
      " 0: -6.3316e+03 -2.1169e+05  8e+05  2e+00  3e-13\n",
      " 1: -6.2758e+03 -8.4052e+04  1e+05  1e-01  4e-13\n",
      " 2: -5.7427e+03 -5.9721e+04  7e+04  6e-02  3e-13\n",
      " 3: -4.9631e+03 -2.5080e+04  3e+04  2e-02  1e-13\n",
      " 4: -4.5649e+03 -1.4879e+04  1e+04  8e-03  7e-14\n",
      " 5: -4.2041e+03 -1.1233e+04  1e+04  4e-03  4e-14\n",
      " 6: -4.1000e+03 -9.6992e+03  8e+03  3e-03  3e-14\n",
      " 7: -4.0087e+03 -8.2052e+03  7e+03  2e-03  3e-14\n",
      " 8: -3.9539e+03 -6.4503e+03  7e+03  2e-03  2e-14\n",
      " 9: -3.9224e+03 -4.3366e+03  7e+03  2e-03  3e-14\n",
      "10: -3.8441e+03  3.3162e+02  8e+03  2e-03  3e-14\n",
      "11: -3.7579e+03  4.6299e+03  9e+03  2e-03  3e-14\n",
      "12: -3.7786e+03  1.1491e+04  1e+04  2e-03  3e-14\n",
      "13: -3.7132e+03  2.1374e+04  1e+04  2e-03  3e-14\n",
      "14: -2.8631e+03  8.0590e+04  2e+04  2e-03  3e-14\n",
      "15: -1.0049e+03  1.5600e+05  3e+04  2e-03  3e-14\n",
      "16:  2.5027e+03  2.5084e+05  4e+04  2e-03  3e-14\n",
      "17:  6.7170e+03  3.3026e+05  5e+04  2e-03  3e-14\n",
      "18:  8.9521e+03  3.7272e+05  6e+04  2e-03  3e-14\n",
      "19:  1.3904e+04  4.6276e+05  7e+04  2e-03  4e-14\n",
      "20:  2.0275e+04  5.5759e+05  9e+04  2e-03  4e-14\n",
      "21:  3.3289e+04  7.0172e+05  1e+05  2e-03  4e-14\n",
      "22:  4.8526e+04  8.4764e+05  1e+05  2e-03  4e-14\n",
      "23:  7.0004e+04  1.0229e+06  2e+05  2e-03  4e-14\n",
      "24:  9.7704e+04  1.2206e+06  2e+05  2e-03  4e-14\n",
      "25:  1.3442e+05  1.4476e+06  3e+05  2e-03  4e-14\n",
      "26:  2.0986e+05  1.8305e+06  4e+05  1e-03  4e-14\n",
      "27:  2.8820e+05  2.1775e+06  5e+05  1e-03  4e-14\n",
      "28:  3.7847e+05  2.4725e+06  6e+05  1e-03  4e-14\n",
      "29:  7.2468e+05  3.2695e+06  8e+05  1e-03  4e-14\n",
      "30:  1.3960e+06  4.1879e+06  1e+06  1e-03  3e-14\n",
      "31:  1.8436e+06  4.5496e+06  1e+06  8e-04  3e-14\n",
      "32:  2.4120e+06  4.9032e+06  1e+06  7e-04  3e-14\n",
      "33:  2.9065e+06  5.1401e+06  1e+06  6e-04  2e-14\n",
      "34:  3.4392e+06  5.3756e+06  1e+06  5e-04  2e-14\n",
      "35:  3.9439e+06  5.6440e+06  1e+06  4e-04  2e-14\n",
      "36:  4.5543e+06  5.9472e+06  1e+06  3e-04  2e-14\n",
      "37:  5.2152e+06  6.2113e+06  9e+05  2e-04  2e-14\n",
      "38:  5.5231e+06  6.2757e+06  9e+05  1e-04  2e-14\n",
      "39:  5.8123e+06  6.3465e+06  8e+05  1e-04  2e-14\n",
      "40:  6.0753e+06  6.4249e+06  8e+05  7e-05  3e-14\n",
      "41:  6.3074e+06  6.5020e+06  6e+05  5e-05  3e-14\n",
      "42:  6.4971e+06  6.5770e+06  5e+05  3e-05  3e-14\n",
      "43:  6.6280e+06  6.6430e+06  4e+05  2e-05  3e-14\n",
      "44:  6.7141e+06  6.6974e+06  3e+05  1e-05  3e-14\n",
      "45:  6.7649e+06  6.7376e+06  2e+05  7e-06  3e-14\n",
      "46:  6.7946e+06  6.7661e+06  1e+05  4e-06  3e-14\n",
      "47:  6.8118e+06  6.7860e+06  1e+05  3e-06  3e-14\n",
      "48:  6.8216e+06  6.7995e+06  7e+04  2e-06  3e-14\n",
      "49:  6.8272e+06  6.8088e+06  5e+04  1e-06  3e-14\n",
      "50:  6.8306e+06  6.8155e+06  4e+04  8e-07  3e-14\n",
      "51:  6.8324e+06  6.8200e+06  3e+04  6e-07  4e-14\n",
      "52:  6.8335e+06  6.8231e+06  3e+04  4e-07  3e-14\n",
      "53:  6.8343e+06  6.8260e+06  2e+04  3e-07  3e-14\n",
      "54:  6.8348e+06  6.8283e+06  1e+04  2e-07  3e-14\n",
      "55:  6.8351e+06  6.8302e+06  1e+04  2e-07  3e-14\n",
      "56:  6.8353e+06  6.8319e+06  7e+03  1e-07  4e-14\n",
      "57:  6.8354e+06  6.8332e+06  5e+03  7e-08  3e-14\n",
      "58:  6.8354e+06  6.8341e+06  3e+03  4e-08  3e-14\n",
      "59:  6.8355e+06  6.8349e+06  1e+03  2e-08  3e-14\n",
      "60:  6.8355e+06  6.8352e+06  7e+02  9e-09  3e-14\n",
      "61:  6.8355e+06  6.8353e+06  4e+02  6e-09  3e-14\n",
      "62:  6.8355e+06  6.8354e+06  3e+02  4e-09  3e-14\n",
      "63:  6.8355e+06  6.8355e+06  4e+01  6e-10  4e-14\n",
      "64:  6.8355e+06  6.8355e+06  1e+01  2e-10  3e-14\n",
      "65:  6.8355e+06  6.8355e+06  1e+00  1e-11  4e-14\n",
      "Optimal solution found.\n",
      "optimal\n",
      "using time:  2073.290585041046\n",
      "37746.777295326974\n"
     ]
    }
   ],
   "source": [
    "recovered_vertices2=recover_vertices(mixing_weights_clip, vertices1, endmembers)\n",
    "print (E_RMS_kavan2010(vertices2, recovered_vertices2, scale))\n",
    "\n",
    "initials={'x': col_major(mixing_weights_clip.reshape((-1,len(endmembers)))).reshape((-1,1))}\n",
    "print (initials['x'].shape)\n",
    "\n",
    "start=time.time()\n",
    "\n",
    "res=run(mesh0, mesh1_list, weights, endmembers, mixing_weights.ravel(), grad_zero_indices, initials=initials, choice=\"vertices_error\")\n",
    "\n",
    "res=res.reshape(mixing_weights.shape)\n",
    "end=time.time()\n",
    "print(\"using time: \", end-start)\n",
    "\n",
    "recovered_vertices2=recover_vertices(res, vertices1, endmembers)\n",
    "print (E_RMS_kavan2010(vertices2, recovered_vertices2, scale))"
   ]
  },
  {
   "cell_type": "code",
   "execution_count": 8,
   "metadata": {},
   "outputs": [
    {
     "name": "stdout",
     "output_type": "stream",
     "text": [
      "[[ 0.00000119 -0.         -0.          0.99999616 -0.         -0.\n",
      "  -0.         -0.         -0.          0.         -0.          0.00000101\n",
      "  -0.          0.00000165 -0.        ]\n",
      " [ 0.00000118 -0.         -0.          0.99999617 -0.         -0.\n",
      "  -0.         -0.         -0.          0.         -0.          0.000001\n",
      "  -0.          0.00000165 -0.        ]\n",
      " [ 0.00000119 -0.         -0.          0.99999613 -0.         -0.\n",
      "  -0.         -0.         -0.          0.         -0.          0.00000102\n",
      "  -0.          0.00000165 -0.        ]]\n",
      "3.311497641167226e-19\n",
      "6.397414440916925e-11\n"
     ]
    }
   ],
   "source": [
    "print (res.reshape((-1, len(endmembers)))[:3]) ### should have same zeros as initial input.\n",
    "print ((col_major(res)[grad_zero_indices]).sum()) ### should be zero\n",
    "print ((col_major(res)[grad_zero_indices]).max()) ### should be zero"
   ]
  },
  {
   "cell_type": "code",
   "execution_count": 9,
   "metadata": {},
   "outputs": [
    {
     "name": "stdout",
     "output_type": "stream",
     "text": [
      "1.6691701017756654e-32\n",
      "-5.995591330937263e-12 0.9999985752788407\n"
     ]
    }
   ],
   "source": [
    "print (((1-res.sum(axis=-1))**2).sum()/len(res))\n",
    "print (res.min(), res.max())"
   ]
  },
  {
   "cell_type": "code",
   "execution_count": 10,
   "metadata": {},
   "outputs": [
    {
     "name": "stdout",
     "output_type": "stream",
     "text": [
      "61804824306938.73\n"
     ]
    }
   ],
   "source": [
    "recover_diff= (res.dot(endmembers)-mixing_weights.dot(endmembers))\n",
    "recover_diff= (recover_diff**2).sum()\n",
    "print (recover_diff)"
   ]
  },
  {
   "cell_type": "code",
   "execution_count": 11,
   "metadata": {},
   "outputs": [],
   "source": [
    "# #### read gt per vertex transformation \n",
    "# groundtruth_names=glob.glob(\"./models/\"+exampleName+\"-all/\"+exampleName+\"-*.DMAT\")\n",
    "# print(groundtruth_names)\n",
    "\n",
    "# gt_all=None\n",
    "# for i in range(len(groundtruth_names)):\n",
    "#     gt=load_DMAT(groundtruth_names[i])\n",
    "#     gt=gt.T\n",
    "#     gt=gt.reshape((-1,4,3))\n",
    "#     gt=np.transpose(gt, (0,2,1)).reshape((-1,12))\n",
    "#     if gt_all is None:\n",
    "#         gt_all=gt\n",
    "#     else:\n",
    "#         gt_all=np.hstack((gt_all, gt))\n",
    "    \n",
    "# print(gt_all.shape)\n"
   ]
  },
  {
   "cell_type": "code",
   "execution_count": 12,
   "metadata": {},
   "outputs": [
    {
     "name": "stdout",
     "output_type": "stream",
     "text": [
      "['./models/cow-all/cow.DMAT']\n",
      "(11666, 15)\n",
      "1.5653958587979453e-28\n"
     ]
    }
   ],
   "source": [
    "#### read gt per vertex mixing weights \n",
    "groundtruth_names=glob.glob(\"./models/\"+exampleName+\"-all/\"+exampleName+\".DMAT\")\n",
    "print(groundtruth_names)\n",
    "gt=load_DMAT(groundtruth_names[0])\n",
    "gt_mixing_weights=gt.T.copy()\n",
    "print (gt_mixing_weights.shape)\n",
    "\n",
    "print (((gt_mixing_weights.sum(axis=-1)-1)**2).sum())"
   ]
  },
  {
   "cell_type": "code",
   "execution_count": 13,
   "metadata": {},
   "outputs": [
    {
     "name": "stdout",
     "output_type": "stream",
     "text": [
      "['./models/cow-all/poses-2/cow-1.Tmat', './models/cow-all/poses-2/cow-2.Tmat', './models/cow-all/poses-2/cow-3.Tmat', './models/cow-all/poses-2/cow-4.Tmat', './models/cow-all/poses-2/cow-5.Tmat', './models/cow-all/poses-2/cow-6.Tmat', './models/cow-all/poses-2/cow-7.Tmat']\n",
      "(15, 84)\n",
      "(7, 15, 12)\n",
      "[[1. 0. 0. 0.]\n",
      " [0. 1. 0. 0.]\n",
      " [0. 0. 1. 0.]]\n",
      "[[ 0.998956    0.0322376   0.0323555  -2.24837   ]\n",
      " [-0.0456047   0.664913    0.745527   27.1422    ]\n",
      " [ 0.00252045 -0.746225    0.665689   53.4901    ]]\n",
      "[[1. 0. 0. 0.]\n",
      " [0. 1. 0. 0.]\n",
      " [0. 0. 1. 0.]]\n",
      "[[1. 0. 0. 0.]\n",
      " [0. 1. 0. 0.]\n",
      " [0. 0. 1. 0.]]\n",
      "[[1. 0. 0. 0.]\n",
      " [0. 1. 0. 0.]\n",
      " [0. 0. 1. 0.]]\n",
      "[[1. 0. 0. 0.]\n",
      " [0. 1. 0. 0.]\n",
      " [0. 0. 1. 0.]]\n",
      "[[1. 0. 0. 0.]\n",
      " [0. 1. 0. 0.]\n",
      " [0. 0. 1. 0.]]\n",
      "[[ 0.99999923 -0.00000004  0.00000002]\n",
      " [-0.00000004  1.00000031 -0.00000012]\n",
      " [ 0.00000002 -0.00000012  0.99999923]]\n"
     ]
    }
   ],
   "source": [
    "### load groundtruth endmember\n",
    "groundtruth_names=glob.glob(\"./models/\"+exampleName+\"-all/\"+poses_folder+\"/\"+exampleName+\"-*.Tmat\")\n",
    "print(groundtruth_names)\n",
    "\n",
    "gt_handles=None\n",
    "for i in range(len(groundtruth_names)):\n",
    "    gt=load_Tmat(groundtruth_names[i])\n",
    "    gt=gt.reshape((-1,4,3))\n",
    "    gt=np.transpose(gt, (0,2,1)).reshape((-1,12))\n",
    "    if gt_handles is None:\n",
    "        gt_handles=gt\n",
    "    else:\n",
    "        gt_handles=np.hstack((gt_handles, gt))\n",
    "    \n",
    "print(gt_handles.shape)\n",
    "gt_handles=gt_handles.reshape(len(groundtruth_names), -1, 12)\n",
    "\n",
    "gt_handles=np.transpose(gt_handles.reshape(-1, len(groundtruth_names), 12), (1,0,2)) ### is this true?\n",
    "\n",
    "print(gt_handles.shape)\n",
    "\n",
    "for i in range(len(gt_handles)):\n",
    "    print (gt_handles[i][2].reshape((3,4)))\n",
    "\n",
    "test=gt_handles[1][2].reshape((3,4))[:,:3]\n",
    "print (test.T.dot(test))"
   ]
  },
  {
   "cell_type": "code",
   "execution_count": 14,
   "metadata": {},
   "outputs": [
    {
     "ename": "NameError",
     "evalue": "name 'res2' is not defined",
     "output_type": "error",
     "traceback": [
      "\u001b[0;31m---------------------------------------------------------------------------\u001b[0m",
      "\u001b[0;31mNameError\u001b[0m                                 Traceback (most recent call last)",
      "\u001b[0;32m<ipython-input-14-2a198c83c2bf>\u001b[0m in \u001b[0;36m<module>\u001b[0;34m()\u001b[0m\n\u001b[1;32m      2\u001b[0m \u001b[0;34m\u001b[0m\u001b[0m\n\u001b[1;32m      3\u001b[0m \u001b[0;31m## use recovered vertices instead.\u001b[0m\u001b[0;34m\u001b[0m\u001b[0;34m\u001b[0m\u001b[0m\n\u001b[0;32m----> 4\u001b[0;31m \u001b[0mrecovered_vertices2\u001b[0m\u001b[0;34m=\u001b[0m\u001b[0mrecover_vertices\u001b[0m\u001b[0;34m(\u001b[0m\u001b[0mres2\u001b[0m\u001b[0;34m,\u001b[0m \u001b[0mvertices1\u001b[0m\u001b[0;34m,\u001b[0m \u001b[0mendmembers\u001b[0m\u001b[0;34m)\u001b[0m\u001b[0;34m.\u001b[0m\u001b[0mreshape\u001b[0m\u001b[0;34m(\u001b[0m\u001b[0;34m(\u001b[0m\u001b[0mlen\u001b[0m\u001b[0;34m(\u001b[0m\u001b[0mvertices1\u001b[0m\u001b[0;34m)\u001b[0m\u001b[0;34m,\u001b[0m\u001b[0;34m-\u001b[0m\u001b[0;36m1\u001b[0m\u001b[0;34m)\u001b[0m\u001b[0;34m)\u001b[0m\u001b[0;34m\u001b[0m\u001b[0m\n\u001b[0m\u001b[1;32m      5\u001b[0m \u001b[0mVertices\u001b[0m\u001b[0;34m=\u001b[0m\u001b[0mrecovered_vertices2\u001b[0m\u001b[0;34m[\u001b[0m\u001b[0;34m:\u001b[0m\u001b[0;34m,\u001b[0m\u001b[0mposes_ind\u001b[0m\u001b[0;34m*\u001b[0m\u001b[0;36m3\u001b[0m\u001b[0;34m:\u001b[0m\u001b[0mposes_ind\u001b[0m\u001b[0;34m*\u001b[0m\u001b[0;36m3\u001b[0m\u001b[0;34m+\u001b[0m\u001b[0;36m3\u001b[0m\u001b[0;34m]\u001b[0m\u001b[0;34m\u001b[0m\u001b[0m\n",
      "\u001b[0;31mNameError\u001b[0m: name 'res2' is not defined"
     ]
    }
   ],
   "source": [
    "Vertices=vertices2[:,poses_ind*3:poses_ind*3+3]\n",
    "\n",
    "## use recovered vertices instead.\n",
    "recovered_vertices2=recover_vertices(res2, vertices1, endmembers).reshape((len(vertices1),-1))\n",
    "Vertices=recovered_vertices2[:,poses_ind*3:poses_ind*3+3]\n"
   ]
  },
  {
   "cell_type": "code",
   "execution_count": null,
   "metadata": {},
   "outputs": [],
   "source": [
    "print (res.sum(axis=0))\n",
    "print (res.T.dot(Vertices))\n",
    "\n",
    "res2=res\n",
    "res2=res.clip(0,1) ### this is important, when estimate handle position later.\n",
    "print (((1-res2.sum(axis=-1))**2).sum()/len(res2))\n",
    "\n",
    "print (res2.sum(axis=0))\n",
    "print (res2.T.dot(Vertices))"
   ]
  },
  {
   "cell_type": "code",
   "execution_count": null,
   "metadata": {},
   "outputs": [],
   "source": [
    "### plot handles corresponding to gt mixing weights, recovered mixing weights, and post-processed mixing weights.\n",
    "###\n",
    "\n",
    "eps=1e-30\n",
    "\n",
    "gt_handle_position=gt_mixing_weights.T.dot(Vertices)/(gt_mixing_weights.T.sum(axis=-1)[...,np.newaxis]+eps)\n",
    "recovered_handle_position=mixing_weights.T.dot(Vertices)/(mixing_weights.T.sum(axis=-1)[...,np.newaxis]+eps)\n",
    "cliped_handle_position=mixing_weights_clip.T.dot(Vertices)/(mixing_weights_clip.T.sum(axis=-1)[...,np.newaxis]+eps)\n",
    "postprocessed_handle_position=res2.T.dot(Vertices)/(res2.T.sum(axis=-1)[...,np.newaxis]+eps)\n",
    "\n",
    "\n",
    "%matplotlib \n",
    "import matplotlib.pyplot as plt\n",
    "from mpl_toolkits.mplot3d import Axes3D\n",
    "\n",
    "fig= plt.figure()\n",
    "ax=fig.add_subplot(111, projection='3d')\n",
    "\n",
    "ax.scatter(gt_handle_position[:,0],gt_handle_position[:,1], gt_handle_position[:,2], c='k', s=50)\n",
    "ax.scatter(recovered_handle_position[:,0],recovered_handle_position[:,1], recovered_handle_position[:,2], c='r', s=50)\n",
    "# ax.scatter(cliped_handle_position[:,0],cliped_handle_position[:,1], cliped_handle_position[:,2], c='g', s=50)\n",
    "ax.scatter(postprocessed_handle_position[:,0],postprocessed_handle_position[:,1], postprocessed_handle_position[:,2], c='b', s=50)\n",
    "ax.scatter(Vertices[:,0],Vertices[:,1], Vertices[:,2], color='y', s=1, edgecolors='none')\n",
    "\n",
    "plt.show()"
   ]
  },
  {
   "cell_type": "code",
   "execution_count": null,
   "metadata": {},
   "outputs": [],
   "source": []
  },
  {
   "cell_type": "code",
   "execution_count": null,
   "metadata": {},
   "outputs": [],
   "source": []
  },
  {
   "cell_type": "code",
   "execution_count": null,
   "metadata": {},
   "outputs": [],
   "source": []
  },
  {
   "cell_type": "code",
   "execution_count": null,
   "metadata": {},
   "outputs": [],
   "source": []
  },
  {
   "cell_type": "code",
   "execution_count": null,
   "metadata": {},
   "outputs": [],
   "source": []
  },
  {
   "cell_type": "code",
   "execution_count": null,
   "metadata": {},
   "outputs": [],
   "source": []
  },
  {
   "cell_type": "code",
   "execution_count": null,
   "metadata": {},
   "outputs": [],
   "source": []
  }
 ],
 "metadata": {
  "kernelspec": {
   "display_name": "Python 3",
   "language": "python",
   "name": "python3"
  },
  "language_info": {
   "codemirror_mode": {
    "name": "ipython",
    "version": 3
   },
   "file_extension": ".py",
   "mimetype": "text/x-python",
   "name": "python",
   "nbconvert_exporter": "python",
   "pygments_lexer": "ipython3",
   "version": "3.6.5"
  }
 },
 "nbformat": 4,
 "nbformat_minor": 2
}
