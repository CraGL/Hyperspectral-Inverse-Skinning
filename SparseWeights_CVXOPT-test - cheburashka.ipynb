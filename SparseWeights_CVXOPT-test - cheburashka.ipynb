{
 "cells": [
  {
   "cell_type": "code",
   "execution_count": 1,
   "metadata": {},
   "outputs": [],
   "source": [
    "import glob\n",
    "import time\n",
    "import numpy as np\n",
    "np.set_printoptions(suppress=True)\n",
    "\n",
    "from SmoothSparseWeights_CVXOPT import *"
   ]
  },
  {
   "cell_type": "code",
   "execution_count": 2,
   "metadata": {},
   "outputs": [],
   "source": [
    "exampleName=\"cheburashka\"\n",
    "poses_folder=\"poses-2\"\n",
    "poses_ind=7\n",
    "clip_k=4\n",
    "handle_num=11\n",
    "\n",
    "\n",
    "# exampleName=\"cow\"\n",
    "# poses_folder=\"poses-2\"\n",
    "# poses_ind=5\n",
    "# clip_k=4\n",
    "# handle_num=15\n",
    "\n",
    "\n",
    "# exampleName=\"wolf\"\n",
    "# poses_folder=\"poses-1\"\n",
    "# poses_ind=2\n",
    "# clip_k=4\n",
    "# handle_num=21\n",
    "\n",
    "\n",
    "\n",
    "weights = {'W_spatial': 0.0}"
   ]
  },
  {
   "cell_type": "code",
   "execution_count": 3,
   "metadata": {},
   "outputs": [
    {
     "name": "stdout",
     "output_type": "stream",
     "text": [
      "['./models/cheburashka-all/poses-2/cheburashka-01.obj', './models/cheburashka-all/poses-2/cheburashka-02.obj', './models/cheburashka-all/poses-2/cheburashka-03.obj', './models/cheburashka-all/poses-2/cheburashka-04.obj', './models/cheburashka-all/poses-2/cheburashka-05.obj', './models/cheburashka-all/poses-2/cheburashka-06.obj', './models/cheburashka-all/poses-2/cheburashka-07.obj', './models/cheburashka-all/poses-2/cheburashka-08.obj', './models/cheburashka-all/poses-2/cheburashka-09.obj', './models/cheburashka-all/poses-2/cheburashka-10.obj', './models/cheburashka-all/poses-2/cheburashka-11.obj']\n",
      "(6669, 44)\n",
      "(6669, 33)\n"
     ]
    }
   ],
   "source": [
    "#### read obj file\n",
    "\n",
    "### rest_poses:\n",
    "vertices_obj_path=\"./models/\"+exampleName+\"-all/\"+exampleName+\".obj\"\n",
    "mesh0=TriMesh.FromOBJ_FileName(vertices_obj_path)\n",
    "\n",
    "### other poses\n",
    "vertices_obj_dir=\"./models/\"+exampleName+\"-all/\"+poses_folder+\"/\"\n",
    "filenames=glob.glob(vertices_obj_dir+\"*.obj\")\n",
    "print(filenames)\n",
    "\n",
    "mesh1_list=[]\n",
    "for i in range(len(filenames)):\n",
    "    mesh1_list.append(TriMesh.FromOBJ_FileName(filenames[i]))\n",
    "\n",
    "\n",
    "vertices1=vertices1_temp=np.hstack((np.asarray(mesh0.vs),np.ones((len(mesh0.vs),1))))\n",
    "vertices2=vertices2_temp=np.asarray(mesh1_list[0].vs)\n",
    "for i in range(1,len(mesh1_list)):\n",
    "    vertices1=np.hstack((vertices1, vertices1_temp))\n",
    "    vertices2=np.hstack((vertices2, np.asarray(mesh1_list[i].vs)))\n",
    "print(vertices1.shape) \n",
    "print(vertices2.shape) \n"
   ]
  },
  {
   "cell_type": "code",
   "execution_count": 4,
   "metadata": {},
   "outputs": [
    {
     "name": "stdout",
     "output_type": "stream",
     "text": [
      "(11, 132)\n",
      "(6669, 11)\n",
      "[[0.74340239 0.11506757 0.04097593 0.05160312 0.00088833 0.00834796\n",
      "  0.00363905 0.00922954 0.0266172  0.00001564 0.00021327]\n",
      " [0.74232596 0.11532759 0.04167527 0.05171986 0.00088909 0.00840986\n",
      "  0.00362964 0.00925433 0.02653997 0.0000158  0.00021263]\n",
      " [0.74685587 0.1146399  0.03846723 0.05108695 0.00088842 0.00818181\n",
      "  0.00365574 0.00924161 0.02675569 0.00001549 0.0002113 ]]\n",
      "[[0.74340239 0.11506757 0.04097593 0.05160312 0.         0.\n",
      "  0.         0.         0.         0.         0.        ]\n",
      " [0.74232596 0.11532759 0.04167527 0.05171986 0.         0.\n",
      "  0.         0.         0.         0.         0.        ]\n",
      " [0.74685587 0.1146399  0.03846723 0.05108695 0.         0.\n",
      "  0.         0.         0.         0.         0.        ]]\n",
      "[ 9 10  4  6  5  7  8 20 21 15 17 16 18 19 31 32 26 28 27 29 30 42 43 39\n",
      " 37 41 40 38 53 54 50 48 52]\n",
      "0.0\n"
     ]
    }
   ],
   "source": [
    "#### read our output of simplex_hull.py \n",
    "results_path=\"./results_pipeline/\"+exampleName+\"-\"+str(handle_num)+\"/result.txt\"\n",
    "endmembers, mixing_weights=load_result(results_path)\n",
    "### endmembers shape is handle * poses * 12??\n",
    "\n",
    "# ### this is to make sure the 3*4 or 4*3 error does not happen.\n",
    "# endmembers=endmembers.reshape((-1, 4, 3))\n",
    "# endmembers=np.transpose(endmembers, (0,2,1))\n",
    "# endmembers=endmembers.reshape((len(mixing_weights), -1, 12))\n",
    "\n",
    "\n",
    "endmembers=endmembers.reshape((len(mixing_weights),-1))\n",
    "mixing_weights=mixing_weights.T\n",
    "\n",
    "\n",
    "print (endmembers.shape)\n",
    "print (mixing_weights.shape)\n",
    "print (mixing_weights[:3])\n",
    "mixing_weights_clip, grad_zero_indices=clip_first_k_values(mixing_weights, clip_k)\n",
    "print (mixing_weights_clip[:3])\n",
    "\n",
    "print (grad_zero_indices[:len(endmembers)*3])\n",
    "\n",
    "print (mixing_weights_clip.ravel()[grad_zero_indices].sum())"
   ]
  },
  {
   "cell_type": "code",
   "execution_count": 5,
   "metadata": {},
   "outputs": [
    {
     "name": "stdout",
     "output_type": "stream",
     "text": [
      "4.224960630474087\n"
     ]
    }
   ],
   "source": [
    "scale=find_scale(vertices1)\n",
    "print (scale)"
   ]
  },
  {
   "cell_type": "code",
   "execution_count": 6,
   "metadata": {},
   "outputs": [
    {
     "name": "stdout",
     "output_type": "stream",
     "text": [
      "0.2769974449129444\n"
     ]
    }
   ],
   "source": [
    "recovered_vertices2=recover_vertices(mixing_weights, vertices1, endmembers)\n",
    "print (E_RMS_kavan2010(vertices2, recovered_vertices2, scale))"
   ]
  },
  {
   "cell_type": "code",
   "execution_count": 7,
   "metadata": {},
   "outputs": [
    {
     "name": "stdout",
     "output_type": "stream",
     "text": [
      "3101.787312222525\n",
      "(73359, 1)\n",
      "(6669, 44)\n",
      "(6669, 33)\n",
      "6669 11 11\n",
      "W_spatial 0.0\n",
      "     pcost       dcost       gap    pres   dres\n",
      " 0: -2.1297e+05 -3.6237e+05  9e+05  3e+00  5e-14\n",
      " 1: -2.1089e+05 -3.0915e+05  3e+05  8e-01  4e-14\n",
      " 2: -2.0461e+05 -2.6645e+05  2e+05  4e-01  4e-14\n",
      " 3: -1.9643e+05 -2.3490e+05  1e+05  2e-01  4e-14\n",
      " 4: -1.9058e+05 -2.1792e+05  8e+04  1e-01  4e-14\n",
      " 5: -1.8489e+05 -2.0657e+05  6e+04  8e-02  4e-14\n",
      " 6: -1.8039e+05 -1.9488e+05  5e+04  5e-02  4e-14\n",
      " 7: -1.7491e+05 -1.8307e+05  4e+04  3e-02  4e-14\n",
      " 8: -1.7122e+05 -1.7623e+05  3e+04  2e-02  4e-14\n",
      " 9: -1.6834e+05 -1.6980e+05  3e+04  2e-02  4e-14\n",
      "10: -1.6417e+05 -1.5992e+05  3e+04  1e-02  4e-14\n",
      "11: -1.6090e+05 -1.5185e+05  3e+04  1e-02  4e-14\n",
      "12: -1.5784e+05 -1.4360e+05  3e+04  1e-02  4e-14\n",
      "13: -1.5540e+05 -1.3611e+05  3e+04  9e-03  4e-14\n",
      "14: -1.5299e+05 -1.2886e+05  3e+04  9e-03  4e-14\n",
      "15: -1.5138e+05 -1.2150e+05  4e+04  8e-03  4e-14\n",
      "16: -1.5065e+05 -1.1293e+05  4e+04  8e-03  5e-14\n",
      "17: -1.5060e+05 -9.8776e+04  4e+04  8e-03  5e-14\n",
      "18: -1.5038e+05 -8.2051e+04  5e+04  7e-03  5e-14\n",
      "19: -1.4948e+05 -3.0726e+04  6e+04  7e-03  5e-14\n",
      "20: -1.4190e+05  1.9389e+05  8e+04  6e-03  5e-14\n",
      "21: -1.2270e+05  4.8045e+05  1e+05  6e-03  5e-14\n",
      "22: -1.0477e+05  6.6403e+05  2e+05  6e-03  5e-14\n",
      "23: -7.5917e+04  9.2866e+05  2e+05  6e-03  5e-14\n",
      "24: -5.6078e+04  1.1829e+06  3e+05  6e-03  5e-14\n",
      "25: -4.3810e+04  1.4815e+06  3e+05  6e-03  5e-14\n",
      "26: -3.6951e+04  1.8624e+06  4e+05  5e-03  5e-14\n",
      "27: -1.9185e+04  2.3810e+06  5e+05  5e-03  5e-14\n",
      "28:  9.3293e+03  3.0173e+06  6e+05  5e-03  6e-14\n",
      "29:  5.6040e+04  3.7687e+06  7e+05  5e-03  6e-14\n",
      "30:  1.4284e+05  4.9012e+06  1e+06  5e-03  6e-14\n",
      "31:  1.7645e+05  5.5057e+06  1e+06  5e-03  6e-14\n",
      "32:  2.8809e+05  7.4762e+06  1e+06  5e-03  6e-14\n",
      "33:  2.9625e+05  8.3655e+06  2e+06  5e-03  6e-14\n",
      "34:  3.4018e+05  1.0514e+07  2e+06  5e-03  6e-14\n",
      "35:  3.4960e+05  1.3288e+07  2e+06  5e-03  7e-14\n",
      "36:  4.7529e+05  1.7980e+07  3e+06  5e-03  7e-14\n",
      "37:  6.9054e+05  2.3697e+07  4e+06  5e-03  8e-14\n",
      "38:  9.1884e+05  2.8545e+07  5e+06  5e-03  8e-14\n",
      "39:  9.2991e+05  2.9153e+07  5e+06  5e-03  8e-14\n",
      "40:  9.5243e+05  2.9976e+07  5e+06  5e-03  8e-14\n",
      "41:  9.8839e+05  3.1089e+07  5e+06  5e-03  8e-14\n",
      "42:  1.0568e+06  3.3034e+07  6e+06  5e-03  8e-14\n",
      "43:  1.1059e+06  3.4295e+07  6e+06  5e-03  8e-14\n",
      "44:  1.3089e+06  3.8975e+07  7e+06  5e-03  9e-14\n",
      "45:  1.4830e+06  4.2418e+07  7e+06  5e-03  9e-14\n",
      "46:  2.2022e+06  5.4090e+07  9e+06  5e-03  1e-13\n",
      "47:  2.4222e+06  5.7138e+07  1e+07  5e-03  1e-13\n",
      "48:  2.5195e+06  5.8423e+07  1e+07  5e-03  1e-13\n",
      "49:  4.0697e+06  7.5738e+07  1e+07  5e-03  1e-13\n",
      "50:  7.8339e+06  1.0520e+08  2e+07  4e-03  2e-13\n",
      "51:  1.6547e+07  1.4970e+08  3e+07  4e-03  3e-13\n",
      "52:  1.7007e+07  1.5165e+08  3e+07  4e-03  3e-13\n",
      "53:  2.0453e+07  1.6482e+08  4e+07  4e-03  3e-13\n",
      "54:  2.5527e+07  1.8186e+08  4e+07  4e-03  3e-13\n",
      "55:  3.2743e+07  2.0353e+08  5e+07  4e-03  3e-13\n",
      "56:  3.5595e+07  2.1331e+08  5e+07  4e-03  3e-13\n",
      "57:  3.9776e+07  2.2771e+08  5e+07  4e-03  3e-13\n",
      "58:  5.2386e+07  2.6697e+08  6e+07  3e-03  3e-13\n",
      "59:  6.2676e+07  2.9659e+08  7e+07  3e-03  3e-13\n",
      "60:  6.6978e+07  3.0822e+08  8e+07  3e-03  3e-13\n",
      "61:  7.4756e+07  3.2804e+08  8e+07  3e-03  3e-13\n",
      "62:  8.1769e+07  3.4706e+08  9e+07  3e-03  3e-13\n",
      "63:  9.4313e+07  3.7761e+08  1e+08  3e-03  3e-13\n",
      "64:  9.8117e+07  3.8682e+08  1e+08  3e-03  3e-13\n",
      "65:  1.0445e+08  4.0405e+08  1e+08  3e-03  3e-13\n",
      "66:  1.0806e+08  4.2277e+08  1e+08  3e-03  3e-13\n",
      "67:  1.1760e+08  4.6829e+08  1e+08  3e-03  4e-13\n",
      "68:  1.4819e+08  5.6445e+08  1e+08  3e-03  4e-13\n",
      "69:  1.5535e+08  5.8203e+08  2e+08  3e-03  4e-13\n",
      "70:  1.7327e+08  6.4674e+08  2e+08  2e-03  5e-13\n",
      "71:  1.8359e+08  6.7123e+08  2e+08  2e-03  5e-13\n",
      "72:  2.5149e+08  8.0633e+08  2e+08  2e-03  6e-13\n",
      "73:  3.9725e+08  9.8004e+08  3e+08  2e-03  7e-13\n",
      "74:  5.3666e+08  1.0885e+09  3e+08  1e-03  7e-13\n",
      "75:  5.9245e+08  1.1141e+09  3e+08  1e-03  7e-13\n",
      "76:  6.6632e+08  1.1476e+09  3e+08  1e-03  7e-13\n",
      "77:  6.7723e+08  1.1641e+09  3e+08  1e-03  7e-13\n",
      "78:  9.8284e+08  1.3870e+09  4e+08  6e-04  1e-12\n",
      "79:  1.4787e+09  1.5482e+09  4e+07  7e-05  3e-12\n",
      "80:  1.5535e+09  1.5602e+09  7e+06  8e-06  3e-12\n",
      "81:  1.5562e+09  1.5602e+09  6e+06  6e-06  3e-12\n",
      "82:  1.5591e+09  1.5608e+09  4e+06  4e-06  2e-12\n",
      "83:  1.5609e+09  1.5611e+09  3e+06  2e-06  2e-12\n",
      "84:  1.5614e+09  1.5615e+09  3e+06  2e-06  1e-12\n",
      "85:  1.5617e+09  1.5615e+09  2e+06  1e-06  1e-12\n",
      "86:  1.5623e+09  1.5617e+09  2e+06  8e-07  1e-12\n",
      "87:  1.5628e+09  1.5626e+09  3e+05  9e-08  1e-12\n",
      "88:  1.5628e+09  1.5627e+09  2e+05  6e-08  9e-13\n",
      "89:  1.5628e+09  1.5628e+09  7e+04  2e-08  8e-13\n",
      "90:  1.5628e+09  1.5628e+09  4e+04  1e-08  8e-13\n",
      "91:  1.5628e+09  1.5628e+09  1e+04  3e-09  8e-13\n",
      "92:  1.5628e+09  1.5628e+09  3e+03  8e-10  8e-13\n",
      "93:  1.5628e+09  1.5628e+09  2e+02  5e-11  8e-13\n",
      "Optimal solution found.\n",
      "optimal\n",
      "using time:  595.2410299777985\n",
      "8410.54422946676\n"
     ]
    }
   ],
   "source": [
    "recovered_vertices2=recover_vertices(mixing_weights_clip, vertices1, endmembers)\n",
    "print (E_RMS_kavan2010(vertices2, recovered_vertices2, scale))\n",
    "\n",
    "initials={'x': col_major(mixing_weights_clip.reshape((-1,len(endmembers)))).reshape((-1,1))}\n",
    "print (initials['x'].shape)\n",
    "\n",
    "start=time.time()\n",
    "\n",
    "res=run(mesh0, mesh1_list, weights, endmembers, mixing_weights.ravel(), grad_zero_indices, initials=initials)\n",
    "\n",
    "res=res.reshape(mixing_weights.shape)\n",
    "end=time.time()\n",
    "print(\"using time: \", end-start)\n",
    "\n",
    "recovered_vertices2=recover_vertices(res, vertices1, endmembers)\n",
    "print (E_RMS_kavan2010(vertices2, recovered_vertices2, scale))"
   ]
  },
  {
   "cell_type": "code",
   "execution_count": 14,
   "metadata": {},
   "outputs": [
    {
     "name": "stdout",
     "output_type": "stream",
     "text": [
      "[[ 0.69565477  0.25541149 -0.         -0.          0.00075911 -0.\n",
      "  -0.         -0.          0.04817463 -0.         -0.        ]\n",
      " [ 0.95126502 -0.         -0.         -0.          0.00083199 -0.\n",
      "  -0.          0.03160789  0.0162951  -0.         -0.        ]\n",
      " [ 0.89918053  0.05115589 -0.          0.00047554  0.00148976 -0.\n",
      "  -0.          0.0476638  -0.          0.00003448 -0.        ]]\n",
      "925.0622047814459\n",
      "0.9999999983436882\n",
      "6669.0\n"
     ]
    }
   ],
   "source": [
    "print (res.reshape((-1, len(endmembers)))[:3]) ### should have same zeros as initial input.\n",
    "print (res.ravel()[grad_zero_indices].sum()) ### should be zero\n",
    "print (res.ravel()[grad_zero_indices].max()) ### should be zero\n",
    "print (res.sum())"
   ]
  },
  {
   "cell_type": "code",
   "execution_count": 9,
   "metadata": {},
   "outputs": [
    {
     "name": "stdout",
     "output_type": "stream",
     "text": [
      "1.9981385998520108e-32\n",
      "-2.1024939075667804e-11 0.9999999983436882\n"
     ]
    }
   ],
   "source": [
    "print (((1-res.sum(axis=-1))**2).sum()/len(res))\n",
    "print (res.min(), res.max())"
   ]
  },
  {
   "cell_type": "code",
   "execution_count": 16,
   "metadata": {},
   "outputs": [
    {
     "name": "stdout",
     "output_type": "stream",
     "text": [
      "1563028302.3574197\n"
     ]
    }
   ],
   "source": [
    "recover_diff= (res.dot(endmembers)-mixing_weights.dot(endmembers))\n",
    "recover_diff= (recover_diff**2).sum()\n",
    "print (recover_diff)"
   ]
  },
  {
   "cell_type": "code",
   "execution_count": 10,
   "metadata": {},
   "outputs": [],
   "source": [
    "# #### read gt per vertex transformation \n",
    "# groundtruth_names=glob.glob(\"./models/\"+exampleName+\"-all/\"+exampleName+\"-*.DMAT\")\n",
    "# print(groundtruth_names)\n",
    "\n",
    "# gt_all=None\n",
    "# for i in range(len(groundtruth_names)):\n",
    "#     gt=load_DMAT(groundtruth_names[i])\n",
    "#     gt=gt.T\n",
    "#     gt=gt.reshape((-1,4,3))\n",
    "#     gt=np.transpose(gt, (0,2,1)).reshape((-1,12))\n",
    "#     if gt_all is None:\n",
    "#         gt_all=gt\n",
    "#     else:\n",
    "#         gt_all=np.hstack((gt_all, gt))\n",
    "    \n",
    "# print(gt_all.shape)\n"
   ]
  },
  {
   "cell_type": "code",
   "execution_count": 11,
   "metadata": {},
   "outputs": [
    {
     "name": "stdout",
     "output_type": "stream",
     "text": [
      "['./models/cheburashka-all/cheburashka.DMAT']\n",
      "(6669, 11)\n",
      "7.810955556852425e-29\n"
     ]
    }
   ],
   "source": [
    "#### read gt per vertex mixing weights \n",
    "groundtruth_names=glob.glob(\"./models/\"+exampleName+\"-all/\"+exampleName+\".DMAT\")\n",
    "print(groundtruth_names)\n",
    "gt=load_DMAT(groundtruth_names[0])\n",
    "gt_mixing_weights=gt.T.copy()\n",
    "print (gt_mixing_weights.shape)\n",
    "\n",
    "print (((gt_mixing_weights.sum(axis=-1)-1)**2).sum())"
   ]
  },
  {
   "cell_type": "code",
   "execution_count": 12,
   "metadata": {},
   "outputs": [
    {
     "name": "stdout",
     "output_type": "stream",
     "text": [
      "['./models/cheburashka-all/poses-2/cheburashka-01.Tmat', './models/cheburashka-all/poses-2/cheburashka-02.Tmat', './models/cheburashka-all/poses-2/cheburashka-03.Tmat', './models/cheburashka-all/poses-2/cheburashka-04.Tmat', './models/cheburashka-all/poses-2/cheburashka-05.Tmat', './models/cheburashka-all/poses-2/cheburashka-06.Tmat', './models/cheburashka-all/poses-2/cheburashka-07.Tmat', './models/cheburashka-all/poses-2/cheburashka-08.Tmat', './models/cheburashka-all/poses-2/cheburashka-09.Tmat', './models/cheburashka-all/poses-2/cheburashka-10.Tmat', './models/cheburashka-all/poses-2/cheburashka-11.Tmat']\n",
      "(11, 132)\n",
      "(11, 11, 12)\n",
      "[[1. 0. 0. 0.]\n",
      " [0. 1. 0. 0.]\n",
      " [0. 0. 1. 0.]]\n",
      "[[1. 0. 0. 0.]\n",
      " [0. 1. 0. 0.]\n",
      " [0. 0. 1. 0.]]\n",
      "[[1. 0. 0. 0.]\n",
      " [0. 1. 0. 0.]\n",
      " [0. 0. 1. 0.]]\n",
      "[[1. 0. 0. 0.]\n",
      " [0. 1. 0. 0.]\n",
      " [0. 0. 1. 0.]]\n",
      "[[1. 0. 0. 0.]\n",
      " [0. 1. 0. 0.]\n",
      " [0. 0. 1. 0.]]\n",
      "[[ 0.963511  -0.265796   0.0316154  0.147363 ]\n",
      " [ 0.2199     0.85336    0.472673  -0.245936 ]\n",
      " [-0.152614  -0.448474   0.88067    0.372767 ]]\n",
      "[[ 0.975151    0.162289    0.150807   -0.117374  ]\n",
      " [-0.221388    0.688578    0.690541   -0.0838931 ]\n",
      " [ 0.00822447 -0.706769    0.707397    0.396286  ]]\n",
      "[[1. 0. 0. 0.]\n",
      " [0. 1. 0. 0.]\n",
      " [0. 0. 1. 0.]]\n",
      "[[1. 0. 0. 0.]\n",
      " [0. 1. 0. 0.]\n",
      " [0. 0. 1. 0.]]\n",
      "[[ 0.95777   -0.286759   0.0211061  0.0660874]\n",
      " [ 0.207725   0.740814   0.638784  -0.336794 ]\n",
      " [-0.198813  -0.607424   0.769097   0.316341 ]]\n",
      "[[ 0.982958   0.061022   0.173405  -0.0750406]\n",
      " [-0.162432   0.73       0.663864  -0.163852 ]\n",
      " [-0.0860755 -0.680718   0.727471   0.26127  ]]\n",
      "[[1. 0. 0.]\n",
      " [0. 1. 0.]\n",
      " [0. 0. 1.]]\n"
     ]
    }
   ],
   "source": [
    "### load groundtruth endmember\n",
    "groundtruth_names=glob.glob(\"./models/\"+exampleName+\"-all/\"+poses_folder+\"/\"+exampleName+\"-*.Tmat\")\n",
    "print(groundtruth_names)\n",
    "\n",
    "gt_handles=None\n",
    "for i in range(len(groundtruth_names)):\n",
    "    gt=load_Tmat(groundtruth_names[i])\n",
    "    gt=gt.reshape((-1,4,3))\n",
    "    gt=np.transpose(gt, (0,2,1)).reshape((-1,12))\n",
    "    if gt_handles is None:\n",
    "        gt_handles=gt\n",
    "    else:\n",
    "        gt_handles=np.hstack((gt_handles, gt))\n",
    "    \n",
    "print(gt_handles.shape)\n",
    "gt_handles=gt_handles.reshape(len(groundtruth_names), -1, 12)\n",
    "\n",
    "gt_handles=np.transpose(gt_handles.reshape(-1, len(groundtruth_names), 12), (1,0,2)) ### is this true?\n",
    "\n",
    "print(gt_handles.shape)\n",
    "\n",
    "for i in range(len(gt_handles)):\n",
    "    print (gt_handles[i][2].reshape((3,4)))\n",
    "\n",
    "test=gt_handles[1][2].reshape((3,4))[:,:3]\n",
    "print (test.T.dot(test))"
   ]
  },
  {
   "cell_type": "code",
   "execution_count": null,
   "metadata": {},
   "outputs": [],
   "source": []
  },
  {
   "cell_type": "code",
   "execution_count": 13,
   "metadata": {},
   "outputs": [
    {
     "name": "stderr",
     "output_type": "stream",
     "text": [
      "/usr/local/lib/python3.6/site-packages/ipykernel_launcher.py:8: RuntimeWarning: invalid value encountered in true_divide\n",
      "  \n"
     ]
    },
    {
     "name": "stdout",
     "output_type": "stream",
     "text": [
      "Using matplotlib backend: MacOSX\n"
     ]
    }
   ],
   "source": [
    "### plot handles corresponding to gt mixing weights, recovered mixing weights, and post-processed mixing weights.\n",
    "###\n",
    "\n",
    "Vertices=vertices2[:,poses_ind*3:poses_ind*3+3]\n",
    "\n",
    "gt_handle_position=gt_mixing_weights.T.dot(Vertices)/gt_mixing_weights.T.sum(axis=-1)[...,np.newaxis]\n",
    "recovered_handle_position=mixing_weights.T.dot(Vertices)/mixing_weights.T.sum(axis=-1)[...,np.newaxis]\n",
    "cliped_handle_position=mixing_weights_clip.T.dot(Vertices)/mixing_weights_clip.T.sum(axis=-1)[...,np.newaxis]\n",
    "postprocessed_handle_position=res.T.dot(Vertices)/res.T.sum(axis=-1)[...,np.newaxis]\n",
    "\n",
    "%matplotlib \n",
    "import matplotlib.pyplot as plt\n",
    "from mpl_toolkits.mplot3d import Axes3D\n",
    "\n",
    "fig= plt.figure()\n",
    "ax=fig.add_subplot(111, projection='3d')\n",
    "\n",
    "ax.scatter(gt_handle_position[:,0],gt_handle_position[:,1], gt_handle_position[:,2], c='k', s=50)\n",
    "ax.scatter(recovered_handle_position[:,0],recovered_handle_position[:,1], recovered_handle_position[:,2], c='r', s=50)\n",
    "# ax.scatter(cliped_handle_position[:,0],cliped_handle_position[:,1], cliped_handle_position[:,2], c='g', s=50)\n",
    "ax.scatter(postprocessed_handle_position[:,0],postprocessed_handle_position[:,1], postprocessed_handle_position[:,2], c='b', s=50)\n",
    "ax.scatter(Vertices[:,0],Vertices[:,1], Vertices[:,2], color='y', s=1, edgecolors='none')\n",
    "\n",
    "plt.show()"
   ]
  },
  {
   "cell_type": "code",
   "execution_count": null,
   "metadata": {},
   "outputs": [],
   "source": []
  },
  {
   "cell_type": "code",
   "execution_count": null,
   "metadata": {},
   "outputs": [],
   "source": []
  },
  {
   "cell_type": "code",
   "execution_count": null,
   "metadata": {},
   "outputs": [],
   "source": []
  },
  {
   "cell_type": "code",
   "execution_count": null,
   "metadata": {},
   "outputs": [],
   "source": []
  },
  {
   "cell_type": "code",
   "execution_count": null,
   "metadata": {},
   "outputs": [],
   "source": []
  },
  {
   "cell_type": "code",
   "execution_count": null,
   "metadata": {},
   "outputs": [],
   "source": []
  },
  {
   "cell_type": "code",
   "execution_count": null,
   "metadata": {},
   "outputs": [],
   "source": []
  }
 ],
 "metadata": {
  "kernelspec": {
   "display_name": "Python 3",
   "language": "python",
   "name": "python3"
  },
  "language_info": {
   "codemirror_mode": {
    "name": "ipython",
    "version": 3
   },
   "file_extension": ".py",
   "mimetype": "text/x-python",
   "name": "python",
   "nbconvert_exporter": "python",
   "pygments_lexer": "ipython3",
   "version": "3.6.5"
  }
 },
 "nbformat": 4,
 "nbformat_minor": 2
}
