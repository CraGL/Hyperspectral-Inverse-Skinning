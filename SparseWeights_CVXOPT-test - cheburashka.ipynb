{
 "cells": [
  {
   "cell_type": "code",
   "execution_count": 1,
   "metadata": {},
   "outputs": [],
   "source": [
    "import glob\n",
    "import time\n",
    "import numpy as np\n",
    "np.set_printoptions(suppress=True)\n",
    "\n",
    "from SmoothSparseWeights_CVXOPT import *"
   ]
  },
  {
   "cell_type": "code",
   "execution_count": 2,
   "metadata": {},
   "outputs": [],
   "source": [
    "exampleName=\"cheburashka\"\n",
    "poses_folder=\"poses-2\"\n",
    "poses_ind=7\n",
    "clip_k=4\n",
    "handle_num=11\n",
    "\n",
    "\n",
    "# exampleName=\"cow\"\n",
    "# poses_folder=\"poses-2\"\n",
    "# poses_ind=5\n",
    "# clip_k=4\n",
    "# handle_num=15\n",
    "\n",
    "\n",
    "# exampleName=\"wolf\"\n",
    "# poses_folder=\"poses-1\"\n",
    "# poses_ind=2\n",
    "# clip_k=4\n",
    "# handle_num=21\n",
    "\n",
    "\n",
    "\n",
    "weights = {'W_spatial': 0.0}"
   ]
  },
  {
   "cell_type": "code",
   "execution_count": 3,
   "metadata": {},
   "outputs": [
    {
     "name": "stdout",
     "output_type": "stream",
     "text": [
      "['./models/cheburashka-all/poses-2/cheburashka-01.obj', './models/cheburashka-all/poses-2/cheburashka-02.obj', './models/cheburashka-all/poses-2/cheburashka-03.obj', './models/cheburashka-all/poses-2/cheburashka-04.obj', './models/cheburashka-all/poses-2/cheburashka-05.obj', './models/cheburashka-all/poses-2/cheburashka-06.obj', './models/cheburashka-all/poses-2/cheburashka-07.obj', './models/cheburashka-all/poses-2/cheburashka-08.obj', './models/cheburashka-all/poses-2/cheburashka-09.obj', './models/cheburashka-all/poses-2/cheburashka-10.obj', './models/cheburashka-all/poses-2/cheburashka-11.obj']\n",
      "(6669, 44)\n",
      "(6669, 33)\n"
     ]
    }
   ],
   "source": [
    "#### read obj file\n",
    "\n",
    "### rest_poses:\n",
    "vertices_obj_path=\"./models/\"+exampleName+\"-all/\"+exampleName+\".obj\"\n",
    "mesh0=TriMesh.FromOBJ_FileName(vertices_obj_path)\n",
    "\n",
    "### other poses\n",
    "vertices_obj_dir=\"./models/\"+exampleName+\"-all/\"+poses_folder+\"/\"\n",
    "filenames=glob.glob(vertices_obj_dir+\"*.obj\")\n",
    "print(filenames)\n",
    "\n",
    "mesh1_list=[]\n",
    "for i in range(len(filenames)):\n",
    "    mesh1_list.append(TriMesh.FromOBJ_FileName(filenames[i]))\n",
    "\n",
    "\n",
    "vertices1=vertices1_temp=np.hstack((np.asarray(mesh0.vs),np.ones((len(mesh0.vs),1))))\n",
    "vertices2=vertices2_temp=np.asarray(mesh1_list[0].vs)\n",
    "for i in range(1,len(mesh1_list)):\n",
    "    vertices1=np.hstack((vertices1, vertices1_temp))\n",
    "    vertices2=np.hstack((vertices2, np.asarray(mesh1_list[i].vs)))\n",
    "print(vertices1.shape) \n",
    "print(vertices2.shape) \n"
   ]
  },
  {
   "cell_type": "code",
   "execution_count": 4,
   "metadata": {},
   "outputs": [
    {
     "name": "stdout",
     "output_type": "stream",
     "text": [
      "(11, 132)\n",
      "(6669, 11)\n",
      "[[0.74340239 0.11506757 0.04097593 0.05160312 0.00088833 0.00834796\n",
      "  0.00363905 0.00922954 0.0266172  0.00001564 0.00021327]\n",
      " [0.74232596 0.11532759 0.04167527 0.05171986 0.00088909 0.00840986\n",
      "  0.00362964 0.00925433 0.02653997 0.0000158  0.00021263]\n",
      " [0.74685587 0.1146399  0.03846723 0.05108695 0.00088842 0.00818181\n",
      "  0.00365574 0.00924161 0.02675569 0.00001549 0.0002113 ]]\n",
      "[[0.74340239 0.11506757 0.04097593 0.05160312 0.         0.\n",
      "  0.         0.         0.         0.         0.        ]\n",
      " [0.74232596 0.11532759 0.04167527 0.05171986 0.         0.\n",
      "  0.         0.         0.         0.         0.        ]\n",
      " [0.74685587 0.1146399  0.03846723 0.05108695 0.         0.\n",
      "  0.         0.         0.         0.         0.        ]]\n",
      "0.0\n"
     ]
    }
   ],
   "source": [
    "#### read our output of simplex_hull.py \n",
    "results_path=\"./results_pipeline/\"+exampleName+\"-\"+str(handle_num)+\"/result.txt\"\n",
    "endmembers, mixing_weights=load_result(results_path)\n",
    "### endmembers shape is handle * poses * 12??\n",
    "\n",
    "# ### this is to make sure the 3*4 or 4*3 error does not happen.\n",
    "# endmembers=endmembers.reshape((-1, 4, 3))\n",
    "# endmembers=np.transpose(endmembers, (0,2,1))\n",
    "# endmembers=endmembers.reshape((len(mixing_weights), -1, 12))\n",
    "\n",
    "\n",
    "endmembers=endmembers.reshape((len(mixing_weights),-1))\n",
    "mixing_weights=mixing_weights.T\n",
    "\n",
    "\n",
    "print (endmembers.shape)\n",
    "print (mixing_weights.shape)\n",
    "print (mixing_weights[:3])\n",
    "## grad_zero_indices is for col-major\n",
    "mixing_weights_clip, grad_zero_indices=clip_first_k_values(mixing_weights, clip_k)\n",
    "print (mixing_weights_clip[:3])\n",
    "print (col_major(mixing_weights_clip)[grad_zero_indices].sum())"
   ]
  },
  {
   "cell_type": "code",
   "execution_count": 5,
   "metadata": {},
   "outputs": [
    {
     "name": "stdout",
     "output_type": "stream",
     "text": [
      "4.224960630474087\n"
     ]
    }
   ],
   "source": [
    "scale=find_scale(vertices1)\n",
    "print (scale)"
   ]
  },
  {
   "cell_type": "code",
   "execution_count": 6,
   "metadata": {},
   "outputs": [
    {
     "name": "stdout",
     "output_type": "stream",
     "text": [
      "0.2769974449129444\n"
     ]
    }
   ],
   "source": [
    "recovered_vertices2=recover_vertices(mixing_weights, vertices1, endmembers)\n",
    "print (E_RMS_kavan2010(vertices2, recovered_vertices2, scale))"
   ]
  },
  {
   "cell_type": "code",
   "execution_count": 7,
   "metadata": {},
   "outputs": [
    {
     "name": "stdout",
     "output_type": "stream",
     "text": [
      "3101.787312222525\n",
      "(73359, 1)\n",
      "(6669, 44)\n",
      "(6669, 33)\n",
      "6669 11 11\n",
      "W_spatial 0.0\n",
      "     pcost       dcost       gap    pres   dres\n",
      " 0: -5.5451e+04 -1.5044e+05  4e+05  2e+00  1e-14\n",
      " 1: -5.4688e+04 -9.9552e+04  8e+04  3e-01  1e-14\n",
      " 2: -5.2811e+04 -8.0798e+04  5e+04  1e-01  9e-15\n",
      " 3: -5.1865e+04 -6.8277e+04  3e+04  6e-02  6e-15\n",
      " 4: -5.1527e+04 -6.0842e+04  2e+04  3e-02  5e-15\n",
      " 5: -5.1472e+04 -6.0051e+04  2e+04  3e-02  5e-15\n",
      " 6: -5.1370e+04 -5.7435e+04  2e+04  3e-02  5e-15\n",
      " 7: -5.0381e+04 -4.7021e+04  2e+04  2e-02  5e-15\n",
      " 8: -4.6497e+04 -3.1541e+04  2e+04  2e-02  5e-15\n",
      " 9: -4.3283e+04 -1.8770e+04  2e+04  2e-02  5e-15\n",
      "10: -3.8548e+04 -3.5627e+03  2e+04  2e-02  5e-15\n",
      "11: -3.6975e+04  1.5849e+04  3e+04  1e-02  5e-15\n",
      "12: -3.5543e+04  3.4628e+04  3e+04  1e-02  5e-15\n",
      "13: -3.1714e+04  6.6733e+04  4e+04  1e-02  5e-15\n",
      "14: -2.6139e+04  1.2154e+05  5e+04  1e-02  5e-15\n",
      "15: -2.0067e+04  1.9706e+05  7e+04  1e-02  5e-15\n",
      "16: -1.2020e+04  2.7633e+05  8e+04  1e-02  5e-15\n",
      "17:  3.8137e+03  3.8498e+05  1e+05  1e-02  5e-15\n",
      "18:  3.5718e+04  5.3858e+05  2e+05  1e-02  5e-15\n",
      "19:  1.2513e+05  7.9283e+05  2e+05  9e-03  6e-15\n",
      "20:  3.1189e+05  1.0806e+06  3e+05  7e-03  6e-15\n",
      "21:  9.0177e+05  1.4571e+06  3e+05  4e-03  6e-15\n",
      "22:  1.0818e+06  1.4901e+06  3e+05  3e-03  5e-15\n",
      "23:  1.1163e+06  1.4932e+06  3e+05  2e-03  5e-15\n",
      "24:  1.2857e+06  1.5227e+06  2e+05  2e-03  5e-15\n",
      "25:  1.4310e+06  1.5355e+06  2e+05  9e-04  5e-15\n",
      "26:  1.5033e+06  1.5652e+06  1e+05  5e-04  5e-15\n",
      "27:  1.5189e+06  1.6058e+06  1e+05  4e-04  5e-15\n",
      "28:  1.6217e+06  1.7236e+06  7e+04  2e-04  9e-15\n",
      "29:  1.7338e+06  1.7655e+06  3e+04  4e-05  4e-14\n",
      "30:  1.7569e+06  1.7645e+06  2e+04  2e-05  5e-14\n",
      "31:  1.7653e+06  1.7671e+06  1e+04  1e-05  3e-14\n",
      "32:  1.7685e+06  1.7685e+06  1e+04  7e-06  2e-14\n",
      "33:  1.7712e+06  1.7700e+06  8e+03  4e-06  2e-14\n",
      "34:  1.7726e+06  1.7714e+06  5e+03  2e-06  2e-14\n",
      "35:  1.7731e+06  1.7722e+06  3e+03  1e-06  1e-14\n",
      "36:  1.7733e+06  1.7726e+06  2e+03  8e-07  1e-14\n",
      "37:  1.7735e+06  1.7728e+06  2e+03  5e-07  1e-14\n",
      "38:  1.7735e+06  1.7730e+06  1e+03  3e-07  1e-14\n",
      "39:  1.7736e+06  1.7732e+06  8e+02  2e-07  1e-14\n",
      "40:  1.7736e+06  1.7733e+06  5e+02  1e-07  1e-14\n",
      "41:  1.7736e+06  1.7734e+06  3e+02  1e-07  1e-14\n",
      "42:  1.7736e+06  1.7735e+06  2e+02  5e-08  1e-14\n",
      "43:  1.7736e+06  1.7736e+06  6e+01  2e-08  1e-14\n",
      "44:  1.7736e+06  1.7736e+06  3e+01  7e-09  1e-14\n",
      "45:  1.7736e+06  1.7736e+06  2e+00  6e-10  1e-14\n",
      "46:  1.7736e+06  1.7736e+06  5e-02  1e-11  1e-14\n",
      "Optimal solution found.\n",
      "optimal\n",
      "using time:  313.93640899658203\n",
      "2964.0456104602504\n"
     ]
    }
   ],
   "source": [
    "recovered_vertices2=recover_vertices(mixing_weights_clip, vertices1, endmembers)\n",
    "print (E_RMS_kavan2010(vertices2, recovered_vertices2, scale))\n",
    "\n",
    "initials={'x': col_major(mixing_weights_clip.reshape((-1,len(endmembers)))).reshape((-1,1))}\n",
    "print (initials['x'].shape)\n",
    "\n",
    "start=time.time()\n",
    "\n",
    "res=run(mesh0, mesh1_list, weights, endmembers, mixing_weights.ravel(), grad_zero_indices, initials=initials)\n",
    "\n",
    "res=res.reshape(mixing_weights.shape)\n",
    "end=time.time()\n",
    "print(\"using time: \", end-start)\n",
    "\n",
    "recovered_vertices2=recover_vertices(res, vertices1, endmembers)\n",
    "print (E_RMS_kavan2010(vertices2, recovered_vertices2, scale))"
   ]
  },
  {
   "cell_type": "code",
   "execution_count": 8,
   "metadata": {},
   "outputs": [
    {
     "name": "stdout",
     "output_type": "stream",
     "text": [
      "[[ 0.00000002  0.00000001  0.00000003  0.99999994 -0.          0.\n",
      "   0.          0.          0.          0.         -0.        ]\n",
      " [ 0.00000002  0.00000001  0.00000003  0.99999994 -0.          0.\n",
      "   0.          0.          0.          0.         -0.        ]\n",
      " [ 0.00000002  0.00000001  0.00000003  0.99999994 -0.          0.\n",
      "   0.          0.          0.          0.         -0.        ]]\n",
      "6.394437007279925e-19\n",
      "1.2532906109401274e-10\n"
     ]
    }
   ],
   "source": [
    "print (res.reshape((-1, len(endmembers)))[:3]) ### should have same zeros as initial input.\n",
    "print ((col_major(res)[grad_zero_indices]).sum()) ### should be zero\n",
    "print ((col_major(res)[grad_zero_indices]).max()) ### should be zero"
   ]
  },
  {
   "cell_type": "code",
   "execution_count": 9,
   "metadata": {},
   "outputs": [
    {
     "name": "stdout",
     "output_type": "stream",
     "text": [
      "1.736796635168749e-32\n",
      "-5.112378641862516e-12 0.9999999529379339\n"
     ]
    }
   ],
   "source": [
    "print (((1-res.sum(axis=-1))**2).sum()/len(res))\n",
    "print (res.min(), res.max())"
   ]
  },
  {
   "cell_type": "code",
   "execution_count": 10,
   "metadata": {},
   "outputs": [
    {
     "name": "stdout",
     "output_type": "stream",
     "text": [
      "219569744.02383474\n"
     ]
    }
   ],
   "source": [
    "recover_diff= (res.dot(endmembers)-mixing_weights.dot(endmembers))\n",
    "recover_diff= (recover_diff**2).sum()\n",
    "print (recover_diff)"
   ]
  },
  {
   "cell_type": "code",
   "execution_count": 11,
   "metadata": {},
   "outputs": [],
   "source": [
    "# #### read gt per vertex transformation \n",
    "# groundtruth_names=glob.glob(\"./models/\"+exampleName+\"-all/\"+exampleName+\"-*.DMAT\")\n",
    "# print(groundtruth_names)\n",
    "\n",
    "# gt_all=None\n",
    "# for i in range(len(groundtruth_names)):\n",
    "#     gt=load_DMAT(groundtruth_names[i])\n",
    "#     gt=gt.T\n",
    "#     gt=gt.reshape((-1,4,3))\n",
    "#     gt=np.transpose(gt, (0,2,1)).reshape((-1,12))\n",
    "#     if gt_all is None:\n",
    "#         gt_all=gt\n",
    "#     else:\n",
    "#         gt_all=np.hstack((gt_all, gt))\n",
    "    \n",
    "# print(gt_all.shape)\n"
   ]
  },
  {
   "cell_type": "code",
   "execution_count": 12,
   "metadata": {},
   "outputs": [
    {
     "name": "stdout",
     "output_type": "stream",
     "text": [
      "['./models/cheburashka-all/cheburashka.DMAT']\n",
      "(6669, 11)\n",
      "7.810955556852425e-29\n"
     ]
    }
   ],
   "source": [
    "#### read gt per vertex mixing weights \n",
    "groundtruth_names=glob.glob(\"./models/\"+exampleName+\"-all/\"+exampleName+\".DMAT\")\n",
    "print(groundtruth_names)\n",
    "gt=load_DMAT(groundtruth_names[0])\n",
    "gt_mixing_weights=gt.T.copy()\n",
    "print (gt_mixing_weights.shape)\n",
    "\n",
    "print (((gt_mixing_weights.sum(axis=-1)-1)**2).sum())"
   ]
  },
  {
   "cell_type": "code",
   "execution_count": 13,
   "metadata": {},
   "outputs": [
    {
     "name": "stdout",
     "output_type": "stream",
     "text": [
      "['./models/cheburashka-all/poses-2/cheburashka-01.Tmat', './models/cheburashka-all/poses-2/cheburashka-02.Tmat', './models/cheburashka-all/poses-2/cheburashka-03.Tmat', './models/cheburashka-all/poses-2/cheburashka-04.Tmat', './models/cheburashka-all/poses-2/cheburashka-05.Tmat', './models/cheburashka-all/poses-2/cheburashka-06.Tmat', './models/cheburashka-all/poses-2/cheburashka-07.Tmat', './models/cheburashka-all/poses-2/cheburashka-08.Tmat', './models/cheburashka-all/poses-2/cheburashka-09.Tmat', './models/cheburashka-all/poses-2/cheburashka-10.Tmat', './models/cheburashka-all/poses-2/cheburashka-11.Tmat']\n",
      "(11, 132)\n",
      "(11, 11, 12)\n",
      "[[1. 0. 0. 0.]\n",
      " [0. 1. 0. 0.]\n",
      " [0. 0. 1. 0.]]\n",
      "[[1. 0. 0. 0.]\n",
      " [0. 1. 0. 0.]\n",
      " [0. 0. 1. 0.]]\n",
      "[[1. 0. 0. 0.]\n",
      " [0. 1. 0. 0.]\n",
      " [0. 0. 1. 0.]]\n",
      "[[1. 0. 0. 0.]\n",
      " [0. 1. 0. 0.]\n",
      " [0. 0. 1. 0.]]\n",
      "[[1. 0. 0. 0.]\n",
      " [0. 1. 0. 0.]\n",
      " [0. 0. 1. 0.]]\n",
      "[[ 0.963511  -0.265796   0.0316154  0.147363 ]\n",
      " [ 0.2199     0.85336    0.472673  -0.245936 ]\n",
      " [-0.152614  -0.448474   0.88067    0.372767 ]]\n",
      "[[ 0.975151    0.162289    0.150807   -0.117374  ]\n",
      " [-0.221388    0.688578    0.690541   -0.0838931 ]\n",
      " [ 0.00822447 -0.706769    0.707397    0.396286  ]]\n",
      "[[1. 0. 0. 0.]\n",
      " [0. 1. 0. 0.]\n",
      " [0. 0. 1. 0.]]\n",
      "[[1. 0. 0. 0.]\n",
      " [0. 1. 0. 0.]\n",
      " [0. 0. 1. 0.]]\n",
      "[[ 0.95777   -0.286759   0.0211061  0.0660874]\n",
      " [ 0.207725   0.740814   0.638784  -0.336794 ]\n",
      " [-0.198813  -0.607424   0.769097   0.316341 ]]\n",
      "[[ 0.982958   0.061022   0.173405  -0.0750406]\n",
      " [-0.162432   0.73       0.663864  -0.163852 ]\n",
      " [-0.0860755 -0.680718   0.727471   0.26127  ]]\n",
      "[[1. 0. 0.]\n",
      " [0. 1. 0.]\n",
      " [0. 0. 1.]]\n"
     ]
    }
   ],
   "source": [
    "### load groundtruth endmember\n",
    "groundtruth_names=glob.glob(\"./models/\"+exampleName+\"-all/\"+poses_folder+\"/\"+exampleName+\"-*.Tmat\")\n",
    "print(groundtruth_names)\n",
    "\n",
    "gt_handles=None\n",
    "for i in range(len(groundtruth_names)):\n",
    "    gt=load_Tmat(groundtruth_names[i])\n",
    "    gt=gt.reshape((-1,4,3))\n",
    "    gt=np.transpose(gt, (0,2,1)).reshape((-1,12))\n",
    "    if gt_handles is None:\n",
    "        gt_handles=gt\n",
    "    else:\n",
    "        gt_handles=np.hstack((gt_handles, gt))\n",
    "    \n",
    "print(gt_handles.shape)\n",
    "gt_handles=gt_handles.reshape(len(groundtruth_names), -1, 12)\n",
    "\n",
    "gt_handles=np.transpose(gt_handles.reshape(-1, len(groundtruth_names), 12), (1,0,2)) ### is this true?\n",
    "\n",
    "print(gt_handles.shape)\n",
    "\n",
    "for i in range(len(gt_handles)):\n",
    "    print (gt_handles[i][2].reshape((3,4)))\n",
    "\n",
    "test=gt_handles[1][2].reshape((3,4))[:,:3]\n",
    "print (test.T.dot(test))"
   ]
  },
  {
   "cell_type": "code",
   "execution_count": null,
   "metadata": {},
   "outputs": [],
   "source": []
  },
  {
   "cell_type": "code",
   "execution_count": 16,
   "metadata": {},
   "outputs": [
    {
     "name": "stderr",
     "output_type": "stream",
     "text": [
      "/usr/local/lib/python3.6/site-packages/ipykernel_launcher.py:12: RuntimeWarning: invalid value encountered in true_divide\n",
      "  if sys.path[0] == '':\n"
     ]
    },
    {
     "name": "stdout",
     "output_type": "stream",
     "text": [
      "Using matplotlib backend: MacOSX\n"
     ]
    }
   ],
   "source": [
    "### plot handles corresponding to gt mixing weights, recovered mixing weights, and post-processed mixing weights.\n",
    "###\n",
    "\n",
    "eps=1e-10\n",
    "\n",
    "# Vertices=vertices2[:,poses_ind*3:poses_ind*3+3]\n",
    "\n",
    "## use recovered vertices instead.\n",
    "recovered_vertices2=recover_vertices(res, vertices1, endmembers).reshape((len(vertices1),-1))\n",
    "Vertices=recovered_vertices2[:,poses_ind*3:poses_ind*3+3]\n",
    "\n",
    "\n",
    "gt_handle_position=gt_mixing_weights.T.dot(Vertices)/(gt_mixing_weights.T.sum(axis=-1)[...,np.newaxis]+eps)\n",
    "recovered_handle_position=mixing_weights.T.dot(Vertices)/(mixing_weights.T.sum(axis=-1)[...,np.newaxis]+eps)\n",
    "cliped_handle_position=mixing_weights_clip.T.dot(Vertices)/(mixing_weights_clip.T.sum(axis=-1)[...,np.newaxis]+eps)\n",
    "postprocessed_handle_position=res.T.dot(Vertices)/(res.T.sum(axis=-1)[...,np.newaxis]+eps)\n",
    "\n",
    "\n",
    "%matplotlib \n",
    "import matplotlib.pyplot as plt\n",
    "from mpl_toolkits.mplot3d import Axes3D\n",
    "\n",
    "fig= plt.figure()\n",
    "ax=fig.add_subplot(111, projection='3d')\n",
    "\n",
    "ax.scatter(gt_handle_position[:,0],gt_handle_position[:,1], gt_handle_position[:,2], c='k', s=50)\n",
    "ax.scatter(recovered_handle_position[:,0],recovered_handle_position[:,1], recovered_handle_position[:,2], c='r', s=50)\n",
    "# ax.scatter(cliped_handle_position[:,0],cliped_handle_position[:,1], cliped_handle_position[:,2], c='g', s=50)\n",
    "ax.scatter(postprocessed_handle_position[:,0],postprocessed_handle_position[:,1], postprocessed_handle_position[:,2], c='b', s=50)\n",
    "ax.scatter(Vertices[:,0],Vertices[:,1], Vertices[:,2], color='y', s=1, edgecolors='none')\n",
    "\n",
    "plt.show()"
   ]
  },
  {
   "cell_type": "code",
   "execution_count": null,
   "metadata": {},
   "outputs": [],
   "source": []
  },
  {
   "cell_type": "code",
   "execution_count": null,
   "metadata": {},
   "outputs": [],
   "source": []
  },
  {
   "cell_type": "code",
   "execution_count": null,
   "metadata": {},
   "outputs": [],
   "source": []
  },
  {
   "cell_type": "code",
   "execution_count": null,
   "metadata": {},
   "outputs": [],
   "source": []
  },
  {
   "cell_type": "code",
   "execution_count": null,
   "metadata": {},
   "outputs": [],
   "source": []
  },
  {
   "cell_type": "code",
   "execution_count": null,
   "metadata": {},
   "outputs": [],
   "source": []
  }
 ],
 "metadata": {
  "kernelspec": {
   "display_name": "Python 3",
   "language": "python",
   "name": "python3"
  },
  "language_info": {
   "codemirror_mode": {
    "name": "ipython",
    "version": 3
   },
   "file_extension": ".py",
   "mimetype": "text/x-python",
   "name": "python",
   "nbconvert_exporter": "python",
   "pygments_lexer": "ipython3",
   "version": "3.6.5"
  }
 },
 "nbformat": 4,
 "nbformat_minor": 2
}
