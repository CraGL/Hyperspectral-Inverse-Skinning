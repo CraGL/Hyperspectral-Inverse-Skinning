{
 "cells": [
  {
   "cell_type": "code",
   "execution_count": null,
   "metadata": {
    "collapsed": false
   },
   "outputs": [],
   "source": [
    "import numpy as np\n",
    "import json\n",
    "import time\n",
    "import scipy\n",
    "import scipy.sparse\n",
    "from trimesh import TriMesh\n",
    "import glob\n",
    "from numpy import *\n",
    "np.set_printoptions(linewidth=2000, suppress=True)\n",
    "from Extract_Transformation_matrix_minimize_SVD_singular_value_allPoses import *"
   ]
  },
  {
   "cell_type": "code",
   "execution_count": null,
   "metadata": {
    "collapsed": false
   },
   "outputs": [],
   "source": [
    "## From version 5.x:\n",
    "# from IPython.core.debugger import set_trace\n",
    "\n",
    "## For older versions:\n",
    "from IPython.core.debugger import Tracer\n",
    "def set_trace(): Tracer()()"
   ]
  },
  {
   "cell_type": "code",
   "execution_count": null,
   "metadata": {
    "collapsed": false
   },
   "outputs": [],
   "source": [
    "#### read obj file\n",
    "base_dir=\"./datas/cube4/poses-1/\"\n",
    "filenames=glob.glob(base_dir+\"*.obj\")\n",
    "print filenames\n",
    "meshes_List=[]\n",
    "for i in range(len(filenames)):\n",
    "    meshes_List.append(TriMesh.FromOBJ_FileName(filenames[i]))\n",
    "\n",
    "mesh0=meshes_List[0]\n",
    "mesh1_list=meshes_List[1:]\n",
    "\n",
    "groundtruth_names=glob.glob(base_dir+\"cube-*.DMAT\")\n",
    "print groundtruth_names\n",
    "\n",
    "gt_all=None\n",
    "for i in range(len(groundtruth_names)):\n",
    "    gt=load_DMAT(groundtruth_names[i])\n",
    "    gt=gt.T\n",
    "    gt=gt.reshape((-1,4,3))\n",
    "    gt=np.transpose(gt, (0,2,1)).reshape((-1,12))\n",
    "    if gt_all is None:\n",
    "        gt_all=gt\n",
    "    else:\n",
    "        gt_all=np.hstack((gt_all, gt))\n",
    "    \n",
    "\n",
    "print gt_all.shape\n",
    "\n",
    "\n",
    "vertices0=vertices0_temp=np.hstack((np.asarray(mesh0.vs),np.ones((len(mesh0.vs),1))))\n",
    "vertices1=vertices1_temp=np.asarray(mesh1_list[0].vs)\n",
    "for i in range(1,len(mesh1_list)):\n",
    "    vertices0=np.hstack((vertices0, vertices0_temp))\n",
    "    vertices1=np.hstack((vertices1, np.asarray(mesh1_list[i].vs)))\n",
    "print vertices0.shape\n",
    "print vertices1.shape\n",
    "\n",
    "pose_num=len(mesh1_list)"
   ]
  },
  {
   "cell_type": "code",
   "execution_count": null,
   "metadata": {
    "collapsed": false
   },
   "outputs": [],
   "source": [
    "\n"
   ]
  },
  {
   "cell_type": "code",
   "execution_count": null,
   "metadata": {
    "collapsed": false,
    "scrolled": false
   },
   "outputs": [],
   "source": [
    "def null_space_matrix(A, eps=1e-12):\n",
    "    #### modify from https://stackoverflow.com/questions/5889142/python-numpy-scipy-finding-the-null-space-of-a-matrix\n",
    "    u, s, vh = scipy.linalg.svd(A)\n",
    "\n",
    "#     padding = (A.shape[1]-len(s))\n",
    "#     null_mask = np.concatenate(((s <= eps), np.ones((padding,),dtype=bool)),axis=0)\n",
    "#     null_space = scipy.compress(null_mask, vh, axis=0)\n",
    "\n",
    "    null_space=vh[3*pose_num:,:]\n",
    "    return null_space\n",
    "\n",
    "\n",
    "def func(q, V0, V1):\n",
    "    obj=np.zeros(0)\n",
    "    for i in range(len(V0)):\n",
    "        v0=V0[i]\n",
    "        v1=V1[i]\n",
    "        v0_expand=np.zeros((3*pose_num,12*pose_num))\n",
    "        for j in range(pose_num):\n",
    "            for k in range(3):\n",
    "                v0_expand[j*3+k, (j*3+k)*4:(j*3+k)*4+4]=v0[4*j:4*j+4]\n",
    "\n",
    "##### version 1\n",
    "        Null_matrix=null_space_matrix(v0_expand)\n",
    "        T=np.zeros(12*pose_num).reshape((pose_num,3,4))\n",
    "        for j in range(pose_num):\n",
    "            T[j,:,:-1]=np.identity(3)\n",
    "            T[j,:,-1]=v1[3*j:3*j+3]-v0[4*j:4*j+3]\n",
    "        T=T.ravel()\n",
    "        obj=np.concatenate((obj,(q-(T + Null_matrix.T.dot(np.dot(Null_matrix,q-T)))).ravel()))\n",
    "    \n",
    "#### version 2\n",
    "#         obj=np.concatenate((obj, (np.dot(v0_expand, q)-v1).ravel()))\n",
    "        \n",
    "    return obj\n",
    "\n",
    "\n",
    "        \n",
    "def compute_I_Projection_matrix(V0):\n",
    "    sum_I_P=np.zeros((12*pose_num,12*pose_num))\n",
    "    Identity=np.identity(12*pose_num)\n",
    "    for i in range(len(V0)):\n",
    "        v0=V0[i]\n",
    "        v0_expand=np.zeros((3*pose_num,12*pose_num))\n",
    "        for j in range(pose_num):\n",
    "            for k in range(3):\n",
    "                v0_expand[j*3+k, (j*3+k)*4:(j*3+k)*4+4]=v0[4*j:4*j+4]\n",
    "                \n",
    "        Null_matrix=null_space_matrix(v0_expand)\n",
    "        \n",
    "        P=Null_matrix.T.dot(Null_matrix)\n",
    "        sum_I_P+=(Identity-P)\n",
    "    s= scipy.linalg.svd(sum_I_P, compute_uv=False)\n",
    "    return s\n",
    "        \n",
    "        \n",
    "def solve(q0, V0, V1):\n",
    "    res=scipy.optimize.least_squares(func, q0, args=(V0, V1),jac='3-point', method='trf')\n",
    "    q=res[\"x\"]\n",
    "    cost=res[\"cost\"]\n",
    "    return q, cost\n",
    "\n",
    "\n",
    "def solve_directly(V0, V1, method):\n",
    "    left=np.zeros((12*pose_num, 12*pose_num))\n",
    "    right=np.zeros((12*pose_num))\n",
    "    constant=0.0\n",
    "    \n",
    "    for i in range(len(V0)):\n",
    "        v0=V0[i]\n",
    "        v1=V1[i]\n",
    "        v0_expand=np.zeros((3*pose_num,12*pose_num))\n",
    "        for j in range(pose_num):\n",
    "            for k in range(3):\n",
    "                v0_expand[j*3+k, (j*3+k)*4:(j*3+k)*4+4]=v0[4*j:4*j+4]\n",
    "    \n",
    "        if method == \"nullspace\":\n",
    "            #### version 1\n",
    "            Identity=np.identity(12*pose_num)\n",
    "            Null_matrix=null_space_matrix(v0_expand)\n",
    "            P=Null_matrix.T.dot(Null_matrix)\n",
    "            T=np.zeros(12*pose_num).reshape((pose_num,3,4))\n",
    "            for j in range(pose_num):\n",
    "                T[j,:,:-1]=np.identity(3)\n",
    "                T[j,:,-1]=v1[3*j:3*j+3]-v0[4*j:4*j+3]\n",
    "            T=T.ravel()\n",
    "\n",
    "            A = (Identity-P).T.dot((Identity-P))\n",
    "            left+=A\n",
    "            right+=A.dot(T)\n",
    "            constant+=T.dot(A).dot(T)\n",
    "\n",
    "            \n",
    "        elif method == \"vertex\":\n",
    "            ##### version 2\n",
    "            left+=v0_expand.T.dot(v0_expand)\n",
    "            right+=v0_expand.T.dot(v1)\n",
    "            constant+=v1.T.dot(v1)\n",
    "        \n",
    "        else:\n",
    "            raise RuntimeError\n",
    "    \n",
    "    x=scipy.linalg.solve(left,right)\n",
    "    return x, (x.T.dot(left).dot(x)-2*right.T.dot(x)+constant).squeeze()\n",
    "    \n",
    "\n",
    "\n",
    "q_space=[]\n",
    "\n",
    "start=time.time()\n",
    "\n",
    "for i in range(len(vertices1)):\n",
    "    indices = mesh0.vertex_vertex_neighbors(i)\n",
    "    indices=np.asarray(indices)\n",
    "    if len(indices)>=3:\n",
    "        v0=vertices0[i].reshape((1,-1))\n",
    "        v0_neighbor=vertices0[indices,:]\n",
    "        v1=vertices1[i].reshape((1,-1))\n",
    "        v1_neighbor=vertices1[indices,:]\n",
    "        \n",
    "        V0=np.vstack((v0, v0_neighbor))\n",
    "        V1=np.vstack((v1, v1_neighbor))\n",
    "\n",
    "        s=compute_I_Projection_matrix(V0)\n",
    "        if s[-1] < 1e-15:\n",
    "            continue \n",
    "\n",
    "#### solve using optimization\n",
    "            \n",
    "#         q0=np.random.random((12*pose_num,))\n",
    "#         q, cost=solve(q0, V0, V1)\n",
    "# #         q_space.append((q, cost))\n",
    "#         q1=q\n",
    "        \n",
    "\n",
    "\n",
    "#### solve directly\n",
    "        q,cost=solve_directly(V0, V1, \"vertex\")\n",
    "        if q is not None:\n",
    "            q_space.append((q, cost))\n",
    "\n",
    "\n",
    "    if i%100==0:\n",
    "        print i\n",
    "\n",
    "end=time.time()\n",
    "print (\"use time: \", end-start)\n",
    "sort_q_space=sorted(q_space, key=lambda x: x[1])"
   ]
  },
  {
   "cell_type": "code",
   "execution_count": null,
   "metadata": {
    "collapsed": false
   },
   "outputs": [],
   "source": [
    "print [ err for t, err in sort_q_space]"
   ]
  },
  {
   "cell_type": "code",
   "execution_count": null,
   "metadata": {
    "collapsed": false
   },
   "outputs": [],
   "source": [
    "def uncorrellated_space( data, threshold = 1e-6 ):\n",
    "    X = data\n",
    "    ## Subtract the average.\n",
    "    Xavg = average( X, axis = 0 )[newaxis,:]\n",
    "    Xp = X - Xavg\n",
    "    U, s, V = linalg.svd( Xp, full_matrices = False, compute_uv = True )\n",
    "    print s\n",
    "    ## The first index less than threshold\n",
    "    stop_s = len(s) - searchsorted( s[::-1], threshold )\n",
    "    def restore( uncorrellated_data ):\n",
    "        return ( dot( uncorrellated_data, V[:stop_s] ) + Xavg )\n",
    "    \n",
    "    print( \"V[0]:\", V[:3] )\n",
    "    \n",
    "    def project( correllated_data ):\n",
    "        return dot( correllated_data - Xavg, V[:stop_s].T)\n",
    "    \n",
    "    return project, restore, V[:3]\n",
    "\n",
    "error=[]\n",
    "data=[]\n",
    "for i in range(len(sort_q_space)):\n",
    "    data.append(sort_q_space[i][0])\n",
    "    error.append(sort_q_space[i][1])\n",
    "print np.asarray(data).shape\n",
    "\n",
    "thres=1e-8\n",
    "project_data, restore_data, V3_data=uncorrellated_space(np.asarray(data)[np.asarray(error)<thres])\n",
    "print project_data(np.asarray(data)[np.asarray(error)<thres]).shape"
   ]
  },
  {
   "cell_type": "code",
   "execution_count": null,
   "metadata": {
    "collapsed": false
   },
   "outputs": [],
   "source": [
    "gt_project, gt_restore, gt_V3 = uncorrellated_space(gt_all)\n",
    "uncorralted_gt_all=gt_project(gt_all)\n",
    "print uncorralted_gt_all.shape\n",
    "print np.allclose( gt_restore( gt_project(gt_all) ), gt_all )"
   ]
  },
  {
   "cell_type": "code",
   "execution_count": null,
   "metadata": {
    "collapsed": false
   },
   "outputs": [],
   "source": [
    "diff=V3_data-abs(gt_V3)\n",
    "print abs(diff)"
   ]
  },
  {
   "cell_type": "code",
   "execution_count": null,
   "metadata": {
    "collapsed": true
   },
   "outputs": [],
   "source": []
  },
  {
   "cell_type": "code",
   "execution_count": null,
   "metadata": {
    "collapsed": false
   },
   "outputs": [],
   "source": [
    "np.array( [ v[1] for v in sort_q_space ] )[ np.argsort( ( ( data - gt_restore( gt_project( data ) ) )**2 ).sum(1) )[:99] ]"
   ]
  },
  {
   "cell_type": "code",
   "execution_count": null,
   "metadata": {
    "collapsed": false
   },
   "outputs": [],
   "source": [
    "recover_project, recover_unproject, recover_V3 = uncorrellated_space( np.asarray(data)[ np.argsort( ( ( data - gt_restore( gt_project( data ) ) )**2 ).sum(1) )[:90] ] )"
   ]
  },
  {
   "cell_type": "code",
   "execution_count": null,
   "metadata": {
    "collapsed": true
   },
   "outputs": [],
   "source": []
  },
  {
   "cell_type": "code",
   "execution_count": null,
   "metadata": {
    "collapsed": true
   },
   "outputs": [],
   "source": []
  },
  {
   "cell_type": "code",
   "execution_count": null,
   "metadata": {
    "collapsed": true
   },
   "outputs": [],
   "source": []
  },
  {
   "cell_type": "code",
   "execution_count": null,
   "metadata": {
    "collapsed": true
   },
   "outputs": [],
   "source": []
  },
  {
   "cell_type": "code",
   "execution_count": null,
   "metadata": {
    "collapsed": true
   },
   "outputs": [],
   "source": []
  },
  {
   "cell_type": "code",
   "execution_count": null,
   "metadata": {
    "collapsed": true
   },
   "outputs": [],
   "source": []
  },
  {
   "cell_type": "code",
   "execution_count": null,
   "metadata": {
    "collapsed": true
   },
   "outputs": [],
   "source": []
  },
  {
   "cell_type": "code",
   "execution_count": null,
   "metadata": {
    "collapsed": true
   },
   "outputs": [],
   "source": []
  },
  {
   "cell_type": "code",
   "execution_count": null,
   "metadata": {
    "collapsed": false
   },
   "outputs": [],
   "source": [
    "# ########## visualize difference of recovered M and groundtruth M.\n",
    "# import matplotlib.pyplot as plt\n",
    "# import matplotlib.animation\n",
    "# from mpl_toolkits.mplot3d import Axes3D\n",
    "\n",
    "# fig= plt.figure()\n",
    "# ax=fig.add_subplot(111, projection='3d')\n",
    "# text = fig.suptitle('transformation matrix comparison')\n",
    "\n",
    "# test_vals=np.array([\n",
    "#         [0,0,0,1],\n",
    "#         [1,0,0,1],\n",
    "#         [0,1,0,1],\n",
    "#         [0,0,1,1]\n",
    "#     ])\n",
    "\n",
    "# lb=-2\n",
    "# ub=2\n",
    "\n",
    "# recover_vals_list=[]\n",
    "# gt_vals_list=[]\n",
    "\n",
    "# res=res.reshape((-1, 12))\n",
    "# gt_all=gt_all.reshape((-1, 12))\n",
    "\n",
    "\n",
    "# frames=len(res)\n",
    "# for num in range(frames):\n",
    "#     resi=res[num]\n",
    "#     gti=gt_all[num]\n",
    "#     recover_vals=np.multiply(resi.reshape((1,3,4)), test_vals.reshape((-1,1,4))).sum(axis=-1)\n",
    "#     gt_vals=np.multiply(gti.reshape((1,3,4)), test_vals.reshape((-1,1,4))).sum(axis=-1)\n",
    "#     recover_vals_list.append(recover_vals)\n",
    "#     gt_vals_list.append(gt_vals)\n",
    "\n",
    "\n",
    "# def update_graph(num):\n",
    "#     ax.clear()##### if you want to show accumulated data in one figure, comment this line.\n",
    "    \n",
    "#     recover_vals=recover_vals_list[num]\n",
    "#     gt_vals=gt_vals_list[num]\n",
    "    \n",
    "    \n",
    "    \n",
    "#     for u1, v1, w1 in zip(test_vals[1:,0]-test_vals[0,0], test_vals[1:,1]-test_vals[0,1], test_vals[1:,2]-test_vals[0,2]):\n",
    "#         graph=ax.quiver(test_vals[0,0], test_vals[0,1], test_vals[0,2], u1, v1, w1, pivot = 'tail', length=np.sqrt(u1**2+v1**2+w1**2), color='r')\n",
    "    \n",
    "    \n",
    "#     for u1, v1, w1 in zip(recover_vals[1:,0]-recover_vals[0,0], recover_vals[1:,1]-recover_vals[0,1], recover_vals[1:,2]-recover_vals[0,2]):\n",
    "#         graph=ax.quiver(recover_vals[0,0], recover_vals[0,1], recover_vals[0,2], u1, v1, w1, pivot = 'tail', length=np.sqrt(u1**2+v1**2+w1**2), color='g')\n",
    "    \n",
    "#     for u1, v1, w1 in zip(gt_vals[1:,0]-gt_vals[0,0], gt_vals[1:,1]-gt_vals[0,1], gt_vals[1:,2]-gt_vals[0,2]):\n",
    "#         graph=ax.quiver(gt_vals[0,0], gt_vals[0,1], gt_vals[0,2], u1, v1, w1, pivot = 'tail', length=np.sqrt(u1**2+v1**2+w1**2), color='b')\n",
    "\n",
    "\n",
    "#     ax.set_xlim(lb,ub)\n",
    "#     ax.set_ylim(lb,ub)\n",
    "#     ax.set_zlim(lb,ub)\n",
    "#     ax.set_xlabel('X')\n",
    "#     ax.set_ylabel('Y')\n",
    "#     ax.set_zlabel('Z')\n",
    "    \n",
    "#     text.set_text('transformation matrix comparison={}'.format(num))\n",
    "    \n",
    "    \n",
    "#     return text, graph\n",
    "\n",
    "\n",
    "# ani = matplotlib.animation.FuncAnimation(fig, update_graph, frames, interval=50)\n",
    "\n",
    "# plt.show()"
   ]
  },
  {
   "cell_type": "code",
   "execution_count": null,
   "metadata": {
    "collapsed": true
   },
   "outputs": [],
   "source": []
  },
  {
   "cell_type": "code",
   "execution_count": null,
   "metadata": {
    "collapsed": true
   },
   "outputs": [],
   "source": []
  },
  {
   "cell_type": "code",
   "execution_count": null,
   "metadata": {
    "collapsed": true
   },
   "outputs": [],
   "source": []
  },
  {
   "cell_type": "code",
   "execution_count": null,
   "metadata": {
    "collapsed": true
   },
   "outputs": [],
   "source": []
  },
  {
   "cell_type": "code",
   "execution_count": null,
   "metadata": {
    "collapsed": true
   },
   "outputs": [],
   "source": []
  }
 ],
 "metadata": {
  "kernelspec": {
   "display_name": "Python 2",
   "language": "python",
   "name": "python2"
  },
  "language_info": {
   "codemirror_mode": {
    "name": "ipython",
    "version": 2
   },
   "file_extension": ".py",
   "mimetype": "text/x-python",
   "name": "python",
   "nbconvert_exporter": "python",
   "pygments_lexer": "ipython2",
   "version": "2.7.14"
  }
 },
 "nbformat": 4,
 "nbformat_minor": 0
}
