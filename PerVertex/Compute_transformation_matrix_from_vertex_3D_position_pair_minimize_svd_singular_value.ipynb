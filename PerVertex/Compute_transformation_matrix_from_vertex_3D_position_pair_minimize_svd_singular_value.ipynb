{
 "cells": [
  {
   "cell_type": "code",
   "execution_count": null,
   "metadata": {
    "collapsed": false
   },
   "outputs": [],
   "source": [
    "import numpy as np\n",
    "import json\n",
    "import time\n",
    "import scipy\n",
    "import scipy.sparse\n",
    "from trimesh import TriMesh\n",
    "import glob\n",
    "from numpy import *\n",
    "np.set_printoptions(linewidth=2000, suppress=True)\n",
    "from Extract_Transformation_matrix_minimize_SVD_singular_value import *"
   ]
  },
  {
   "cell_type": "code",
   "execution_count": null,
   "metadata": {
    "collapsed": false
   },
   "outputs": [],
   "source": [
    "#### read obj file\n",
    "base_dir=\"./datas/cube4/poses-1/\"\n",
    "filenames=glob.glob(base_dir+\"*.obj\")\n",
    "print filenames\n",
    "meshes_List=[]\n",
    "for i in range(len(filenames)):\n",
    "    meshes_List.append(TriMesh.FromOBJ_FileName(filenames[i]))"
   ]
  },
  {
   "cell_type": "code",
   "execution_count": null,
   "metadata": {
    "collapsed": false
   },
   "outputs": [],
   "source": [
    "groundtruth_name=base_dir+\"cube-2.DMAT\"\n",
    "gt=load_DMAT(groundtruth_name)\n",
    "print gt.shape\n",
    "ind=np.arange(10)\n",
    "gt=gt.T\n",
    "print gt.shape\n",
    "gt=gt.reshape((-1,4,3))\n",
    "gt=np.transpose(gt, (0,2,1)).reshape((-1,12))\n",
    "ind=np.arange(10)"
   ]
  },
  {
   "cell_type": "code",
   "execution_count": null,
   "metadata": {
    "collapsed": false
   },
   "outputs": [],
   "source": [
    "#### solve for transformation per vertex, with smoothness regularization and transformation matrix L2 norm regularization.\n",
    "\n",
    "mesh0=meshes_List[0]\n",
    "mesh1=meshes_List[2]\n",
    "\n",
    "\n",
    "output_prefix=base_dir+\"Vertex_tramsformation_matrix_recovering\"\n",
    "weights = {'W_svd': 2.0, 'W_rotation': 0.01, 'W_spatial': 0.0 }\n",
    "\n",
    "\n",
    "start=time.time()\n",
    "\n",
    "print \"solving transformation matrix\"\n",
    "\n",
    "\n",
    "vertices0=np.hstack((np.asarray(mesh0.vs),np.ones((len(mesh0.vs),1))))\n",
    "vertices1=np.asarray(mesh1.vs)\n",
    "M=vertices0.shape[1]*vertices1.shape[1]\n",
    "\n",
    "\n",
    "x0=np.ones(len(vertices1)*M)/M\n",
    "    \n",
    "# x0=np.zeros(len(vertices1)*M)\n",
    "\n",
    "# x0=gt.ravel()\n",
    "\n",
    "\n",
    "res=run_one(mesh0, mesh1, output_prefix, weights, x0)\n",
    "res=res.reshape((len(mesh0.vs),-1))\n",
    "end=time.time()\n",
    "print \"using time: \", end-start\n",
    "print res.shape"
   ]
  },
  {
   "cell_type": "code",
   "execution_count": null,
   "metadata": {
    "collapsed": false
   },
   "outputs": [],
   "source": [
    "# print abs(res[ind,:].round(3)-gt[ind,:].round(3))\n",
    "\n",
    "print \"recover: \"\n",
    "print res[ind,:].round(3)\n",
    "print \"groundtruth: \"\n",
    "print gt[ind,:].round(3)\n",
    "\n",
    "vertices0=np.hstack((np.asarray(mesh0.vs),np.ones((len(mesh0.vs),1))))\n",
    "print \"vertices reconstruction error: \"\n",
    "print np.multiply(res.reshape((-1,3,4)), vertices0.reshape((-1,1,4))).sum(axis=-1)[:len(ind)]-asarray(mesh1.vs)[:len(ind)]"
   ]
  },
  {
   "cell_type": "code",
   "execution_count": null,
   "metadata": {
    "collapsed": false
   },
   "outputs": [],
   "source": [
    "print res.shape\n",
    "\n",
    "L=res-res.mean(axis=0).reshape((1,-1))\n",
    "\n",
    "eigenVal,eigenVec=np.linalg.eig(L.T.dot(L))\n",
    "\n",
    "print sorted(eigenVal)"
   ]
  },
  {
   "cell_type": "code",
   "execution_count": null,
   "metadata": {
    "collapsed": false
   },
   "outputs": [],
   "source": [
    "gtL=gt-gt.mean(axis=0).reshape((1,-1))\n",
    "\n",
    "gteigenVal,gteigenVec=np.linalg.eig(gtL.T.dot(gtL))\n",
    "\n",
    "print sorted(gteigenVal)"
   ]
  },
  {
   "cell_type": "code",
   "execution_count": null,
   "metadata": {
    "collapsed": true
   },
   "outputs": [],
   "source": []
  },
  {
   "cell_type": "code",
   "execution_count": null,
   "metadata": {
    "collapsed": false
   },
   "outputs": [],
   "source": [
    "print res.shape\n",
    "\n",
    "L=res-res.mean(axis=0).reshape((1,-1))\n",
    "\n",
    "s = np.linalg.svd(L, full_matrices=True, compute_uv=False)\n",
    "print s.round(3)"
   ]
  },
  {
   "cell_type": "code",
   "execution_count": null,
   "metadata": {
    "collapsed": false
   },
   "outputs": [],
   "source": [
    "gtL=gt-gt.mean(axis=0).reshape((1,-1))\n",
    "\n",
    "s = np.linalg.svd(gtL, full_matrices=True, compute_uv=False)\n",
    "print s.round(3)"
   ]
  },
  {
   "cell_type": "code",
   "execution_count": null,
   "metadata": {
    "collapsed": false
   },
   "outputs": [],
   "source": [
    "temp1=res.reshape((-1,3,4))[:,:,:3]\n",
    "temp2=temp1.transpose((0,2,1))\n",
    "identities=np.repeat(np.identity(3).reshape((1,-1)), len(temp1), 0).ravel()\n",
    "print abs((temp1[:,:,:,np.newaxis]*temp2[:,np.newaxis,:,:]).sum(axis=-2).ravel()-identities).max()"
   ]
  },
  {
   "cell_type": "code",
   "execution_count": null,
   "metadata": {
    "collapsed": false
   },
   "outputs": [],
   "source": [
    "temp1=gt.reshape((-1,3,4))[:,:,:3]\n",
    "temp2=temp1.transpose((0,2,1))\n",
    "identities=np.repeat(np.identity(3).reshape((1,-1)), len(temp1), 0).ravel()\n",
    "print abs((temp1[:,:,:,np.newaxis]*temp2[:,np.newaxis,:,:]).sum(axis=-2).ravel()-identities).max()"
   ]
  },
  {
   "cell_type": "code",
   "execution_count": null,
   "metadata": {
    "collapsed": true
   },
   "outputs": [],
   "source": []
  },
  {
   "cell_type": "code",
   "execution_count": null,
   "metadata": {
    "collapsed": true
   },
   "outputs": [],
   "source": []
  }
 ],
 "metadata": {
  "kernelspec": {
   "display_name": "Python 2",
   "language": "python",
   "name": "python2"
  },
  "language_info": {
   "codemirror_mode": {
    "name": "ipython",
    "version": 2
   },
   "file_extension": ".py",
   "mimetype": "text/x-python",
   "name": "python",
   "nbconvert_exporter": "python",
   "pygments_lexer": "ipython2",
   "version": "2.7.14"
  }
 },
 "nbformat": 4,
 "nbformat_minor": 1
}
