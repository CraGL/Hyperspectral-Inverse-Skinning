{
 "cells": [
  {
   "cell_type": "code",
   "execution_count": 1,
   "metadata": {},
   "outputs": [],
   "source": [
    "from __future__ import print_function, division\n",
    "import numpy as np\n",
    "import json\n",
    "import time\n",
    "import scipy\n",
    "import scipy.sparse\n",
    "from trimesh import TriMesh\n",
    "import glob\n",
    "from numpy import *\n",
    "np.set_printoptions(linewidth=2000, suppress=True)\n",
    "from Extract_Transformation_matrix_minimize_SVD_singular_value_allPoses import *"
   ]
  },
  {
   "cell_type": "code",
   "execution_count": null,
   "metadata": {},
   "outputs": [
    {
     "name": "stdout",
     "output_type": "stream",
     "text": [
      "['../models/cube4/poses-1/cube-1.obj', '../models/cube4/poses-1/cube-2.obj', '../models/cube4/poses-1/cube-3.obj', '../models/cube4/poses-1/cube-4.obj']\n",
      "['../models/cube4/poses-1/cube-1.DMAT', '../models/cube4/poses-1/cube-2.DMAT', '../models/cube4/poses-1/cube-3.DMAT', '../models/cube4/poses-1/cube-4.DMAT']\n",
      "(1538, 48)\n",
      "(1538, 12)\n",
      "(1538, 9)\n"
     ]
    }
   ],
   "source": [
    "#### read obj file\n",
    "# base_dir=\"./datas/cube4/poses-1/\"\n",
    "base_dir=\"../models/cube4/poses-1/\"\n",
    "filenames=glob.glob(base_dir+\"*.obj\")\n",
    "print(filenames)\n",
    "meshes_List=[]\n",
    "for i in range(len(filenames)):\n",
    "    meshes_List.append(TriMesh.FromOBJ_FileName(filenames[i]))\n",
    "\n",
    "mesh0=meshes_List[0]\n",
    "mesh1_list=meshes_List[1:]\n",
    "\n",
    "groundtruth_names=glob.glob(base_dir+\"cube-*.DMAT\")\n",
    "print(groundtruth_names)\n",
    "\n",
    "gt_all=None\n",
    "for i in range(len(groundtruth_names)):\n",
    "    gt=load_DMAT(groundtruth_names[i])\n",
    "    gt=gt.T\n",
    "    gt=gt.reshape((-1,4,3))\n",
    "    gt=np.transpose(gt, (0,2,1)).reshape((-1,12))\n",
    "    if gt_all is None:\n",
    "        gt_all=gt\n",
    "    else:\n",
    "        gt_all=np.hstack((gt_all, gt))\n",
    "    \n",
    "\n",
    "print(gt_all.shape)\n",
    "\n",
    "ind=np.arange(10)\n",
    "\n",
    "\n",
    "vertices1=vertices1_temp=np.hstack((np.asarray(mesh0.vs),np.ones((len(mesh0.vs),1))))\n",
    "vertices2=vertices2_temp=np.asarray(mesh1_list[0].vs)\n",
    "for i in range(1,len(mesh1_list)):\n",
    "    vertices1=np.hstack((vertices1, vertices1_temp))\n",
    "    vertices2=np.hstack((vertices2, np.asarray(mesh1_list[i].vs)))\n",
    "print(vertices1.shape) \n",
    "print(vertices2.shape) \n",
    "\n",
    "P = len(mesh1_list)\n",
    "M=12*P"
   ]
  },
  {
   "cell_type": "code",
   "execution_count": null,
   "metadata": {},
   "outputs": [
    {
     "name": "stdout",
     "output_type": "stream",
     "text": [
      "solving transformation matrix\n",
      "(1538, 12)\n",
      "(1538, 9)\n",
      "############################\n",
      "loop:  0\n",
      "{'W_rotation': 0.01, 'W_svd': 2.0, 'W_translation': 0.0, 'W_spatial': 0.0, 'W_rotation1': 0.0, 'W_rotation2': 0.0}\n",
      "round:  1\n",
      "True\n",
      "singular values:  [ 33.62749286  17.95759961  12.48248001  11.13223229   9.15966144   8.08861349   3.77464853   3.2059284    2.87542569   2.20002607   1.95953457   1.77890307   1.55513286   1.4340664    0.94401797   0.82225942   0.78791391   0.64575605   0.60252002   0.54262277   0.48231961   0.44309014   0.39223934   0.31096606   0.28007423   0.27093221   0.2203707    0.21225045   0.18738771   0.16183247   0.14291535   0.14015507   0.10335878   0.08289098   0.06552393] 2.37940980356e-05 0\n",
      "recontruction error:  0.00109160828329\n",
      "round:  2\n",
      "True\n",
      "singular values:  [ 33.6225838   17.95581385  12.48247478  11.13270213   9.15927699   8.08901228   3.77409576   3.20612518   2.87514793   2.20021927   1.96362213   1.77856191   1.55466025   1.43432785   0.94411855   0.82201586   0.78803628   0.64434604   0.59983025   0.54050519   0.48230577   0.44084815   0.39227057   0.31159488   0.27976488   0.27064283   0.22000303   0.21174562   0.18633988   0.16144906   0.14313566   0.14000977   0.10341538   0.08285914] 2.63214856831e-05 0\n",
      "recontruction error:  0.000723224933272\n",
      "round:  3\n",
      "True\n",
      "singular values:  [ 33.62258932  17.95582432  12.48247413  11.13270754   9.1592748    8.08901054   3.77409527   3.20612614   2.87514723   2.20022212   1.96361913   1.77856152   1.55465753   1.43432963   0.94411896   0.82201625   0.78803731   0.64435073   0.59983626   0.54051219   0.48230393   0.44084055   0.3922732    0.31159907   0.27975876   0.27064177   0.22000209   0.21174635   0.18634208   0.16144764   0.14313417   0.14000665   0.10342083] 2.0364345496e-05 0\n",
      "recontruction error:  0.00141562246231\n",
      "round:  4\n",
      "True\n",
      "singular values:  [ 33.6196834   17.95751553  12.48123533  11.13428464   9.15773242   8.08746123   3.77354891   3.20668614   2.87515371   2.20186152   1.96575854   1.77776445   1.55394491   1.43492678   0.94441806   0.82180254   0.78941337   0.64728125   0.60196949   0.54275281   0.48192797   0.43190073   0.39309046   0.31429282   0.27109472   0.26333626   0.21914672   0.2132795    0.18881258   0.16141808   0.14526025   0.14244184] 3.75597543336e-05 0\n",
      "recontruction error:  0.000927680778368\n",
      "round:  5\n",
      "True\n",
      "singular values:  [ 33.61860829  17.95704891  12.48092296  11.13547335   9.15749832   8.08643055   3.77419236   3.20734481   2.87377151   2.20138045   1.9652235    1.78025493   1.55406279   1.43648622   0.94275537   0.82111469   0.79058877   0.64690824   0.60139963   0.54391272   0.48466213   0.4356268    0.3942778    0.31306619   0.27226004   0.25981722   0.21942088   0.2134362    0.18910246   0.16064806   0.14156064] 3.1976328672e-05 0\n",
      "recontruction error:  0.00109986700529\n",
      "round:  6\n",
      "True\n",
      "singular values:  [ 33.61423865  17.95773931  12.48098625  11.13722588   9.15519486   8.08396264   3.77344852   3.2087672    2.87170394   2.20157509   1.96790106   1.78240454   1.55486773   1.43676709   0.9417326    0.82153071   0.79494762   0.64759662   0.60111865   0.54435439   0.48439515   0.43111617   0.39329278   0.31286285   0.27248291   0.25433775   0.22036069   0.21242981   0.19086193   0.16159759] 4.343805657e-05 0\n",
      "recontruction error:  0.000812623169054\n",
      "round:  7\n",
      "True\n",
      "singular values:  [ 33.61071799  17.95836831  12.48007634  11.13881766   9.15341897   8.08223944   3.77373423   3.20976455   2.8715647    2.20330117   1.96995851   1.78204027   1.5621462    1.43816428   0.94368126   0.81990014   0.79600506   0.64745849   0.60233495   0.54640354   0.4886876    0.43160891   0.39213868   0.3142795    0.27518112   0.25041566   0.2227386    0.21543014   0.18790894] 0.00013764828039 0\n",
      "recontruction error:  0.000739399953848\n",
      "round:  8\n",
      "True\n",
      "singular values:  [ 33.60637318  17.95926193  12.48023052  11.14031383   9.15198563   8.07945748   3.7738719    3.20949536   2.87060772   2.20443191   1.96961327   1.78340798   1.56617927   1.44005987   0.94520177   0.81926444   0.79605944   0.6489724    0.60664093   0.54881889   0.48793967   0.4336516    0.39203863   0.312624     0.27622996   0.25020032   0.22755964   0.2148177 ] 4.79800756164e-05 0\n",
      "recontruction error:  0.000795674642302\n",
      "round:  9\n",
      "True\n",
      "singular values:  [ 33.60059198  17.96037235  12.48039945  11.1434533    9.14937949   8.07547744   3.77391722   3.21070877   2.86902108   2.20360783   1.97403833   1.7825757    1.56938703   1.44613901   0.94789112   0.82115553   0.80135861   0.65584948   0.60763132   0.55206866   0.48838577   0.43358088   0.39657986   0.31466729   0.28248116   0.24413126   0.22275046] 3.49190823584e-05 0\n",
      "recontruction error:  0.00062248121675\n",
      "round:  10\n"
     ]
    }
   ],
   "source": [
    "#### solve for transformation per vertex, with smoothness regularization and transformation matrix L2 norm regularization.\n",
    "output_prefix=base_dir+\"Vertex_tramsformation_matrix_recovering\"\n",
    "weights = {'W_svd': 2.0, \n",
    "           'W_rotation': 0.01, \n",
    "           'W_rotation1': 0.0, \n",
    "           'W_rotation2': 0.0, \n",
    "           'W_translation':0.0, \n",
    "           'W_spatial': 0.0\n",
    "          }\n",
    "\n",
    "\n",
    "start=time.time()\n",
    "\n",
    "print(\"solving transformation matrix\")\n",
    "\n",
    "\n",
    "\n",
    "x0=np.ones(len(vertices1)*M)/M\n",
    "    \n",
    "# x0=np.zeros(len(vertices1)*M)\n",
    "\n",
    "# x0=gt_all.ravel()\n",
    "\n",
    "# #### use identity matrix as input\n",
    "# xi=np.hstack((np.identity(3),np.zeros((3,1)))).reshape((1,-1))\n",
    "# print xi\n",
    "# x0=np.repeat(xi, len(vertices0), 0).reshape(-1)\n",
    "\n",
    "\n",
    "\n",
    "res=run_one(mesh0, mesh1_list, output_prefix, weights, x0)\n",
    "res=res.reshape((len(mesh0.vs),-1))\n",
    "end=time.time()\n",
    "print(\"using time: \", end-start)\n",
    "print(res.shape)"
   ]
  },
  {
   "cell_type": "code",
   "execution_count": null,
   "metadata": {},
   "outputs": [],
   "source": [
    "print res.shape\n",
    "L=res-res.mean(axis=0).reshape((1,-1))\n",
    "\n",
    "eigenVal,eigenVec=np.linalg.eig(L.T.dot(L))\n",
    "\n",
    "print(sorted(eigenVal))"
   ]
  },
  {
   "cell_type": "code",
   "execution_count": null,
   "metadata": {},
   "outputs": [],
   "source": [
    "gtL=gt_all-gt_all.mean(axis=0).reshape((1,-1))\n",
    "\n",
    "gteigenVal,gteigenVec=np.linalg.eig(gtL.T.dot(gtL))\n",
    "\n",
    "print(sorted(gteigenVal))"
   ]
  },
  {
   "cell_type": "code",
   "execution_count": null,
   "metadata": {
    "collapsed": true
   },
   "outputs": [],
   "source": []
  },
  {
   "cell_type": "code",
   "execution_count": null,
   "metadata": {
    "scrolled": true
   },
   "outputs": [],
   "source": [
    "print(res.shape)\n",
    "\n",
    "L=res-res.mean(axis=0).reshape((1,-1))\n",
    "\n",
    "s = np.linalg.svd(L, full_matrices=True, compute_uv=False)\n",
    "print(s)"
   ]
  },
  {
   "cell_type": "code",
   "execution_count": null,
   "metadata": {},
   "outputs": [],
   "source": [
    "gtL=gt_all-gt_all.mean(axis=0).reshape((1,-1))\n",
    "\n",
    "s = np.linalg.svd(gtL, full_matrices=True, compute_uv=False)\n",
    "print(s)"
   ]
  },
  {
   "cell_type": "code",
   "execution_count": null,
   "metadata": {},
   "outputs": [],
   "source": [
    "temp1=res.reshape((-1,3,4))[:,:,:3]\n",
    "temp2=temp1.transpose((0,2,1))\n",
    "identities=np.repeat(np.identity(3).reshape((1,-1)), len(temp1), 0).ravel()\n",
    "print(abs((temp1[:,:,:,np.newaxis]*temp2[:,np.newaxis,:,:]).sum(axis=-2).ravel()-identities).max())"
   ]
  },
  {
   "cell_type": "code",
   "execution_count": null,
   "metadata": {},
   "outputs": [],
   "source": [
    "temp1=gt_all.reshape((-1,3,4))[:,:,:3]\n",
    "temp2=temp1.transpose((0,2,1))\n",
    "identities=np.repeat(np.identity(3).reshape((1,-1)), len(temp1), 0).ravel()\n",
    "print(abs((temp1[:,:,:,np.newaxis]*temp2[:,np.newaxis,:,:]).sum(axis=-2).ravel()-identities).max())"
   ]
  },
  {
   "cell_type": "code",
   "execution_count": null,
   "metadata": {},
   "outputs": [],
   "source": [
    "#### check non_diagnal_sum of RTR is 0.\n",
    "temp1=res.reshape((-1,3,4))[:,:,:3]\n",
    "temp2=temp1.transpose((0,2,1))\n",
    "RTR=(temp1[:,:,:,np.newaxis]*temp2[:,np.newaxis,:,:]).sum(axis=-2).ravel() #### per vertex R^T*R.\n",
    "\n",
    "RTRsqure=np.square(RTR)\n",
    "inds=np.repeat(np.array([[0,4,8]]), len(temp1), 0)+ np.arange(len(temp1)).reshape((-1,1))*9  #### diganl element index in ravel array.\n",
    "\n",
    "diagnal_term=np.square(RTR[inds.ravel()]-np.ones(len(inds.ravel()))).sum()\n",
    "non_diagnal_sum_square=RTRsqure.sum()-RTRsqure[inds.ravel()].sum()\n",
    "\n",
    "print(diagnal_term)\n",
    "print(non_diagnal_sum_square)\n",
    "\n",
    "all_inds=np.arange(len(temp1)*9)\n",
    "non_diagnal_inds=np.asarray(list(set(list(all_inds))-set(list(inds.ravel()))))\n",
    "\n",
    "print(abs(RTR[non_diagnal_inds]).max())\n",
    "print(np.median(abs(RTR[non_diagnal_inds])))\n",
    "print(RTR[inds.ravel()].max())\n",
    "print(RTR[inds.ravel()].min())"
   ]
  },
  {
   "cell_type": "code",
   "execution_count": null,
   "metadata": {},
   "outputs": [],
   "source": [
    "#### check non_diagnal_sum of RTR is 0.\n",
    "temp1=gt_all.reshape((-1,3,4))[:,:,:3]\n",
    "temp2=temp1.transpose((0,2,1))\n",
    "RTR=(temp1[:,:,:,np.newaxis]*temp2[:,np.newaxis,:,:]).sum(axis=-2).ravel() #### per vertex R^T*R.\n",
    "\n",
    "RTRsqure=np.square(RTR)\n",
    "inds=np.repeat(np.array([[0,4,8]]), len(temp1), 0)+ np.arange(len(temp1)).reshape((-1,1))*9  #### diganl element index in ravel array.\n",
    "\n",
    "diagnal_term=np.square(RTR[inds.ravel()]-np.ones(len(inds.ravel()))).sum()\n",
    "non_diagnal_sum_square=RTRsqure.sum()-RTRsqure[inds.ravel()].sum()\n",
    "\n",
    "print(diagnal_term)\n",
    "print(non_diagnal_sum_square)\n",
    "\n",
    "all_inds=np.arange(len(temp1)*9)\n",
    "non_diagnal_inds=np.asarray(list(set(list(all_inds))-set(list(inds.ravel()))))\n",
    "\n",
    "print(abs(RTR[non_diagnal_inds]).max())\n",
    "print(np.median(abs(RTR[non_diagnal_inds])))\n",
    "print(RTR[inds.ravel()].max())\n",
    "print(RTR[inds.ravel()].min())"
   ]
  },
  {
   "cell_type": "code",
   "execution_count": null,
   "metadata": {},
   "outputs": [],
   "source": [
    "print(abs(res-gt_all).max())\n",
    "print(res.ravel()[abs(res-gt_all).argmax()])\n",
    "print(gt_all.ravel()[abs(res-gt_all).argmax()])\n",
    "print(np.sqrt(np.square(res-gt_all).mean()))"
   ]
  },
  {
   "cell_type": "code",
   "execution_count": null,
   "metadata": {
    "collapsed": true
   },
   "outputs": [],
   "source": []
  },
  {
   "cell_type": "code",
   "execution_count": null,
   "metadata": {
    "collapsed": true
   },
   "outputs": [],
   "source": []
  }
 ],
 "metadata": {
  "kernelspec": {
   "display_name": "Python 3",
   "language": "python",
   "name": "python3"
  },
  "language_info": {
   "codemirror_mode": {
    "name": "ipython",
    "version": 3
   },
   "file_extension": ".py",
   "mimetype": "text/x-python",
   "name": "python",
   "nbconvert_exporter": "python",
   "pygments_lexer": "ipython3",
   "version": "3.5.1"
  }
 },
 "nbformat": 4,
 "nbformat_minor": 1
}
