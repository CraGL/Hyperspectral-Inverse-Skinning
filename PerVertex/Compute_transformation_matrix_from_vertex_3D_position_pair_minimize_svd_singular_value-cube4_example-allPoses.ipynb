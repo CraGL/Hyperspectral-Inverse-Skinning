{
 "cells": [
  {
   "cell_type": "code",
   "execution_count": null,
   "metadata": {
    "collapsed": true
   },
   "outputs": [],
   "source": [
    "from __future__ import print_function, division\n",
    "import numpy as np\n",
    "import json\n",
    "import time\n",
    "import scipy\n",
    "import scipy.sparse\n",
    "from trimesh import TriMesh\n",
    "import glob\n",
    "from numpy import *\n",
    "np.set_printoptions(linewidth=2000, suppress=True)\n",
    "from Extract_Transformation_matrix_minimize_SVD_singular_value_allPoses import *"
   ]
  },
  {
   "cell_type": "code",
   "execution_count": null,
   "metadata": {
    "collapsed": false
   },
   "outputs": [],
   "source": [
    "#### read obj file\n",
    "base_dir=\"./datas/cube4/poses-1/\"\n",
    "# base_dir=\"../models/cube4/poses-1/\"\n",
    "filenames=glob.glob(base_dir+\"*.obj\")\n",
    "print(filenames)\n",
    "meshes_List=[]\n",
    "for i in range(len(filenames)):\n",
    "    meshes_List.append(TriMesh.FromOBJ_FileName(filenames[i]))\n",
    "\n",
    "mesh0=meshes_List[0]\n",
    "mesh1_list=meshes_List[1:]\n",
    "\n",
    "groundtruth_names=glob.glob(base_dir+\"cube-*.DMAT\")\n",
    "print(groundtruth_names)\n",
    "\n",
    "gt_all=None\n",
    "for i in range(len(groundtruth_names)):\n",
    "    gt=load_DMAT(groundtruth_names[i])\n",
    "    gt=gt.T\n",
    "    gt=gt.reshape((-1,4,3))\n",
    "    gt=np.transpose(gt, (0,2,1)).reshape((-1,12))\n",
    "    if gt_all is None:\n",
    "        gt_all=gt\n",
    "    else:\n",
    "        gt_all=np.hstack((gt_all, gt))\n",
    "    \n",
    "\n",
    "print(gt_all.shape)\n",
    "\n",
    "ind=np.arange(10)\n",
    "\n",
    "\n",
    "vertices1=vertices1_temp=np.hstack((np.asarray(mesh0.vs),np.ones((len(mesh0.vs),1))))\n",
    "vertices2=vertices2_temp=np.asarray(mesh1_list[0].vs)\n",
    "for i in range(1,len(mesh1_list)):\n",
    "    vertices1=np.hstack((vertices1, vertices1_temp))\n",
    "    vertices2=np.hstack((vertices2, np.asarray(mesh1_list[i].vs)))\n",
    "print(vertices1.shape) \n",
    "print(vertices2.shape) \n",
    "\n",
    "P = len(mesh1_list)\n",
    "M=12*P"
   ]
  },
  {
   "cell_type": "code",
   "execution_count": null,
   "metadata": {
    "collapsed": false
   },
   "outputs": [],
   "source": [
    "#### solve for transformation per vertex, with smoothness regularization and transformation matrix L2 norm regularization.\n",
    "output_prefix=base_dir+\"Vertex_tramsformation_matrix_recovering\"\n",
    "weights = {'W_svd': 2.0, \n",
    "           'W_rotation': 0.01, \n",
    "           'W_rotation1': 0.0, \n",
    "           'W_rotation2': 0.0, \n",
    "           'W_translation':0.0, \n",
    "           'W_spatial': 0.0\n",
    "          }\n",
    "\n",
    "\n",
    "start=time.time()\n",
    "\n",
    "print(\"solving transformation matrix\")\n",
    "\n",
    "\n",
    "\n",
    "x0=np.ones(len(vertices1)*M)/M\n",
    "    \n",
    "# x0=np.zeros(len(vertices1)*M)\n",
    "\n",
    "# x0=gt_all.ravel()\n",
    "\n",
    "# #### use identity matrix as input\n",
    "# xi=np.hstack((np.identity(3),np.zeros((3,1)))).reshape((1,-1))\n",
    "# print xi\n",
    "# x0=np.repeat(xi, len(vertices0), 0).reshape(-1)\n",
    "\n",
    "\n",
    "res=run_one(mesh0, mesh1_list, output_prefix, weights, initials=x0, option=3)\n",
    "# res=run_one(mesh0, mesh1_list, output_prefix, weights, initials=x0, option=4)### binary choose nonzero svd singlular value number\n",
    "res=res.reshape((len(mesh0.vs),-1))\n",
    "end=time.time()\n",
    "print(\"using time: \", end-start)\n",
    "print(res.shape)"
   ]
  },
  {
   "cell_type": "code",
   "execution_count": null,
   "metadata": {
    "collapsed": false
   },
   "outputs": [],
   "source": [
    "print res.shape\n",
    "L=res-res.mean(axis=0).reshape((1,-1))\n",
    "\n",
    "eigenVal,eigenVec=np.linalg.eig(L.T.dot(L))\n",
    "\n",
    "print(sorted(eigenVal))"
   ]
  },
  {
   "cell_type": "code",
   "execution_count": null,
   "metadata": {
    "collapsed": false
   },
   "outputs": [],
   "source": [
    "gtL=gt_all-gt_all.mean(axis=0).reshape((1,-1))\n",
    "\n",
    "gteigenVal,gteigenVec=np.linalg.eig(gtL.T.dot(gtL))\n",
    "\n",
    "print(sorted(gteigenVal))"
   ]
  },
  {
   "cell_type": "code",
   "execution_count": null,
   "metadata": {
    "collapsed": true
   },
   "outputs": [],
   "source": []
  },
  {
   "cell_type": "code",
   "execution_count": null,
   "metadata": {
    "collapsed": false,
    "scrolled": true
   },
   "outputs": [],
   "source": [
    "print(res.shape)\n",
    "\n",
    "L=res-res.mean(axis=0).reshape((1,-1))\n",
    "\n",
    "s = np.linalg.svd(L, full_matrices=True, compute_uv=False)\n",
    "print(s)"
   ]
  },
  {
   "cell_type": "code",
   "execution_count": null,
   "metadata": {
    "collapsed": false
   },
   "outputs": [],
   "source": [
    "gtL=gt_all-gt_all.mean(axis=0).reshape((1,-1))\n",
    "\n",
    "s = np.linalg.svd(gtL, full_matrices=True, compute_uv=False)\n",
    "print(s)"
   ]
  },
  {
   "cell_type": "code",
   "execution_count": null,
   "metadata": {
    "collapsed": false
   },
   "outputs": [],
   "source": [
    "temp1=res.reshape((-1,3,4))[:,:,:3]\n",
    "temp2=temp1.transpose((0,2,1))\n",
    "identities=np.repeat(np.identity(3).reshape((1,-1)), len(temp1), 0).ravel()\n",
    "print(abs((temp1[:,:,:,np.newaxis]*temp2[:,np.newaxis,:,:]).sum(axis=-2).ravel()-identities).max())"
   ]
  },
  {
   "cell_type": "code",
   "execution_count": null,
   "metadata": {
    "collapsed": false
   },
   "outputs": [],
   "source": [
    "temp1=gt_all.reshape((-1,3,4))[:,:,:3]\n",
    "temp2=temp1.transpose((0,2,1))\n",
    "identities=np.repeat(np.identity(3).reshape((1,-1)), len(temp1), 0).ravel()\n",
    "print(abs((temp1[:,:,:,np.newaxis]*temp2[:,np.newaxis,:,:]).sum(axis=-2).ravel()-identities).max())"
   ]
  },
  {
   "cell_type": "code",
   "execution_count": null,
   "metadata": {
    "collapsed": false
   },
   "outputs": [],
   "source": [
    "#### check non_diagnal_sum of RTR is 0.\n",
    "temp1=res.reshape((-1,3,4))[:,:,:3]\n",
    "temp2=temp1.transpose((0,2,1))\n",
    "RTR=(temp1[:,:,:,np.newaxis]*temp2[:,np.newaxis,:,:]).sum(axis=-2).ravel() #### per vertex R^T*R.\n",
    "\n",
    "RTRsqure=np.square(RTR)\n",
    "inds=np.repeat(np.array([[0,4,8]]), len(temp1), 0)+ np.arange(len(temp1)).reshape((-1,1))*9  #### diganl element index in ravel array.\n",
    "\n",
    "diagnal_term=np.square(RTR[inds.ravel()]-np.ones(len(inds.ravel()))).sum()\n",
    "non_diagnal_sum_square=RTRsqure.sum()-RTRsqure[inds.ravel()].sum()\n",
    "\n",
    "print(diagnal_term)\n",
    "print(non_diagnal_sum_square)\n",
    "\n",
    "all_inds=np.arange(len(temp1)*9)\n",
    "non_diagnal_inds=np.asarray(list(set(list(all_inds))-set(list(inds.ravel()))))\n",
    "\n",
    "print(abs(RTR[non_diagnal_inds]).max())\n",
    "print(np.median(abs(RTR[non_diagnal_inds])))\n",
    "print(RTR[inds.ravel()].max())\n",
    "print(RTR[inds.ravel()].min())"
   ]
  },
  {
   "cell_type": "code",
   "execution_count": null,
   "metadata": {
    "collapsed": false
   },
   "outputs": [],
   "source": [
    "#### check non_diagnal_sum of RTR is 0.\n",
    "temp1=gt_all.reshape((-1,3,4))[:,:,:3]\n",
    "temp2=temp1.transpose((0,2,1))\n",
    "RTR=(temp1[:,:,:,np.newaxis]*temp2[:,np.newaxis,:,:]).sum(axis=-2).ravel() #### per vertex R^T*R.\n",
    "\n",
    "RTRsqure=np.square(RTR)\n",
    "inds=np.repeat(np.array([[0,4,8]]), len(temp1), 0)+ np.arange(len(temp1)).reshape((-1,1))*9  #### diganl element index in ravel array.\n",
    "\n",
    "diagnal_term=np.square(RTR[inds.ravel()]-np.ones(len(inds.ravel()))).sum()\n",
    "non_diagnal_sum_square=RTRsqure.sum()-RTRsqure[inds.ravel()].sum()\n",
    "\n",
    "print(diagnal_term)\n",
    "print(non_diagnal_sum_square)\n",
    "\n",
    "all_inds=np.arange(len(temp1)*9)\n",
    "non_diagnal_inds=np.asarray(list(set(list(all_inds))-set(list(inds.ravel()))))\n",
    "\n",
    "print(abs(RTR[non_diagnal_inds]).max())\n",
    "print(np.median(abs(RTR[non_diagnal_inds])))\n",
    "print(RTR[inds.ravel()].max())\n",
    "print(RTR[inds.ravel()].min())"
   ]
  },
  {
   "cell_type": "code",
   "execution_count": null,
   "metadata": {
    "collapsed": false
   },
   "outputs": [],
   "source": [
    "print(abs(res-gt_all).max())\n",
    "print(res.ravel()[abs(res-gt_all).argmax()])\n",
    "print(gt_all.ravel()[abs(res-gt_all).argmax()])\n",
    "print(np.sqrt(np.square(res-gt_all).mean()))"
   ]
  },
  {
   "cell_type": "code",
   "execution_count": null,
   "metadata": {
    "collapsed": true
   },
   "outputs": [],
   "source": []
  },
  {
   "cell_type": "code",
   "execution_count": null,
   "metadata": {
    "collapsed": true
   },
   "outputs": [],
   "source": [
    "########## visualize difference of recovered M and groundtruth M.\n",
    "import matplotlib.pyplot as plt\n",
    "import matplotlib.animation\n",
    "from mpl_toolkits.mplot3d import Axes3D\n",
    "\n",
    "fig= plt.figure()\n",
    "ax=fig.add_subplot(111, projection='3d')\n",
    "text = fig.suptitle('transformation matrix comparison')\n",
    "\n",
    "test_vals=np.array([\n",
    "        [0,0,0,1],\n",
    "        [1,0,0,1],\n",
    "        [0,1,0,1],\n",
    "        [0,0,1,1]\n",
    "    ])\n",
    "\n",
    "lb=-2\n",
    "ub=2\n",
    "\n",
    "recover_vals_list=[]\n",
    "gt_vals_list=[]\n",
    "\n",
    "res=res.reshape((-1, 12))\n",
    "gt_all=gt_all.reshape((-1, 12))\n",
    "\n",
    "\n",
    "frames=len(res)\n",
    "for num in range(frames):\n",
    "    resi=res[num]\n",
    "    gti=gt_all[num]\n",
    "    recover_vals=np.multiply(resi.reshape((1,3,4)), test_vals.reshape((-1,1,4))).sum(axis=-1)\n",
    "    gt_vals=np.multiply(gti.reshape((1,3,4)), test_vals.reshape((-1,1,4))).sum(axis=-1)\n",
    "    recover_vals_list.append(recover_vals)\n",
    "    gt_vals_list.append(gt_vals)\n",
    "\n",
    "\n",
    "def update_graph(num):\n",
    "    ax.clear()##### if you want to show accumulated data in one figure, comment this line.\n",
    "    \n",
    "    recover_vals=recover_vals_list[num]\n",
    "    gt_vals=gt_vals_list[num]\n",
    "    \n",
    "    \n",
    "    \n",
    "    for u1, v1, w1 in zip(test_vals[1:,0]-test_vals[0,0], test_vals[1:,1]-test_vals[0,1], test_vals[1:,2]-test_vals[0,2]):\n",
    "        graph=ax.quiver(test_vals[0,0], test_vals[0,1], test_vals[0,2], u1, v1, w1, pivot = 'tail', length=np.sqrt(u1**2+v1**2+w1**2), color='r')\n",
    "    \n",
    "    \n",
    "    for u1, v1, w1 in zip(recover_vals[1:,0]-recover_vals[0,0], recover_vals[1:,1]-recover_vals[0,1], recover_vals[1:,2]-recover_vals[0,2]):\n",
    "        graph=ax.quiver(recover_vals[0,0], recover_vals[0,1], recover_vals[0,2], u1, v1, w1, pivot = 'tail', length=np.sqrt(u1**2+v1**2+w1**2), color='g')\n",
    "    \n",
    "    for u1, v1, w1 in zip(gt_vals[1:,0]-gt_vals[0,0], gt_vals[1:,1]-gt_vals[0,1], gt_vals[1:,2]-gt_vals[0,2]):\n",
    "        graph=ax.quiver(gt_vals[0,0], gt_vals[0,1], gt_vals[0,2], u1, v1, w1, pivot = 'tail', length=np.sqrt(u1**2+v1**2+w1**2), color='b')\n",
    "\n",
    "\n",
    "    ax.set_xlim(lb,ub)\n",
    "    ax.set_ylim(lb,ub)\n",
    "    ax.set_zlim(lb,ub)\n",
    "    ax.set_xlabel('X')\n",
    "    ax.set_ylabel('Y')\n",
    "    ax.set_zlabel('Z')\n",
    "    \n",
    "    text.set_text('transformation matrix comparison={}'.format(num))\n",
    "    \n",
    "    \n",
    "    return text, graph\n",
    "\n",
    "\n",
    "ani = matplotlib.animation.FuncAnimation(fig, update_graph, frames, interval=50)\n",
    "\n",
    "plt.show()"
   ]
  },
  {
   "cell_type": "code",
   "execution_count": null,
   "metadata": {
    "collapsed": true
   },
   "outputs": [],
   "source": []
  }
 ],
 "metadata": {
  "kernelspec": {
   "display_name": "Python 2",
   "language": "python",
   "name": "python2"
  },
  "language_info": {
   "codemirror_mode": {
    "name": "ipython",
    "version": 2
   },
   "file_extension": ".py",
   "mimetype": "text/x-python",
   "name": "python",
   "nbconvert_exporter": "python",
   "pygments_lexer": "ipython2",
   "version": "2.7.14"
  }
 },
 "nbformat": 4,
 "nbformat_minor": 1
}
