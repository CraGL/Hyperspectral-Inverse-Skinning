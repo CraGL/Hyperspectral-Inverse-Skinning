{
 "cells": [
  {
   "cell_type": "code",
   "execution_count": 1,
   "metadata": {},
   "outputs": [],
   "source": [
    "import glob\n",
    "import time\n",
    "import numpy as np\n",
    "np.set_printoptions(suppress=True)\n",
    "\n",
    "from SmoothSparseWeights_CVXOPT import *"
   ]
  },
  {
   "cell_type": "code",
   "execution_count": 2,
   "metadata": {},
   "outputs": [],
   "source": [
    "# exampleName=\"cheburashka\"\n",
    "# poses_folder=\"poses-2\"\n",
    "# poses_ind=7\n",
    "# clip_k=4\n",
    "# handle_num=11\n",
    "\n",
    "\n",
    "# exampleName=\"cow\"\n",
    "# poses_folder=\"poses-2\"\n",
    "# poses_ind=5\n",
    "# clip_k=4\n",
    "# handle_num=15\n",
    "\n",
    "\n",
    "exampleName=\"wolf\"\n",
    "poses_folder=\"poses-1\"\n",
    "poses_ind=2\n",
    "clip_k=4\n",
    "handle_num=21\n",
    "\n",
    "\n",
    "\n",
    "weights = {'W_spatial': 0.0}"
   ]
  },
  {
   "cell_type": "code",
   "execution_count": 3,
   "metadata": {},
   "outputs": [
    {
     "name": "stdout",
     "output_type": "stream",
     "text": [
      "['./models/wolf-all/poses-1/wolf-1.obj', './models/wolf-all/poses-1/wolf-2.obj', './models/wolf-all/poses-1/wolf-3.obj', './models/wolf-all/poses-1/wolf-4.obj', './models/wolf-all/poses-1/wolf-5.obj', './models/wolf-all/poses-1/wolf-6.obj']\n",
      "(5075, 24)\n",
      "(5075, 18)\n",
      "3.96582\n",
      "4.370884\n"
     ]
    }
   ],
   "source": [
    "#### read obj file\n",
    "\n",
    "### rest_poses:\n",
    "vertices_obj_path=\"./models/\"+exampleName+\"-all/\"+exampleName+\".obj\"\n",
    "mesh0=TriMesh.FromOBJ_FileName(vertices_obj_path)\n",
    "\n",
    "### other poses\n",
    "vertices_obj_dir=\"./models/\"+exampleName+\"-all/\"+poses_folder+\"/\"\n",
    "filenames=glob.glob(vertices_obj_dir+\"*.obj\")\n",
    "print(filenames)\n",
    "\n",
    "mesh1_list=[]\n",
    "for i in range(len(filenames)):\n",
    "    mesh1_list.append(TriMesh.FromOBJ_FileName(filenames[i]))\n",
    "\n",
    "\n",
    "vertices1=vertices1_temp=np.hstack((np.asarray(mesh0.vs),np.ones((len(mesh0.vs),1))))\n",
    "vertices2=vertices2_temp=np.asarray(mesh1_list[0].vs)\n",
    "for i in range(1,len(mesh1_list)):\n",
    "    vertices1=np.hstack((vertices1, vertices1_temp))\n",
    "    vertices2=np.hstack((vertices2, np.asarray(mesh1_list[i].vs)))\n",
    "print(vertices1.shape) \n",
    "print(vertices2.shape) \n",
    "print (vertices1.max())\n",
    "print (vertices2.max())"
   ]
  },
  {
   "cell_type": "code",
   "execution_count": 4,
   "metadata": {},
   "outputs": [
    {
     "name": "stdout",
     "output_type": "stream",
     "text": [
      "(21, 72)\n",
      "(5075, 21)\n",
      "[[0.1589514  0.0000593  0.00474596 0.00048292 0.0000278  0.03343458\n",
      "  0.07699286 0.17446554 0.03199314 0.00009963 0.01256247 0.12470764\n",
      "  0.09002658 0.0000002  0.00000122 0.00001448 0.01316137 0.00123948\n",
      "  0.00000147 0.00000064 0.27703134]\n",
      " [0.15856047 0.00005942 0.00472487 0.0004812  0.00002775 0.03355878\n",
      "  0.07708042 0.17432981 0.03208895 0.00009982 0.01256983 0.12475939\n",
      "  0.08994991 0.0000002  0.00000122 0.00001445 0.01320413 0.00123941\n",
      "  0.00000147 0.00000064 0.27724787]\n",
      " [0.15566619 0.00006021 0.00463952 0.00047399 0.00002755 0.03405925\n",
      "  0.07742135 0.17335098 0.03247172 0.00010021 0.01264691 0.12530878\n",
      "  0.08969101 0.0000002  0.00000124 0.00001417 0.01345853 0.00124074\n",
      "  0.00000144 0.00000064 0.27936539]]\n",
      "[[0.1589514  0.         0.         0.         0.         0.\n",
      "  0.         0.17446554 0.         0.         0.         0.12470764\n",
      "  0.         0.         0.         0.         0.         0.\n",
      "  0.         0.         0.27703134]\n",
      " [0.15856047 0.         0.         0.         0.         0.\n",
      "  0.         0.17432981 0.         0.         0.         0.12475939\n",
      "  0.         0.         0.         0.         0.         0.\n",
      "  0.         0.         0.27724787]\n",
      " [0.15566619 0.         0.         0.         0.         0.\n",
      "  0.         0.17335098 0.         0.         0.         0.12530878\n",
      "  0.         0.         0.         0.         0.         0.\n",
      "  0.         0.         0.27936539]]\n",
      "0.0\n"
     ]
    }
   ],
   "source": [
    "#### read our output of simplex_hull.py \n",
    "results_path=\"./results_pipeline/\"+exampleName+\"-\"+str(handle_num)+\"/result.txt\"\n",
    "endmembers, mixing_weights=load_result(results_path)\n",
    "### endmembers shape is handle * poses * 12??\n",
    "\n",
    "# ### this is to make sure the 3*4 or 4*3 error does not happen.\n",
    "# endmembers=endmembers.reshape((-1, 4, 3))\n",
    "# endmembers=np.transpose(endmembers, (0,2,1))\n",
    "# endmembers=endmembers.reshape((len(mixing_weights), -1, 12))\n",
    "\n",
    "\n",
    "endmembers=endmembers.reshape((len(mixing_weights),-1))\n",
    "mixing_weights=mixing_weights.T\n",
    "\n",
    "\n",
    "print (endmembers.shape)\n",
    "print (mixing_weights.shape)\n",
    "print (mixing_weights[:3])\n",
    "mixing_weights_clip, grad_zero_indices=clip_first_k_values(mixing_weights, clip_k)\n",
    "print (mixing_weights_clip[:3])\n",
    "print ((col_major(mixing_weights_clip)[grad_zero_indices]).sum()) ### should be zero"
   ]
  },
  {
   "cell_type": "code",
   "execution_count": 5,
   "metadata": {},
   "outputs": [
    {
     "name": "stdout",
     "output_type": "stream",
     "text": [
      "25.309374465859957\n"
     ]
    }
   ],
   "source": [
    "scale=find_scale(vertices1)\n",
    "print (scale)"
   ]
  },
  {
   "cell_type": "code",
   "execution_count": 6,
   "metadata": {},
   "outputs": [
    {
     "name": "stdout",
     "output_type": "stream",
     "text": [
      "2.90071396789943e-09\n"
     ]
    }
   ],
   "source": [
    "recovered_vertices2=recover_vertices(mixing_weights, vertices1, endmembers)\n",
    "print (E_RMS_kavan2010(vertices2, recovered_vertices2, scale))"
   ]
  },
  {
   "cell_type": "code",
   "execution_count": 7,
   "metadata": {},
   "outputs": [
    {
     "name": "stdout",
     "output_type": "stream",
     "text": [
      "11053.189538523577\n",
      "(106575, 1)\n",
      "(5075, 24)\n",
      "(5075, 18)\n",
      "5075 6 21\n",
      "use vertices error as obj\n",
      "W_spatial 0.0\n",
      "     pcost       dcost       gap    pres   dres\n",
      " 0: -5.1893e+03 -1.6349e+05  7e+05  2e+00  9e-14\n",
      " 1: -4.9252e+03 -7.6784e+04  1e+05  2e-01  1e-13\n",
      " 2: -4.4254e+03 -2.2096e+04  2e+04  3e-02  8e-14\n",
      " 3: -4.3111e+03 -1.5928e+04  2e+04  2e-02  5e-14\n",
      " 4: -4.1611e+03 -1.2431e+04  1e+04  9e-03  4e-14\n",
      " 5: -4.0384e+03 -8.3427e+03  6e+03  4e-03  3e-14\n",
      " 6: -3.9481e+03 -6.4799e+03  4e+03  2e-03  3e-14\n",
      " 7: -3.9053e+03 -5.7786e+03  3e+03  1e-03  3e-14\n",
      " 8: -3.8582e+03 -5.4216e+03  2e+03  1e-03  3e-14\n",
      " 9: -3.8012e+03 -5.0659e+03  2e+03  8e-04  2e-14\n",
      "10: -3.6937e+03 -4.5800e+03  2e+03  5e-04  2e-14\n",
      "11: -3.6037e+03 -4.2887e+03  1e+03  4e-04  2e-14\n",
      "12: -3.5228e+03 -4.0252e+03  1e+03  3e-04  1e-14\n",
      "13: -3.4551e+03 -3.8264e+03  9e+02  2e-04  1e-14\n",
      "14: -3.4141e+03 -3.7147e+03  8e+02  1e-04  1e-14\n",
      "15: -3.3839e+03 -3.6422e+03  8e+02  1e-04  1e-14\n",
      "16: -3.3586e+03 -3.5879e+03  7e+02  1e-04  9e-15\n",
      "17: -3.3344e+03 -3.5415e+03  7e+02  9e-05  9e-15\n",
      "18: -3.2750e+03 -3.4465e+03  6e+02  7e-05  8e-15\n",
      "19: -3.2460e+03 -3.4145e+03  6e+02  6e-05  8e-15\n",
      "20: -3.2192e+03 -3.3824e+03  6e+02  5e-05  8e-15\n",
      "21: -3.2008e+03 -3.3571e+03  6e+02  5e-05  8e-15\n",
      "22: -3.1898e+03 -3.3354e+03  6e+02  4e-05  8e-15\n",
      "23: -3.1541e+03 -3.2622e+03  6e+02  3e-05  7e-15\n",
      "24: -3.1306e+03 -3.1876e+03  5e+02  3e-05  7e-15\n",
      "25: -3.1062e+03 -3.0973e+03  5e+02  2e-05  7e-15\n",
      "26: -3.0716e+03 -2.9973e+03  5e+02  2e-05  7e-15\n",
      "27: -3.0334e+03 -2.9042e+03  6e+02  2e-05  7e-15\n",
      "28: -2.9927e+03 -2.8184e+03  6e+02  2e-05  8e-15\n",
      "29: -2.9508e+03 -2.7367e+03  6e+02  2e-05  8e-15\n",
      "30: -2.9135e+03 -2.6573e+03  6e+02  1e-05  8e-15\n",
      "31: -2.8601e+03 -2.5457e+03  7e+02  1e-05  8e-15\n",
      "32: -2.8006e+03 -2.4321e+03  7e+02  1e-05  8e-15\n",
      "33: -2.7379e+03 -2.3184e+03  8e+02  1e-05  8e-15\n",
      "34: -2.6660e+03 -2.2016e+03  8e+02  9e-06  7e-15\n",
      "35: -2.5924e+03 -2.0822e+03  8e+02  8e-06  7e-15\n",
      "36: -2.4786e+03 -1.9172e+03  9e+02  7e-06  7e-15\n",
      "37: -2.3959e+03 -1.8118e+03  9e+02  7e-06  7e-15\n",
      "38: -2.3030e+03 -1.7183e+03  1e+03  6e-06  7e-15\n",
      "39: -2.1382e+03 -1.5488e+03  1e+03  5e-06  6e-15\n",
      "40: -2.0005e+03 -1.4272e+03  1e+03  4e-06  6e-15\n",
      "41: -1.8593e+03 -1.3004e+03  1e+03  4e-06  6e-15\n",
      "42: -1.7318e+03 -1.1658e+03  1e+03  3e-06  6e-15\n",
      "43: -1.6225e+03 -1.0312e+03  1e+03  3e-06  5e-15\n",
      "44: -1.5281e+03 -8.9028e+02  1e+03  3e-06  5e-15\n",
      "45: -1.4379e+03 -7.4526e+02  1e+03  2e-06  5e-15\n",
      "46: -1.3338e+03 -5.5734e+02  1e+03  2e-06  5e-15\n",
      "47: -1.2422e+03 -3.6988e+02  1e+03  2e-06  5e-15\n",
      "48: -1.1618e+03 -1.7613e+02  1e+03  2e-06  5e-15\n",
      "49: -1.0708e+03  7.7243e+01  1e+03  2e-06  5e-15\n",
      "50: -9.6442e+02  4.4771e+02  2e+03  1e-06  5e-15\n",
      "51: -8.3555e+02  8.6944e+02  2e+03  1e-06  5e-15\n",
      "52: -7.0763e+02  1.2785e+03  2e+03  1e-06  5e-15\n",
      "53: -6.0046e+02  1.7099e+03  2e+03  1e-06  5e-15\n",
      "54: -4.9762e+02  2.2100e+03  2e+03  1e-06  5e-15\n",
      "55: -3.1204e+02  3.0094e+03  2e+03  1e-06  5e-15\n",
      "56: -7.6572e+01  4.0196e+03  3e+03  1e-06  5e-15\n",
      "57:  6.5425e+01  4.6799e+03  3e+03  9e-07  4e-15\n",
      "58:  4.1503e+02  6.1196e+03  3e+03  9e-07  4e-15\n",
      "59:  6.1359e+02  6.9263e+03  4e+03  8e-07  4e-15\n",
      "60:  1.0611e+03  8.6167e+03  4e+03  8e-07  4e-15\n",
      "61:  1.2538e+03  9.4426e+03  5e+03  8e-07  4e-15\n",
      "62:  1.9723e+03  1.1954e+04  5e+03  7e-07  4e-15\n",
      "63:  2.3781e+03  1.3345e+04  6e+03  7e-07  4e-15\n",
      "64:  3.3568e+03  1.6292e+04  7e+03  6e-07  4e-15\n",
      "65:  3.9160e+03  1.8097e+04  7e+03  6e-07  4e-15\n",
      "66:  4.9242e+03  2.0999e+04  8e+03  6e-07  4e-15\n",
      "67:  5.9751e+03  2.3920e+04  9e+03  5e-07  4e-15\n",
      "68:  7.3108e+03  2.7231e+04  1e+04  5e-07  4e-15\n",
      "69:  8.8843e+03  3.0894e+04  1e+04  5e-07  4e-15\n",
      "70:  1.0735e+04  3.4704e+04  1e+04  4e-07  4e-15\n",
      "71:  1.3240e+04  3.8893e+04  1e+04  4e-07  4e-15\n",
      "72:  1.5886e+04  4.2828e+04  2e+04  4e-07  5e-15\n",
      "73:  1.8899e+04  4.6829e+04  2e+04  3e-07  5e-15\n",
      "74:  2.2099e+04  5.0705e+04  2e+04  3e-07  5e-15\n",
      "75:  2.6012e+04  5.4673e+04  2e+04  3e-07  6e-15\n",
      "76:  3.0453e+04  5.8355e+04  2e+04  2e-07  6e-15\n",
      "77:  3.5277e+04  6.1831e+04  2e+04  2e-07  7e-15\n",
      "78:  4.0632e+04  6.4941e+04  2e+04  2e-07  9e-15\n",
      "79:  4.6457e+04  6.7655e+04  3e+04  2e-07  9e-15\n",
      "80:  5.1561e+04  6.9952e+04  3e+04  1e-07  1e-14\n",
      "81:  5.5625e+04  7.2024e+04  3e+04  1e-07  1e-14\n",
      "82:  5.9688e+04  7.3808e+04  3e+04  9e-08  1e-14\n",
      "83:  6.3979e+04  7.5364e+04  3e+04  8e-08  1e-14\n",
      "84:  6.7860e+04  7.6731e+04  3e+04  7e-08  1e-14\n",
      "85:  7.1312e+04  7.7909e+04  2e+04  6e-08  1e-14\n",
      "86:  7.4188e+04  7.8927e+04  2e+04  5e-08  2e-14\n",
      "87:  7.6641e+04  7.9810e+04  2e+04  4e-08  2e-14\n",
      "88:  7.9145e+04  8.0605e+04  2e+04  3e-08  2e-14\n",
      "89:  8.1512e+04  8.1321e+04  2e+04  3e-08  2e-14\n",
      "90:  8.3667e+04  8.1985e+04  2e+04  2e-08  2e-14\n",
      "91:  8.5635e+04  8.2647e+04  2e+04  2e-08  2e-14\n",
      "92:  8.7327e+04  8.3363e+04  2e+04  2e-08  2e-14\n",
      "93:  8.8627e+04  8.4122e+04  2e+04  1e-08  2e-14\n",
      "94:  8.9574e+04  8.4920e+04  1e+04  9e-09  2e-14\n",
      "95:  9.0216e+04  8.5745e+04  1e+04  7e-09  3e-14\n",
      "96:  9.0598e+04  8.6544e+04  1e+04  5e-09  3e-14\n",
      "97:  9.0809e+04  8.7239e+04  8e+03  4e-09  3e-14\n",
      "98:  9.0921e+04  8.7926e+04  7e+03  3e-09  3e-14\n",
      "99:  9.0959e+04  8.8651e+04  5e+03  2e-09  3e-14\n",
      "100:  9.0946e+04  8.9360e+04  3e+03  2e-09  2e-14\n",
      "Terminated (maximum number of iterations reached).\n",
      "Solution status not optimal: unknown\n",
      "using time:  1018.9427409172058\n",
      "8297.794367854769\n"
     ]
    }
   ],
   "source": [
    "recovered_vertices2=recover_vertices(mixing_weights_clip, vertices1, endmembers)\n",
    "print (E_RMS_kavan2010(vertices2, recovered_vertices2, scale))\n",
    "\n",
    "initials={'x': col_major(mixing_weights_clip.reshape((-1,len(endmembers)))).reshape((-1,1))}\n",
    "print (initials['x'].shape)\n",
    "\n",
    "start=time.time()\n",
    "\n",
    "res=run(mesh0, mesh1_list, weights, endmembers, mixing_weights.ravel(), grad_zero_indices, initials=initials, choice=\"vertices_error\")\n",
    "\n",
    "res=res.reshape(mixing_weights.shape)\n",
    "end=time.time()\n",
    "print(\"using time: \", end-start)\n",
    "\n",
    "recovered_vertices2=recover_vertices(res, vertices1, endmembers)\n",
    "print (E_RMS_kavan2010(vertices2, recovered_vertices2, scale))"
   ]
  },
  {
   "cell_type": "code",
   "execution_count": 8,
   "metadata": {},
   "outputs": [
    {
     "name": "stdout",
     "output_type": "stream",
     "text": [
      "[[ 0.0070222  -0.         -0.         -0.         -0.         -0.\n",
      "  -0.          0.99235704 -0.         -0.         -0.          0.00033769\n",
      "  -0.         -0.          0.         -0.         -0.         -0.\n",
      "   0.         -0.          0.00028307]\n",
      " [ 0.00704463 -0.         -0.         -0.         -0.         -0.\n",
      "  -0.          0.99233282 -0.         -0.         -0.          0.00033861\n",
      "  -0.         -0.          0.         -0.         -0.         -0.\n",
      "   0.         -0.          0.00028394]\n",
      " [ 0.00705673 -0.         -0.         -0.         -0.         -0.\n",
      "  -0.          0.99231879 -0.         -0.         -0.          0.00033977\n",
      "  -0.         -0.          0.         -0.         -0.         -0.\n",
      "   0.         -0.          0.00028472]]\n",
      "-2.6291902682773483e-18\n",
      "1.9461961401592693e-07\n"
     ]
    }
   ],
   "source": [
    "print (res.reshape((-1, len(endmembers)))[:3]) ### should have same zeros as initial input.\n",
    "print ((col_major(res)[grad_zero_indices]).sum()) ### should be zero\n",
    "print ((col_major(res)[grad_zero_indices]).max()) ### should be zero"
   ]
  },
  {
   "cell_type": "code",
   "execution_count": 9,
   "metadata": {},
   "outputs": [
    {
     "name": "stdout",
     "output_type": "stream",
     "text": [
      "1.4565267391041896e-32\n",
      "-7.12058257991052e-10 0.9993322057669456\n"
     ]
    }
   ],
   "source": [
    "print (((1-res.sum(axis=-1))**2).sum()/len(res))\n",
    "print (res.min(), res.max())"
   ]
  },
  {
   "cell_type": "code",
   "execution_count": 10,
   "metadata": {},
   "outputs": [
    {
     "name": "stdout",
     "output_type": "stream",
     "text": [
      "849650444.3042293\n"
     ]
    }
   ],
   "source": [
    "recover_diff= (res.dot(endmembers)-mixing_weights.dot(endmembers))\n",
    "recover_diff= (recover_diff**2).sum()\n",
    "print (recover_diff)"
   ]
  },
  {
   "cell_type": "code",
   "execution_count": 11,
   "metadata": {},
   "outputs": [],
   "source": [
    "# #### read gt per vertex transformation \n",
    "# groundtruth_names=glob.glob(\"./models/\"+exampleName+\"-all/\"+exampleName+\"-*.DMAT\")\n",
    "# print(groundtruth_names)\n",
    "\n",
    "# gt_all=None\n",
    "# for i in range(len(groundtruth_names)):\n",
    "#     gt=load_DMAT(groundtruth_names[i])\n",
    "#     gt=gt.T\n",
    "#     gt=gt.reshape((-1,4,3))\n",
    "#     gt=np.transpose(gt, (0,2,1)).reshape((-1,12))\n",
    "#     if gt_all is None:\n",
    "#         gt_all=gt\n",
    "#     else:\n",
    "#         gt_all=np.hstack((gt_all, gt))\n",
    "    \n",
    "# print(gt_all.shape)\n"
   ]
  },
  {
   "cell_type": "code",
   "execution_count": 12,
   "metadata": {},
   "outputs": [
    {
     "name": "stdout",
     "output_type": "stream",
     "text": [
      "['./models/wolf-all/wolf.DMAT']\n",
      "(5075, 21)\n",
      "5.575027928616619e-29\n"
     ]
    }
   ],
   "source": [
    "#### read gt per vertex mixing weights \n",
    "groundtruth_names=glob.glob(\"./models/\"+exampleName+\"-all/\"+exampleName+\".DMAT\")\n",
    "print(groundtruth_names)\n",
    "gt=load_DMAT(groundtruth_names[0])\n",
    "gt_mixing_weights=gt.T.copy()\n",
    "print (gt_mixing_weights.shape)\n",
    "\n",
    "print (((gt_mixing_weights.sum(axis=-1)-1)**2).sum())"
   ]
  },
  {
   "cell_type": "code",
   "execution_count": 13,
   "metadata": {},
   "outputs": [
    {
     "name": "stdout",
     "output_type": "stream",
     "text": [
      "['./models/wolf-all/poses-1/wolf-1.Tmat', './models/wolf-all/poses-1/wolf-2.Tmat', './models/wolf-all/poses-1/wolf-3.Tmat', './models/wolf-all/poses-1/wolf-4.Tmat', './models/wolf-all/poses-1/wolf-5.Tmat', './models/wolf-all/poses-1/wolf-6.Tmat']\n",
      "(21, 72)\n",
      "(6, 21, 12)\n",
      "[[1. 0. 0. 0.]\n",
      " [0. 1. 0. 0.]\n",
      " [0. 0. 1. 0.]]\n",
      "[[ 0.963816   0.259295   0.0618401  0.769371 ]\n",
      " [-0.215014   0.893333  -0.394619   1.05772  ]\n",
      " [-0.157567   0.367044   0.916761   2.30098  ]]\n",
      "[[1. 0. 0. 0.]\n",
      " [0. 1. 0. 0.]\n",
      " [0. 0. 1. 0.]]\n",
      "[[1. 0. 0. 0.]\n",
      " [0. 1. 0. 0.]\n",
      " [0. 0. 1. 0.]]\n",
      "[[1. 0. 0. 0.]\n",
      " [0. 1. 0. 0.]\n",
      " [0. 0. 1. 0.]]\n",
      "[[1. 0. 0. 0.]\n",
      " [0. 1. 0. 0.]\n",
      " [0. 0. 1. 0.]]\n",
      "[[ 0.99999966 -0.00000045 -0.00000019]\n",
      " [-0.00000045  0.99999904  0.00000028]\n",
      " [-0.00000019  0.00000028  0.99999908]]\n"
     ]
    }
   ],
   "source": [
    "### load groundtruth endmember\n",
    "groundtruth_names=glob.glob(\"./models/\"+exampleName+\"-all/\"+poses_folder+\"/\"+exampleName+\"-*.Tmat\")\n",
    "print(groundtruth_names)\n",
    "\n",
    "gt_handles=None\n",
    "for i in range(len(groundtruth_names)):\n",
    "    gt=load_Tmat(groundtruth_names[i])\n",
    "    gt=gt.reshape((-1,4,3))\n",
    "    gt=np.transpose(gt, (0,2,1)).reshape((-1,12))\n",
    "    if gt_handles is None:\n",
    "        gt_handles=gt\n",
    "    else:\n",
    "        gt_handles=np.hstack((gt_handles, gt))\n",
    "    \n",
    "print(gt_handles.shape)\n",
    "gt_handles=gt_handles.reshape(len(groundtruth_names), -1, 12)\n",
    "\n",
    "gt_handles=np.transpose(gt_handles.reshape(-1, len(groundtruth_names), 12), (1,0,2)) ### is this true?\n",
    "\n",
    "print(gt_handles.shape)\n",
    "\n",
    "for i in range(len(gt_handles)):\n",
    "    print (gt_handles[i][2].reshape((3,4)))\n",
    "\n",
    "test=gt_handles[1][2].reshape((3,4))[:,:3]\n",
    "print (test.T.dot(test))"
   ]
  },
  {
   "cell_type": "code",
   "execution_count": 14,
   "metadata": {},
   "outputs": [
    {
     "name": "stdout",
     "output_type": "stream",
     "text": [
      "4.370884\n"
     ]
    }
   ],
   "source": [
    "Vertices=vertices2[:,poses_ind*3:poses_ind*3+3]\n",
    "print (Vertices.max()) \n",
    "\n",
    "# ## use recovered vertices instead.\n",
    "# recovered_vertices2=recover_vertices(res2, vertices1, endmembers).reshape((len(vertices1),-1))\n",
    "# Vertices=recovered_vertices2[:,poses_ind*3:poses_ind*3+3]\n",
    "# print (Vertices.max())"
   ]
  },
  {
   "cell_type": "code",
   "execution_count": 19,
   "metadata": {},
   "outputs": [
    {
     "name": "stdout",
     "output_type": "stream",
     "text": [
      "[ 114.99831203   -0.00000068    0.09881087    0.00002178   -0.00000068\n",
      "    1.00112431    0.93834326 3419.61970791    1.32169375   -0.00000081\n",
      "    0.18410192    2.14685774 1530.88183922   -0.00000129    0.00000913\n",
      "    0.00000001    0.52942944   -0.00000085    0.00000232   -0.00000034\n",
      "    3.27975094]\n",
      "[[   14.12553996    -9.76827193    68.44383986]\n",
      " [   -0.00000002     0.0000003     -0.00000085]\n",
      " [    0.07467012    -0.15442368    -0.09883327]\n",
      " [   -0.00000182    -0.00002758    -0.00002378]\n",
      " [    0.00000002     0.00000022    -0.00000104]\n",
      " [    0.14001378    -0.24012559    -2.29365306]\n",
      " [    0.38259109    -0.69223847    -0.42439453]\n",
      " [  116.26444965  -916.95163943  5370.88972042]\n",
      " [    0.19458635    -1.5603663     -0.17317546]\n",
      " [   -0.00000001     0.00000042    -0.00000101]\n",
      " [   -0.01540853    -0.027064      -0.34523911]\n",
      " [    0.20751078    -0.1734099     -0.14548692]\n",
      " [  -33.65476872 -1845.20648681   474.51416589]\n",
      " [    0.00000001     0.00000104    -0.00000179]\n",
      " [    0.00000135    -0.00000966     0.0000129 ]\n",
      " [   -0.00000001    -0.00000035     0.00000019]\n",
      " [   -0.10092949    -0.57426199    -0.04756147]\n",
      " [   -0.00000002     0.00000047    -0.00000099]\n",
      " [    0.00000026    -0.00000274     0.00000396]\n",
      " [   -0.00000014    -0.00000038    -0.00000028]\n",
      " [   -0.60594687    -1.15604581     0.52283561]]\n",
      "[[  0.12283259  -0.08494274   0.59517256]\n",
      " [  0.02401587  -0.44758755   1.25128785]\n",
      " [  0.75568737  -1.56282078  -1.00022671]\n",
      " [ -0.08364887  -1.26633184  -1.09184615]\n",
      " [ -0.02655102  -0.31935126   1.52809943]\n",
      " [  0.13985654  -0.23985592  -2.29107717]\n",
      " [  0.40773042  -0.73772414  -0.45228068]\n",
      " [  0.03399923  -0.26814433   1.57061024]\n",
      " [  0.14722499  -1.18058083  -0.13102541]\n",
      " [  0.00660073  -0.5232031    1.24316729]\n",
      " [ -0.08369567  -0.1470055   -1.87526075]\n",
      " [  0.09665791  -0.08077382  -0.06776738]\n",
      " [ -0.02198391  -1.20532261   0.30996133]\n",
      " [ -0.00399491  -0.81099999   1.39204707]\n",
      " [  0.14726165  -1.05709202   1.41199467]\n",
      " [ -0.52801457 -25.14682082  13.41648596]\n",
      " [ -0.19063822  -1.08468088  -0.08983533]\n",
      " [  0.02002403  -0.54559326   1.16155125]\n",
      " [  0.11326403  -1.180724     1.70495428]\n",
      " [  0.40759236   1.11285582   0.81629724]\n",
      " [ -0.18475393  -0.35247976   0.15941321]]\n",
      "5.509244214889162e-18\n",
      "[ 114.99831205    0.            0.09881172    0.00002263    0.00000001\n",
      "    1.00112516    0.93834408 3419.61970793    1.3216946     0.\n",
      "    0.18410278    2.14685803 1530.88183977    0.            0.00000914\n",
      "    0.00000022    0.52943029    0.            0.00000237    0.00000017\n",
      "    3.27975095]\n",
      "[[   14.12553996    -9.76827195    68.44383988]\n",
      " [   -0.            -0.            -0.        ]\n",
      " [    0.07467014    -0.15442414    -0.09883227]\n",
      " [   -0.0000018     -0.00002803    -0.00002283]\n",
      " [    0.            -0.00000002    -0.00000001]\n",
      " [    0.1400138     -0.24012605    -2.29365204]\n",
      " [    0.3825911     -0.69223893    -0.42439354]\n",
      " [  116.26444966  -916.95163943  5370.88972041]\n",
      " [    0.19458637    -1.56036677    -0.17317447]\n",
      " [    0.            -0.            -0.        ]\n",
      " [   -0.01540852    -0.02706446    -0.34523811]\n",
      " [    0.20751076    -0.17341024    -0.14548687]\n",
      " [  -33.6547687  -1845.20648692   474.51416681]\n",
      " [    0.            -0.             0.        ]\n",
      " [    0.00000135    -0.00000966     0.0000129 ]\n",
      " [   -0.00000001    -0.00000042     0.00000034]\n",
      " [   -0.10092947    -0.57426246    -0.04756048]\n",
      " [    0.             0.             0.        ]\n",
      " [    0.00000027    -0.00000278     0.00000391]\n",
      " [   -0.00000009    -0.00000036     0.00000038]\n",
      " [   -0.60594687    -1.15604581     0.52283562]]\n",
      "[[  0.12283259  -0.08494274   0.59517256]\n",
      " [  0.02401587  -0.44758755   1.25128785]\n",
      " [  0.75568737  -1.56282078  -1.00022671]\n",
      " [ -0.08364887  -1.26633184  -1.09184615]\n",
      " [ -0.02655102  -0.31935126   1.52809943]\n",
      " [  0.13985654  -0.23985592  -2.29107717]\n",
      " [  0.40773042  -0.73772414  -0.45228068]\n",
      " [  0.03399923  -0.26814433   1.57061024]\n",
      " [  0.14722499  -1.18058083  -0.13102541]\n",
      " [  0.00660073  -0.5232031    1.24316729]\n",
      " [ -0.08369567  -0.1470055   -1.87526075]\n",
      " [  0.09665791  -0.08077382  -0.06776738]\n",
      " [ -0.02198391  -1.20532261   0.30996133]\n",
      " [ -0.00399491  -0.81099999   1.39204707]\n",
      " [  0.14726165  -1.05709202   1.41199467]\n",
      " [ -0.52801457 -25.14682082  13.41648596]\n",
      " [ -0.19063822  -1.08468088  -0.08983533]\n",
      " [  0.02002403  -0.54559326   1.16155125]\n",
      " [  0.11326403  -1.180724     1.70495428]\n",
      " [  0.40759236   1.11285582   0.81629724]\n",
      " [ -0.18475393  -0.35247976   0.15941321]]\n"
     ]
    }
   ],
   "source": [
    "print (res.sum(axis=0))\n",
    "print (res.T.dot(Vertices))\n",
    "print (res.T.dot(Vertices)/res.sum(axis=0)[...,np.newaxis])\n",
    "\n",
    "res2=res\n",
    "\n",
    "res2=res.clip(0,1) ### this is important, when estimate handle position later.\n",
    "print (((1-res2.sum(axis=-1))**2).sum()/len(res2))\n",
    "\n",
    "print (res2.sum(axis=0))\n",
    "print (res2.T.dot(Vertices))\n",
    "print (res.T.dot(Vertices)/res.sum(axis=0)[...,np.newaxis])\n"
   ]
  },
  {
   "cell_type": "code",
   "execution_count": 20,
   "metadata": {},
   "outputs": [
    {
     "name": "stdout",
     "output_type": "stream",
     "text": [
      "Using matplotlib backend: MacOSX\n"
     ]
    }
   ],
   "source": [
    "### plot handles corresponding to gt mixing weights, recovered mixing weights, and post-processed mixing weights.\n",
    "###\n",
    "\n",
    "eps=1e-30 ### avoid dividing by zero error\n",
    "\n",
    "gt_handle_position=gt_mixing_weights.T.dot(Vertices)/(gt_mixing_weights.T.sum(axis=-1)[...,np.newaxis]+eps)\n",
    "recovered_handle_position=mixing_weights.T.dot(Vertices)/(mixing_weights.T.sum(axis=-1)[...,np.newaxis]+eps)\n",
    "cliped_handle_position=mixing_weights_clip.T.dot(Vertices)/(mixing_weights_clip.T.sum(axis=-1)[...,np.newaxis]+eps)\n",
    "postprocessed_handle_position=res2.T.dot(Vertices)/(res2.T.sum(axis=-1)[...,np.newaxis]+eps)\n",
    "\n",
    "\n",
    "%matplotlib \n",
    "import matplotlib.pyplot as plt\n",
    "from mpl_toolkits.mplot3d import Axes3D\n",
    "\n",
    "fig= plt.figure()\n",
    "ax=fig.add_subplot(111, projection='3d')\n",
    "\n",
    "ax.scatter(gt_handle_position[:,0],gt_handle_position[:,1], gt_handle_position[:,2], c='k', s=50)\n",
    "ax.scatter(recovered_handle_position[:,0],recovered_handle_position[:,1], recovered_handle_position[:,2], c='r', s=50)\n",
    "# ax.scatter(cliped_handle_position[:,0],cliped_handle_position[:,1], cliped_handle_position[:,2], c='g', s=50)\n",
    "ax.scatter(postprocessed_handle_position[:,0],postprocessed_handle_position[:,1], postprocessed_handle_position[:,2], c='b', s=50)\n",
    "ax.scatter(Vertices[:,0],Vertices[:,1], Vertices[:,2], color='y', s=1, edgecolors='none')\n",
    "\n",
    "plt.show()"
   ]
  },
  {
   "cell_type": "code",
   "execution_count": null,
   "metadata": {},
   "outputs": [],
   "source": []
  },
  {
   "cell_type": "code",
   "execution_count": null,
   "metadata": {},
   "outputs": [],
   "source": []
  },
  {
   "cell_type": "code",
   "execution_count": null,
   "metadata": {},
   "outputs": [],
   "source": []
  },
  {
   "cell_type": "code",
   "execution_count": null,
   "metadata": {},
   "outputs": [],
   "source": []
  },
  {
   "cell_type": "code",
   "execution_count": null,
   "metadata": {},
   "outputs": [],
   "source": []
  },
  {
   "cell_type": "code",
   "execution_count": null,
   "metadata": {},
   "outputs": [],
   "source": []
  },
  {
   "cell_type": "code",
   "execution_count": null,
   "metadata": {},
   "outputs": [],
   "source": []
  }
 ],
 "metadata": {
  "kernelspec": {
   "display_name": "Python 3",
   "language": "python",
   "name": "python3"
  },
  "language_info": {
   "codemirror_mode": {
    "name": "ipython",
    "version": 3
   },
   "file_extension": ".py",
   "mimetype": "text/x-python",
   "name": "python",
   "nbconvert_exporter": "python",
   "pygments_lexer": "ipython3",
   "version": "3.6.5"
  }
 },
 "nbformat": 4,
 "nbformat_minor": 2
}
