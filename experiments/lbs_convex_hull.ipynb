{
 "cells": [
  {
   "cell_type": "code",
   "execution_count": 1,
   "metadata": {
    "collapsed": true
   },
   "outputs": [],
   "source": [
    "from __future__ import print_function, division"
   ]
  },
  {
   "cell_type": "code",
   "execution_count": 2,
   "metadata": {
    "collapsed": true
   },
   "outputs": [],
   "source": [
    "from numpy import *"
   ]
  },
  {
   "cell_type": "code",
   "execution_count": 3,
   "metadata": {
    "collapsed": true
   },
   "outputs": [],
   "source": [
    "import scipy.spatial"
   ]
  },
  {
   "cell_type": "code",
   "execution_count": 4,
   "metadata": {
    "collapsed": true
   },
   "outputs": [],
   "source": [
    "## Generate a random affine matrix\n",
    "def gen_random_affine():\n",
    "    return random.random( (3,4) )\n",
    "\n",
    "## Generate an affine identity matrix\n",
    "def gen_identity_affine():\n",
    "    return identity(4)[:3]"
   ]
  },
  {
   "cell_type": "code",
   "execution_count": 5,
   "metadata": {},
   "outputs": [
    {
     "name": "stdout",
     "output_type": "stream",
     "text": [
      "(2, 3, 3, 4)\n"
     ]
    }
   ],
   "source": [
    "## Let's create some poses. The first (0-th) pose will be the identity.\n",
    "num_handles = 2\n",
    "num_poses = 3\n",
    "\n",
    "poses_handles = []\n",
    "\n",
    "poses_handles.append( [ gen_identity_affine() for i in range(num_handles) ] )\n",
    "for pose in range( 1, num_poses ):\n",
    "    poses_handles.append( [ gen_random_affine() for i in range(num_handles) ] )\n",
    "\n",
    "## The dimensions of poses_handles are: #handles by #poses by affine 3x4 matrix\n",
    "poses_handles = asarray( poses_handles )\n",
    "poses_handles = swapaxes( poses_handles, 0, 1 )\n",
    "print( poses_handles.shape )"
   ]
  },
  {
   "cell_type": "code",
   "execution_count": 6,
   "metadata": {},
   "outputs": [],
   "source": [
    "## Let's create some per-vertex skinning weights. Each vertex has a weight for each handle.\n",
    "num_vertices = 100\n",
    "## Let's assume there are two handles and the weights will vary linearly from 0 to 1 (and vice versa).\n",
    "assert num_handles == 2\n",
    "weights = zeros( ( num_vertices, num_handles ) )\n",
    "weights[:,0] = linspace( 0, 1, num_vertices )\n",
    "weights[:,1] = 1-weights[:,0]\n",
    "\n",
    "## The dimensions of weights are #vertices by #handles.\n",
    "\n",
    "## The weights must sum to one. Otherwise, we should normalize them once.\n",
    "assert abs( weights.sum( axis = 1 ) - 1. < 1e-7 ).all()"
   ]
  },
  {
   "cell_type": "code",
   "execution_count": 7,
   "metadata": {},
   "outputs": [],
   "source": [
    "## The lbs() function generates the weighted average transformation.\n",
    "\n",
    "## For all poses at once.\n",
    "def lbs_all_poses( poses_handles, weights ):\n",
    "    ## The weights across handles must sum to one.\n",
    "    assert abs( weights.sum( axis = 1 ) - 1. < 1e-7 ).all()\n",
    "    \n",
    "    return ( weights[:,:,newaxis,newaxis,newaxis] * poses_handles[newaxis,...] ).sum( axis = 1 )\n",
    "\n",
    "## For one set of handles (e.g. one pose) at a time.\n",
    "def lbs_one_pose( handles, weights ):\n",
    "    return lbs_all_poses( handles[:,newaxis,...], weights )"
   ]
  },
  {
   "cell_type": "code",
   "execution_count": 8,
   "metadata": {
    "scrolled": true
   },
   "outputs": [
    {
     "data": {
      "text/plain": [
       "array([[[[ 1.,  0.,  0.,  0.],\n",
       "         [ 0.,  1.,  0.,  0.],\n",
       "         [ 0.,  0.,  1.,  0.]]],\n",
       "\n",
       "\n",
       "       [[[ 1.,  0.,  0.,  0.],\n",
       "         [ 0.,  1.,  0.,  0.],\n",
       "         [ 0.,  0.,  1.,  0.]]],\n",
       "\n",
       "\n",
       "       [[[ 1.,  0.,  0.,  0.],\n",
       "         [ 0.,  1.,  0.,  0.],\n",
       "         [ 0.,  0.,  1.,  0.]]],\n",
       "\n",
       "\n",
       "       ..., \n",
       "       [[[ 1.,  0.,  0.,  0.],\n",
       "         [ 0.,  1.,  0.,  0.],\n",
       "         [ 0.,  0.,  1.,  0.]]],\n",
       "\n",
       "\n",
       "       [[[ 1.,  0.,  0.,  0.],\n",
       "         [ 0.,  1.,  0.,  0.],\n",
       "         [ 0.,  0.,  1.,  0.]]],\n",
       "\n",
       "\n",
       "       [[[ 1.,  0.,  0.,  0.],\n",
       "         [ 0.,  1.,  0.,  0.],\n",
       "         [ 0.,  0.,  1.,  0.]]]])"
      ]
     },
     "execution_count": 8,
     "metadata": {},
     "output_type": "execute_result"
    }
   ],
   "source": [
    "## lbs_one_pose() on pose 0 should give us an identity matrix for every vertex.\n",
    "lbs_one_pose( poses_handles[:,0], weights )"
   ]
  },
  {
   "cell_type": "code",
   "execution_count": 9,
   "metadata": {
    "scrolled": true
   },
   "outputs": [],
   "source": [
    "pose = lbs_one_pose( poses_handles[:,2], weights )\n",
    "# hull = scipy.spatial.ConvexHull( pose.reshape( num_vertices, -1 ) )"
   ]
  },
  {
   "cell_type": "code",
   "execution_count": 10,
   "metadata": {
    "scrolled": true
   },
   "outputs": [],
   "source": [
    "poses = lbs_all_poses( poses_handles, weights )\n",
    "# hull = scipy.spatial.ConvexHull( poses.reshape( num_vertices, -1 ) )"
   ]
  },
  {
   "cell_type": "code",
   "execution_count": 11,
   "metadata": {},
   "outputs": [
    {
     "name": "stdout",
     "output_type": "stream",
     "text": [
      "(100, 3, 3, 4)\n",
      "(100, 36)\n"
     ]
    }
   ],
   "source": [
    "## What are the dimensions of our poses? It should be #verts by #poses by 3x4 affine matrix.\n",
    "print( poses.shape )\n",
    "## Flattened it should be #vertices by (#poses*3*4)\n",
    "X = poses.reshape( num_vertices, num_poses * 3 * 4 )\n",
    "print( X.shape )"
   ]
  },
  {
   "cell_type": "code",
   "execution_count": 12,
   "metadata": {},
   "outputs": [],
   "source": [
    "## Use SVD to get the lower dimensional space.\n",
    "## The number of non-zero singular values is the number of handles for perfect reconstruction.\n",
    "U, s, V = linalg.svd( X-average(X,axis=0)[newaxis,:], full_matrices = False, compute_uv = True )"
   ]
  },
  {
   "cell_type": "code",
   "execution_count": 13,
   "metadata": {},
   "outputs": [
    {
     "data": {
      "text/plain": [
       "array([ 5.9518,  0.    ,  0.    ,  0.    ,  0.    ,  0.    ,  0.    ,\n",
       "        0.    ,  0.    ,  0.    ,  0.    ,  0.    ,  0.    ,  0.    ,\n",
       "        0.    ,  0.    ,  0.    ,  0.    ,  0.    ,  0.    ,  0.    ,\n",
       "        0.    ,  0.    ,  0.    ,  0.    ,  0.    ,  0.    ,  0.    ,\n",
       "        0.    ,  0.    ,  0.    ,  0.    ,  0.    ,  0.    ,  0.    ,  0.    ])"
      ]
     },
     "execution_count": 13,
     "metadata": {},
     "output_type": "execute_result"
    }
   ],
   "source": [
    "## What are the singular values?\n",
    "s.round(4)"
   ]
  },
  {
   "cell_type": "code",
   "execution_count": 14,
   "metadata": {},
   "outputs": [
    {
     "data": {
      "text/plain": [
       "1"
      ]
     },
     "execution_count": 14,
     "metadata": {},
     "output_type": "execute_result"
    }
   ],
   "source": [
    "## Find the first index less than a threshold:\n",
    "len(s)-searchsorted( s[::-1], 1e-6 )"
   ]
  },
  {
   "cell_type": "code",
   "execution_count": 15,
   "metadata": {},
   "outputs": [
    {
     "data": {
      "text/plain": [
       "6.6613381477509392e-16"
      ]
     },
     "execution_count": 15,
     "metadata": {},
     "output_type": "execute_result"
    }
   ],
   "source": [
    "## SVD reconstructs the original data\n",
    "abs( X - (( U @ diag(s) @ V )+average(X,axis=0)[newaxis,:]) ).max()"
   ]
  },
  {
   "cell_type": "code",
   "execution_count": 16,
   "metadata": {},
   "outputs": [],
   "source": [
    "## Formalize the above with functions.\n",
    "def uncorrellated_pose_space( poses, threshold = 1e-6 ):\n",
    "    X = poses.reshape( num_vertices, num_poses * 3 * 4 )\n",
    "    \n",
    "    ## Subtract the average.\n",
    "    Xavg = average( X, axis = 0 )[newaxis,:]\n",
    "    Xp = X - Xavg\n",
    "    \n",
    "    U, s, V = linalg.svd( Xp, full_matrices = False, compute_uv = True )\n",
    "    \n",
    "    ## The first index less than threshold\n",
    "    stop_s = len(s) - searchsorted( s[::-1], threshold )\n",
    "    \n",
    "    def restore( uncorrellated_poses ):\n",
    "        return ( ( uncorrellated_poses @ V[:stop_s] ) + Xavg ).reshape( -1, num_poses, 3, 4 )\n",
    "    \n",
    "    return Xp @ V[:stop_s].T, restore"
   ]
  },
  {
   "cell_type": "code",
   "execution_count": 17,
   "metadata": {},
   "outputs": [
    {
     "name": "stdout",
     "output_type": "stream",
     "text": [
      "(100, 1)\n"
     ]
    },
    {
     "data": {
      "text/plain": [
       "5.5511151231257827e-16"
      ]
     },
     "execution_count": 17,
     "metadata": {},
     "output_type": "execute_result"
    }
   ],
   "source": [
    "## Vertify that we can go back and forth with these functions\n",
    "uncorrelated_poses, restore = uncorrellated_pose_space( poses )\n",
    "print( uncorrelated_poses.shape )\n",
    "abs( restore( uncorrelated_poses ) - poses ).max()"
   ]
  },
  {
   "cell_type": "code",
   "execution_count": 18,
   "metadata": {
    "scrolled": true
   },
   "outputs": [],
   "source": [
    "## Now let's use the convex hull on the uncorrelated poses.\n",
    "# hull = scipy.spatial.ConvexHull( uncorrelated_poses )"
   ]
  },
  {
   "cell_type": "code",
   "execution_count": 19,
   "metadata": {
    "scrolled": true
   },
   "outputs": [
    {
     "data": {
      "text/plain": [
       "array([[-1.02061681],\n",
       "       [-0.99999829],\n",
       "       [-0.97937977],\n",
       "       [-0.95876125],\n",
       "       [-0.93814273],\n",
       "       [-0.9175242 ],\n",
       "       [-0.89690568],\n",
       "       [-0.87628716],\n",
       "       [-0.85566864],\n",
       "       [-0.83505012],\n",
       "       [-0.8144316 ],\n",
       "       [-0.79381308],\n",
       "       [-0.77319455],\n",
       "       [-0.75257603],\n",
       "       [-0.73195751],\n",
       "       [-0.71133899],\n",
       "       [-0.69072047],\n",
       "       [-0.67010195],\n",
       "       [-0.64948343],\n",
       "       [-0.6288649 ],\n",
       "       [-0.60824638],\n",
       "       [-0.58762786],\n",
       "       [-0.56700934],\n",
       "       [-0.54639082],\n",
       "       [-0.5257723 ],\n",
       "       [-0.50515378],\n",
       "       [-0.48453525],\n",
       "       [-0.46391673],\n",
       "       [-0.44329821],\n",
       "       [-0.42267969],\n",
       "       [-0.40206117],\n",
       "       [-0.38144265],\n",
       "       [-0.36082413],\n",
       "       [-0.3402056 ],\n",
       "       [-0.31958708],\n",
       "       [-0.29896856],\n",
       "       [-0.27835004],\n",
       "       [-0.25773152],\n",
       "       [-0.237113  ],\n",
       "       [-0.21649448],\n",
       "       [-0.19587595],\n",
       "       [-0.17525743],\n",
       "       [-0.15463891],\n",
       "       [-0.13402039],\n",
       "       [-0.11340187],\n",
       "       [-0.09278335],\n",
       "       [-0.07216483],\n",
       "       [-0.0515463 ],\n",
       "       [-0.03092778],\n",
       "       [-0.01030926],\n",
       "       [ 0.01030926],\n",
       "       [ 0.03092778],\n",
       "       [ 0.0515463 ],\n",
       "       [ 0.07216483],\n",
       "       [ 0.09278335],\n",
       "       [ 0.11340187],\n",
       "       [ 0.13402039],\n",
       "       [ 0.15463891],\n",
       "       [ 0.17525743],\n",
       "       [ 0.19587595],\n",
       "       [ 0.21649448],\n",
       "       [ 0.237113  ],\n",
       "       [ 0.25773152],\n",
       "       [ 0.27835004],\n",
       "       [ 0.29896856],\n",
       "       [ 0.31958708],\n",
       "       [ 0.3402056 ],\n",
       "       [ 0.36082413],\n",
       "       [ 0.38144265],\n",
       "       [ 0.40206117],\n",
       "       [ 0.42267969],\n",
       "       [ 0.44329821],\n",
       "       [ 0.46391673],\n",
       "       [ 0.48453525],\n",
       "       [ 0.50515378],\n",
       "       [ 0.5257723 ],\n",
       "       [ 0.54639082],\n",
       "       [ 0.56700934],\n",
       "       [ 0.58762786],\n",
       "       [ 0.60824638],\n",
       "       [ 0.6288649 ],\n",
       "       [ 0.64948343],\n",
       "       [ 0.67010195],\n",
       "       [ 0.69072047],\n",
       "       [ 0.71133899],\n",
       "       [ 0.73195751],\n",
       "       [ 0.75257603],\n",
       "       [ 0.77319455],\n",
       "       [ 0.79381308],\n",
       "       [ 0.8144316 ],\n",
       "       [ 0.83505012],\n",
       "       [ 0.85566864],\n",
       "       [ 0.87628716],\n",
       "       [ 0.89690568],\n",
       "       [ 0.9175242 ],\n",
       "       [ 0.93814273],\n",
       "       [ 0.95876125],\n",
       "       [ 0.97937977],\n",
       "       [ 0.99999829],\n",
       "       [ 1.02061681]])"
      ]
     },
     "execution_count": 19,
     "metadata": {},
     "output_type": "execute_result"
    }
   ],
   "source": [
    "uncorrelated_poses"
   ]
  },
  {
   "cell_type": "code",
   "execution_count": 20,
   "metadata": {},
   "outputs": [],
   "source": [
    "import seaborn as sns\n",
    "import matplotlib.pyplot as plt\n",
    "%matplotlib inline"
   ]
  },
  {
   "cell_type": "code",
   "execution_count": 21,
   "metadata": {},
   "outputs": [
    {
     "ename": "IndexError",
     "evalue": "index 1 is out of bounds for axis 1 with size 1",
     "output_type": "error",
     "traceback": [
      "\u001b[0;31m---------------------------------------------------------------------------\u001b[0m",
      "\u001b[0;31mIndexError\u001b[0m                                Traceback (most recent call last)",
      "\u001b[0;32m<ipython-input-21-ce6326c82582>\u001b[0m in \u001b[0;36m<module>\u001b[0;34m()\u001b[0m\n\u001b[0;32m----> 1\u001b[0;31m \u001b[0msns\u001b[0m\u001b[0;34m.\u001b[0m\u001b[0mregplot\u001b[0m\u001b[0;34m(\u001b[0m \u001b[0mx\u001b[0m \u001b[0;34m=\u001b[0m \u001b[0muncorrelated_poses\u001b[0m\u001b[0;34m[\u001b[0m\u001b[0;34m:\u001b[0m\u001b[0;34m,\u001b[0m\u001b[0;36m0\u001b[0m\u001b[0;34m]\u001b[0m\u001b[0;34m,\u001b[0m \u001b[0my\u001b[0m \u001b[0;34m=\u001b[0m \u001b[0muncorrelated_poses\u001b[0m\u001b[0;34m[\u001b[0m\u001b[0;34m:\u001b[0m\u001b[0;34m,\u001b[0m\u001b[0;36m1\u001b[0m\u001b[0;34m]\u001b[0m\u001b[0;34m,\u001b[0m \u001b[0mfit_reg\u001b[0m\u001b[0;34m=\u001b[0m\u001b[0;32mFalse\u001b[0m \u001b[0;34m)\u001b[0m\u001b[0;34m\u001b[0m\u001b[0m\n\u001b[0m\u001b[1;32m      2\u001b[0m \u001b[0;31m# plt.scatter( x = uncorrelated_poses[:,0], y = uncorrelated_poses[:,1] )\u001b[0m\u001b[0;34m\u001b[0m\u001b[0;34m\u001b[0m\u001b[0m\n",
      "\u001b[0;31mIndexError\u001b[0m: index 1 is out of bounds for axis 1 with size 1"
     ]
    }
   ],
   "source": [
    "sns.regplot( x = uncorrelated_poses[:,0], y = uncorrelated_poses[:,1], fit_reg=False )\n",
    "# plt.scatter( x = uncorrelated_poses[:,0], y = uncorrelated_poses[:,1] )"
   ]
  },
  {
   "cell_type": "code",
   "execution_count": null,
   "metadata": {},
   "outputs": [],
   "source": [
    "pmin, pmax = uncorrelated_poses.argmin(), uncorrelated_poses.argmax()\n",
    "pmin, pmax"
   ]
  },
  {
   "cell_type": "code",
   "execution_count": null,
   "metadata": {},
   "outputs": [],
   "source": [
    "poses_handles_restored = restore( array( [ uncorrelated_poses[ pmin ], uncorrelated_poses[ pmax ] ] ) )\n",
    "print( poses_handles_restored.shape )\n",
    "poses_handles_restored"
   ]
  },
  {
   "cell_type": "code",
   "execution_count": null,
   "metadata": {},
   "outputs": [],
   "source": [
    "print( poses_handles.shape )\n",
    "poses_handles"
   ]
  },
  {
   "cell_type": "code",
   "execution_count": null,
   "metadata": {},
   "outputs": [],
   "source": [
    "abs( poses_handles_restored[0] - poses_handles[1] ).max()"
   ]
  },
  {
   "cell_type": "code",
   "execution_count": null,
   "metadata": {},
   "outputs": [],
   "source": [
    "abs( poses_handles_restored[1] - poses_handles[0] ).max()"
   ]
  },
  {
   "cell_type": "code",
   "execution_count": null,
   "metadata": {
    "collapsed": true
   },
   "outputs": [],
   "source": []
  }
 ],
 "metadata": {
  "kernelspec": {
   "display_name": "Python 3",
   "language": "python",
   "name": "python3"
  },
  "language_info": {
   "codemirror_mode": {
    "name": "ipython",
    "version": 3
   },
   "file_extension": ".py",
   "mimetype": "text/x-python",
   "name": "python",
   "nbconvert_exporter": "python",
   "pygments_lexer": "ipython3",
   "version": "3.5.1"
  }
 },
 "nbformat": 4,
 "nbformat_minor": 1
}
