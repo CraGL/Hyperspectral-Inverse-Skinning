{
 "cells": [
  {
   "cell_type": "code",
   "execution_count": 1,
   "metadata": {
    "collapsed": true
   },
   "outputs": [],
   "source": [
    "from __future__ import print_function, division"
   ]
  },
  {
   "cell_type": "code",
   "execution_count": 2,
   "metadata": {
    "collapsed": true
   },
   "outputs": [],
   "source": [
    "from numpy import *"
   ]
  },
  {
   "cell_type": "code",
   "execution_count": 3,
   "metadata": {
    "collapsed": true
   },
   "outputs": [],
   "source": [
    "import scipy.spatial"
   ]
  },
  {
   "cell_type": "code",
   "execution_count": 4,
   "metadata": {
    "collapsed": true
   },
   "outputs": [],
   "source": [
    "## Generate a random affine matrix\n",
    "def gen_random_affine():\n",
    "    return random.random( (3,4) )\n",
    "\n",
    "## Generate an affine identity matrix\n",
    "def gen_identity_affine():\n",
    "    return identity(4)[:3]"
   ]
  },
  {
   "cell_type": "code",
   "execution_count": 5,
   "metadata": {},
   "outputs": [
    {
     "name": "stdout",
     "output_type": "stream",
     "text": [
      "(4, 3, 3, 4)\n"
     ]
    }
   ],
   "source": [
    "## Let's create some poses. The first (0-th) pose will be the identity.\n",
    "num_handles = 4\n",
    "num_poses = 3\n",
    "\n",
    "poses_handles = []\n",
    "\n",
    "poses_handles.append( [ gen_identity_affine() for i in range(num_handles) ] )\n",
    "for pose in range( 1, num_poses ):\n",
    "    poses_handles.append( [ gen_random_affine() for i in range(num_handles) ] )\n",
    "\n",
    "## The dimensions of poses_handles are: #handles by #poses by affine 3x4 matrix\n",
    "poses_handles = asarray( poses_handles )\n",
    "poses_handles = swapaxes( poses_handles, 0, 1 )\n",
    "print( poses_handles.shape )"
   ]
  },
  {
   "cell_type": "code",
   "execution_count": 6,
   "metadata": {},
   "outputs": [
    {
     "name": "stdout",
     "output_type": "stream",
     "text": [
      "[[ 0.  0.  0.  1.]\n",
      " [ 0.  0.  1.  0.]\n",
      " [ 0.  1.  0.  0.]\n",
      " [ 1.  0.  0.  0.]]\n",
      "Maximum weight for each handle: [ 1.  1.  1.  1.]\n"
     ]
    }
   ],
   "source": [
    "## Let's create some per-vertex skinning weights. Each vertex has a weight for each handle.\n",
    "num_vertices = 100\n",
    "## Start with random weights\n",
    "weights = random.random( ( num_vertices, num_handles ) )\n",
    "## Make the weights sum to 1. For each successive weight, scale it by whatever is left.\n",
    "for h in range( 1, num_handles-1 ):\n",
    "    weights[:,h] *= (1 - weights[:,:h].sum(axis=1))\n",
    "## Make the last weight be whatever is left.\n",
    "weights[:,-1] = (1 - weights[:,:-1].sum(axis=1))\n",
    "\n",
    "## Overwrite the last num_handles vertices with binary vectors elements\n",
    "ensure_corners = True\n",
    "if ensure_corners:\n",
    "    for h in range( num_handles ):\n",
    "        weights[-(h+1)] = 0.\n",
    "        weights[-(h+1),h] = 1.\n",
    "    \n",
    "    print( weights[-num_handles:] )\n",
    "\n",
    "print( \"Maximum weight for each handle:\", weights.max( axis = 0 ) )\n",
    "\n",
    "## The dimensions of weights are #vertices by #handles.\n",
    "\n",
    "## The weights all be positive.\n",
    "assert weights.min() >= 0\n",
    "\n",
    "## The weights must sum to one. Otherwise, we should normalize them once.\n",
    "assert abs( weights.sum( axis = 1 ) - 1. < 1e-7 ).all()"
   ]
  },
  {
   "cell_type": "code",
   "execution_count": 7,
   "metadata": {},
   "outputs": [],
   "source": [
    "## The lbs() function generates the weighted average transformation.\n",
    "\n",
    "## For all poses at once.\n",
    "def lbs_all_poses( poses_handles, weights ):\n",
    "    ## The weights across handles must sum to one.\n",
    "    assert abs( weights.sum( axis = 1 ) - 1. < 1e-7 ).all()\n",
    "    \n",
    "    return ( weights[:,:,newaxis,newaxis,newaxis] * poses_handles[newaxis,...] ).sum( axis = 1 )\n",
    "\n",
    "## For one set of handles (e.g. one pose) at a time.\n",
    "def lbs_one_pose( handles, weights ):\n",
    "    return lbs_all_poses( handles[:,newaxis,...], weights )"
   ]
  },
  {
   "cell_type": "code",
   "execution_count": 8,
   "metadata": {
    "scrolled": true
   },
   "outputs": [
    {
     "data": {
      "text/plain": [
       "array([[[[ 1.,  0.,  0.,  0.],\n",
       "         [ 0.,  1.,  0.,  0.],\n",
       "         [ 0.,  0.,  1.,  0.]]],\n",
       "\n",
       "\n",
       "       [[[ 1.,  0.,  0.,  0.],\n",
       "         [ 0.,  1.,  0.,  0.],\n",
       "         [ 0.,  0.,  1.,  0.]]],\n",
       "\n",
       "\n",
       "       [[[ 1.,  0.,  0.,  0.],\n",
       "         [ 0.,  1.,  0.,  0.],\n",
       "         [ 0.,  0.,  1.,  0.]]],\n",
       "\n",
       "\n",
       "       ..., \n",
       "       [[[ 1.,  0.,  0.,  0.],\n",
       "         [ 0.,  1.,  0.,  0.],\n",
       "         [ 0.,  0.,  1.,  0.]]],\n",
       "\n",
       "\n",
       "       [[[ 1.,  0.,  0.,  0.],\n",
       "         [ 0.,  1.,  0.,  0.],\n",
       "         [ 0.,  0.,  1.,  0.]]],\n",
       "\n",
       "\n",
       "       [[[ 1.,  0.,  0.,  0.],\n",
       "         [ 0.,  1.,  0.,  0.],\n",
       "         [ 0.,  0.,  1.,  0.]]]])"
      ]
     },
     "execution_count": 8,
     "metadata": {},
     "output_type": "execute_result"
    }
   ],
   "source": [
    "## lbs_one_pose() on pose 0 should give us an identity matrix for every vertex.\n",
    "lbs_one_pose( poses_handles[:,0], weights )"
   ]
  },
  {
   "cell_type": "code",
   "execution_count": 9,
   "metadata": {
    "collapsed": true
   },
   "outputs": [],
   "source": [
    "poses = lbs_all_poses( poses_handles, weights )"
   ]
  },
  {
   "cell_type": "code",
   "execution_count": 10,
   "metadata": {
    "scrolled": true
   },
   "outputs": [],
   "source": [
    "## Doesn't work because it's in a linear subspace\n",
    "# pose = lbs_one_pose( poses_handles[:,2], weights )\n",
    "# hull = scipy.spatial.ConvexHull( pose.reshape( num_vertices, -1 ) )"
   ]
  },
  {
   "cell_type": "code",
   "execution_count": 11,
   "metadata": {
    "scrolled": true
   },
   "outputs": [],
   "source": [
    "## Doesn't work because it's in a linear subspace\n",
    "# hull = scipy.spatial.ConvexHull( poses.reshape( num_vertices, -1 ) )"
   ]
  },
  {
   "cell_type": "code",
   "execution_count": 12,
   "metadata": {},
   "outputs": [
    {
     "name": "stdout",
     "output_type": "stream",
     "text": [
      "(100, 3, 3, 4)\n",
      "(100, 36)\n"
     ]
    }
   ],
   "source": [
    "## What are the dimensions of our poses? It should be #verts by #poses by 3x4 affine matrix.\n",
    "print( poses.shape )\n",
    "## Flattened it should be #vertices by (#poses*3*4)\n",
    "X = poses.reshape( num_vertices, num_poses * 3 * 4 )\n",
    "print( X.shape )"
   ]
  },
  {
   "cell_type": "code",
   "execution_count": 13,
   "metadata": {},
   "outputs": [],
   "source": [
    "## Use SVD to get the lower dimensional space.\n",
    "## The number of non-zero singular values is the number of handles for perfect reconstruction.\n",
    "U, s, V = linalg.svd( X-average(X,axis=0)[newaxis,:], full_matrices = False, compute_uv = True )"
   ]
  },
  {
   "cell_type": "code",
   "execution_count": 14,
   "metadata": {},
   "outputs": [
    {
     "data": {
      "text/plain": [
       "array([ 4.2802,  3.072 ,  2.3298,  0.    ,  0.    ,  0.    ,  0.    ,\n",
       "        0.    ,  0.    ,  0.    ,  0.    ,  0.    ,  0.    ,  0.    ,\n",
       "        0.    ,  0.    ,  0.    ,  0.    ,  0.    ,  0.    ,  0.    ,\n",
       "        0.    ,  0.    ,  0.    ,  0.    ,  0.    ,  0.    ,  0.    ,\n",
       "        0.    ,  0.    ,  0.    ,  0.    ,  0.    ,  0.    ,  0.    ,  0.    ])"
      ]
     },
     "execution_count": 14,
     "metadata": {},
     "output_type": "execute_result"
    }
   ],
   "source": [
    "## What are the singular values?\n",
    "s.round(4)"
   ]
  },
  {
   "cell_type": "code",
   "execution_count": 15,
   "metadata": {},
   "outputs": [
    {
     "data": {
      "text/plain": [
       "3"
      ]
     },
     "execution_count": 15,
     "metadata": {},
     "output_type": "execute_result"
    }
   ],
   "source": [
    "## Find the first index less than a threshold:\n",
    "len(s)-searchsorted( s[::-1], 1e-6 )"
   ]
  },
  {
   "cell_type": "code",
   "execution_count": 16,
   "metadata": {},
   "outputs": [
    {
     "data": {
      "text/plain": [
       "6.106226635438361e-16"
      ]
     },
     "execution_count": 16,
     "metadata": {},
     "output_type": "execute_result"
    }
   ],
   "source": [
    "## SVD reconstructs the original data\n",
    "abs( X - (( U @ diag(s) @ V )+average(X,axis=0)[newaxis,:]) ).max()"
   ]
  },
  {
   "cell_type": "code",
   "execution_count": 17,
   "metadata": {},
   "outputs": [],
   "source": [
    "## Formalize the above with functions.\n",
    "def uncorrellated_pose_space( poses, threshold = 1e-6 ):\n",
    "    X = poses.reshape( num_vertices, num_poses * 3 * 4 )\n",
    "    \n",
    "    ## Subtract the average.\n",
    "    Xavg = average( X, axis = 0 )[newaxis,:]\n",
    "    Xp = X - Xavg\n",
    "    \n",
    "    U, s, V = linalg.svd( Xp, full_matrices = False, compute_uv = True )\n",
    "    \n",
    "    ## The first index less than threshold\n",
    "    stop_s = len(s) - searchsorted( s[::-1], threshold )\n",
    "    \n",
    "    def restore( uncorrellated_poses ):\n",
    "        return ( ( uncorrellated_poses @ V[:stop_s] ) + Xavg ).reshape( -1, num_poses, 3, 4 )\n",
    "    \n",
    "    return Xp @ V[:stop_s].T, restore"
   ]
  },
  {
   "cell_type": "code",
   "execution_count": 18,
   "metadata": {},
   "outputs": [
    {
     "name": "stdout",
     "output_type": "stream",
     "text": [
      "(100, 3)\n"
     ]
    },
    {
     "data": {
      "text/plain": [
       "6.6613381477509392e-16"
      ]
     },
     "execution_count": 18,
     "metadata": {},
     "output_type": "execute_result"
    }
   ],
   "source": [
    "## Vertify that we can go back and forth with these functions\n",
    "uncorrelated_poses, restore = uncorrellated_pose_space( poses )\n",
    "print( uncorrelated_poses.shape )\n",
    "abs( restore( uncorrelated_poses ) - poses ).max()"
   ]
  },
  {
   "cell_type": "code",
   "execution_count": 19,
   "metadata": {
    "scrolled": true
   },
   "outputs": [
    {
     "data": {
      "text/plain": [
       "array([[-0.39638115,  0.03788546, -0.1059153 ],\n",
       "       [ 0.19340268, -0.13301294,  0.04758523],\n",
       "       [ 0.61666752, -0.06286895,  0.88127594],\n",
       "       [-0.11641443,  0.1992854 , -0.03367275],\n",
       "       [-0.22364434,  0.09463676, -0.13508763],\n",
       "       [ 0.82127827,  0.16550535, -0.05823267],\n",
       "       [ 0.05742205, -0.41785488,  0.21688607],\n",
       "       [ 0.5498841 ,  0.05540272, -0.07345759],\n",
       "       [ 0.12114186,  0.12486178, -0.14240731],\n",
       "       [-0.01793153,  0.02889626, -0.1592491 ],\n",
       "       [ 0.34600728,  0.19088603,  0.05623336],\n",
       "       [ 0.172957  , -0.24029927,  0.18790088],\n",
       "       [-0.30368347,  0.09085669, -0.01155345],\n",
       "       [-0.21536088,  0.03047973,  0.36811391],\n",
       "       [ 0.22330151,  0.25350264, -0.17305519],\n",
       "       [-0.27330656, -0.98274899, -0.17795676],\n",
       "       [-0.46647074,  0.00689704, -0.02195907],\n",
       "       [-0.46046944,  0.23346185, -0.07741276],\n",
       "       [ 0.3215589 ,  0.08646158,  0.18639685],\n",
       "       [ 0.69180122,  0.0631264 , -0.08324361],\n",
       "       [-0.36770756,  0.1762138 ,  0.14775576],\n",
       "       [-0.30914602,  0.18235479,  0.29202922],\n",
       "       [-0.61033951,  0.29364109, -0.0452645 ],\n",
       "       [-0.40685186, -0.12049836, -0.04623812],\n",
       "       [-0.35270845, -0.84792003, -0.26040241],\n",
       "       [-0.350647  , -0.51432448, -0.06450121],\n",
       "       [ 0.30321818, -0.39062882,  0.28239587],\n",
       "       [-0.21990999,  0.23807283, -0.09547197],\n",
       "       [ 0.37274005, -0.27548874,  0.06499581],\n",
       "       [ 0.01279697,  0.22458853, -0.0127071 ],\n",
       "       [ 0.34491189,  0.18847621, -0.14618374],\n",
       "       [-0.12622567,  0.21776067, -0.12088463],\n",
       "       [ 0.61228974,  0.21290326, -0.19541689],\n",
       "       [-0.58262196,  0.27351369, -0.03976599],\n",
       "       [-0.1468039 ,  0.02659081,  0.16885362],\n",
       "       [ 0.18896525, -0.33295782,  0.31587774],\n",
       "       [-0.05944089,  0.21213447, -0.12956722],\n",
       "       [-0.38830489,  0.00694985,  0.08804956],\n",
       "       [-0.46259538,  0.05046207,  0.00314988],\n",
       "       [ 0.49871123, -0.01911807, -0.15864537],\n",
       "       [-0.49555255,  0.27896319, -0.04413679],\n",
       "       [-0.33345096, -0.00501897,  0.06912265],\n",
       "       [-0.54656982,  0.2807483 , -0.05388454],\n",
       "       [ 0.22809478, -0.16251035, -0.075087  ],\n",
       "       [-0.18905304,  0.17947146, -0.02066994],\n",
       "       [-0.14151052, -0.00856499, -0.01338201],\n",
       "       [ 0.17239643, -0.04463737, -0.12553912],\n",
       "       [ 0.65547424, -0.20864724, -0.29658608],\n",
       "       [-0.47839692,  0.21732404, -0.02290137],\n",
       "       [-0.52072521, -0.03026147, -0.03063022],\n",
       "       [ 0.36577052, -0.1038428 ,  0.32033982],\n",
       "       [-0.52005298,  0.27521278, -0.0566509 ],\n",
       "       [ 0.52816457,  0.17862114, -0.17453309],\n",
       "       [ 0.0295083 , -0.7493567 , -0.05848455],\n",
       "       [ 0.13019323, -0.58736181,  0.00790102],\n",
       "       [-0.52052973,  0.25394982, -0.02659213],\n",
       "       [ 0.52348779, -0.20346275,  0.124939  ],\n",
       "       [ 0.15407485, -0.07684276,  0.19694431],\n",
       "       [-0.21055026, -0.30319718,  0.19165682],\n",
       "       [-0.03179601, -0.61303245, -0.03504693],\n",
       "       [ 0.91163718,  0.18886701, -0.23133636],\n",
       "       [ 0.76531646,  0.10825239, -0.26454621],\n",
       "       [ 0.65037024,  0.21272803, -0.16460417],\n",
       "       [-0.38779835,  0.01478923,  0.038034  ],\n",
       "       [-0.61007045,  0.28576679, -0.02907299],\n",
       "       [-0.63375103,  0.24927733, -0.04478426],\n",
       "       [-0.21601285, -0.01434073, -0.1447866 ],\n",
       "       [ 0.47486988, -0.01431391,  0.37227742],\n",
       "       [-0.44693616,  0.28072923, -0.06650014],\n",
       "       [ 0.24918773, -0.17320818, -0.08124037],\n",
       "       [-0.26557361,  0.21417977,  0.13866618],\n",
       "       [-0.31808524, -0.43170275, -0.01450759],\n",
       "       [ 0.52510936,  0.03232593, -0.17298656],\n",
       "       [ 0.07481085,  0.18506587, -0.02106701],\n",
       "       [-0.18369902,  0.15750819,  0.35178592],\n",
       "       [ 0.86789327,  0.11654908, -0.13636778],\n",
       "       [ 0.22578099, -0.00181217,  0.69195371],\n",
       "       [-0.31646063,  0.15177318,  0.13565249],\n",
       "       [ 0.64831138,  0.22372668, -0.19420404],\n",
       "       [-0.40538635,  0.21127977,  0.05114644],\n",
       "       [-0.14847246,  0.16699817, -0.08666046],\n",
       "       [-0.14399133, -0.26785296, -0.14957727],\n",
       "       [ 0.48479515,  0.23569697, -0.19461368],\n",
       "       [-0.09325306, -0.32574141, -0.21933987],\n",
       "       [ 0.01209609,  0.19921809, -0.12272495],\n",
       "       [-0.21433244,  0.18439664, -0.11672304],\n",
       "       [-0.24661434, -0.14837074,  0.07657435],\n",
       "       [-0.35932905,  0.18587971,  0.26063636],\n",
       "       [-0.38723759,  0.24976838, -0.08548635],\n",
       "       [-0.20626882, -0.08990552,  0.20004255],\n",
       "       [-0.24834403, -0.48242431, -0.12819986],\n",
       "       [ 0.30873012,  0.19936299, -0.18924815],\n",
       "       [-0.17974611,  0.20033918, -0.11444391],\n",
       "       [ 0.42849248,  0.16902733, -0.21543838],\n",
       "       [ 0.87497743,  0.19858695, -0.21568824],\n",
       "       [-0.56439782,  0.24531448, -0.05462133],\n",
       "       [-0.29198462, -1.53797504, -0.40383018],\n",
       "       [ 0.56033466, -0.09461732,  1.26994375],\n",
       "       [ 1.06570505,  0.22334086, -0.29927076],\n",
       "       [-0.65173976,  0.29587652, -0.04086898]])"
      ]
     },
     "execution_count": 19,
     "metadata": {},
     "output_type": "execute_result"
    }
   ],
   "source": [
    "uncorrelated_poses"
   ]
  },
  {
   "cell_type": "code",
   "execution_count": 20,
   "metadata": {
    "scrolled": true
   },
   "outputs": [
    {
     "name": "stdout",
     "output_type": "stream",
     "text": [
      "4\n",
      "[96 97 98 99]\n"
     ]
    }
   ],
   "source": [
    "## Now let's use the convex hull on the uncorrelated poses.\n",
    "hull = scipy.spatial.ConvexHull( uncorrelated_poses )\n",
    "print( len( hull.vertices ) )\n",
    "print( hull.vertices )"
   ]
  },
  {
   "cell_type": "code",
   "execution_count": 21,
   "metadata": {
    "scrolled": true
   },
   "outputs": [
    {
     "name": "stdout",
     "output_type": "stream",
     "text": [
      "(4, 3, 3, 4)\n"
     ]
    },
    {
     "data": {
      "text/plain": [
       "array([[[[ 1.    ,  0.    ,  0.    , -0.    ],\n",
       "         [ 0.    ,  1.    ,  0.    ,  0.    ],\n",
       "         [ 0.    ,  0.    ,  1.    ,  0.    ]],\n",
       "\n",
       "        [[ 0.1618,  0.6628,  0.0279,  0.7518],\n",
       "         [ 0.4068,  0.5128,  0.7024,  0.0608],\n",
       "         [ 0.9883,  0.3409,  0.5049,  0.003 ]],\n",
       "\n",
       "        [[ 0.5488,  0.5334,  0.6492,  0.7641],\n",
       "         [ 0.5698,  0.1277,  0.9963,  0.72  ],\n",
       "         [ 0.3122,  0.4389,  0.0477,  0.7558]]],\n",
       "\n",
       "\n",
       "       [[[ 1.    ,  0.    ,  0.    ,  0.    ],\n",
       "         [ 0.    ,  1.    ,  0.    ,  0.    ],\n",
       "         [ 0.    ,  0.    ,  1.    ,  0.    ]],\n",
       "\n",
       "        [[ 0.9466,  0.0022,  0.9126,  0.3161],\n",
       "         [ 0.8186,  0.2353,  0.5777,  0.3695],\n",
       "         [ 0.8214,  0.5324,  0.3489,  0.7171]],\n",
       "\n",
       "        [[ 0.5099,  0.1697,  0.8957,  0.3783],\n",
       "         [ 0.151 ,  0.6171,  0.1714,  0.858 ],\n",
       "         [ 0.6432,  0.9361,  0.9321,  0.9387]]],\n",
       "\n",
       "\n",
       "       [[[ 1.    ,  0.    ,  0.    ,  0.    ],\n",
       "         [ 0.    ,  1.    ,  0.    ,  0.    ],\n",
       "         [ 0.    ,  0.    ,  1.    ,  0.    ]],\n",
       "\n",
       "        [[ 0.8281,  0.1731,  0.9307,  0.7143],\n",
       "         [ 0.8075,  0.5421,  0.1113,  0.0481],\n",
       "         [ 0.1406,  0.3344,  0.1862,  0.5403]],\n",
       "\n",
       "        [[ 0.7812,  0.2005,  0.8796,  0.4229],\n",
       "         [ 0.0741,  0.8449,  0.8022,  0.2756],\n",
       "         [ 0.762 ,  0.3117,  0.5186,  0.4977]]],\n",
       "\n",
       "\n",
       "       [[[ 1.    , -0.    ,  0.    ,  0.    ],\n",
       "         [ 0.    ,  1.    ,  0.    ,  0.    ],\n",
       "         [ 0.    ,  0.    ,  1.    ,  0.    ]],\n",
       "\n",
       "        [[ 0.566 ,  0.0338,  0.2541,  0.278 ],\n",
       "         [ 0.7045,  0.0353,  0.2248,  0.025 ],\n",
       "         [ 0.2414,  0.7845,  0.1249,  0.3859]],\n",
       "\n",
       "        [[ 0.0439,  0.2091,  0.5741,  0.8275],\n",
       "         [ 0.3508,  0.2868,  0.5645,  0.9476],\n",
       "         [ 0.7706,  0.3726,  0.3587,  0.3026]]]])"
      ]
     },
     "execution_count": 21,
     "metadata": {},
     "output_type": "execute_result"
    }
   ],
   "source": [
    "poses_handles_restored = restore( uncorrelated_poses[ hull.vertices ] )\n",
    "print( poses_handles_restored.shape )\n",
    "poses_handles_restored.round(4)"
   ]
  },
  {
   "cell_type": "code",
   "execution_count": 22,
   "metadata": {
    "scrolled": true
   },
   "outputs": [
    {
     "name": "stdout",
     "output_type": "stream",
     "text": [
      "(4, 3, 3, 4)\n"
     ]
    },
    {
     "data": {
      "text/plain": [
       "array([[[[ 1.        ,  0.        ,  0.        ,  0.        ],\n",
       "         [ 0.        ,  1.        ,  0.        ,  0.        ],\n",
       "         [ 0.        ,  0.        ,  1.        ,  0.        ]],\n",
       "\n",
       "        [[ 0.56603496,  0.0338491 ,  0.25409268,  0.27796005],\n",
       "         [ 0.70453787,  0.03534301,  0.22477817,  0.02495022],\n",
       "         [ 0.24143388,  0.78449893,  0.12492566,  0.38591782]],\n",
       "\n",
       "        [[ 0.04387591,  0.20914108,  0.5740765 ,  0.82752929],\n",
       "         [ 0.35078339,  0.28681667,  0.56446772,  0.94757487],\n",
       "         [ 0.77064615,  0.37257277,  0.35870931,  0.3025911 ]]],\n",
       "\n",
       "\n",
       "       [[[ 1.        ,  0.        ,  0.        ,  0.        ],\n",
       "         [ 0.        ,  1.        ,  0.        ,  0.        ],\n",
       "         [ 0.        ,  0.        ,  1.        ,  0.        ]],\n",
       "\n",
       "        [[ 0.82810258,  0.17313714,  0.93067704,  0.71426722],\n",
       "         [ 0.80752166,  0.5420642 ,  0.11125642,  0.04806   ],\n",
       "         [ 0.14056286,  0.33436254,  0.18624416,  0.54033129]],\n",
       "\n",
       "        [[ 0.78117757,  0.20053239,  0.8795767 ,  0.42288173],\n",
       "         [ 0.07408959,  0.84485988,  0.80219556,  0.27558737],\n",
       "         [ 0.76200977,  0.31174754,  0.51863055,  0.49774169]]],\n",
       "\n",
       "\n",
       "       [[[ 1.        ,  0.        ,  0.        ,  0.        ],\n",
       "         [ 0.        ,  1.        ,  0.        ,  0.        ],\n",
       "         [ 0.        ,  0.        ,  1.        ,  0.        ]],\n",
       "\n",
       "        [[ 0.94664261,  0.00222753,  0.91263923,  0.31610183],\n",
       "         [ 0.81862303,  0.23528484,  0.57774675,  0.36950043],\n",
       "         [ 0.82143547,  0.53242099,  0.3488986 ,  0.71710257]],\n",
       "\n",
       "        [[ 0.50990406,  0.16967174,  0.89565201,  0.37826315],\n",
       "         [ 0.15101347,  0.61705865,  0.17135793,  0.85800024],\n",
       "         [ 0.64316473,  0.9361114 ,  0.93206316,  0.93873074]]],\n",
       "\n",
       "\n",
       "       [[[ 1.        ,  0.        ,  0.        ,  0.        ],\n",
       "         [ 0.        ,  1.        ,  0.        ,  0.        ],\n",
       "         [ 0.        ,  0.        ,  1.        ,  0.        ]],\n",
       "\n",
       "        [[ 0.16184447,  0.66280197,  0.02788307,  0.75179451],\n",
       "         [ 0.40677716,  0.51279783,  0.70237428,  0.06079621],\n",
       "         [ 0.988295  ,  0.3409275 ,  0.50485191,  0.0030195 ]],\n",
       "\n",
       "        [[ 0.54880785,  0.53344312,  0.64920554,  0.76407392],\n",
       "         [ 0.56984067,  0.12770882,  0.9962933 ,  0.7200359 ],\n",
       "         [ 0.31219021,  0.43889619,  0.04772659,  0.75577555]]]])"
      ]
     },
     "execution_count": 22,
     "metadata": {},
     "output_type": "execute_result"
    }
   ],
   "source": [
    "print( poses_handles.shape )\n",
    "poses_handles"
   ]
  },
  {
   "cell_type": "code",
   "execution_count": 23,
   "metadata": {},
   "outputs": [
    {
     "name": "stdout",
     "output_type": "stream",
     "text": [
      "Original data index 0 best matches restored data index 3 with error 3.71808157845e-15\n",
      "Original data index 1 best matches restored data index 2 with error 4.55818398924e-15\n",
      "Original data index 2 best matches restored data index 1 with error 4.05897861518e-15\n",
      "Original data index 3 best matches restored data index 0 with error 3.93755438216e-15\n"
     ]
    }
   ],
   "source": [
    "## Find the closest handle in the original data, pose_handles, to the restored data.\n",
    "for i, handles in enumerate( poses_handles ):\n",
    "    diffs = ( abs( poses_handles_restored - handles[newaxis,...] ).reshape( poses_handles_restored.shape[0], -1 ).sum( axis = 1 ) )\n",
    "    print( \"Original data index\", i, \"best matches restored data index\", diffs.argmin(), \"with error\", diffs.min() )"
   ]
  },
  {
   "cell_type": "code",
   "execution_count": 24,
   "metadata": {},
   "outputs": [
    {
     "name": "stdout",
     "output_type": "stream",
     "text": [
      "Restored data index 0 best matches original data index 3 with error 3.93755438216e-15\n",
      "Restored data index 1 best matches original data index 2 with error 4.05897861518e-15\n",
      "Restored data index 2 best matches original data index 1 with error 4.55818398924e-15\n",
      "Restored data index 3 best matches original data index 0 with error 3.71808157845e-15\n"
     ]
    }
   ],
   "source": [
    "## Find the closest handle in the restored data to the original pose_handles.\n",
    "for i, handles in enumerate( poses_handles_restored ):\n",
    "    diffs = ( abs( poses_handles - handles[newaxis,...] ).reshape( poses_handles.shape[0], -1 ).sum( axis = 1 ) )\n",
    "    print( \"Restored data index\", i, \"best matches original data index\", diffs.argmin(), \"with error\", diffs.min() )"
   ]
  },
  {
   "cell_type": "code",
   "execution_count": 25,
   "metadata": {},
   "outputs": [],
   "source": [
    "## Plotting in 3D. This only works because PCA found our data was in 3D.\n",
    "%matplotlib tk\n",
    "from mpl_toolkits.mplot3d import Axes3D\n",
    "import matplotlib.pyplot as plt\n",
    "import numpy as np\n",
    "\n",
    "fig = plt.figure()\n",
    "ax = fig.add_subplot(111, projection='3d')\n",
    "ax.scatter(*uncorrelated_poses.T)\n",
    "plt.show()"
   ]
  },
  {
   "cell_type": "code",
   "execution_count": null,
   "metadata": {},
   "outputs": [],
   "source": []
  },
  {
   "cell_type": "code",
   "execution_count": null,
   "metadata": {
    "collapsed": true
   },
   "outputs": [],
   "source": []
  }
 ],
 "metadata": {
  "kernelspec": {
   "display_name": "Python 3",
   "language": "python",
   "name": "python3"
  },
  "language_info": {
   "codemirror_mode": {
    "name": "ipython",
    "version": 3
   },
   "file_extension": ".py",
   "mimetype": "text/x-python",
   "name": "python",
   "nbconvert_exporter": "python",
   "pygments_lexer": "ipython3",
   "version": "3.5.1"
  }
 },
 "nbformat": 4,
 "nbformat_minor": 1
}
