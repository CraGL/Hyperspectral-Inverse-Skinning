{
 "cells": [
  {
   "cell_type": "code",
   "execution_count": 1,
   "metadata": {
    "collapsed": true
   },
   "outputs": [],
   "source": [
    "from __future__ import print_function, division"
   ]
  },
  {
   "cell_type": "code",
   "execution_count": 2,
   "metadata": {
    "collapsed": true
   },
   "outputs": [],
   "source": [
    "from numpy import *"
   ]
  },
  {
   "cell_type": "code",
   "execution_count": 3,
   "metadata": {
    "collapsed": true
   },
   "outputs": [],
   "source": [
    "import scipy.spatial"
   ]
  },
  {
   "cell_type": "code",
   "execution_count": 4,
   "metadata": {
    "collapsed": true
   },
   "outputs": [],
   "source": [
    "## Generate a random affine matrix\n",
    "def gen_random_affine():\n",
    "    return random.random( (3,4) )\n",
    "\n",
    "## Generate an affine identity matrix\n",
    "def gen_identity_affine():\n",
    "    return identity(4)[:3]"
   ]
  },
  {
   "cell_type": "code",
   "execution_count": 5,
   "metadata": {},
   "outputs": [
    {
     "name": "stdout",
     "output_type": "stream",
     "text": [
      "(4, 3, 3, 4)\n"
     ]
    }
   ],
   "source": [
    "## Let's create some poses. The first (0-th) pose will be the identity.\n",
    "num_handles = 4\n",
    "num_poses = 3\n",
    "\n",
    "poses_handles = []\n",
    "\n",
    "poses_handles.append( [ gen_identity_affine() for i in range(num_handles) ] )\n",
    "for pose in range( 1, num_poses ):\n",
    "    poses_handles.append( [ gen_random_affine() for i in range(num_handles) ] )\n",
    "\n",
    "## The dimensions of poses_handles are: #handles by #poses by affine 3x4 matrix\n",
    "poses_handles = asarray( poses_handles )\n",
    "poses_handles = swapaxes( poses_handles, 0, 1 )\n",
    "print( poses_handles.shape )"
   ]
  },
  {
   "cell_type": "code",
   "execution_count": 6,
   "metadata": {},
   "outputs": [
    {
     "name": "stdout",
     "output_type": "stream",
     "text": [
      "[[ 0.  0.  0.  1.]\n",
      " [ 0.  0.  1.  0.]\n",
      " [ 0.  1.  0.  0.]\n",
      " [ 1.  0.  0.  0.]]\n",
      "Maximum weight for each handle: [ 1.  1.  1.  1.]\n"
     ]
    }
   ],
   "source": [
    "## Let's create some per-vertex skinning weights. Each vertex has a weight for each handle.\n",
    "num_vertices = 100\n",
    "## Start with random weights\n",
    "weights = random.random( ( num_vertices, num_handles ) )\n",
    "## Make the weights sum to 1. For each successive weight, scale it by whatever is left.\n",
    "for h in range( 1, num_handles-1 ):\n",
    "    weights[:,h] *= (1 - weights[:,:h].sum(axis=1))\n",
    "## Make the last weight be whatever is left.\n",
    "weights[:,-1] = (1 - weights[:,:-1].sum(axis=1))\n",
    "\n",
    "## Overwrite the last num_handles vertices with binary vectors elements\n",
    "ensure_corners = True\n",
    "if ensure_corners:\n",
    "    for h in range( num_handles ):\n",
    "        weights[-(h+1)] = 0.\n",
    "        weights[-(h+1),h] = 1.\n",
    "    \n",
    "    print( weights[-num_handles:] )\n",
    "\n",
    "print( \"Maximum weight for each handle:\", weights.max( axis = 0 ) )\n",
    "\n",
    "## The dimensions of weights are #vertices by #handles.\n",
    "\n",
    "## The weights all be positive.\n",
    "assert weights.min() >= 0\n",
    "\n",
    "## The weights must sum to one. Otherwise, we should normalize them once.\n",
    "assert abs( weights.sum( axis = 1 ) - 1. < 1e-7 ).all()"
   ]
  },
  {
   "cell_type": "code",
   "execution_count": 7,
   "metadata": {
    "collapsed": true
   },
   "outputs": [],
   "source": [
    "## The lbs() function generates the weighted average transformation.\n",
    "\n",
    "## For all poses at once.\n",
    "def lbs_all_poses( poses_handles, weights ):\n",
    "    ## The weights across handles must sum to one.\n",
    "    assert abs( weights.sum( axis = 1 ) - 1. < 1e-7 ).all()\n",
    "    \n",
    "    return ( weights[:,:,newaxis,newaxis,newaxis] * poses_handles[newaxis,...] ).sum( axis = 1 )\n",
    "\n",
    "## For one set of handles (e.g. one pose) at a time.\n",
    "def lbs_one_pose( handles, weights ):\n",
    "    return lbs_all_poses( handles[:,newaxis,...], weights )"
   ]
  },
  {
   "cell_type": "code",
   "execution_count": 8,
   "metadata": {
    "scrolled": true
   },
   "outputs": [
    {
     "data": {
      "text/plain": [
       "array([[[[ 1.,  0.,  0.,  0.],\n",
       "         [ 0.,  1.,  0.,  0.],\n",
       "         [ 0.,  0.,  1.,  0.]]],\n",
       "\n",
       "\n",
       "       [[[ 1.,  0.,  0.,  0.],\n",
       "         [ 0.,  1.,  0.,  0.],\n",
       "         [ 0.,  0.,  1.,  0.]]],\n",
       "\n",
       "\n",
       "       [[[ 1.,  0.,  0.,  0.],\n",
       "         [ 0.,  1.,  0.,  0.],\n",
       "         [ 0.,  0.,  1.,  0.]]],\n",
       "\n",
       "\n",
       "       ..., \n",
       "       [[[ 1.,  0.,  0.,  0.],\n",
       "         [ 0.,  1.,  0.,  0.],\n",
       "         [ 0.,  0.,  1.,  0.]]],\n",
       "\n",
       "\n",
       "       [[[ 1.,  0.,  0.,  0.],\n",
       "         [ 0.,  1.,  0.,  0.],\n",
       "         [ 0.,  0.,  1.,  0.]]],\n",
       "\n",
       "\n",
       "       [[[ 1.,  0.,  0.,  0.],\n",
       "         [ 0.,  1.,  0.,  0.],\n",
       "         [ 0.,  0.,  1.,  0.]]]])"
      ]
     },
     "execution_count": 8,
     "metadata": {},
     "output_type": "execute_result"
    }
   ],
   "source": [
    "## lbs_one_pose() on pose 0 should give us an identity matrix for every vertex.\n",
    "lbs_one_pose( poses_handles[:,0], weights )"
   ]
  },
  {
   "cell_type": "code",
   "execution_count": 9,
   "metadata": {
    "collapsed": true
   },
   "outputs": [],
   "source": [
    "poses = lbs_all_poses( poses_handles, weights )"
   ]
  },
  {
   "cell_type": "code",
   "execution_count": 10,
   "metadata": {
    "collapsed": true,
    "scrolled": true
   },
   "outputs": [],
   "source": [
    "## Doesn't work because it's in a linear subspace\n",
    "# pose = lbs_one_pose( poses_handles[:,2], weights )\n",
    "# hull = scipy.spatial.ConvexHull( pose.reshape( num_vertices, -1 ) )"
   ]
  },
  {
   "cell_type": "code",
   "execution_count": 11,
   "metadata": {
    "collapsed": true,
    "scrolled": true
   },
   "outputs": [],
   "source": [
    "## Doesn't work because it's in a linear subspace\n",
    "# hull = scipy.spatial.ConvexHull( poses.reshape( num_vertices, -1 ) )"
   ]
  },
  {
   "cell_type": "code",
   "execution_count": 12,
   "metadata": {},
   "outputs": [
    {
     "name": "stdout",
     "output_type": "stream",
     "text": [
      "(100, 3, 3, 4)\n",
      "(100, 36)\n"
     ]
    }
   ],
   "source": [
    "## What are the dimensions of our poses? It should be #verts by #poses by 3x4 affine matrix.\n",
    "print( poses.shape )\n",
    "## Flattened it should be #vertices by (#poses*3*4)\n",
    "X = poses.reshape( num_vertices, num_poses * 3 * 4 )\n",
    "print( X.shape )"
   ]
  },
  {
   "cell_type": "code",
   "execution_count": 13,
   "metadata": {
    "collapsed": true
   },
   "outputs": [],
   "source": [
    "## Use SVD to get the lower dimensional space.\n",
    "## The number of non-zero singular values is the number of handles for perfect reconstruction.\n",
    "U, s, V = linalg.svd( X-average(X,axis=0)[newaxis,:], full_matrices = False, compute_uv = True )"
   ]
  },
  {
   "cell_type": "code",
   "execution_count": 14,
   "metadata": {},
   "outputs": [
    {
     "data": {
      "text/plain": [
       "array([ 4.0275,  2.5605,  2.3376,  0.    ,  0.    ,  0.    ,  0.    ,\n",
       "        0.    ,  0.    ,  0.    ,  0.    ,  0.    ,  0.    ,  0.    ,\n",
       "        0.    ,  0.    ,  0.    ,  0.    ,  0.    ,  0.    ,  0.    ,\n",
       "        0.    ,  0.    ,  0.    ,  0.    ,  0.    ,  0.    ,  0.    ,\n",
       "        0.    ,  0.    ,  0.    ,  0.    ,  0.    ,  0.    ,  0.    ,  0.    ])"
      ]
     },
     "execution_count": 14,
     "metadata": {},
     "output_type": "execute_result"
    }
   ],
   "source": [
    "## What are the singular values?\n",
    "s.round(4)"
   ]
  },
  {
   "cell_type": "code",
   "execution_count": 15,
   "metadata": {},
   "outputs": [
    {
     "data": {
      "text/plain": [
       "3"
      ]
     },
     "execution_count": 15,
     "metadata": {},
     "output_type": "execute_result"
    }
   ],
   "source": [
    "## Find the first index less than a threshold:\n",
    "len(s)-searchsorted( s[::-1], 1e-6 )"
   ]
  },
  {
   "cell_type": "code",
   "execution_count": 16,
   "metadata": {},
   "outputs": [
    {
     "data": {
      "text/plain": [
       "4.4408920985006262e-16"
      ]
     },
     "execution_count": 16,
     "metadata": {},
     "output_type": "execute_result"
    }
   ],
   "source": [
    "## SVD reconstructs the original data\n",
    "abs( X - (( U @ diag(s) @ V )+average(X,axis=0)[newaxis,:]) ).max()"
   ]
  },
  {
   "cell_type": "code",
   "execution_count": 28,
   "metadata": {
    "collapsed": true
   },
   "outputs": [],
   "source": [
    "## Formalize the above with functions.\n",
    "def uncorrellated_pose_space( poses, threshold = 1e-6 ):\n",
    "    X = poses.reshape( num_vertices, num_poses * 3 * 4 )\n",
    "    \n",
    "    ## Subtract the average.\n",
    "    Xavg = average( X, axis = 0 )[newaxis,:]\n",
    "    Xp = X - Xavg\n",
    "\n",
    "    U, s, V = linalg.svd( Xp, full_matrices = False, compute_uv = True )\n",
    "    \n",
    "    ## The first index less than threshold\n",
    "    stop_s = len(s) - searchsorted( s[::-1], threshold )\n",
    "    \n",
    "    def restore( uncorrellated_poses ):\n",
    "        return ( ( uncorrellated_poses @ V[:stop_s] ) + Xavg ).reshape( -1, num_poses, 3, 4 )\n",
    "    \n",
    "    return Xp @ V[:stop_s].T, restore"
   ]
  },
  {
   "cell_type": "code",
   "execution_count": 29,
   "metadata": {},
   "outputs": [
    {
     "name": "stdout",
     "output_type": "stream",
     "text": [
      "(100, 3)\n",
      "(1, 36)\n"
     ]
    },
    {
     "data": {
      "text/plain": [
       "5.5511151231257827e-16"
      ]
     },
     "execution_count": 29,
     "metadata": {},
     "output_type": "execute_result"
    }
   ],
   "source": [
    "## Vertify that we can go back and forth with these functions\n",
    "uncorrelated_poses, restore = uncorrellated_pose_space( poses )\n",
    "print( uncorrelated_poses.shape )\n",
    "abs( restore( uncorrelated_poses ) - poses ).max()"
   ]
  },
  {
   "cell_type": "code",
   "execution_count": 19,
   "metadata": {
    "scrolled": true
   },
   "outputs": [
    {
     "data": {
      "text/plain": [
       "array([[  6.11219111e-01,  -4.36293510e-02,   8.42526228e-02],\n",
       "       [  1.61388431e-01,  -2.40742765e-01,   1.36475133e-01],\n",
       "       [ -6.67196562e-02,  -2.41144317e-01,   8.28379613e-02],\n",
       "       [ -3.53409674e-01,  -1.03541931e-01,  -3.71754116e-02],\n",
       "       [ -5.37167419e-01,  -8.75356693e-02,  -3.67364266e-02],\n",
       "       [  6.11985323e-01,  -6.94840607e-02,   9.42488749e-02],\n",
       "       [ -7.34939544e-01,  -3.63687571e-01,  -3.47740015e-02],\n",
       "       [ -4.38262535e-02,   2.12506275e-01,  -4.11615964e-01],\n",
       "       [  6.33517048e-01,  -6.36336819e-02,   1.00470103e-01],\n",
       "       [  6.14389618e-01,  -6.39249099e-03,   1.08849158e-01],\n",
       "       [ -2.86179058e-01,  -9.20167775e-02,  -1.69643785e-01],\n",
       "       [ -3.58606166e-01,  -2.02636163e-01,  -2.31335300e-01],\n",
       "       [  4.44295488e-01,  -3.51219025e-02,  -1.50284633e-01],\n",
       "       [ -3.97631297e-01,   3.29854268e-01,   1.80538198e-01],\n",
       "       [  3.01193501e-02,  -1.63718286e-01,   1.00857084e-01],\n",
       "       [ -5.91976884e-02,   1.12869004e-01,   1.73391836e-01],\n",
       "       [ -3.55460040e-01,   6.85807389e-02,   1.26581314e-01],\n",
       "       [  5.73683182e-02,   8.30237014e-02,  -4.04727422e-01],\n",
       "       [  2.92808147e-01,   1.74620032e-01,   1.21201205e-01],\n",
       "       [ -2.17653268e-01,   5.47733202e-01,   1.03850873e-02],\n",
       "       [ -1.88906786e-01,   3.77285615e-03,  -5.95981551e-01],\n",
       "       [  1.33643357e-02,  -1.38652221e-01,  -2.55083792e-02],\n",
       "       [  5.60680824e-01,  -6.28098160e-02,   3.37883338e-02],\n",
       "       [ -2.84754555e-01,  -7.85910475e-02,   5.59578319e-02],\n",
       "       [  4.34052275e-01,   7.59231168e-03,   1.39733922e-01],\n",
       "       [ -4.35514640e-01,   4.60075560e-01,   2.47336892e-01],\n",
       "       [  2.90641069e-01,  -1.46214225e-01,   2.94800496e-02],\n",
       "       [ -1.66152858e-01,   8.84312363e-02,   1.15806352e-01],\n",
       "       [  2.07785539e-01,   3.22361792e-02,  -1.92761672e-02],\n",
       "       [  6.89098936e-02,  -2.72455499e-01,   1.26825510e-01],\n",
       "       [  3.35741443e-01,  -1.42802273e-01,   7.66328835e-02],\n",
       "       [  9.44907753e-02,   5.39620392e-02,   1.29157872e-01],\n",
       "       [ -6.11566064e-02,   4.84976230e-02,  -5.06558105e-01],\n",
       "       [  6.78908696e-01,  -4.74817957e-02,   9.99575794e-02],\n",
       "       [ -6.22920393e-02,   2.75059680e-01,  -1.08014530e-01],\n",
       "       [ -3.95883433e-01,  -6.76702105e-02,  -1.90653650e-02],\n",
       "       [  5.55449845e-01,  -6.87486467e-02,   7.31720306e-02],\n",
       "       [ -3.53031118e-01,  -3.26105952e-01,   1.14460719e-01],\n",
       "       [  1.99321405e-01,  -1.67037588e-01,   1.37935953e-01],\n",
       "       [  1.57110334e-02,   1.69004871e-01,  -4.58203240e-01],\n",
       "       [ -1.99656741e-01,   4.57840706e-01,   2.00481012e-01],\n",
       "       [  2.38175770e-01,  -7.03521063e-02,  -7.55297307e-02],\n",
       "       [  4.11272963e-01,   8.35520018e-02,  -1.59613840e-01],\n",
       "       [ -4.08941968e-01,  -6.08211127e-02,  -1.99546549e-01],\n",
       "       [  5.97350183e-01,  -7.30045720e-02,   1.03847319e-01],\n",
       "       [  2.01655983e-01,  -1.92721431e-02,   1.65419850e-02],\n",
       "       [ -1.10949485e-01,  -6.45959722e-03,  -2.74555034e-02],\n",
       "       [ -3.19396973e-01,  -6.42041484e-02,  -2.46220635e-01],\n",
       "       [  1.04741172e-01,  -1.32442952e-01,   3.96547224e-02],\n",
       "       [  2.66121282e-01,   9.61210748e-04,  -1.16001829e-01],\n",
       "       [  1.27272984e-02,  -1.98898171e-01,   7.44630918e-02],\n",
       "       [ -8.42728918e-01,  -5.04258361e-01,   7.57532626e-02],\n",
       "       [  2.74483593e-01,   5.40084028e-02,   2.99055043e-03],\n",
       "       [  6.09749775e-02,   3.22876587e-02,   1.46203386e-01],\n",
       "       [ -4.74079710e-01,   3.02907041e-01,  -3.12539060e-01],\n",
       "       [  6.19480734e-01,  -5.80465600e-02,   9.82463132e-02],\n",
       "       [  4.43436152e-03,   3.91577674e-02,  -2.17548470e-01],\n",
       "       [ -7.92389111e-01,  -3.60301989e-01,   1.70921900e-01],\n",
       "       [  4.66508847e-01,  -5.86854377e-02,   1.24061546e-01],\n",
       "       [  2.10621558e-01,   2.54500063e-01,   1.79600982e-01],\n",
       "       [ -4.19086818e-01,  -8.69076519e-02,  -3.84111429e-01],\n",
       "       [ -2.12976138e-01,   5.22429207e-01,  -2.19887131e-01],\n",
       "       [  2.84046050e-02,   3.80816738e-01,   2.01900520e-01],\n",
       "       [ -1.21547878e-01,  -2.58615060e-01,   5.91719385e-02],\n",
       "       [ -2.70150338e-01,   1.27789513e-01,  -4.56734495e-01],\n",
       "       [ -2.33330599e-01,  -3.83632002e-01,   1.61878779e-01],\n",
       "       [  1.12113956e-01,   7.45461567e-02,   1.59457886e-01],\n",
       "       [ -2.33068776e-01,  -2.27411172e-01,  -1.01120394e-02],\n",
       "       [ -5.88640180e-01,   2.80121558e-01,   1.46122872e-01],\n",
       "       [ -5.11090473e-01,  -8.73710720e-02,   4.71946477e-02],\n",
       "       [  1.81968647e-01,   1.36763778e-01,  -7.95115482e-02],\n",
       "       [ -5.06431137e-02,  -9.47668981e-02,  -3.94021934e-01],\n",
       "       [  5.33396668e-01,  -2.66026378e-02,  -5.47055623e-02],\n",
       "       [  2.84783322e-02,   1.17181398e-01,   1.74745142e-01],\n",
       "       [ -4.46222484e-01,  -1.88489303e-01,   9.40880350e-02],\n",
       "       [  1.08232778e-01,  -2.19491942e-01,   1.22042023e-01],\n",
       "       [ -4.08208898e-01,  -7.67780731e-02,   1.21044463e-01],\n",
       "       [ -4.13757140e-01,  -4.29559503e-01,   1.65726926e-01],\n",
       "       [ -7.49379945e-01,  -3.77254518e-01,   4.08240406e-02],\n",
       "       [  2.59248370e-01,   2.22933504e-01,   1.09157557e-01],\n",
       "       [  5.30023315e-01,  -1.00165662e-01,   1.12433383e-01],\n",
       "       [  6.41098173e-01,  -3.65118249e-02,   8.62449022e-02],\n",
       "       [  1.55874145e-01,   3.71577135e-02,  -1.96568020e-01],\n",
       "       [  1.67573554e-01,  -6.94542685e-02,  -2.47405673e-01],\n",
       "       [  3.02561586e-01,   1.93862206e-01,   9.14982319e-02],\n",
       "       [ -8.28939238e-02,   3.80326377e-01,   2.24331891e-01],\n",
       "       [  4.17261995e-01,  -1.16218266e-01,   1.10181017e-01],\n",
       "       [  2.20658600e-01,  -1.60870644e-01,   7.55290797e-02],\n",
       "       [  5.32853649e-01,   8.40849681e-03,  -1.12454472e-02],\n",
       "       [  3.63355292e-01,   7.80707316e-02,   7.15774644e-04],\n",
       "       [ -8.15552107e-01,  -5.18886297e-02,   2.51326824e-01],\n",
       "       [  3.42763030e-01,  -8.58996269e-02,   1.01176016e-01],\n",
       "       [ -2.98688674e-01,   6.96618890e-01,   2.60350662e-01],\n",
       "       [ -4.06744835e-02,   1.90052997e-01,  -1.43274859e-02],\n",
       "       [  3.27125983e-01,  -1.22759480e-01,   9.67710671e-02],\n",
       "       [  4.36971626e-02,  -7.22820876e-02,   1.77918336e-01],\n",
       "       [ -9.23505284e-01,   1.25126455e+00,   5.42038414e-01],\n",
       "       [ -9.36083330e-03,   2.62979348e-01,  -1.35709956e+00],\n",
       "       [ -1.02501433e+00,  -6.95818292e-01,   2.21230193e-01],\n",
       "       [  6.83030896e-01,  -4.70075855e-02,   1.00885028e-01]])"
      ]
     },
     "execution_count": 19,
     "metadata": {},
     "output_type": "execute_result"
    }
   ],
   "source": [
    "uncorrelated_poses"
   ]
  },
  {
   "cell_type": "code",
   "execution_count": 20,
   "metadata": {
    "scrolled": true
   },
   "outputs": [
    {
     "name": "stdout",
     "output_type": "stream",
     "text": [
      "4\n",
      "[96 97 98 99]\n"
     ]
    }
   ],
   "source": [
    "## Now let's use the convex hull on the uncorrelated poses.\n",
    "hull = scipy.spatial.ConvexHull( uncorrelated_poses )\n",
    "print( len( hull.vertices ) )\n",
    "print( hull.vertices )"
   ]
  },
  {
   "cell_type": "code",
   "execution_count": 21,
   "metadata": {
    "scrolled": true
   },
   "outputs": [
    {
     "name": "stdout",
     "output_type": "stream",
     "text": [
      "(4, 3, 3, 4)\n"
     ]
    },
    {
     "data": {
      "text/plain": [
       "array([[[[ 1.    ,  0.    , -0.    ,  0.    ],\n",
       "         [ 0.    ,  1.    ,  0.    ,  0.    ],\n",
       "         [ 0.    ,  0.    ,  1.    ,  0.    ]],\n",
       "\n",
       "        [[ 0.5383,  0.4509,  0.5815,  0.7645],\n",
       "         [ 0.7244,  0.3916,  0.294 ,  0.0329],\n",
       "         [ 0.1152,  0.8129,  0.9089,  0.2088]],\n",
       "\n",
       "        [[ 0.098 ,  0.5627,  0.9485,  0.9391],\n",
       "         [ 0.9325,  0.5595,  0.7009,  0.0275],\n",
       "         [ 0.2199,  0.0972,  0.4408,  0.1332]]],\n",
       "\n",
       "\n",
       "       [[[ 1.    ,  0.    ,  0.    , -0.    ],\n",
       "         [ 0.    ,  1.    ,  0.    ,  0.    ],\n",
       "         [ 0.    ,  0.    ,  1.    ,  0.    ]],\n",
       "\n",
       "        [[ 0.5782,  0.5148,  0.581 ,  0.8704],\n",
       "         [ 0.0812,  0.2603,  0.454 ,  0.2381],\n",
       "         [ 0.6445,  0.1032,  0.3344,  0.1156]],\n",
       "\n",
       "        [[ 0.9509,  0.6309,  0.5878,  0.7895],\n",
       "         [ 0.3091,  0.856 ,  0.1497,  0.8952],\n",
       "         [ 0.2308,  0.9543,  0.0233,  0.8069]]],\n",
       "\n",
       "\n",
       "       [[[ 1.    , -0.    ,  0.    , -0.    ],\n",
       "         [ 0.    ,  1.    ,  0.    ,  0.    ],\n",
       "         [ 0.    ,  0.    ,  1.    ,  0.    ]],\n",
       "\n",
       "        [[ 0.3445,  0.6259,  0.7721,  0.8683],\n",
       "         [ 0.7973,  0.2009,  0.1603,  0.7686],\n",
       "         [ 0.1733,  0.483 ,  0.798 ,  0.5107]],\n",
       "\n",
       "        [[ 0.2605,  0.1069,  0.7716,  0.2266],\n",
       "         [ 0.0882,  0.7313,  0.1625,  0.5526],\n",
       "         [ 0.8878,  0.302 ,  0.771 ,  0.6758]]],\n",
       "\n",
       "\n",
       "       [[[ 1.    , -0.    , -0.    ,  0.    ],\n",
       "         [ 0.    ,  1.    ,  0.    ,  0.    ],\n",
       "         [ 0.    ,  0.    ,  1.    ,  0.    ]],\n",
       "\n",
       "        [[ 0.6332,  0.0519,  0.6495,  0.8917],\n",
       "         [ 0.0775,  0.5311,  0.0251,  0.426 ],\n",
       "         [ 0.0683,  0.1359,  0.7744,  0.4118]],\n",
       "\n",
       "        [[ 0.9007,  0.2722,  0.1592,  0.7612],\n",
       "         [ 0.485 ,  0.3841,  0.4277,  0.5038],\n",
       "         [ 0.3808,  0.8447,  0.8807,  0.7602]]]])"
      ]
     },
     "execution_count": 21,
     "metadata": {},
     "output_type": "execute_result"
    }
   ],
   "source": [
    "poses_handles_restored = restore( uncorrelated_poses[ hull.vertices ] )\n",
    "print( poses_handles_restored.shape )\n",
    "poses_handles_restored.round(4)"
   ]
  },
  {
   "cell_type": "code",
   "execution_count": 22,
   "metadata": {
    "scrolled": true
   },
   "outputs": [
    {
     "name": "stdout",
     "output_type": "stream",
     "text": [
      "(4, 3, 3, 4)\n"
     ]
    },
    {
     "data": {
      "text/plain": [
       "array([[[[ 1.        ,  0.        ,  0.        ,  0.        ],\n",
       "         [ 0.        ,  1.        ,  0.        ,  0.        ],\n",
       "         [ 0.        ,  0.        ,  1.        ,  0.        ]],\n",
       "\n",
       "        [[ 0.63319812,  0.05190949,  0.64953769,  0.891664  ],\n",
       "         [ 0.07747892,  0.5310581 ,  0.02506164,  0.426007  ],\n",
       "         [ 0.06830536,  0.13588485,  0.77438178,  0.41180536]],\n",
       "\n",
       "        [[ 0.90070341,  0.27218822,  0.15915252,  0.76117287],\n",
       "         [ 0.4850491 ,  0.38408144,  0.4277015 ,  0.503789  ],\n",
       "         [ 0.3807526 ,  0.8447042 ,  0.88070627,  0.76023809]]],\n",
       "\n",
       "\n",
       "       [[[ 1.        ,  0.        ,  0.        ,  0.        ],\n",
       "         [ 0.        ,  1.        ,  0.        ,  0.        ],\n",
       "         [ 0.        ,  0.        ,  1.        ,  0.        ]],\n",
       "\n",
       "        [[ 0.34450283,  0.62586702,  0.7721408 ,  0.86832167],\n",
       "         [ 0.79734644,  0.20087059,  0.16028609,  0.76860263],\n",
       "         [ 0.17334852,  0.48301027,  0.79795303,  0.51069208]],\n",
       "\n",
       "        [[ 0.26048207,  0.106867  ,  0.77163655,  0.22662699],\n",
       "         [ 0.08818733,  0.73133744,  0.16254966,  0.55263458],\n",
       "         [ 0.88783681,  0.3019586 ,  0.77096709,  0.67576499]]],\n",
       "\n",
       "\n",
       "       [[[ 1.        ,  0.        ,  0.        ,  0.        ],\n",
       "         [ 0.        ,  1.        ,  0.        ,  0.        ],\n",
       "         [ 0.        ,  0.        ,  1.        ,  0.        ]],\n",
       "\n",
       "        [[ 0.57818312,  0.51481116,  0.58096848,  0.87036163],\n",
       "         [ 0.08122908,  0.2603061 ,  0.4540025 ,  0.23810353],\n",
       "         [ 0.6445225 ,  0.10318704,  0.33436695,  0.11558139]],\n",
       "\n",
       "        [[ 0.9509094 ,  0.63086028,  0.58781175,  0.78946975],\n",
       "         [ 0.30910776,  0.85604348,  0.14972402,  0.89522255],\n",
       "         [ 0.2308483 ,  0.95433119,  0.02332667,  0.80694245]]],\n",
       "\n",
       "\n",
       "       [[[ 1.        ,  0.        ,  0.        ,  0.        ],\n",
       "         [ 0.        ,  1.        ,  0.        ,  0.        ],\n",
       "         [ 0.        ,  0.        ,  1.        ,  0.        ]],\n",
       "\n",
       "        [[ 0.53833711,  0.45090287,  0.58153959,  0.76448114],\n",
       "         [ 0.72439731,  0.39158872,  0.29396163,  0.03288538],\n",
       "         [ 0.11519733,  0.81290178,  0.90888188,  0.20882674]],\n",
       "\n",
       "        [[ 0.09795057,  0.56270906,  0.94853026,  0.9391472 ],\n",
       "         [ 0.93249066,  0.55951304,  0.70088462,  0.02754694],\n",
       "         [ 0.21991839,  0.09718724,  0.44077073,  0.13315859]]]])"
      ]
     },
     "execution_count": 22,
     "metadata": {},
     "output_type": "execute_result"
    }
   ],
   "source": [
    "print( poses_handles.shape )\n",
    "poses_handles"
   ]
  },
  {
   "cell_type": "code",
   "execution_count": 23,
   "metadata": {},
   "outputs": [
    {
     "name": "stdout",
     "output_type": "stream",
     "text": [
      "Original data index 0 best matches restored data index 3 with error 1.96398654668e-15\n",
      "Original data index 1 best matches restored data index 2 with error 3.12997073922e-15\n",
      "Original data index 2 best matches restored data index 1 with error 2.56999469357e-15\n",
      "Original data index 3 best matches restored data index 0 with error 3.07898328166e-15\n"
     ]
    }
   ],
   "source": [
    "## Find the closest handle in the original data, pose_handles, to the restored data.\n",
    "for i, handles in enumerate( poses_handles ):\n",
    "    diffs = ( abs( poses_handles_restored - handles[newaxis,...] ).reshape( poses_handles_restored.shape[0], -1 ).sum( axis = 1 ) )\n",
    "    print( \"Original data index\", i, \"best matches restored data index\", diffs.argmin(), \"with error\", diffs.min() )"
   ]
  },
  {
   "cell_type": "code",
   "execution_count": 24,
   "metadata": {},
   "outputs": [
    {
     "name": "stdout",
     "output_type": "stream",
     "text": [
      "Restored data index 0 best matches original data index 3 with error 3.07898328166e-15\n",
      "Restored data index 1 best matches original data index 2 with error 2.56999469357e-15\n",
      "Restored data index 2 best matches original data index 1 with error 3.12997073922e-15\n",
      "Restored data index 3 best matches original data index 0 with error 1.96398654668e-15\n"
     ]
    }
   ],
   "source": [
    "## Find the closest handle in the restored data to the original pose_handles.\n",
    "for i, handles in enumerate( poses_handles_restored ):\n",
    "    diffs = ( abs( poses_handles - handles[newaxis,...] ).reshape( poses_handles.shape[0], -1 ).sum( axis = 1 ) )\n",
    "    print( \"Restored data index\", i, \"best matches original data index\", diffs.argmin(), \"with error\", diffs.min() )"
   ]
  },
  {
   "cell_type": "code",
   "execution_count": 25,
   "metadata": {
    "collapsed": true
   },
   "outputs": [],
   "source": [
    "## Plotting in 3D. This only works because PCA found our data was in 3D.\n",
    "%matplotlib tk\n",
    "from mpl_toolkits.mplot3d import Axes3D\n",
    "import matplotlib.pyplot as plt\n",
    "import numpy as np\n",
    "\n",
    "fig = plt.figure()\n",
    "ax = fig.add_subplot(111, projection='3d')\n",
    "ax.scatter(*uncorrelated_poses.T)\n",
    "plt.show()"
   ]
  },
  {
   "cell_type": "code",
   "execution_count": null,
   "metadata": {
    "collapsed": true
   },
   "outputs": [],
   "source": []
  },
  {
   "cell_type": "code",
   "execution_count": null,
   "metadata": {
    "collapsed": true
   },
   "outputs": [],
   "source": []
  }
 ],
 "metadata": {
  "kernelspec": {
   "display_name": "Python 3",
   "language": "python",
   "name": "python3"
  },
  "language_info": {
   "codemirror_mode": {
    "name": "ipython",
    "version": 3
   },
   "file_extension": ".py",
   "mimetype": "text/x-python",
   "name": "python",
   "nbconvert_exporter": "python",
   "pygments_lexer": "ipython3",
   "version": "3.5.1"
  }
 },
 "nbformat": 4,
 "nbformat_minor": 1
}
