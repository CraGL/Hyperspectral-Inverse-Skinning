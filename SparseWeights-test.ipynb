{
 "cells": [
  {
   "cell_type": "code",
   "execution_count": 1,
   "metadata": {},
   "outputs": [],
   "source": [
    "import numpy as np\n",
    "np.set_printoptions(suppress=True)\n",
    "\n",
    "from SmoothSparseWeights import *\n",
    "# from SmoothSparseWeights_Alternating import *"
   ]
  },
  {
   "cell_type": "code",
   "execution_count": 2,
   "metadata": {},
   "outputs": [],
   "source": [
    "exampleName=\"cheburashka\"\n",
    "# poses_folder=\"poses-2\"\n",
    "# poses_ind=7\n",
    "# clip_k=5\n",
    "# handle_num=11\n",
    "\n",
    "\n",
    "# exampleName=\"cow\"\n",
    "# poses_folder=\"poses-2\"\n",
    "# poses_ind=5\n",
    "# clip_k=7\n",
    "# handle_num=15\n",
    "\n",
    "\n",
    "exampleName=\"wolf\"\n",
    "poses_folder=\"poses-1\"\n",
    "poses_ind=2\n",
    "clip_k=4\n",
    "handle_num=21\n",
    "\n",
    "\n",
    "objective_choice=0\n",
    "\n",
    "\n",
    "weights = {\n",
    "           'W_sparse': 0.0,\n",
    "           'W_spatial': 0.0,\n",
    "           'W_sum': 10.0\n",
    "          }"
   ]
  },
  {
   "cell_type": "code",
   "execution_count": 3,
   "metadata": {},
   "outputs": [
    {
     "name": "stdout",
     "output_type": "stream",
     "text": [
      "['./models/wolf-all/poses-1/wolf-1.obj', './models/wolf-all/poses-1/wolf-2.obj', './models/wolf-all/poses-1/wolf-3.obj', './models/wolf-all/poses-1/wolf-4.obj', './models/wolf-all/poses-1/wolf-5.obj', './models/wolf-all/poses-1/wolf-6.obj']\n",
      "(5075, 24)\n",
      "(5075, 18)\n"
     ]
    }
   ],
   "source": [
    "#### read obj file\n",
    "\n",
    "### rest_poses:\n",
    "vertices_obj_path=\"./models/\"+exampleName+\"-all/\"+exampleName+\".obj\"\n",
    "mesh0=TriMesh.FromOBJ_FileName(vertices_obj_path)\n",
    "\n",
    "### other poses\n",
    "vertices_obj_dir=\"./models/\"+exampleName+\"-all/\"+poses_folder+\"/\"\n",
    "filenames=glob.glob(vertices_obj_dir+\"*.obj\")\n",
    "print(filenames)\n",
    "\n",
    "mesh1_list=[]\n",
    "for i in range(len(filenames)):\n",
    "    mesh1_list.append(TriMesh.FromOBJ_FileName(filenames[i]))\n",
    "\n",
    "\n",
    "vertices1=vertices1_temp=np.hstack((np.asarray(mesh0.vs),np.ones((len(mesh0.vs),1))))\n",
    "vertices2=vertices2_temp=np.asarray(mesh1_list[0].vs)\n",
    "for i in range(1,len(mesh1_list)):\n",
    "    vertices1=np.hstack((vertices1, vertices1_temp))\n",
    "    vertices2=np.hstack((vertices2, np.asarray(mesh1_list[i].vs)))\n",
    "print(vertices1.shape) \n",
    "print(vertices2.shape) \n"
   ]
  },
  {
   "cell_type": "code",
   "execution_count": 4,
   "metadata": {},
   "outputs": [
    {
     "name": "stdout",
     "output_type": "stream",
     "text": [
      "(21, 72)\n",
      "(5075, 21)\n",
      "[[0.1589514  0.0000593  0.00474596 0.00048292 0.0000278  0.03343458\n",
      "  0.07699286 0.17446554 0.03199314 0.00009963 0.01256247 0.12470764\n",
      "  0.09002658 0.0000002  0.00000122 0.00001448 0.01316137 0.00123948\n",
      "  0.00000147 0.00000064 0.27703134]\n",
      " [0.15856047 0.00005942 0.00472487 0.0004812  0.00002775 0.03355878\n",
      "  0.07708042 0.17432981 0.03208895 0.00009982 0.01256983 0.12475939\n",
      "  0.08994991 0.0000002  0.00000122 0.00001445 0.01320413 0.00123941\n",
      "  0.00000147 0.00000064 0.27724787]\n",
      " [0.15566619 0.00006021 0.00463952 0.00047399 0.00002755 0.03405925\n",
      "  0.07742135 0.17335098 0.03247172 0.00010021 0.01264691 0.12530878\n",
      "  0.08969101 0.0000002  0.00000124 0.00001417 0.01345853 0.00124074\n",
      "  0.00000144 0.00000064 0.27936539]]\n",
      "[[0.1589514  0.         0.         0.         0.         0.\n",
      "  0.         0.17446554 0.         0.         0.         0.12470764\n",
      "  0.         0.         0.         0.         0.         0.\n",
      "  0.         0.         0.27703134]\n",
      " [0.15856047 0.         0.         0.         0.         0.\n",
      "  0.         0.17432981 0.         0.         0.         0.12475939\n",
      "  0.         0.         0.         0.         0.         0.\n",
      "  0.         0.         0.27724787]\n",
      " [0.15566619 0.         0.         0.         0.         0.\n",
      "  0.         0.17335098 0.         0.         0.         0.12530878\n",
      "  0.         0.         0.         0.         0.         0.\n",
      "  0.         0.         0.27936539]]\n",
      "[13 19 14 18 15  4  1  9  3 17  2 10 16  8  5  6 12 34 40 35 39 36 25 22\n",
      " 30 24 38 23 31 37 29 26 27 33 55 61 56 60 57 46 43 51 45 59 44 52 58 50\n",
      " 47 48 54 76 82 77 81 78 67 64 72 66 80 65 73]\n",
      "0.0\n"
     ]
    }
   ],
   "source": [
    "#### read our output of simplex_hull.py \n",
    "results_path=\"./results_pipeline/\"+exampleName+\"-\"+str(handle_num)+\"/result.txt\"\n",
    "endmembers, mixing_weights=load_result(results_path)\n",
    "### endmembers shape is handle * poses * 12??\n",
    "\n",
    "# ### this is to make sure the 3*4 or 4*3 error does not happen.\n",
    "# endmembers=endmembers.reshape((-1, 4, 3))\n",
    "# endmembers=np.transpose(endmembers, (0,2,1))\n",
    "# endmembers=endmembers.reshape((len(mixing_weights), -1, 12))\n",
    "\n",
    "\n",
    "endmembers=endmembers.reshape((len(mixing_weights),-1))\n",
    "mixing_weights=mixing_weights.T\n",
    "\n",
    "\n",
    "print (endmembers.shape)\n",
    "print (mixing_weights.shape)\n",
    "print (mixing_weights[:3])\n",
    "mixing_weights_clip, grad_zero_indices=clip_first_k_values(mixing_weights, clip_k)\n",
    "print (mixing_weights_clip[:3])\n",
    "\n",
    "print (grad_zero_indices[:len(endmembers)*3])\n",
    "\n",
    "print (mixing_weights_clip.ravel()[grad_zero_indices].sum())"
   ]
  },
  {
   "cell_type": "code",
   "execution_count": 5,
   "metadata": {},
   "outputs": [],
   "source": [
    "#### solve for transformation per vertex, with smoothness regularization and transformation matrix L2 norm regularization.\n",
    "output_prefix=\"./sparse-smooth-mixing-weights-test/\"+exampleName"
   ]
  },
  {
   "cell_type": "code",
   "execution_count": 6,
   "metadata": {},
   "outputs": [
    {
     "name": "stdout",
     "output_type": "stream",
     "text": [
      "25.309374465859957\n"
     ]
    }
   ],
   "source": [
    "scale=find_scale(vertices1)\n",
    "print (scale)"
   ]
  },
  {
   "cell_type": "code",
   "execution_count": 7,
   "metadata": {},
   "outputs": [
    {
     "name": "stdout",
     "output_type": "stream",
     "text": [
      "1.4503569839497157e-12\n",
      "2.90071396789943e-09\n"
     ]
    }
   ],
   "source": [
    "### gt test\n",
    "val=objective_func_vector(mixing_weights.ravel(), vertices1, vertices2, endmembers, mixing_weights.ravel(), mixing_weights_clip.ravel(), choice=objective_choice)\n",
    "print (np.sqrt(np.square(val).sum()/(len(val)*scale*scale)))\n",
    "recovered_vertices2=recover_vertices(mixing_weights, vertices1, endmembers)\n",
    "print (E_RMS_kavan2010(vertices2, recovered_vertices2, scale))"
   ]
  },
  {
   "cell_type": "code",
   "execution_count": 8,
   "metadata": {},
   "outputs": [
    {
     "name": "stdout",
     "output_type": "stream",
     "text": [
      "5.526594769261788\n",
      "11053.189538523577\n",
      "(5075, 24)\n",
      "(5075, 18)\n",
      "True\n",
      "44649.23869861087\n",
      "using time:  154.9959900379181\n",
      "0.2747330517534173\n",
      "549.4661035068343\n"
     ]
    }
   ],
   "source": [
    "val=objective_func_vector(mixing_weights_clip.ravel(), vertices1, vertices2, endmembers, mixing_weights.ravel(), mixing_weights_clip.ravel(), choice=objective_choice)\n",
    "print (np.sqrt(np.square(val).sum()/(len(val)*scale*scale)))\n",
    "recovered_vertices2=recover_vertices(mixing_weights_clip, vertices1, endmembers)\n",
    "print (E_RMS_kavan2010(vertices2, recovered_vertices2, scale))\n",
    "\n",
    "start=time.time()\n",
    "\n",
    "res=run(mesh0, mesh1_list, output_prefix, weights, endmembers, mixing_weights.ravel(), mixing_weights_clip.ravel(), grad_zero_indices, initials=mixing_weights_clip.ravel(), choice=objective_choice)\n",
    "\n",
    "# res=run(mesh0, mesh1_list, output_prefix, weights, endmembers, mixing_weights.ravel(), mixing_weights_clip.ravel(), grad_zero_indices, initials=(mixing_weights_clip.ravel() + mixing_weights.ravel())/2.0, choice=objective_choice)\n",
    "\n",
    "res=res.reshape(mixing_weights.shape)\n",
    "end=time.time()\n",
    "print(\"using time: \", end-start)\n",
    "\n",
    "\n",
    "val=objective_func_vector(res.ravel(), vertices1, vertices2, endmembers, mixing_weights.ravel(), mixing_weights_clip.ravel(), choice=objective_choice)\n",
    "print (np.sqrt(np.square(val).sum()/(len(val)*scale*scale)))\n",
    "recovered_vertices2=recover_vertices(res, vertices1, endmembers)\n",
    "print (E_RMS_kavan2010(vertices2, recovered_vertices2, scale))"
   ]
  },
  {
   "cell_type": "code",
   "execution_count": 9,
   "metadata": {},
   "outputs": [
    {
     "name": "stdout",
     "output_type": "stream",
     "text": [
      "[[0.09262351 0.         0.         0.         0.         0.\n",
      "  0.         0.         0.         0.         0.         0.0018219\n",
      "  0.         0.         0.         0.         0.         0.\n",
      "  0.         0.         0.        ]\n",
      " [0.09289035 0.         0.         0.         0.         0.\n",
      "  0.         0.         0.         0.         0.         0.00183351\n",
      "  0.         0.         0.         0.         0.         0.\n",
      "  0.         0.         0.        ]\n",
      " [0.09242546 0.         0.         0.         0.         0.\n",
      "  0.         0.         0.         0.         0.         0.00087715\n",
      "  0.         0.         0.         0.         0.         0.\n",
      "  0.         0.         0.        ]]\n",
      "0.0\n",
      "605.1229354899014\n",
      "1907.2672995387118\n"
     ]
    }
   ],
   "source": [
    "print (res.reshape((-1, len(endmembers)))[:3]) ### should have same zeros as initial input.\n",
    "print (res.ravel()[grad_zero_indices].sum()) ### should be zero\n",
    "print (res.sum())\n",
    "print ((((1-res.sum(axis=-1))**2).sum()/len(endmembers))*weights[\"W_sum\"]) ##W_sum term"
   ]
  },
  {
   "cell_type": "code",
   "execution_count": 10,
   "metadata": {},
   "outputs": [
    {
     "name": "stdout",
     "output_type": "stream",
     "text": [
      "0.789214054981536\n",
      "0.0 0.7721513662762625\n"
     ]
    }
   ],
   "source": [
    "print (((1-res.sum(axis=-1))**2).sum()/len(res))\n",
    "print (res.min(), res.max())"
   ]
  },
  {
   "cell_type": "code",
   "execution_count": null,
   "metadata": {},
   "outputs": [],
   "source": []
  },
  {
   "cell_type": "code",
   "execution_count": 11,
   "metadata": {},
   "outputs": [],
   "source": [
    "# #### read gt per vertex transformation \n",
    "# groundtruth_names=glob.glob(\"./models/\"+exampleName+\"-all/\"+exampleName+\"-*.DMAT\")\n",
    "# print(groundtruth_names)\n",
    "\n",
    "# gt_all=None\n",
    "# for i in range(len(groundtruth_names)):\n",
    "#     gt=load_DMAT(groundtruth_names[i])\n",
    "#     gt=gt.T\n",
    "#     gt=gt.reshape((-1,4,3))\n",
    "#     gt=np.transpose(gt, (0,2,1)).reshape((-1,12))\n",
    "#     if gt_all is None:\n",
    "#         gt_all=gt\n",
    "#     else:\n",
    "#         gt_all=np.hstack((gt_all, gt))\n",
    "    \n",
    "# print(gt_all.shape)\n"
   ]
  },
  {
   "cell_type": "code",
   "execution_count": 12,
   "metadata": {},
   "outputs": [
    {
     "name": "stdout",
     "output_type": "stream",
     "text": [
      "['./models/wolf-all/wolf.DMAT']\n",
      "(5075, 21)\n",
      "5.575027928616619e-29\n"
     ]
    }
   ],
   "source": [
    "#### read gt per vertex mixing weights \n",
    "groundtruth_names=glob.glob(\"./models/\"+exampleName+\"-all/\"+exampleName+\".DMAT\")\n",
    "print(groundtruth_names)\n",
    "gt=load_DMAT(groundtruth_names[0])\n",
    "gt_mixing_weights=gt.T.copy()\n",
    "print (gt_mixing_weights.shape)\n",
    "\n",
    "print (((gt_mixing_weights.sum(axis=-1)-1)**2).sum())"
   ]
  },
  {
   "cell_type": "code",
   "execution_count": 13,
   "metadata": {},
   "outputs": [
    {
     "name": "stdout",
     "output_type": "stream",
     "text": [
      "['./models/wolf-all/poses-1/wolf-1.Tmat', './models/wolf-all/poses-1/wolf-2.Tmat', './models/wolf-all/poses-1/wolf-3.Tmat', './models/wolf-all/poses-1/wolf-4.Tmat', './models/wolf-all/poses-1/wolf-5.Tmat', './models/wolf-all/poses-1/wolf-6.Tmat']\n",
      "(21, 72)\n",
      "(6, 21, 12)\n",
      "[[1. 0. 0. 0.]\n",
      " [0. 1. 0. 0.]\n",
      " [0. 0. 1. 0.]]\n",
      "[[ 0.963816   0.259295   0.0618401  0.769371 ]\n",
      " [-0.215014   0.893333  -0.394619   1.05772  ]\n",
      " [-0.157567   0.367044   0.916761   2.30098  ]]\n",
      "[[1. 0. 0. 0.]\n",
      " [0. 1. 0. 0.]\n",
      " [0. 0. 1. 0.]]\n",
      "[[1. 0. 0. 0.]\n",
      " [0. 1. 0. 0.]\n",
      " [0. 0. 1. 0.]]\n",
      "[[1. 0. 0. 0.]\n",
      " [0. 1. 0. 0.]\n",
      " [0. 0. 1. 0.]]\n",
      "[[1. 0. 0. 0.]\n",
      " [0. 1. 0. 0.]\n",
      " [0. 0. 1. 0.]]\n",
      "[[ 0.99999966 -0.00000045 -0.00000019]\n",
      " [-0.00000045  0.99999904  0.00000028]\n",
      " [-0.00000019  0.00000028  0.99999908]]\n"
     ]
    }
   ],
   "source": [
    "### load groundtruth endmember\n",
    "groundtruth_names=glob.glob(\"./models/\"+exampleName+\"-all/\"+poses_folder+\"/\"+exampleName+\"-*.Tmat\")\n",
    "print(groundtruth_names)\n",
    "\n",
    "gt_handles=None\n",
    "for i in range(len(groundtruth_names)):\n",
    "    gt=load_Tmat(groundtruth_names[i])\n",
    "    gt=gt.reshape((-1,4,3))\n",
    "    gt=np.transpose(gt, (0,2,1)).reshape((-1,12))\n",
    "    if gt_handles is None:\n",
    "        gt_handles=gt\n",
    "    else:\n",
    "        gt_handles=np.hstack((gt_handles, gt))\n",
    "    \n",
    "print(gt_handles.shape)\n",
    "gt_handles=gt_handles.reshape(len(groundtruth_names), -1, 12)\n",
    "\n",
    "gt_handles=np.transpose(gt_handles.reshape(-1, len(groundtruth_names), 12), (1,0,2)) ### is this true?\n",
    "\n",
    "print(gt_handles.shape)\n",
    "\n",
    "for i in range(len(gt_handles)):\n",
    "    print (gt_handles[i][2].reshape((3,4)))\n",
    "\n",
    "test=gt_handles[1][2].reshape((3,4))[:,:3]\n",
    "print (test.T.dot(test))"
   ]
  },
  {
   "cell_type": "code",
   "execution_count": 14,
   "metadata": {},
   "outputs": [],
   "source": [
    "# #### do a groundtruth test.\n",
    "# val=objective_func_vector(gt_mixing_weights.ravel(), vertices1, vertices2, gt_handles, gt_mixing_weights.ravel(), gt_mixing_weights.ravel(), choice=objective_choice)\n",
    "# print ((abs(val)).max(), (abs(val)).min())\n",
    "# print (np.square(val).sum()/(len(val)))\n",
    "\n",
    "# res=run(mesh0, mesh1_list, output_prefix, weights, gt_handles, gt_mixing_weights.ravel(), gt_mixing_weights.ravel(), grad_zero_indices, initials=gt_mixing_weights.ravel(), choice=objective_choice)\n",
    "# res=res.reshape(gt_mixing_weights.shape)"
   ]
  },
  {
   "cell_type": "code",
   "execution_count": null,
   "metadata": {},
   "outputs": [],
   "source": []
  },
  {
   "cell_type": "code",
   "execution_count": 15,
   "metadata": {},
   "outputs": [
    {
     "name": "stderr",
     "output_type": "stream",
     "text": [
      "/usr/local/lib/python3.6/site-packages/ipykernel_launcher.py:8: RuntimeWarning: invalid value encountered in true_divide\n",
      "  \n",
      "/usr/local/lib/python3.6/site-packages/ipykernel_launcher.py:9: RuntimeWarning: invalid value encountered in true_divide\n",
      "  if __name__ == '__main__':\n"
     ]
    },
    {
     "name": "stdout",
     "output_type": "stream",
     "text": [
      "Using matplotlib backend: MacOSX\n"
     ]
    }
   ],
   "source": [
    "### plot handles corresponding to gt mixing weights, recovered mixing weights, and post-processed mixing weights.\n",
    "###\n",
    "\n",
    "Vertices=vertices2[:,poses_ind*3:poses_ind*3+3]\n",
    "\n",
    "gt_handle_position=gt_mixing_weights.T.dot(Vertices)/gt_mixing_weights.T.sum(axis=-1)[...,np.newaxis]\n",
    "recovered_handle_position=mixing_weights.T.dot(Vertices)/mixing_weights.T.sum(axis=-1)[...,np.newaxis]\n",
    "cliped_handle_position=mixing_weights_clip.T.dot(Vertices)/mixing_weights_clip.T.sum(axis=-1)[...,np.newaxis]\n",
    "postprocessed_handle_position=res.T.dot(Vertices)/res.T.sum(axis=-1)[...,np.newaxis]\n",
    "\n",
    "%matplotlib \n",
    "import matplotlib.pyplot as plt\n",
    "from mpl_toolkits.mplot3d import Axes3D\n",
    "\n",
    "fig= plt.figure()\n",
    "ax=fig.add_subplot(111, projection='3d')\n",
    "\n",
    "ax.scatter(gt_handle_position[:,0],gt_handle_position[:,1], gt_handle_position[:,2], c='k', s=50)\n",
    "ax.scatter(recovered_handle_position[:,0],recovered_handle_position[:,1], recovered_handle_position[:,2], c='r', s=50)\n",
    "# ax.scatter(cliped_handle_position[:,0],cliped_handle_position[:,1], cliped_handle_position[:,2], c='g', s=50)\n",
    "ax.scatter(postprocessed_handle_position[:,0],postprocessed_handle_position[:,1], postprocessed_handle_position[:,2], c='b', s=50)\n",
    "ax.scatter(Vertices[:,0],Vertices[:,1], Vertices[:,2], color='y', s=1, edgecolors='none')\n",
    "\n",
    "plt.show()"
   ]
  },
  {
   "cell_type": "code",
   "execution_count": null,
   "metadata": {},
   "outputs": [],
   "source": []
  },
  {
   "cell_type": "code",
   "execution_count": null,
   "metadata": {},
   "outputs": [],
   "source": []
  },
  {
   "cell_type": "code",
   "execution_count": null,
   "metadata": {},
   "outputs": [],
   "source": []
  },
  {
   "cell_type": "code",
   "execution_count": null,
   "metadata": {},
   "outputs": [],
   "source": []
  },
  {
   "cell_type": "code",
   "execution_count": null,
   "metadata": {},
   "outputs": [],
   "source": []
  },
  {
   "cell_type": "code",
   "execution_count": null,
   "metadata": {},
   "outputs": [],
   "source": []
  },
  {
   "cell_type": "code",
   "execution_count": null,
   "metadata": {},
   "outputs": [],
   "source": []
  },
  {
   "cell_type": "code",
   "execution_count": null,
   "metadata": {},
   "outputs": [],
   "source": []
  },
  {
   "cell_type": "code",
   "execution_count": null,
   "metadata": {},
   "outputs": [],
   "source": []
  }
 ],
 "metadata": {
  "kernelspec": {
   "display_name": "Python 3",
   "language": "python",
   "name": "python3"
  },
  "language_info": {
   "codemirror_mode": {
    "name": "ipython",
    "version": 3
   },
   "file_extension": ".py",
   "mimetype": "text/x-python",
   "name": "python",
   "nbconvert_exporter": "python",
   "pygments_lexer": "ipython3",
   "version": "3.6.5"
  }
 },
 "nbformat": 4,
 "nbformat_minor": 2
}
