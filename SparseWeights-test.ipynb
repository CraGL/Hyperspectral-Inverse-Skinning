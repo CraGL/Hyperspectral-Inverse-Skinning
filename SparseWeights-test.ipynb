{
 "cells": [
  {
   "cell_type": "code",
   "execution_count": 1,
   "metadata": {},
   "outputs": [],
   "source": [
    "import numpy as np\n",
    "np.set_printoptions(suppress=True)\n",
    "\n",
    "from SmoothSparseWeights import *\n",
    "# from SmoothSparseWeights_Alternating import *"
   ]
  },
  {
   "cell_type": "code",
   "execution_count": 2,
   "metadata": {},
   "outputs": [],
   "source": [
    "# exampleName=\"cheburashka\"\n",
    "# poses_folder=\"poses-2\"\n",
    "# poses_ind=7\n",
    "# clip_k=5\n",
    "# handle_num=11\n",
    "\n",
    "\n",
    "exampleName=\"cow\"\n",
    "poses_folder=\"poses-2\"\n",
    "poses_ind=5\n",
    "clip_k=7\n",
    "handle_num=15\n",
    "\n",
    "\n",
    "# exampleName=\"wolf\"\n",
    "# poses_folder=\"poses-1\"\n",
    "# poses_ind=2\n",
    "# clip_k=18\n",
    "# handle_num=21\n",
    "\n",
    "\n",
    "objective_choice=0\n",
    "\n",
    "\n",
    "weights = {\n",
    "           'W_sparse': 0.0,\n",
    "           'W_spatial': 0.0,\n",
    "           'W_sum': 100000.0\n",
    "          }"
   ]
  },
  {
   "cell_type": "code",
   "execution_count": 3,
   "metadata": {},
   "outputs": [
    {
     "name": "stdout",
     "output_type": "stream",
     "text": [
      "['./models/cow-all/poses-2/cow-1.obj', './models/cow-all/poses-2/cow-2.obj', './models/cow-all/poses-2/cow-3.obj', './models/cow-all/poses-2/cow-4.obj', './models/cow-all/poses-2/cow-5.obj', './models/cow-all/poses-2/cow-6.obj', './models/cow-all/poses-2/cow-7.obj']\n",
      "(11666, 28)\n",
      "(11666, 21)\n"
     ]
    }
   ],
   "source": [
    "#### read obj file\n",
    "\n",
    "### rest_poses:\n",
    "vertices_obj_path=\"./models/\"+exampleName+\"-all/\"+exampleName+\".obj\"\n",
    "mesh0=TriMesh.FromOBJ_FileName(vertices_obj_path)\n",
    "\n",
    "### other poses\n",
    "vertices_obj_dir=\"./models/\"+exampleName+\"-all/\"+poses_folder+\"/\"\n",
    "filenames=glob.glob(vertices_obj_dir+\"*.obj\")\n",
    "print(filenames)\n",
    "\n",
    "mesh1_list=[]\n",
    "for i in range(len(filenames)):\n",
    "    mesh1_list.append(TriMesh.FromOBJ_FileName(filenames[i]))\n",
    "\n",
    "\n",
    "vertices1=vertices1_temp=np.hstack((np.asarray(mesh0.vs),np.ones((len(mesh0.vs),1))))\n",
    "vertices2=vertices2_temp=np.asarray(mesh1_list[0].vs)\n",
    "for i in range(1,len(mesh1_list)):\n",
    "    vertices1=np.hstack((vertices1, vertices1_temp))\n",
    "    vertices2=np.hstack((vertices2, np.asarray(mesh1_list[i].vs)))\n",
    "print(vertices1.shape) \n",
    "print(vertices2.shape) \n"
   ]
  },
  {
   "cell_type": "code",
   "execution_count": 4,
   "metadata": {},
   "outputs": [
    {
     "name": "stdout",
     "output_type": "stream",
     "text": [
      "(15, 84)\n",
      "(11666, 15)\n",
      "[[0.20570602 0.00042219 0.02655054 0.15167153 0.00018981 0.00004767\n",
      "  0.00030539 0.00002423 0.02001831 0.00000105 0.00102998 0.14445015\n",
      "  0.00045419 0.44910447 0.00002447]\n",
      " [0.21555833 0.0004373  0.02679411 0.16466939 0.00016431 0.00004939\n",
      "  0.00029969 0.00002367 0.01424946 0.00000119 0.00101018 0.15187666\n",
      "  0.00048589 0.42435294 0.00002749]\n",
      " [0.24024097 0.00040106 0.02997077 0.15734726 0.00013956 0.00004676\n",
      "  0.00030475 0.00002278 0.01438586 0.00000122 0.00103343 0.11445163\n",
      "  0.00051674 0.44110425 0.00003297]]\n",
      "[[0.20570602 0.         0.02655054 0.15167153 0.         0.\n",
      "  0.         0.         0.02001831 0.         0.00102998 0.14445015\n",
      "  0.         0.44910447 0.        ]\n",
      " [0.21555833 0.         0.02679411 0.16466939 0.         0.\n",
      "  0.         0.         0.01424946 0.         0.00101018 0.15187666\n",
      "  0.         0.42435294 0.        ]\n",
      " [0.24024097 0.         0.02997077 0.15734726 0.         0.\n",
      "  0.         0.         0.01438586 0.         0.00103343 0.11445163\n",
      "  0.         0.44110425 0.        ]]\n",
      "[ 9  7 14  5  4  6  1 12 24 22 29 20 19 21 16 27 39 37 44 35 34 36 31 42\n",
      " 54 52 59 50 49 51 46 57 69 74 67 65 64 66 61 72 84 82 89 80 79]\n",
      "0.0\n"
     ]
    }
   ],
   "source": [
    "#### read our output of simplex_hull.py \n",
    "results_path=\"./results_pipeline/\"+exampleName+\"-\"+str(handle_num)+\"/result.txt\"\n",
    "endmembers, mixing_weights=load_result(results_path)\n",
    "### endmembers shape is handle * poses * 12??\n",
    "\n",
    "# ### this is to make sure the 3*4 or 4*3 error does not happen.\n",
    "# endmembers=endmembers.reshape((-1, 4, 3))\n",
    "# endmembers=np.transpose(endmembers, (0,2,1))\n",
    "# endmembers=endmembers.reshape((len(mixing_weights), -1, 12))\n",
    "\n",
    "\n",
    "endmembers=endmembers.reshape((len(mixing_weights),-1))\n",
    "mixing_weights=mixing_weights.T\n",
    "\n",
    "\n",
    "print (endmembers.shape)\n",
    "print (mixing_weights.shape)\n",
    "print (mixing_weights[:3])\n",
    "mixing_weights_clip, grad_zero_indices=clip_first_k_values(mixing_weights, clip_k)\n",
    "print (mixing_weights_clip[:3])\n",
    "\n",
    "print (grad_zero_indices[:len(endmembers)*3])\n",
    "\n",
    "print (mixing_weights_clip.ravel()[grad_zero_indices].sum())"
   ]
  },
  {
   "cell_type": "code",
   "execution_count": 5,
   "metadata": {},
   "outputs": [],
   "source": [
    "#### solve for transformation per vertex, with smoothness regularization and transformation matrix L2 norm regularization.\n",
    "output_prefix=\"./sparse-smooth-mixing-weights-test/\"+exampleName"
   ]
  },
  {
   "cell_type": "code",
   "execution_count": 6,
   "metadata": {},
   "outputs": [
    {
     "name": "stdout",
     "output_type": "stream",
     "text": [
      "708.6870049193496\n"
     ]
    }
   ],
   "source": [
    "scale=find_scale(vertices1)\n",
    "print (scale)"
   ]
  },
  {
   "cell_type": "code",
   "execution_count": 7,
   "metadata": {},
   "outputs": [
    {
     "name": "stdout",
     "output_type": "stream",
     "text": [
      "3.766786638470725e-05\n",
      "0.07533573276941448\n"
     ]
    }
   ],
   "source": [
    "### gt test\n",
    "val=objective_func_vector(mixing_weights.ravel(), vertices1, vertices2, endmembers, mixing_weights.ravel(), mixing_weights_clip.ravel(), choice=objective_choice)\n",
    "print (np.sqrt(np.square(val).sum()/(len(val)*scale*scale)))\n",
    "recovered_vertices2=recover_vertices(mixing_weights, vertices1, endmembers)\n",
    "print (E_RMS_kavan2010(vertices2, recovered_vertices2, scale))"
   ]
  },
  {
   "cell_type": "code",
   "execution_count": 8,
   "metadata": {},
   "outputs": [
    {
     "name": "stdout",
     "output_type": "stream",
     "text": [
      "8.155936486433758\n",
      "16311.872972867513\n",
      "(11666, 28)\n",
      "(11666, 21)\n",
      "True\n",
      "4173.383052854259\n",
      "using time:  68.27641606330872\n",
      "0.17261263587000608\n",
      "345.2252717400123\n"
     ]
    }
   ],
   "source": [
    "val=objective_func_vector(mixing_weights_clip.ravel(), vertices1, vertices2, endmembers, mixing_weights.ravel(), mixing_weights_clip.ravel(), choice=objective_choice)\n",
    "print (np.sqrt(np.square(val).sum()/(len(val)*scale*scale)))\n",
    "recovered_vertices2=recover_vertices(mixing_weights_clip, vertices1, endmembers)\n",
    "print (E_RMS_kavan2010(vertices2, recovered_vertices2, scale))\n",
    "\n",
    "start=time.time()\n",
    "\n",
    "res=run(mesh0, mesh1_list, output_prefix, weights, endmembers, mixing_weights.ravel(), mixing_weights_clip.ravel(), grad_zero_indices, initials=mixing_weights_clip.ravel(), choice=objective_choice)\n",
    "\n",
    "# res=run(mesh0, mesh1_list, output_prefix, weights, endmembers, mixing_weights.ravel(), mixing_weights_clip.ravel(), grad_zero_indices, initials=(mixing_weights_clip.ravel() + mixing_weights.ravel())/2.0, choice=objective_choice)\n",
    "\n",
    "res=res.reshape(mixing_weights.shape)\n",
    "end=time.time()\n",
    "print(\"using time: \", end-start)\n",
    "\n",
    "\n",
    "val=objective_func_vector(res.ravel(), vertices1, vertices2, endmembers, mixing_weights.ravel(), mixing_weights_clip.ravel(), choice=objective_choice)\n",
    "print (np.sqrt(np.square(val).sum()/(len(val)*scale*scale)))\n",
    "recovered_vertices2=recover_vertices(res, vertices1, endmembers)\n",
    "print (E_RMS_kavan2010(vertices2, recovered_vertices2, scale))"
   ]
  },
  {
   "cell_type": "code",
   "execution_count": 9,
   "metadata": {},
   "outputs": [
    {
     "name": "stdout",
     "output_type": "stream",
     "text": [
      "[[0.20566156 0.         0.02670986 0.15168828 0.         0.\n",
      "  0.         0.         0.0201827  0.         0.00251751 0.1444752\n",
      "  0.         0.44878519 0.        ]\n",
      " [0.21550269 0.         0.02695331 0.1646714  0.         0.\n",
      "  0.         0.         0.0144202  0.         0.00251763 0.15189328\n",
      "  0.         0.4240616  0.        ]\n",
      " [0.24015728 0.         0.0301265  0.15735741 0.         0.\n",
      "  0.         0.         0.01455602 0.         0.00251787 0.11451047\n",
      "  0.         0.44079388 0.        ]]\n",
      "0.0\n",
      "11666.30519917252\n",
      "0.15362167679813707\n"
     ]
    }
   ],
   "source": [
    "print (res.reshape((-1, len(endmembers)))[:3]) ### should have same zeros as initial input.\n",
    "print (res.ravel()[grad_zero_indices].sum()) ### should be zero\n",
    "print (res.sum())\n",
    "print ((((1-res.sum(axis=-1))**2).sum()/len(endmembers))*weights[\"W_sum\"]) ##W_sum term"
   ]
  },
  {
   "cell_type": "code",
   "execution_count": 10,
   "metadata": {},
   "outputs": [
    {
     "name": "stdout",
     "output_type": "stream",
     "text": [
      "1.975248715902671e-09\n",
      "0.0 0.9520340177867929\n"
     ]
    }
   ],
   "source": [
    "print (((1-res.sum(axis=-1))**2).sum()/len(res))\n",
    "print (res.min(), res.max())"
   ]
  },
  {
   "cell_type": "code",
   "execution_count": null,
   "metadata": {},
   "outputs": [],
   "source": []
  },
  {
   "cell_type": "code",
   "execution_count": 11,
   "metadata": {},
   "outputs": [],
   "source": [
    "# #### read gt per vertex transformation \n",
    "# groundtruth_names=glob.glob(\"./models/\"+exampleName+\"-all/\"+exampleName+\"-*.DMAT\")\n",
    "# print(groundtruth_names)\n",
    "\n",
    "# gt_all=None\n",
    "# for i in range(len(groundtruth_names)):\n",
    "#     gt=load_DMAT(groundtruth_names[i])\n",
    "#     gt=gt.T\n",
    "#     gt=gt.reshape((-1,4,3))\n",
    "#     gt=np.transpose(gt, (0,2,1)).reshape((-1,12))\n",
    "#     if gt_all is None:\n",
    "#         gt_all=gt\n",
    "#     else:\n",
    "#         gt_all=np.hstack((gt_all, gt))\n",
    "    \n",
    "# print(gt_all.shape)\n"
   ]
  },
  {
   "cell_type": "code",
   "execution_count": 12,
   "metadata": {},
   "outputs": [
    {
     "name": "stdout",
     "output_type": "stream",
     "text": [
      "['./models/cow-all/cow.DMAT']\n",
      "(11666, 15)\n",
      "1.5653958587979453e-28\n"
     ]
    }
   ],
   "source": [
    "#### read gt per vertex mixing weights \n",
    "groundtruth_names=glob.glob(\"./models/\"+exampleName+\"-all/\"+exampleName+\".DMAT\")\n",
    "print(groundtruth_names)\n",
    "gt=load_DMAT(groundtruth_names[0])\n",
    "gt_mixing_weights=gt.T.copy()\n",
    "print (gt_mixing_weights.shape)\n",
    "\n",
    "print (((gt_mixing_weights.sum(axis=-1)-1)**2).sum())"
   ]
  },
  {
   "cell_type": "code",
   "execution_count": 13,
   "metadata": {},
   "outputs": [
    {
     "name": "stdout",
     "output_type": "stream",
     "text": [
      "['./models/cow-all/poses-2/cow-1.Tmat', './models/cow-all/poses-2/cow-2.Tmat', './models/cow-all/poses-2/cow-3.Tmat', './models/cow-all/poses-2/cow-4.Tmat', './models/cow-all/poses-2/cow-5.Tmat', './models/cow-all/poses-2/cow-6.Tmat', './models/cow-all/poses-2/cow-7.Tmat']\n",
      "(15, 84)\n",
      "(7, 15, 12)\n",
      "[[1. 0. 0. 0.]\n",
      " [0. 1. 0. 0.]\n",
      " [0. 0. 1. 0.]]\n",
      "[[ 0.998956    0.0322376   0.0323555  -2.24837   ]\n",
      " [-0.0456047   0.664913    0.745527   27.1422    ]\n",
      " [ 0.00252045 -0.746225    0.665689   53.4901    ]]\n",
      "[[1. 0. 0. 0.]\n",
      " [0. 1. 0. 0.]\n",
      " [0. 0. 1. 0.]]\n",
      "[[1. 0. 0. 0.]\n",
      " [0. 1. 0. 0.]\n",
      " [0. 0. 1. 0.]]\n",
      "[[1. 0. 0. 0.]\n",
      " [0. 1. 0. 0.]\n",
      " [0. 0. 1. 0.]]\n",
      "[[1. 0. 0. 0.]\n",
      " [0. 1. 0. 0.]\n",
      " [0. 0. 1. 0.]]\n",
      "[[1. 0. 0. 0.]\n",
      " [0. 1. 0. 0.]\n",
      " [0. 0. 1. 0.]]\n",
      "[[ 0.99999923 -0.00000004  0.00000002]\n",
      " [-0.00000004  1.00000031 -0.00000012]\n",
      " [ 0.00000002 -0.00000012  0.99999923]]\n"
     ]
    }
   ],
   "source": [
    "### load groundtruth endmember\n",
    "groundtruth_names=glob.glob(\"./models/\"+exampleName+\"-all/\"+poses_folder+\"/\"+exampleName+\"-*.Tmat\")\n",
    "print(groundtruth_names)\n",
    "\n",
    "gt_handles=None\n",
    "for i in range(len(groundtruth_names)):\n",
    "    gt=load_Tmat(groundtruth_names[i])\n",
    "    gt=gt.reshape((-1,4,3))\n",
    "    gt=np.transpose(gt, (0,2,1)).reshape((-1,12))\n",
    "    if gt_handles is None:\n",
    "        gt_handles=gt\n",
    "    else:\n",
    "        gt_handles=np.hstack((gt_handles, gt))\n",
    "    \n",
    "print(gt_handles.shape)\n",
    "gt_handles=gt_handles.reshape(len(groundtruth_names), -1, 12)\n",
    "\n",
    "gt_handles=np.transpose(gt_handles.reshape(-1, len(groundtruth_names), 12), (1,0,2)) ### is this true?\n",
    "\n",
    "print(gt_handles.shape)\n",
    "\n",
    "for i in range(len(gt_handles)):\n",
    "    print (gt_handles[i][2].reshape((3,4)))\n",
    "\n",
    "test=gt_handles[1][2].reshape((3,4))[:,:3]\n",
    "print (test.T.dot(test))"
   ]
  },
  {
   "cell_type": "code",
   "execution_count": 14,
   "metadata": {},
   "outputs": [],
   "source": [
    "# #### do a groundtruth test.\n",
    "# val=objective_func_vector(gt_mixing_weights.ravel(), vertices1, vertices2, gt_handles, gt_mixing_weights.ravel(), gt_mixing_weights.ravel(), choice=objective_choice)\n",
    "# print ((abs(val)).max(), (abs(val)).min())\n",
    "# print (np.square(val).sum()/(len(val)))\n",
    "\n",
    "# res=run(mesh0, mesh1_list, output_prefix, weights, gt_handles, gt_mixing_weights.ravel(), gt_mixing_weights.ravel(), grad_zero_indices, initials=gt_mixing_weights.ravel(), choice=objective_choice)\n",
    "# res=res.reshape(gt_mixing_weights.shape)"
   ]
  },
  {
   "cell_type": "code",
   "execution_count": null,
   "metadata": {},
   "outputs": [],
   "source": []
  },
  {
   "cell_type": "code",
   "execution_count": 15,
   "metadata": {},
   "outputs": [
    {
     "name": "stderr",
     "output_type": "stream",
     "text": [
      "/usr/local/lib/python3.6/site-packages/ipykernel_launcher.py:8: RuntimeWarning: invalid value encountered in true_divide\n",
      "  \n",
      "/usr/local/lib/python3.6/site-packages/ipykernel_launcher.py:9: RuntimeWarning: invalid value encountered in true_divide\n",
      "  if __name__ == '__main__':\n"
     ]
    },
    {
     "name": "stdout",
     "output_type": "stream",
     "text": [
      "Using matplotlib backend: MacOSX\n"
     ]
    }
   ],
   "source": [
    "### plot handles corresponding to gt mixing weights, recovered mixing weights, and post-processed mixing weights.\n",
    "###\n",
    "\n",
    "Vertices=vertices2[:,poses_ind*3:poses_ind*3+3]\n",
    "\n",
    "gt_handle_position=gt_mixing_weights.T.dot(Vertices)/gt_mixing_weights.T.sum(axis=-1)[...,np.newaxis]\n",
    "recovered_handle_position=mixing_weights.T.dot(Vertices)/mixing_weights.T.sum(axis=-1)[...,np.newaxis]\n",
    "cliped_handle_position=mixing_weights_clip.T.dot(Vertices)/mixing_weights_clip.T.sum(axis=-1)[...,np.newaxis]\n",
    "postprocessed_handle_position=res.T.dot(Vertices)/res.T.sum(axis=-1)[...,np.newaxis]\n",
    "\n",
    "%matplotlib \n",
    "import matplotlib.pyplot as plt\n",
    "from mpl_toolkits.mplot3d import Axes3D\n",
    "\n",
    "fig= plt.figure()\n",
    "ax=fig.add_subplot(111, projection='3d')\n",
    "\n",
    "ax.scatter(gt_handle_position[:,0],gt_handle_position[:,1], gt_handle_position[:,2], c='k', s=50)\n",
    "ax.scatter(recovered_handle_position[:,0],recovered_handle_position[:,1], recovered_handle_position[:,2], c='r', s=50)\n",
    "# ax.scatter(cliped_handle_position[:,0],cliped_handle_position[:,1], cliped_handle_position[:,2], c='g', s=50)\n",
    "ax.scatter(postprocessed_handle_position[:,0],postprocessed_handle_position[:,1], postprocessed_handle_position[:,2], c='b', s=50)\n",
    "ax.scatter(Vertices[:,0],Vertices[:,1], Vertices[:,2], color='y', s=1, edgecolors='none')\n",
    "\n",
    "plt.show()"
   ]
  },
  {
   "cell_type": "code",
   "execution_count": null,
   "metadata": {},
   "outputs": [],
   "source": []
  },
  {
   "cell_type": "code",
   "execution_count": null,
   "metadata": {},
   "outputs": [],
   "source": []
  },
  {
   "cell_type": "code",
   "execution_count": null,
   "metadata": {},
   "outputs": [],
   "source": []
  },
  {
   "cell_type": "code",
   "execution_count": null,
   "metadata": {},
   "outputs": [],
   "source": []
  },
  {
   "cell_type": "code",
   "execution_count": null,
   "metadata": {},
   "outputs": [],
   "source": []
  },
  {
   "cell_type": "code",
   "execution_count": null,
   "metadata": {},
   "outputs": [],
   "source": []
  },
  {
   "cell_type": "code",
   "execution_count": null,
   "metadata": {},
   "outputs": [],
   "source": []
  },
  {
   "cell_type": "code",
   "execution_count": null,
   "metadata": {},
   "outputs": [],
   "source": []
  },
  {
   "cell_type": "code",
   "execution_count": null,
   "metadata": {},
   "outputs": [],
   "source": []
  }
 ],
 "metadata": {
  "kernelspec": {
   "display_name": "Python 3",
   "language": "python",
   "name": "python3"
  },
  "language_info": {
   "codemirror_mode": {
    "name": "ipython",
    "version": 3
   },
   "file_extension": ".py",
   "mimetype": "text/x-python",
   "name": "python",
   "nbconvert_exporter": "python",
   "pygments_lexer": "ipython3",
   "version": "3.6.5"
  }
 },
 "nbformat": 4,
 "nbformat_minor": 2
}
