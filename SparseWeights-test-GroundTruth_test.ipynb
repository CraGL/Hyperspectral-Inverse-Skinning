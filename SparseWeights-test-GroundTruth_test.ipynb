{
 "cells": [
  {
   "cell_type": "code",
   "execution_count": 1,
   "metadata": {},
   "outputs": [],
   "source": [
    "from SmoothSparseWeights import *\n",
    "from SmoothSparseWeights_Alternating import *"
   ]
  },
  {
   "cell_type": "code",
   "execution_count": 2,
   "metadata": {},
   "outputs": [],
   "source": [
    "# exampleName=\"cheburashka\"\n",
    "# poses_folder=\"poses-2\"\n",
    "# poses_ind=7\n",
    "# clip_k=4\n",
    "# handle_num=11\n",
    "\n",
    "\n",
    "exampleName=\"cow\"\n",
    "poses_folder=\"poses-2\"\n",
    "poses_ind=5\n",
    "clip_k=4\n",
    "handle_num=15\n",
    "\n",
    "\n",
    "# exampleName=\"wolf\"\n",
    "# poses_folder=\"poses-1\"\n",
    "# poses_ind=2\n",
    "# clip_k=4\n",
    "# handle_num=21\n",
    "\n",
    "\n",
    "objective_choice=0\n",
    "\n",
    "\n",
    "weights = {\n",
    "           'W_sparse': 0.0,\n",
    "           'W_spatial': 0.0,\n",
    "           'W_sum': 10.0\n",
    "          }"
   ]
  },
  {
   "cell_type": "code",
   "execution_count": 3,
   "metadata": {},
   "outputs": [
    {
     "name": "stdout",
     "output_type": "stream",
     "text": [
      "['./models/cheburashka-all/poses-2/cheburashka-01.obj', './models/cheburashka-all/poses-2/cheburashka-02.obj', './models/cheburashka-all/poses-2/cheburashka-03.obj', './models/cheburashka-all/poses-2/cheburashka-04.obj', './models/cheburashka-all/poses-2/cheburashka-05.obj', './models/cheburashka-all/poses-2/cheburashka-06.obj', './models/cheburashka-all/poses-2/cheburashka-07.obj', './models/cheburashka-all/poses-2/cheburashka-08.obj', './models/cheburashka-all/poses-2/cheburashka-09.obj', './models/cheburashka-all/poses-2/cheburashka-10.obj', './models/cheburashka-all/poses-2/cheburashka-11.obj']\n",
      "(6669, 44)\n",
      "(6669, 33)\n"
     ]
    }
   ],
   "source": [
    "#### read obj file\n",
    "\n",
    "### rest_poses:\n",
    "vertices_obj_path=\"./models/\"+exampleName+\"-all/\"+exampleName+\".obj\"\n",
    "mesh0=TriMesh.FromOBJ_FileName(vertices_obj_path)\n",
    "\n",
    "### other poses\n",
    "vertices_obj_dir=\"./models/\"+exampleName+\"-all/\"+poses_folder+\"/\"\n",
    "filenames=glob.glob(vertices_obj_dir+\"*.obj\")\n",
    "print(filenames)\n",
    "\n",
    "mesh1_list=[]\n",
    "for i in range(len(filenames)):\n",
    "    mesh1_list.append(TriMesh.FromOBJ_FileName(filenames[i]))\n",
    "\n",
    "\n",
    "vertices1=vertices1_temp=np.hstack((np.asarray(mesh0.vs),np.ones((len(mesh0.vs),1))))\n",
    "vertices2=vertices2_temp=np.asarray(mesh1_list[0].vs)\n",
    "for i in range(1,len(mesh1_list)):\n",
    "    vertices1=np.hstack((vertices1, vertices1_temp))\n",
    "    vertices2=np.hstack((vertices2, np.asarray(mesh1_list[i].vs)))\n",
    "print(vertices1.shape) \n",
    "print(vertices2.shape) \n"
   ]
  },
  {
   "cell_type": "code",
   "execution_count": 4,
   "metadata": {},
   "outputs": [],
   "source": [
    "#### solve for transformation per vertex, with smoothness regularization and transformation matrix L2 norm regularization.\n",
    "output_prefix=\"./sparse-smooth-mixing-weights-test/\"+exampleName\n"
   ]
  },
  {
   "cell_type": "code",
   "execution_count": 5,
   "metadata": {},
   "outputs": [
    {
     "name": "stdout",
     "output_type": "stream",
     "text": [
      "['./models/cheburashka-all/cheburashka.DMAT']\n",
      "(6669, 11)\n",
      "7.810955556852425e-29\n"
     ]
    }
   ],
   "source": [
    "#### read gt per vertex mixing weights \n",
    "groundtruth_names=glob.glob(\"./models/\"+exampleName+\"-all/\"+exampleName+\".DMAT\")\n",
    "print(groundtruth_names)\n",
    "gt=load_DMAT(groundtruth_names[0])\n",
    "gt_mixing_weights=gt.T.copy()\n",
    "print (gt_mixing_weights.shape)\n",
    "\n",
    "print (((gt_mixing_weights.sum(axis=-1)-1)**2).sum())"
   ]
  },
  {
   "cell_type": "code",
   "execution_count": 6,
   "metadata": {},
   "outputs": [
    {
     "name": "stdout",
     "output_type": "stream",
     "text": [
      "['./models/cheburashka-all/poses-2/cheburashka-01.Tmat', './models/cheburashka-all/poses-2/cheburashka-02.Tmat', './models/cheburashka-all/poses-2/cheburashka-03.Tmat', './models/cheburashka-all/poses-2/cheburashka-04.Tmat', './models/cheburashka-all/poses-2/cheburashka-05.Tmat', './models/cheburashka-all/poses-2/cheburashka-06.Tmat', './models/cheburashka-all/poses-2/cheburashka-07.Tmat', './models/cheburashka-all/poses-2/cheburashka-08.Tmat', './models/cheburashka-all/poses-2/cheburashka-09.Tmat', './models/cheburashka-all/poses-2/cheburashka-10.Tmat', './models/cheburashka-all/poses-2/cheburashka-11.Tmat']\n",
      "(11, 12)\n",
      "(11, 12)\n",
      "(11, 12)\n",
      "(11, 12)\n",
      "(11, 12)\n",
      "(11, 12)\n",
      "(11, 12)\n",
      "(11, 12)\n",
      "(11, 12)\n",
      "(11, 12)\n",
      "(11, 12)\n",
      "(11, 132)\n",
      "(11, 11, 12)\n",
      "[[1. 0. 0. 0.]\n",
      " [0. 1. 0. 0.]\n",
      " [0. 0. 1. 0.]]\n",
      "[[ 0.943272  -0.314168   0.107404   0.106593 ]\n",
      " [-0.0357635  0.225464   0.973595  -0.0999588]\n",
      " [-0.330088  -0.922206   0.201439   0.882928 ]]\n",
      "[[1. 0. 0. 0.]\n",
      " [0. 1. 0. 0.]\n",
      " [0. 0. 1. 0.]]\n",
      "[[1. 0. 0. 0.]\n",
      " [0. 1. 0. 0.]\n",
      " [0. 0. 1. 0.]]\n",
      "[[1. 0. 0. 0.]\n",
      " [0. 1. 0. 0.]\n",
      " [0. 0. 1. 0.]]\n",
      "[[1. 0. 0. 0.]\n",
      " [0. 1. 0. 0.]\n",
      " [0. 0. 1. 0.]]\n",
      "[[1. 0. 0. 0.]\n",
      " [0. 1. 0. 0.]\n",
      " [0. 0. 1. 0.]]\n",
      "[[1. 0. 0. 0.]\n",
      " [0. 1. 0. 0.]\n",
      " [0. 0. 1. 0.]]\n",
      "[[1. 0. 0. 0.]\n",
      " [0. 1. 0. 0.]\n",
      " [0. 0. 1. 0.]]\n",
      "[[1. 0. 0. 0.]\n",
      " [0. 1. 0. 0.]\n",
      " [0. 0. 1. 0.]]\n",
      "[[1. 0. 0. 0.]\n",
      " [0. 1. 0. 0.]\n",
      " [0. 0. 1. 0.]]\n",
      "[[ 9.99999182e-01 -1.25332000e-07 -5.75526500e-07]\n",
      " [-1.25332000e-07  9.99999454e-01 -5.31226000e-07]\n",
      " [-5.75526500e-07 -5.31226000e-07  1.00000051e+00]]\n"
     ]
    }
   ],
   "source": [
    "### load groundtruth endmember\n",
    "groundtruth_names=glob.glob(\"./models/\"+exampleName+\"-all/\"+poses_folder+\"/\"+exampleName+\"-*.Tmat\")\n",
    "print(groundtruth_names)\n",
    "\n",
    "gt_handles=None\n",
    "for i in range(len(groundtruth_names)):\n",
    "    gt=load_Tmat(groundtruth_names[i])\n",
    "    gt=gt.reshape((-1,4,3))\n",
    "    gt=np.transpose(gt, (0,2,1)).reshape((-1,12))\n",
    "    print (gt.shape)\n",
    "    if gt_handles is None:\n",
    "        gt_handles=gt\n",
    "    else:\n",
    "        gt_handles=np.hstack((gt_handles, gt))\n",
    "    \n",
    "print(gt_handles.shape)\n",
    "gt_handles=gt_handles.reshape(-1, len(groundtruth_names), 12)\n",
    "\n",
    "\n",
    "# #### is this True??????\n",
    "# gt_handles=np.transpose(gt_handles.reshape(-1, len(groundtruth_names), 12), (1,0,2)) \n",
    "\n",
    "\n",
    "print(gt_handles.shape)\n",
    "\n",
    "for i in range(len(gt_handles)):\n",
    "    print (gt_handles[i][2].reshape((3,4)))\n",
    "\n",
    "test=gt_handles[1][2].reshape((3,4))[:,:3]\n",
    "print (test.T.dot(test))"
   ]
  },
  {
   "cell_type": "code",
   "execution_count": 7,
   "metadata": {},
   "outputs": [
    {
     "name": "stdout",
     "output_type": "stream",
     "text": [
      "objective function choice:  0\n",
      "0.00016590000000005212 0.0\n",
      "6.309560751784238e-13\n",
      "(6669, 44)\n",
      "(6669, 33)\n",
      "objective function choice:  0\n",
      "1.8928682255352715e-12\n",
      "objective function choice:  0\n",
      "Autograd ArrayBox with value 1.8928682255352715e-12\n",
      "True\n",
      "1.2623538196094724e-08\n"
     ]
    }
   ],
   "source": [
    "#### do a groundtruth test.\n",
    "val=objective_func_vector(gt_mixing_weights.ravel(), vertices1, vertices2, gt_handles, gt_mixing_weights.ravel(), gt_mixing_weights.ravel(), choice=objective_choice)\n",
    "print ((abs(val)).max(), (abs(val)).min())\n",
    "print (np.square(val).sum()/(len(val)))\n",
    "\n",
    "res=run(mesh0, mesh1_list, output_prefix, weights, gt_handles, gt_mixing_weights.ravel(), gt_mixing_weights.ravel(), initials=gt_mixing_weights.ravel(), choice=objective_choice)\n",
    "res=res.reshape(gt_mixing_weights.shape)"
   ]
  },
  {
   "cell_type": "code",
   "execution_count": null,
   "metadata": {},
   "outputs": [],
   "source": []
  },
  {
   "cell_type": "code",
   "execution_count": 8,
   "metadata": {},
   "outputs": [
    {
     "name": "stdout",
     "output_type": "stream",
     "text": [
      "['./models/cheburashka-all/poses-2/cheburashka-01.DMAT', './models/cheburashka-all/poses-2/cheburashka-02.DMAT', './models/cheburashka-all/poses-2/cheburashka-03.DMAT', './models/cheburashka-all/poses-2/cheburashka-04.DMAT', './models/cheburashka-all/poses-2/cheburashka-05.DMAT', './models/cheburashka-all/poses-2/cheburashka-06.DMAT', './models/cheburashka-all/poses-2/cheburashka-07.DMAT', './models/cheburashka-all/poses-2/cheburashka-08.DMAT', './models/cheburashka-all/poses-2/cheburashka-09.DMAT', './models/cheburashka-all/poses-2/cheburashka-10.DMAT', './models/cheburashka-all/poses-2/cheburashka-11.DMAT']\n",
      "(6669, 12)\n",
      "(6669, 12)\n",
      "(6669, 12)\n",
      "(6669, 12)\n",
      "(6669, 12)\n",
      "(6669, 12)\n",
      "(6669, 12)\n",
      "(6669, 12)\n",
      "(6669, 12)\n",
      "(6669, 12)\n",
      "(6669, 12)\n",
      "(6669, 132)\n"
     ]
    }
   ],
   "source": [
    "#### read gt per vertex transformation \n",
    "groundtruth_names=glob.glob(\"./models/\"+exampleName+\"-all/\"+poses_folder+\"/\"+exampleName+\"-*.DMAT\")\n",
    "print(groundtruth_names)\n",
    "\n",
    "gt_all=None\n",
    "for i in range(len(groundtruth_names)):\n",
    "    gt=load_DMAT(groundtruth_names[i])\n",
    "    gt=gt.T\n",
    "    gt=gt.reshape((-1,4,3))\n",
    "    gt=np.transpose(gt, (0,2,1)).reshape((-1,12))\n",
    "    print (gt.shape)\n",
    "    if gt_all is None:\n",
    "        gt_all=gt\n",
    "    else:\n",
    "        gt_all=np.hstack((gt_all, gt))\n",
    "    \n",
    "print(gt_all.shape)\n"
   ]
  },
  {
   "cell_type": "code",
   "execution_count": 9,
   "metadata": {},
   "outputs": [
    {
     "name": "stdout",
     "output_type": "stream",
     "text": [
      "(6669, 11)\n",
      "(11, 11, 12)\n"
     ]
    }
   ],
   "source": [
    "print (gt_mixing_weights.shape)\n",
    "print (gt_handles.shape)"
   ]
  },
  {
   "cell_type": "code",
   "execution_count": 10,
   "metadata": {},
   "outputs": [
    {
     "name": "stdout",
     "output_type": "stream",
     "text": [
      "(6669, 132)\n"
     ]
    }
   ],
   "source": [
    "per_vertex_trans=gt_mixing_weights.dot(gt_handles.reshape((gt_mixing_weights.shape[1], -1)))\n",
    "print (per_vertex_trans.shape)"
   ]
  },
  {
   "cell_type": "code",
   "execution_count": 11,
   "metadata": {},
   "outputs": [
    {
     "name": "stdout",
     "output_type": "stream",
     "text": [
      "0.0007782307929949939 0.0\n",
      "0.212554458075536\n"
     ]
    }
   ],
   "source": [
    "diff= abs(gt_all-per_vertex_trans.reshape((len(gt_all),-1)))\n",
    "\n",
    "print (diff.max(),diff.min())\n",
    "print (diff.sum())"
   ]
  },
  {
   "cell_type": "code",
   "execution_count": null,
   "metadata": {},
   "outputs": [],
   "source": []
  },
  {
   "cell_type": "code",
   "execution_count": 12,
   "metadata": {},
   "outputs": [],
   "source": [
    "Matrix=gt_all.copy()\n",
    "\n",
    "N=len(vertices1)\n",
    "Matrix=Matrix.reshape((N, -1, 3, 4))\n",
    "\n",
    "reconstruct_vertices2=np.multiply(Matrix, vertices1.reshape((N, -1, 1, 4))).sum(axis=-1)\n",
    "\n",
    "err= (reconstruct_vertices2-vertices2.reshape((N,-1,3))).reshape(-1)"
   ]
  },
  {
   "cell_type": "code",
   "execution_count": 13,
   "metadata": {},
   "outputs": [
    {
     "name": "stdout",
     "output_type": "stream",
     "text": [
      "1.585319064374342e-15\n"
     ]
    }
   ],
   "source": [
    "print (np.square(err).sum()/len(err))"
   ]
  },
  {
   "cell_type": "code",
   "execution_count": null,
   "metadata": {},
   "outputs": [],
   "source": []
  },
  {
   "cell_type": "code",
   "execution_count": null,
   "metadata": {},
   "outputs": [],
   "source": []
  },
  {
   "cell_type": "code",
   "execution_count": null,
   "metadata": {},
   "outputs": [],
   "source": []
  },
  {
   "cell_type": "code",
   "execution_count": null,
   "metadata": {},
   "outputs": [],
   "source": []
  },
  {
   "cell_type": "code",
   "execution_count": null,
   "metadata": {},
   "outputs": [],
   "source": []
  },
  {
   "cell_type": "code",
   "execution_count": null,
   "metadata": {},
   "outputs": [],
   "source": []
  }
 ],
 "metadata": {
  "kernelspec": {
   "display_name": "Python 3",
   "language": "python",
   "name": "python3"
  },
  "language_info": {
   "codemirror_mode": {
    "name": "ipython",
    "version": 3
   },
   "file_extension": ".py",
   "mimetype": "text/x-python",
   "name": "python",
   "nbconvert_exporter": "python",
   "pygments_lexer": "ipython3",
   "version": "3.6.5"
  }
 },
 "nbformat": 4,
 "nbformat_minor": 2
}
