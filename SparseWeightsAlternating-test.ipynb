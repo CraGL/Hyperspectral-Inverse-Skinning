{
 "cells": [
  {
   "cell_type": "code",
   "execution_count": 1,
   "metadata": {},
   "outputs": [],
   "source": [
    "import numpy as np\n",
    "np.set_printoptions(suppress=True)\n",
    "\n",
    "from SmoothSparseWeights import *\n",
    "from SmoothSparseWeights_Alternating import *"
   ]
  },
  {
   "cell_type": "code",
   "execution_count": 2,
   "metadata": {},
   "outputs": [],
   "source": [
    "# exampleName=\"cheburashka\"\n",
    "# poses_folder=\"poses-2\"\n",
    "# poses_ind=7\n",
    "# clip_k=5\n",
    "# handle_num=11\n",
    "\n",
    "\n",
    "exampleName=\"cow\"\n",
    "poses_folder=\"poses-2\"\n",
    "poses_ind=5\n",
    "clip_k=7\n",
    "handle_num=15\n",
    "\n",
    "\n",
    "# exampleName=\"wolf\"\n",
    "# poses_folder=\"poses-1\"\n",
    "# poses_ind=2\n",
    "# clip_k=18\n",
    "# handle_num=21\n",
    "\n",
    "\n",
    "objective_choice=0\n",
    "\n",
    "\n",
    "weights = {\n",
    "           'W_sparse': 0.0,\n",
    "           'W_spatial': 0.0,\n",
    "           'W_sum': 100000.0\n",
    "          }"
   ]
  },
  {
   "cell_type": "code",
   "execution_count": 3,
   "metadata": {},
   "outputs": [
    {
     "name": "stdout",
     "output_type": "stream",
     "text": [
      "['./models/cow-all/poses-2/cow-1.obj', './models/cow-all/poses-2/cow-2.obj', './models/cow-all/poses-2/cow-3.obj', './models/cow-all/poses-2/cow-4.obj', './models/cow-all/poses-2/cow-5.obj', './models/cow-all/poses-2/cow-6.obj', './models/cow-all/poses-2/cow-7.obj']\n",
      "(11666, 28)\n",
      "(11666, 21)\n"
     ]
    }
   ],
   "source": [
    "#### read obj file\n",
    "\n",
    "### rest_poses:\n",
    "vertices_obj_path=\"./models/\"+exampleName+\"-all/\"+exampleName+\".obj\"\n",
    "mesh0=TriMesh.FromOBJ_FileName(vertices_obj_path)\n",
    "\n",
    "### other poses\n",
    "vertices_obj_dir=\"./models/\"+exampleName+\"-all/\"+poses_folder+\"/\"\n",
    "filenames=glob.glob(vertices_obj_dir+\"*.obj\")\n",
    "print(filenames)\n",
    "\n",
    "mesh1_list=[]\n",
    "for i in range(len(filenames)):\n",
    "    mesh1_list.append(TriMesh.FromOBJ_FileName(filenames[i]))\n",
    "\n",
    "\n",
    "vertices1=vertices1_temp=np.hstack((np.asarray(mesh0.vs),np.ones((len(mesh0.vs),1))))\n",
    "vertices2=vertices2_temp=np.asarray(mesh1_list[0].vs)\n",
    "for i in range(1,len(mesh1_list)):\n",
    "    vertices1=np.hstack((vertices1, vertices1_temp))\n",
    "    vertices2=np.hstack((vertices2, np.asarray(mesh1_list[i].vs)))\n",
    "print(vertices1.shape) \n",
    "print(vertices2.shape) \n"
   ]
  },
  {
   "cell_type": "code",
   "execution_count": 4,
   "metadata": {},
   "outputs": [
    {
     "name": "stdout",
     "output_type": "stream",
     "text": [
      "(15, 84)\n",
      "(11666, 15)\n",
      "[[0.20570602 0.00042219 0.02655054 0.15167153 0.00018981 0.00004767\n",
      "  0.00030539 0.00002423 0.02001831 0.00000105 0.00102998 0.14445015\n",
      "  0.00045419 0.44910447 0.00002447]\n",
      " [0.21555833 0.0004373  0.02679411 0.16466939 0.00016431 0.00004939\n",
      "  0.00029969 0.00002367 0.01424946 0.00000119 0.00101018 0.15187666\n",
      "  0.00048589 0.42435294 0.00002749]\n",
      " [0.24024097 0.00040106 0.02997077 0.15734726 0.00013956 0.00004676\n",
      "  0.00030475 0.00002278 0.01438586 0.00000122 0.00103343 0.11445163\n",
      "  0.00051674 0.44110425 0.00003297]]\n",
      "[[0.20570602 0.         0.02655054 0.15167153 0.         0.\n",
      "  0.         0.         0.02001831 0.         0.00102998 0.14445015\n",
      "  0.         0.44910447 0.        ]\n",
      " [0.21555833 0.         0.02679411 0.16466939 0.         0.\n",
      "  0.         0.         0.01424946 0.         0.00101018 0.15187666\n",
      "  0.         0.42435294 0.        ]\n",
      " [0.24024097 0.         0.02997077 0.15734726 0.         0.\n",
      "  0.         0.         0.01438586 0.         0.00103343 0.11445163\n",
      "  0.         0.44110425 0.        ]]\n",
      "[ 9  7 14  5  4  6  1 12 24 22 29 20 19 21 16 27 39 37 44 35 34 36 31 42\n",
      " 54 52 59 50 49 51 46 57 69 74 67 65 64 66 61 72 84 82 89 80 79]\n",
      "0.0\n"
     ]
    }
   ],
   "source": [
    "#### read our output of simplex_hull.py \n",
    "results_path=\"./results_pipeline/\"+exampleName+\"-\"+str(handle_num)+\"/result.txt\"\n",
    "endmembers, mixing_weights=load_result(results_path)\n",
    "### endmembers shape is handle * poses * 12??\n",
    "\n",
    "#### this is to make sure the 3*4 or 4*3 error does not happen. ???\n",
    "# endmembers=endmembers.reshape((-1, 4, 3))\n",
    "# endmembers=np.transpose(endmembers, (0,2,1))\n",
    "# endmembers=endmembers.reshape((len(mixing_weights), -1, 12))\n",
    "\n",
    "\n",
    "endmembers=endmembers.reshape((len(mixing_weights),-1))\n",
    "mixing_weights=mixing_weights.T\n",
    "\n",
    "\n",
    "print (endmembers.shape)\n",
    "print (mixing_weights.shape)\n",
    "print (mixing_weights[:3])\n",
    "mixing_weights_clip, grad_zero_indices=clip_first_k_values(mixing_weights, clip_k)\n",
    "print (mixing_weights_clip[:3])\n",
    "\n",
    "print (grad_zero_indices[:len(endmembers)*3])\n",
    "\n",
    "print (mixing_weights_clip.ravel()[grad_zero_indices].sum())"
   ]
  },
  {
   "cell_type": "code",
   "execution_count": 5,
   "metadata": {},
   "outputs": [],
   "source": [
    "#### solve for transformation per vertex, with smoothness regularization and transformation matrix L2 norm regularization.\n",
    "output_prefix=\"./sparse-smooth-mixing-weights-test/\"+exampleName"
   ]
  },
  {
   "cell_type": "code",
   "execution_count": 6,
   "metadata": {},
   "outputs": [
    {
     "name": "stdout",
     "output_type": "stream",
     "text": [
      "708.6870049193496\n"
     ]
    }
   ],
   "source": [
    "scale=find_scale(vertices1)\n",
    "print (scale)"
   ]
  },
  {
   "cell_type": "code",
   "execution_count": 7,
   "metadata": {},
   "outputs": [
    {
     "name": "stdout",
     "output_type": "stream",
     "text": [
      "3.766786638470725e-05\n",
      "0.07533573276941448\n"
     ]
    }
   ],
   "source": [
    "### gt test\n",
    "val=objective_func_vector(mixing_weights.ravel(), vertices1, vertices2, endmembers, mixing_weights.ravel(), mixing_weights_clip.ravel(), choice=objective_choice)\n",
    "print (np.sqrt(np.square(val).sum()/(len(val)*scale*scale)))\n",
    "recovered_vertices2=recover_vertices(mixing_weights, vertices1, endmembers)\n",
    "print (E_RMS_kavan2010(vertices2, recovered_vertices2, scale))"
   ]
  },
  {
   "cell_type": "code",
   "execution_count": 8,
   "metadata": {},
   "outputs": [
    {
     "name": "stdout",
     "output_type": "stream",
     "text": [
      "8.155936486433758\n",
      "16311.872972867513\n"
     ]
    }
   ],
   "source": [
    "val=objective_func_vector(mixing_weights_clip.ravel(), vertices1, vertices2, endmembers, mixing_weights.ravel(), mixing_weights_clip.ravel(), choice=objective_choice)\n",
    "print (np.sqrt(np.square(val).sum()/(len(val)*scale*scale)))\n",
    "recovered_vertices2=recover_vertices(mixing_weights_clip, vertices1, endmembers)\n",
    "print (E_RMS_kavan2010(vertices2, recovered_vertices2, scale))"
   ]
  },
  {
   "cell_type": "code",
   "execution_count": 9,
   "metadata": {},
   "outputs": [
    {
     "name": "stdout",
     "output_type": "stream",
     "text": [
      "(11666, 28)\n",
      "(11666, 21)\n",
      "####loop:  0\n",
      "####solve mixing weights\n",
      "True\n",
      "4173.3830672145705\n",
      "####solve endmembers\n",
      "True\n",
      "####endmember changes:  [1998.62402881  568.77727215 2188.07340524 1038.27295473    1.30911247\n",
      "    3.59887847   97.90188146    0.32683428  609.48841298    0.\n",
      " 3244.250178    585.1506228  2910.43581325 1660.62291916    0.07209785]\n",
      "####loop:  1\n",
      "####solve mixing weights\n",
      "True\n",
      "207.4278844979567\n",
      "####solve endmembers\n",
      "True\n",
      "####endmember changes:  [ 19.72368518  14.02149064 345.04338341  19.38049273   0.00434099\n",
      "   0.03607512   4.1472472    0.         147.49194898   0.\n",
      "  61.1225285   21.19634171  55.78902481  27.960639     0.        ]\n",
      "####loop:  2\n",
      "####solve mixing weights\n",
      "True\n",
      "141.3587148648052\n",
      "####solve endmembers\n",
      "True\n",
      "####endmember changes:  [ 15.37414723  14.35796449 154.71366502  21.58737978   0.01335737\n",
      "   0.05488144   4.25499403   0.         118.78742649   0.\n",
      "  43.24399251  17.50922161  38.40517091  24.80907225   0.        ]\n",
      "####loop:  3\n",
      "####solve mixing weights\n",
      "True\n",
      "130.2137301388305\n",
      "####solve endmembers\n",
      "True\n",
      "####endmember changes:  [ 2.59952434  1.06872094  5.29141487  8.03133936  0.00076181  0.000896\n",
      "  0.30964245  0.          9.42161697  0.          2.80270275 11.10554691\n",
      "  2.36648624  3.803096    0.        ]\n",
      "####loop:  4\n",
      "####solve mixing weights\n",
      "True\n",
      "128.80528883387439\n",
      "####solve endmembers\n",
      "True\n",
      "####endmember changes:  [2.69409948 1.44946123 6.91219181 5.72795464 0.00106222 0.00183175\n",
      " 0.40291529 0.         8.43126158 0.         3.71891294 8.89348123\n",
      " 3.18703526 3.90314923 0.        ]\n",
      "using time:  617.3830189704895\n"
     ]
    }
   ],
   "source": [
    "start=time.time()\n",
    "\n",
    "res, new_endmembers = run(mesh0, mesh1_list, output_prefix, weights, endmembers, mixing_weights.ravel(), mixing_weights_clip.ravel(), grad_zero_indices, initials=mixing_weights_clip.ravel(), choice=objective_choice)\n",
    "\n",
    "# res, new_endmembers = run(mesh0, mesh1_list, output_prefix, weights, endmembers, mixing_weights.ravel(), mixing_weights_clip.ravel(), grad_zero_indices, initials=(mixing_weights_clip.ravel() + mixing_weights.ravel())/2.0, choice=objective_choice)\n",
    "\n",
    "res=res.reshape(mixing_weights.shape)\n",
    "end=time.time()\n",
    "print(\"using time: \", end-start)"
   ]
  },
  {
   "cell_type": "code",
   "execution_count": 10,
   "metadata": {},
   "outputs": [
    {
     "name": "stdout",
     "output_type": "stream",
     "text": [
      "0.03027733205742391\n",
      "60.55466411484781\n"
     ]
    }
   ],
   "source": [
    "val=objective_func_vector(res.ravel(), vertices1, vertices2, new_endmembers, mixing_weights.ravel(), mixing_weights_clip.ravel(), choice=objective_choice)\n",
    "print (np.sqrt(np.square(val).sum()/(len(val)*scale*scale)))\n",
    "recovered_vertices2=recover_vertices(res, vertices1, new_endmembers)\n",
    "print (E_RMS_kavan2010(vertices2, recovered_vertices2, scale))"
   ]
  },
  {
   "cell_type": "code",
   "execution_count": 11,
   "metadata": {},
   "outputs": [
    {
     "name": "stdout",
     "output_type": "stream",
     "text": [
      "[[0.20547409 0.         0.02717891 0.15141601 0.         0.\n",
      "  0.         0.         0.02032394 0.         0.00251736 0.14431099\n",
      "  0.         0.44877751 0.        ]\n",
      " [0.2153823  0.         0.02711883 0.16447858 0.         0.\n",
      "  0.         0.         0.01443057 0.         0.00251752 0.15184779\n",
      "  0.         0.42422309 0.        ]\n",
      " [0.24021859 0.         0.0294954  0.15733729 0.         0.\n",
      "  0.         0.         0.01461049 0.         0.00251787 0.1146578\n",
      "  0.         0.44116064 0.        ]]\n",
      "0.0\n",
      "11665.992289510848\n",
      "0.0016879578247123719\n"
     ]
    }
   ],
   "source": [
    "print (res.reshape((-1, len(endmembers)))[:3]) ### should have same zeros as initial input.\n",
    "print (res.ravel()[grad_zero_indices].sum()) ### should be zero\n",
    "print (res.sum())\n",
    "print ((((1-res.sum(axis=-1))**2).sum()/len(endmembers))*weights[\"W_sum\"]) ##W_sum term"
   ]
  },
  {
   "cell_type": "code",
   "execution_count": 12,
   "metadata": {},
   "outputs": [
    {
     "name": "stdout",
     "output_type": "stream",
     "text": [
      "2.17035550923072e-11\n",
      "0.0 0.9497134763901076\n"
     ]
    }
   ],
   "source": [
    "print (((1-res.sum(axis=-1))**2).sum()/len(res))\n",
    "print (res.min(), res.max())"
   ]
  },
  {
   "cell_type": "code",
   "execution_count": 13,
   "metadata": {},
   "outputs": [],
   "source": [
    "# #### read gt per vertex transformation \n",
    "# groundtruth_names=glob.glob(\"./models/\"+exampleName+\"-all/\"+exampleName+\"-*.DMAT\")\n",
    "# print(groundtruth_names)\n",
    "\n",
    "# gt_all=None\n",
    "# for i in range(len(groundtruth_names)):\n",
    "#     gt=load_DMAT(groundtruth_names[i])\n",
    "#     gt=gt.T\n",
    "#     gt=gt.reshape((-1,4,3))\n",
    "#     gt=np.transpose(gt, (0,2,1)).reshape((-1,12))\n",
    "#     if gt_all is None:\n",
    "#         gt_all=gt\n",
    "#     else:\n",
    "#         gt_all=np.hstack((gt_all, gt))\n",
    "    \n",
    "# print(gt_all.shape)\n"
   ]
  },
  {
   "cell_type": "code",
   "execution_count": 14,
   "metadata": {},
   "outputs": [
    {
     "name": "stdout",
     "output_type": "stream",
     "text": [
      "['./models/cow-all/cow.DMAT']\n",
      "(11666, 15)\n",
      "1.5653958587979453e-28\n"
     ]
    }
   ],
   "source": [
    "#### read gt per vertex mixing weights \n",
    "groundtruth_names=glob.glob(\"./models/\"+exampleName+\"-all/\"+exampleName+\".DMAT\")\n",
    "print(groundtruth_names)\n",
    "gt=load_DMAT(groundtruth_names[0])\n",
    "gt_mixing_weights=gt.T.copy()\n",
    "print (gt_mixing_weights.shape)\n",
    "\n",
    "print (((gt_mixing_weights.sum(axis=-1)-1)**2).sum())"
   ]
  },
  {
   "cell_type": "code",
   "execution_count": 15,
   "metadata": {},
   "outputs": [
    {
     "name": "stdout",
     "output_type": "stream",
     "text": [
      "['./models/cow-all/poses-2/cow-1.Tmat', './models/cow-all/poses-2/cow-2.Tmat', './models/cow-all/poses-2/cow-3.Tmat', './models/cow-all/poses-2/cow-4.Tmat', './models/cow-all/poses-2/cow-5.Tmat', './models/cow-all/poses-2/cow-6.Tmat', './models/cow-all/poses-2/cow-7.Tmat']\n",
      "(15, 84)\n",
      "(7, 15, 12)\n",
      "[[1. 0. 0. 0.]\n",
      " [0. 1. 0. 0.]\n",
      " [0. 0. 1. 0.]]\n",
      "[[1. 0. 0. 0.]\n",
      " [0. 1. 0. 0.]\n",
      " [0. 0. 1. 0.]]\n",
      "[[1. 0. 0. 0.]\n",
      " [0. 1. 0. 0.]\n",
      " [0. 0. 1. 0.]]\n",
      "[[1. 0. 0. 0.]\n",
      " [0. 1. 0. 0.]\n",
      " [0. 0. 1. 0.]]\n",
      "[[  0.965808   0.145115  -0.21484  -27.4451  ]\n",
      " [ -0.210922   0.921663  -0.325653 -18.4378  ]\n",
      " [  0.150753   0.359833   0.920757 -33.9079  ]]\n",
      "[[1. 0. 0. 0.]\n",
      " [0. 1. 0. 0.]\n",
      " [0. 0. 1. 0.]]\n",
      "[[1. 0. 0. 0.]\n",
      " [0. 1. 0. 0.]\n",
      " [0. 0. 1. 0.]]\n",
      "[[1. 0. 0.]\n",
      " [0. 1. 0.]\n",
      " [0. 0. 1.]]\n"
     ]
    }
   ],
   "source": [
    "### load groundtruth endmember\n",
    "groundtruth_names=glob.glob(\"./models/\"+exampleName+\"-all/\"+poses_folder+\"/\"+exampleName+\"-*.Tmat\")\n",
    "print(groundtruth_names)\n",
    "\n",
    "gt_handles=None\n",
    "for i in range(len(groundtruth_names)):\n",
    "    gt=load_Tmat(groundtruth_names[i])\n",
    "    gt=gt.reshape((-1,4,3))\n",
    "    gt=np.transpose(gt, (0,2,1)).reshape((-1,12))\n",
    "    if gt_handles is None:\n",
    "        gt_handles=gt\n",
    "    else:\n",
    "        gt_handles=np.hstack((gt_handles, gt))\n",
    "    \n",
    "print(gt_handles.shape)\n",
    "gt_handles=gt_handles.reshape(len(groundtruth_names), -1, 12)\n",
    "\n",
    "# gt_handles=np.transpose(gt_handles.reshape(-1, len(groundtruth_names), 12), (1,0,2)) ### is this true?\n",
    "\n",
    "print(gt_handles.shape)\n",
    "\n",
    "for i in range(len(gt_handles)):\n",
    "    print (gt_handles[i][2].reshape((3,4)))\n",
    "\n",
    "test=gt_handles[1][2].reshape((3,4))[:,:3]\n",
    "print (test.T.dot(test))"
   ]
  },
  {
   "cell_type": "code",
   "execution_count": 16,
   "metadata": {},
   "outputs": [],
   "source": [
    "# #### do a groundtruth test.\n",
    "# val=objective_func_vector(gt_mixing_weights.ravel(), vertices1, vertices2, gt_handles, gt_mixing_weights.ravel(), gt_mixing_weights.ravel(), choice=objective_choice)\n",
    "# print ((abs(val)).max(), (abs(val)).min())\n",
    "# print (np.square(val).sum()/(len(val)))\n",
    "\n",
    "# res=run(mesh0, mesh1_list, output_prefix, weights, gt_handles, gt_mixing_weights.ravel(), gt_mixing_weights.ravel(), grad_zero_indices, initials=gt_mixing_weights.ravel(), choice=objective_choice)\n",
    "# res=res.reshape(gt_mixing_weights.shape)"
   ]
  },
  {
   "cell_type": "code",
   "execution_count": null,
   "metadata": {},
   "outputs": [],
   "source": []
  },
  {
   "cell_type": "code",
   "execution_count": 17,
   "metadata": {},
   "outputs": [
    {
     "name": "stderr",
     "output_type": "stream",
     "text": [
      "/usr/local/lib/python3.6/site-packages/ipykernel_launcher.py:8: RuntimeWarning: invalid value encountered in true_divide\n",
      "  \n",
      "/usr/local/lib/python3.6/site-packages/ipykernel_launcher.py:9: RuntimeWarning: invalid value encountered in true_divide\n",
      "  if __name__ == '__main__':\n"
     ]
    },
    {
     "name": "stdout",
     "output_type": "stream",
     "text": [
      "Using matplotlib backend: MacOSX\n"
     ]
    }
   ],
   "source": [
    "### plot handles corresponding to gt mixing weights, recovered mixing weights, and post-processed mixing weights.\n",
    "###\n",
    "\n",
    "Vertices=vertices2[:,poses_ind*3:poses_ind*3+3]\n",
    "\n",
    "gt_handle_position=gt_mixing_weights.T.dot(Vertices)/gt_mixing_weights.T.sum(axis=-1)[...,np.newaxis]\n",
    "recovered_handle_position=mixing_weights.T.dot(Vertices)/mixing_weights.T.sum(axis=-1)[...,np.newaxis]\n",
    "cliped_handle_position=mixing_weights_clip.T.dot(Vertices)/mixing_weights_clip.T.sum(axis=-1)[...,np.newaxis]\n",
    "postprocessed_handle_position=res.T.dot(Vertices)/res.T.sum(axis=-1)[...,np.newaxis]\n",
    "\n",
    "%matplotlib \n",
    "import matplotlib.pyplot as plt\n",
    "from mpl_toolkits.mplot3d import Axes3D\n",
    "\n",
    "fig= plt.figure()\n",
    "ax=fig.add_subplot(111, projection='3d')\n",
    "\n",
    "ax.scatter(gt_handle_position[:,0],gt_handle_position[:,1], gt_handle_position[:,2], c='k', s=50)\n",
    "ax.scatter(recovered_handle_position[:,0],recovered_handle_position[:,1], recovered_handle_position[:,2], c='r', s=50)\n",
    "# ax.scatter(cliped_handle_position[:,0],cliped_handle_position[:,1], cliped_handle_position[:,2], c='g', s=50)\n",
    "ax.scatter(postprocessed_handle_position[:,0],postprocessed_handle_position[:,1], postprocessed_handle_position[:,2], c='b', s=50)\n",
    "ax.scatter(Vertices[:,0],Vertices[:,1], Vertices[:,2], c='y', s=1, edgecolors='none')\n",
    "\n",
    "plt.show()"
   ]
  },
  {
   "cell_type": "code",
   "execution_count": null,
   "metadata": {},
   "outputs": [],
   "source": []
  },
  {
   "cell_type": "code",
   "execution_count": null,
   "metadata": {},
   "outputs": [],
   "source": []
  },
  {
   "cell_type": "code",
   "execution_count": null,
   "metadata": {},
   "outputs": [],
   "source": []
  },
  {
   "cell_type": "code",
   "execution_count": null,
   "metadata": {},
   "outputs": [],
   "source": []
  },
  {
   "cell_type": "code",
   "execution_count": null,
   "metadata": {},
   "outputs": [],
   "source": []
  },
  {
   "cell_type": "code",
   "execution_count": null,
   "metadata": {},
   "outputs": [],
   "source": []
  },
  {
   "cell_type": "code",
   "execution_count": null,
   "metadata": {},
   "outputs": [],
   "source": []
  },
  {
   "cell_type": "code",
   "execution_count": null,
   "metadata": {},
   "outputs": [],
   "source": []
  },
  {
   "cell_type": "code",
   "execution_count": null,
   "metadata": {},
   "outputs": [],
   "source": []
  }
 ],
 "metadata": {
  "kernelspec": {
   "display_name": "Python 3",
   "language": "python",
   "name": "python3"
  },
  "language_info": {
   "codemirror_mode": {
    "name": "ipython",
    "version": 3
   },
   "file_extension": ".py",
   "mimetype": "text/x-python",
   "name": "python",
   "nbconvert_exporter": "python",
   "pygments_lexer": "ipython3",
   "version": "3.6.5"
  }
 },
 "nbformat": 4,
 "nbformat_minor": 2
}
