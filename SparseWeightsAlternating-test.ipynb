{
 "cells": [
  {
   "cell_type": "code",
   "execution_count": 1,
   "metadata": {},
   "outputs": [],
   "source": [
    "import numpy as np\n",
    "np.set_printoptions(suppress=True)\n",
    "\n",
    "from SmoothSparseWeights import *\n",
    "from SmoothSparseWeights_Alternating import *"
   ]
  },
  {
   "cell_type": "code",
   "execution_count": 2,
   "metadata": {},
   "outputs": [],
   "source": [
    "# exampleName=\"cheburashka\"\n",
    "# poses_folder=\"poses-2\"\n",
    "# poses_ind=7\n",
    "# clip_k=5\n",
    "# handle_num=11\n",
    "\n",
    "\n",
    "# exampleName=\"cow\"\n",
    "# poses_folder=\"poses-2\"\n",
    "# poses_ind=5\n",
    "# clip_k=7\n",
    "# handle_num=15\n",
    "\n",
    "\n",
    "exampleName=\"wolf\"\n",
    "poses_folder=\"poses-1\"\n",
    "poses_ind=2\n",
    "clip_k=18\n",
    "handle_num=21\n",
    "\n",
    "\n",
    "objective_choice=0\n",
    "\n",
    "\n",
    "weights = {\n",
    "           'W_sparse': 0.0,\n",
    "           'W_spatial': 0.0,\n",
    "           'W_sum': 100000.0\n",
    "          }"
   ]
  },
  {
   "cell_type": "code",
   "execution_count": 3,
   "metadata": {},
   "outputs": [
    {
     "name": "stdout",
     "output_type": "stream",
     "text": [
      "['./models/wolf-all/poses-1/wolf-1.obj', './models/wolf-all/poses-1/wolf-2.obj', './models/wolf-all/poses-1/wolf-3.obj', './models/wolf-all/poses-1/wolf-4.obj', './models/wolf-all/poses-1/wolf-5.obj', './models/wolf-all/poses-1/wolf-6.obj']\n",
      "(5075, 24)\n",
      "(5075, 18)\n"
     ]
    }
   ],
   "source": [
    "#### read obj file\n",
    "\n",
    "### rest_poses:\n",
    "vertices_obj_path=\"./models/\"+exampleName+\"-all/\"+exampleName+\".obj\"\n",
    "mesh0=TriMesh.FromOBJ_FileName(vertices_obj_path)\n",
    "\n",
    "### other poses\n",
    "vertices_obj_dir=\"./models/\"+exampleName+\"-all/\"+poses_folder+\"/\"\n",
    "filenames=glob.glob(vertices_obj_dir+\"*.obj\")\n",
    "print(filenames)\n",
    "\n",
    "mesh1_list=[]\n",
    "for i in range(len(filenames)):\n",
    "    mesh1_list.append(TriMesh.FromOBJ_FileName(filenames[i]))\n",
    "\n",
    "\n",
    "vertices1=vertices1_temp=np.hstack((np.asarray(mesh0.vs),np.ones((len(mesh0.vs),1))))\n",
    "vertices2=vertices2_temp=np.asarray(mesh1_list[0].vs)\n",
    "for i in range(1,len(mesh1_list)):\n",
    "    vertices1=np.hstack((vertices1, vertices1_temp))\n",
    "    vertices2=np.hstack((vertices2, np.asarray(mesh1_list[i].vs)))\n",
    "print(vertices1.shape) \n",
    "print(vertices2.shape) \n"
   ]
  },
  {
   "cell_type": "code",
   "execution_count": 4,
   "metadata": {},
   "outputs": [
    {
     "name": "stdout",
     "output_type": "stream",
     "text": [
      "(21, 72)\n",
      "(5075, 21)\n",
      "[[0.1589514  0.0000593  0.00474596 0.00048292 0.0000278  0.03343458\n",
      "  0.07699286 0.17446554 0.03199314 0.00009963 0.01256247 0.12470764\n",
      "  0.09002658 0.0000002  0.00000122 0.00001448 0.01316137 0.00123948\n",
      "  0.00000147 0.00000064 0.27703134]\n",
      " [0.15856047 0.00005942 0.00472487 0.0004812  0.00002775 0.03355878\n",
      "  0.07708042 0.17432981 0.03208895 0.00009982 0.01256983 0.12475939\n",
      "  0.08994991 0.0000002  0.00000122 0.00001445 0.01320413 0.00123941\n",
      "  0.00000147 0.00000064 0.27724787]\n",
      " [0.15566619 0.00006021 0.00463952 0.00047399 0.00002755 0.03405925\n",
      "  0.07742135 0.17335098 0.03247172 0.00010021 0.01264691 0.12530878\n",
      "  0.08969101 0.0000002  0.00000124 0.00001417 0.01345853 0.00124074\n",
      "  0.00000144 0.00000064 0.27936539]]\n",
      "[[0.1589514  0.0000593  0.00474596 0.00048292 0.0000278  0.03343458\n",
      "  0.07699286 0.17446554 0.03199314 0.00009963 0.01256247 0.12470764\n",
      "  0.09002658 0.         0.         0.00001448 0.01316137 0.00123948\n",
      "  0.00000147 0.         0.27703134]\n",
      " [0.15856047 0.00005942 0.00472487 0.0004812  0.00002775 0.03355878\n",
      "  0.07708042 0.17432981 0.03208895 0.00009982 0.01256983 0.12475939\n",
      "  0.08994991 0.         0.         0.00001445 0.01320413 0.00123941\n",
      "  0.00000147 0.         0.27724787]\n",
      " [0.15566619 0.00006021 0.00463952 0.00047399 0.00002755 0.03405925\n",
      "  0.07742135 0.17335098 0.03247172 0.00010021 0.01264691 0.12530878\n",
      "  0.08969101 0.         0.         0.00001417 0.01345853 0.00124074\n",
      "  0.00000144 0.         0.27936539]]\n",
      "[ 13  19  14  34  40  35  55  61  56  76  82  77  97 103  98 118 124 119\n",
      " 139 145 140 160 166 161 181 187 182 202 208 203 223 229 224 244 250 245\n",
      " 265 271 266 286 292 287 307 313 308 328 334 329 349 355 350 370 376 371\n",
      " 391 397 392 412 418 413 433 439 434]\n",
      "0.0\n"
     ]
    }
   ],
   "source": [
    "#### read our output of simplex_hull.py \n",
    "results_path=\"./results_pipeline/\"+exampleName+\"-\"+str(handle_num)+\"/result.txt\"\n",
    "endmembers, mixing_weights=load_result(results_path)\n",
    "### endmembers shape is handle * poses * 12??\n",
    "\n",
    "#### this is to make sure the 3*4 or 4*3 error does not happen. ???\n",
    "# endmembers=endmembers.reshape((-1, 4, 3))\n",
    "# endmembers=np.transpose(endmembers, (0,2,1))\n",
    "# endmembers=endmembers.reshape((len(mixing_weights), -1, 12))\n",
    "\n",
    "\n",
    "endmembers=endmembers.reshape((len(mixing_weights),-1))\n",
    "mixing_weights=mixing_weights.T\n",
    "\n",
    "\n",
    "print (endmembers.shape)\n",
    "print (mixing_weights.shape)\n",
    "print (mixing_weights[:3])\n",
    "mixing_weights_clip, grad_zero_indices=clip_first_k_values(mixing_weights, clip_k)\n",
    "print (mixing_weights_clip[:3])\n",
    "\n",
    "print (grad_zero_indices[:len(endmembers)*3])\n",
    "\n",
    "print (mixing_weights_clip.ravel()[grad_zero_indices].sum())"
   ]
  },
  {
   "cell_type": "code",
   "execution_count": 5,
   "metadata": {},
   "outputs": [],
   "source": [
    "#### solve for transformation per vertex, with smoothness regularization and transformation matrix L2 norm regularization.\n",
    "output_prefix=\"./sparse-smooth-mixing-weights-test/\"+exampleName"
   ]
  },
  {
   "cell_type": "code",
   "execution_count": 6,
   "metadata": {},
   "outputs": [
    {
     "name": "stdout",
     "output_type": "stream",
     "text": [
      "25.309374465859957\n"
     ]
    }
   ],
   "source": [
    "scale=find_scale(vertices1)\n",
    "print (scale)"
   ]
  },
  {
   "cell_type": "code",
   "execution_count": 7,
   "metadata": {},
   "outputs": [
    {
     "name": "stdout",
     "output_type": "stream",
     "text": [
      "1.4503569839497157e-12\n",
      "2.90071396789943e-09\n"
     ]
    }
   ],
   "source": [
    "### gt test\n",
    "val=objective_func_vector(mixing_weights.ravel(), vertices1, vertices2, endmembers, mixing_weights.ravel(), mixing_weights_clip.ravel(), choice=objective_choice)\n",
    "print (np.sqrt(np.square(val).sum()/(len(val)*scale*scale)))\n",
    "recovered_vertices2=recover_vertices(mixing_weights, vertices1, endmembers)\n",
    "print (E_RMS_kavan2010(vertices2, recovered_vertices2, scale))"
   ]
  },
  {
   "cell_type": "code",
   "execution_count": 8,
   "metadata": {},
   "outputs": [
    {
     "name": "stdout",
     "output_type": "stream",
     "text": [
      "0.7629857489275117\n",
      "1525.9714978550232\n"
     ]
    }
   ],
   "source": [
    "val=objective_func_vector(mixing_weights_clip.ravel(), vertices1, vertices2, endmembers, mixing_weights.ravel(), mixing_weights_clip.ravel(), choice=objective_choice)\n",
    "print (np.sqrt(np.square(val).sum()/(len(val)*scale*scale)))\n",
    "recovered_vertices2=recover_vertices(mixing_weights_clip, vertices1, endmembers)\n",
    "print (E_RMS_kavan2010(vertices2, recovered_vertices2, scale))"
   ]
  },
  {
   "cell_type": "code",
   "execution_count": 9,
   "metadata": {},
   "outputs": [
    {
     "name": "stdout",
     "output_type": "stream",
     "text": [
      "(5075, 24)\n",
      "(5075, 18)\n",
      "####loop:  0\n",
      "####solve mixing weights\n",
      "False\n",
      "738.7778275266768\n",
      "####solve endmembers\n",
      "True\n",
      "####endmember changes:  [ 314.42655213   49.03000395  788.35823754  459.80808113   23.16898584\n",
      " 1358.09474698  985.90560855  147.00349684 1581.69076286   68.07383151\n",
      " 1502.14858665  875.10228886  946.04288833    0.00730196    0.68480588\n",
      "   15.57439939  869.15548237  420.91991515    3.76489291    1.9707552\n",
      "  305.18604976]\n",
      "####loop:  1\n",
      "####solve mixing weights\n",
      "False\n",
      "73.97711638900105\n",
      "####solve endmembers\n",
      "True\n",
      "####endmember changes:  [ 81.92509684   3.29946168  72.12123962  33.27596023   2.1514948\n",
      " 155.63448652 148.48613201  40.1193665  191.37891483   4.33869518\n",
      " 100.15550154 196.67904948 121.7271522    0.00036443   0.07127127\n",
      "   1.13257946  97.65706982  35.68553167   0.255598     0.12276258\n",
      "  65.79947022]\n",
      "####loop:  2\n",
      "####solve mixing weights\n",
      "False\n",
      "51.47641474412458\n",
      "####solve endmembers\n",
      "True\n",
      "####endmember changes:  [40.44148096  0.72474831 19.75570908  7.73484531  0.52100736 47.44542778\n",
      " 48.53821434 31.12794401 44.12562889  1.0238992  25.17440466 73.84406498\n",
      " 56.11068713  0.00007805  0.0184163   0.22991111 29.22146794  8.74254468\n",
      "  0.0575129   0.02571052 25.31016091]\n",
      "####loop:  3\n",
      "####solve mixing weights\n",
      "False\n",
      "41.55901330368765\n",
      "####solve endmembers\n",
      "True\n",
      "####endmember changes:  [ 46.21402442   1.46128684  46.59621909  17.9984464    1.14247221\n",
      "  97.91253869  74.68686104  16.7180916  110.99791058   2.20737032\n",
      "  57.36323831 103.73847446  78.81522159   0.00018405   0.04188376\n",
      "   0.48596291  63.85392812  20.42010166   0.12144784   0.04769036\n",
      "  33.66980572]\n",
      "####loop:  4\n",
      "####solve mixing weights\n",
      "False\n",
      "35.70866131754082\n",
      "####solve endmembers\n",
      "True\n",
      "####endmember changes:  [20.79917499  0.22970575  7.50987822  2.95688628  0.18372719 17.63152322\n",
      " 20.04452918 23.47048563 17.23384499  0.34810935  9.69202971 23.64995553\n",
      " 23.99859325  0.00003007  0.00700698  0.07563889 11.21018927  3.30614406\n",
      "  0.01933356  0.00684188 15.69709838]\n",
      "using time:  4778.807326793671\n"
     ]
    }
   ],
   "source": [
    "start=time.time()\n",
    "\n",
    "res, new_endmembers = run(mesh0, mesh1_list, output_prefix, weights, endmembers, mixing_weights.ravel(), mixing_weights_clip.ravel(), grad_zero_indices, initials=mixing_weights_clip.ravel(), choice=objective_choice)\n",
    "\n",
    "# res, new_endmembers = run(mesh0, mesh1_list, output_prefix, weights, endmembers, mixing_weights.ravel(), mixing_weights_clip.ravel(), grad_zero_indices, initials=(mixing_weights_clip.ravel() + mixing_weights.ravel())/2.0, choice=objective_choice)\n",
    "\n",
    "res=res.reshape(mixing_weights.shape)\n",
    "end=time.time()\n",
    "print(\"using time: \", end-start)"
   ]
  },
  {
   "cell_type": "code",
   "execution_count": 10,
   "metadata": {},
   "outputs": [
    {
     "name": "stdout",
     "output_type": "stream",
     "text": [
      "0.023743661502822002\n",
      "47.487323005643994\n"
     ]
    }
   ],
   "source": [
    "val=objective_func_vector(res.ravel(), vertices1, vertices2, new_endmembers, mixing_weights.ravel(), mixing_weights_clip.ravel(), choice=objective_choice)\n",
    "print (np.sqrt(np.square(val).sum()/(len(val)*scale*scale)))\n",
    "recovered_vertices2=recover_vertices(res, vertices1, new_endmembers)\n",
    "print (E_RMS_kavan2010(vertices2, recovered_vertices2, scale))"
   ]
  },
  {
   "cell_type": "code",
   "execution_count": 11,
   "metadata": {},
   "outputs": [
    {
     "name": "stdout",
     "output_type": "stream",
     "text": [
      "[[0.15893323 0.00001608 0.00471655 0.00063381 0.00005465 0.03341662\n",
      "  0.07697542 0.17444708 0.03196736 0.00011715 0.01253146 0.12469068\n",
      "  0.09000966 0.         0.         0.00002985 0.01313819 0.00130423\n",
      "  0.00000338 0.         0.27701311]\n",
      " [0.1585423  0.00001626 0.00469566 0.00063173 0.00005464 0.03354081\n",
      "  0.07706304 0.17431137 0.03206294 0.00011746 0.01253934 0.12474247\n",
      "  0.08993302 0.         0.         0.00002981 0.0131809  0.00130374\n",
      "  0.00000337 0.         0.27722964]\n",
      " [0.15564725 0.00001642 0.00460948 0.00063405 0.00005401 0.03404091\n",
      "  0.07740302 0.17333175 0.03244545 0.00011841 0.01261362 0.12529105\n",
      "  0.08967342 0.         0.         0.00003009 0.01343407 0.00130554\n",
      "  0.00000336 0.         0.2793464 ]]\n",
      "0.0\n",
      "5075.001962268251\n",
      "0.0002873412134994578\n"
     ]
    }
   ],
   "source": [
    "print (res.reshape((-1, len(endmembers)))[:3]) ### should have same zeros as initial input.\n",
    "print (res.ravel()[grad_zero_indices].sum()) ### should be zero\n",
    "print (res.sum())\n",
    "print ((((1-res.sum(axis=-1))**2).sum()/len(endmembers))*weights[\"W_sum\"]) ##W_sum term"
   ]
  },
  {
   "cell_type": "code",
   "execution_count": 12,
   "metadata": {},
   "outputs": [
    {
     "name": "stdout",
     "output_type": "stream",
     "text": [
      "1.1889981248253427e-11\n",
      "0.0 0.934863730899431\n"
     ]
    }
   ],
   "source": [
    "print (((1-res.sum(axis=-1))**2).sum()/len(res))\n",
    "print (res.min(), res.max())"
   ]
  },
  {
   "cell_type": "code",
   "execution_count": 13,
   "metadata": {},
   "outputs": [],
   "source": [
    "# #### read gt per vertex transformation \n",
    "# groundtruth_names=glob.glob(\"./models/\"+exampleName+\"-all/\"+exampleName+\"-*.DMAT\")\n",
    "# print(groundtruth_names)\n",
    "\n",
    "# gt_all=None\n",
    "# for i in range(len(groundtruth_names)):\n",
    "#     gt=load_DMAT(groundtruth_names[i])\n",
    "#     gt=gt.T\n",
    "#     gt=gt.reshape((-1,4,3))\n",
    "#     gt=np.transpose(gt, (0,2,1)).reshape((-1,12))\n",
    "#     if gt_all is None:\n",
    "#         gt_all=gt\n",
    "#     else:\n",
    "#         gt_all=np.hstack((gt_all, gt))\n",
    "    \n",
    "# print(gt_all.shape)\n"
   ]
  },
  {
   "cell_type": "code",
   "execution_count": 14,
   "metadata": {},
   "outputs": [
    {
     "name": "stdout",
     "output_type": "stream",
     "text": [
      "['./models/wolf-all/wolf.DMAT']\n",
      "(5075, 21)\n",
      "5.575027928616619e-29\n"
     ]
    }
   ],
   "source": [
    "#### read gt per vertex mixing weights \n",
    "groundtruth_names=glob.glob(\"./models/\"+exampleName+\"-all/\"+exampleName+\".DMAT\")\n",
    "print(groundtruth_names)\n",
    "gt=load_DMAT(groundtruth_names[0])\n",
    "gt_mixing_weights=gt.T.copy()\n",
    "print (gt_mixing_weights.shape)\n",
    "\n",
    "print (((gt_mixing_weights.sum(axis=-1)-1)**2).sum())"
   ]
  },
  {
   "cell_type": "code",
   "execution_count": 15,
   "metadata": {},
   "outputs": [
    {
     "name": "stdout",
     "output_type": "stream",
     "text": [
      "['./models/wolf-all/poses-1/wolf-1.Tmat', './models/wolf-all/poses-1/wolf-2.Tmat', './models/wolf-all/poses-1/wolf-3.Tmat', './models/wolf-all/poses-1/wolf-4.Tmat', './models/wolf-all/poses-1/wolf-5.Tmat', './models/wolf-all/poses-1/wolf-6.Tmat']\n",
      "(21, 72)\n",
      "(6, 21, 12)\n",
      "[[1. 0. 0. 0.]\n",
      " [0. 1. 0. 0.]\n",
      " [0. 0. 1. 0.]]\n",
      "[[1. 0. 0. 0.]\n",
      " [0. 1. 0. 0.]\n",
      " [0. 0. 1. 0.]]\n",
      "[[ 0.972544   0.227903  -0.0470963  0.885167 ]\n",
      " [-0.154564   0.783858   0.601396  -0.609624 ]\n",
      " [ 0.173977  -0.577605   0.797562   0.81869  ]]\n",
      "[[1. 0. 0. 0.]\n",
      " [0. 1. 0. 0.]\n",
      " [0. 0. 1. 0.]]\n",
      "[[1. 0. 0. 0.]\n",
      " [0. 1. 0. 0.]\n",
      " [0. 0. 1. 0.]]\n",
      "[[ 0.84512     0.00489601 -0.534555   -1.82441   ]\n",
      " [ 0.267749    0.861615    0.431196    1.16584   ]\n",
      " [ 0.462692   -0.507538    0.726857   -0.924649  ]]\n",
      "[[1. 0. 0.]\n",
      " [0. 1. 0.]\n",
      " [0. 0. 1.]]\n"
     ]
    }
   ],
   "source": [
    "### load groundtruth endmember\n",
    "groundtruth_names=glob.glob(\"./models/\"+exampleName+\"-all/\"+poses_folder+\"/\"+exampleName+\"-*.Tmat\")\n",
    "print(groundtruth_names)\n",
    "\n",
    "gt_handles=None\n",
    "for i in range(len(groundtruth_names)):\n",
    "    gt=load_Tmat(groundtruth_names[i])\n",
    "    gt=gt.reshape((-1,4,3))\n",
    "    gt=np.transpose(gt, (0,2,1)).reshape((-1,12))\n",
    "    if gt_handles is None:\n",
    "        gt_handles=gt\n",
    "    else:\n",
    "        gt_handles=np.hstack((gt_handles, gt))\n",
    "    \n",
    "print(gt_handles.shape)\n",
    "gt_handles=gt_handles.reshape(len(groundtruth_names), -1, 12)\n",
    "\n",
    "# gt_handles=np.transpose(gt_handles.reshape(-1, len(groundtruth_names), 12), (1,0,2)) ### is this true?\n",
    "\n",
    "print(gt_handles.shape)\n",
    "\n",
    "for i in range(len(gt_handles)):\n",
    "    print (gt_handles[i][2].reshape((3,4)))\n",
    "\n",
    "test=gt_handles[1][2].reshape((3,4))[:,:3]\n",
    "print (test.T.dot(test))"
   ]
  },
  {
   "cell_type": "code",
   "execution_count": 16,
   "metadata": {},
   "outputs": [],
   "source": [
    "# #### do a groundtruth test.\n",
    "# val=objective_func_vector(gt_mixing_weights.ravel(), vertices1, vertices2, gt_handles, gt_mixing_weights.ravel(), gt_mixing_weights.ravel(), choice=objective_choice)\n",
    "# print ((abs(val)).max(), (abs(val)).min())\n",
    "# print (np.square(val).sum()/(len(val)))\n",
    "\n",
    "# res=run(mesh0, mesh1_list, output_prefix, weights, gt_handles, gt_mixing_weights.ravel(), gt_mixing_weights.ravel(), grad_zero_indices, initials=gt_mixing_weights.ravel(), choice=objective_choice)\n",
    "# res=res.reshape(gt_mixing_weights.shape)"
   ]
  },
  {
   "cell_type": "code",
   "execution_count": null,
   "metadata": {},
   "outputs": [],
   "source": []
  },
  {
   "cell_type": "code",
   "execution_count": 17,
   "metadata": {},
   "outputs": [
    {
     "name": "stdout",
     "output_type": "stream",
     "text": [
      "Using matplotlib backend: MacOSX\n"
     ]
    }
   ],
   "source": [
    "### plot handles corresponding to gt mixing weights, recovered mixing weights, and post-processed mixing weights.\n",
    "###\n",
    "\n",
    "Vertices=vertices2[:,poses_ind*3:poses_ind*3+3]\n",
    "\n",
    "gt_handle_position=gt_mixing_weights.T.dot(Vertices)/gt_mixing_weights.T.sum(axis=-1)[...,np.newaxis]\n",
    "recovered_handle_position=mixing_weights.T.dot(Vertices)/mixing_weights.T.sum(axis=-1)[...,np.newaxis]\n",
    "cliped_handle_position=mixing_weights_clip.T.dot(Vertices)/mixing_weights_clip.T.sum(axis=-1)[...,np.newaxis]\n",
    "postprocessed_handle_position=res.T.dot(Vertices)/res.T.sum(axis=-1)[...,np.newaxis]\n",
    "\n",
    "%matplotlib \n",
    "import matplotlib.pyplot as plt\n",
    "from mpl_toolkits.mplot3d import Axes3D\n",
    "\n",
    "fig= plt.figure()\n",
    "ax=fig.add_subplot(111, projection='3d')\n",
    "\n",
    "ax.scatter(gt_handle_position[:,0],gt_handle_position[:,1], gt_handle_position[:,2], c='k', s=50)\n",
    "ax.scatter(recovered_handle_position[:,0],recovered_handle_position[:,1], recovered_handle_position[:,2], c='r', s=50)\n",
    "# ax.scatter(cliped_handle_position[:,0],cliped_handle_position[:,1], cliped_handle_position[:,2], c='g', s=50)\n",
    "ax.scatter(postprocessed_handle_position[:,0],postprocessed_handle_position[:,1], postprocessed_handle_position[:,2], c='b', s=50)\n",
    "ax.scatter(Vertices[:,0],Vertices[:,1], Vertices[:,2], c='y', s=1, edgecolors='none')\n",
    "\n",
    "plt.show()"
   ]
  },
  {
   "cell_type": "code",
   "execution_count": null,
   "metadata": {},
   "outputs": [],
   "source": []
  },
  {
   "cell_type": "code",
   "execution_count": null,
   "metadata": {},
   "outputs": [],
   "source": []
  },
  {
   "cell_type": "code",
   "execution_count": null,
   "metadata": {},
   "outputs": [],
   "source": []
  },
  {
   "cell_type": "code",
   "execution_count": null,
   "metadata": {},
   "outputs": [],
   "source": []
  },
  {
   "cell_type": "code",
   "execution_count": null,
   "metadata": {},
   "outputs": [],
   "source": []
  },
  {
   "cell_type": "code",
   "execution_count": null,
   "metadata": {},
   "outputs": [],
   "source": []
  },
  {
   "cell_type": "code",
   "execution_count": null,
   "metadata": {},
   "outputs": [],
   "source": []
  },
  {
   "cell_type": "code",
   "execution_count": null,
   "metadata": {},
   "outputs": [],
   "source": []
  },
  {
   "cell_type": "code",
   "execution_count": null,
   "metadata": {},
   "outputs": [],
   "source": []
  }
 ],
 "metadata": {
  "kernelspec": {
   "display_name": "Python 3",
   "language": "python",
   "name": "python3"
  },
  "language_info": {
   "codemirror_mode": {
    "name": "ipython",
    "version": 3
   },
   "file_extension": ".py",
   "mimetype": "text/x-python",
   "name": "python",
   "nbconvert_exporter": "python",
   "pygments_lexer": "ipython3",
   "version": "3.6.5"
  }
 },
 "nbformat": 4,
 "nbformat_minor": 2
}
