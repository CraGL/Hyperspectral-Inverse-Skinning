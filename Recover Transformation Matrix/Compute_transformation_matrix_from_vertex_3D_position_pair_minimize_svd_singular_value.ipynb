{
 "cells": [
  {
   "cell_type": "code",
   "execution_count": 1,
   "metadata": {
    "collapsed": false
   },
   "outputs": [
    {
     "name": "stderr",
     "output_type": "stream",
     "text": [
      "/usr/local/lib/python2.7/site-packages/matplotlib/font_manager.py:273: UserWarning: Matplotlib is building the font cache using fc-list. This may take a moment.\n",
      "  warnings.warn('Matplotlib is building the font cache using fc-list. This may take a moment.')\n"
     ]
    }
   ],
   "source": [
    "import numpy as np\n",
    "import json\n",
    "import time\n",
    "import scipy\n",
    "import scipy.sparse\n",
    "from trimesh import TriMesh\n",
    "import glob\n",
    "from numpy import *\n",
    "np.set_printoptions(linewidth=2000, suppress=True)\n",
    "from Extract_Transformation_matrix_minimize_SVD_singular_value import *"
   ]
  },
  {
   "cell_type": "code",
   "execution_count": 2,
   "metadata": {
    "collapsed": false
   },
   "outputs": [
    {
     "name": "stdout",
     "output_type": "stream",
     "text": [
      "['./datas/cube4/cube.obj']\n"
     ]
    }
   ],
   "source": [
    "#### read obj file\n",
    "base_dir=\"./datas/cube4/\"\n",
    "filenames=glob.glob(base_dir+\"*.obj\")\n",
    "print filenames\n",
    "meshes_List=[]\n",
    "for i in range(len(filenames)):\n",
    "    meshes_List.append(TriMesh.FromOBJ_FileName(filenames[i]))"
   ]
  },
  {
   "cell_type": "code",
   "execution_count": 3,
   "metadata": {
    "collapsed": false
   },
   "outputs": [
    {
     "ename": "IOError",
     "evalue": "[Errno 2] No such file or directory: './datas/cube4/cube-2.DMAT'",
     "output_type": "error",
     "traceback": [
      "\u001b[0;31m---------------------------------------------------------------------------\u001b[0m",
      "\u001b[0;31mIOError\u001b[0m                                   Traceback (most recent call last)",
      "\u001b[0;32m<ipython-input-3-cded410000ea>\u001b[0m in \u001b[0;36m<module>\u001b[0;34m()\u001b[0m\n\u001b[1;32m      1\u001b[0m \u001b[0mgroundtruth_name\u001b[0m\u001b[0;34m=\u001b[0m\u001b[0mbase_dir\u001b[0m\u001b[0;34m+\u001b[0m\u001b[0;34m\"cube-2.DMAT\"\u001b[0m\u001b[0;34m\u001b[0m\u001b[0m\n\u001b[0;32m----> 2\u001b[0;31m \u001b[0mgt\u001b[0m\u001b[0;34m=\u001b[0m\u001b[0mload_DMAT\u001b[0m\u001b[0;34m(\u001b[0m\u001b[0mgroundtruth_name\u001b[0m\u001b[0;34m)\u001b[0m\u001b[0;34m\u001b[0m\u001b[0m\n\u001b[0m\u001b[1;32m      3\u001b[0m \u001b[0;32mprint\u001b[0m \u001b[0mgt\u001b[0m\u001b[0;34m.\u001b[0m\u001b[0mshape\u001b[0m\u001b[0;34m\u001b[0m\u001b[0m\n\u001b[1;32m      4\u001b[0m \u001b[0mind\u001b[0m\u001b[0;34m=\u001b[0m\u001b[0mnp\u001b[0m\u001b[0;34m.\u001b[0m\u001b[0marange\u001b[0m\u001b[0;34m(\u001b[0m\u001b[0;36m10\u001b[0m\u001b[0;34m)\u001b[0m\u001b[0;34m\u001b[0m\u001b[0m\n\u001b[1;32m      5\u001b[0m \u001b[0mgt\u001b[0m\u001b[0;34m=\u001b[0m\u001b[0mgt\u001b[0m\u001b[0;34m.\u001b[0m\u001b[0mT\u001b[0m\u001b[0;34m\u001b[0m\u001b[0m\n",
      "\u001b[0;32m/Users/jianchao/Documents/Research/InverseSkinning_Project/Extract_Transformation_matrix_minimize_SVD_singular_value.py\u001b[0m in \u001b[0;36mload_DMAT\u001b[0;34m(path)\u001b[0m\n\u001b[1;32m     16\u001b[0m     \u001b[0;32mfrom\u001b[0m \u001b[0mnumpy\u001b[0m \u001b[0;32mimport\u001b[0m \u001b[0mzeros\u001b[0m\u001b[0;34m\u001b[0m\u001b[0m\n\u001b[1;32m     17\u001b[0m \u001b[0;34m\u001b[0m\u001b[0m\n\u001b[0;32m---> 18\u001b[0;31m     \u001b[0;32mwith\u001b[0m \u001b[0mopen\u001b[0m\u001b[0;34m(\u001b[0m \u001b[0mpath\u001b[0m \u001b[0;34m)\u001b[0m \u001b[0;32mas\u001b[0m \u001b[0mf\u001b[0m\u001b[0;34m:\u001b[0m\u001b[0;34m\u001b[0m\u001b[0m\n\u001b[0m\u001b[1;32m     19\u001b[0m \u001b[0;34m\u001b[0m\u001b[0m\n\u001b[1;32m     20\u001b[0m         \u001b[0;32mfor\u001b[0m \u001b[0mi\u001b[0m\u001b[0;34m,\u001b[0m \u001b[0mline\u001b[0m \u001b[0;32min\u001b[0m \u001b[0menumerate\u001b[0m\u001b[0;34m(\u001b[0m \u001b[0mf\u001b[0m \u001b[0;34m)\u001b[0m\u001b[0;34m:\u001b[0m\u001b[0;34m\u001b[0m\u001b[0m\n",
      "\u001b[0;31mIOError\u001b[0m: [Errno 2] No such file or directory: './datas/cube4/cube-2.DMAT'"
     ]
    }
   ],
   "source": [
    "groundtruth_name=base_dir+\"cube-2.DMAT\"\n",
    "gt=load_DMAT(groundtruth_name)\n",
    "print gt.shape\n",
    "ind=np.arange(10)\n",
    "gt=gt.T\n",
    "print gt.shape\n",
    "gt=gt.reshape((-1,4,3))\n",
    "gt=np.transpose(gt, (0,2,1)).reshape((-1,12))\n",
    "ind=np.arange(10)"
   ]
  },
  {
   "cell_type": "code",
   "execution_count": null,
   "metadata": {
    "collapsed": false
   },
   "outputs": [],
   "source": [
    "#### solve for transformation per vertex, with smoothness regularization and transformation matrix L2 norm regularization.\n",
    "\n",
    "mesh0=meshes_List[0]\n",
    "mesh1=meshes_List[2]\n",
    "\n",
    "\n",
    "output_prefix=base_dir+\"Vertex_tramsformation_matrix_recovering\"\n",
    "weights = {'W_svd': 2.0, 'W_rotation': 0.01, 'W_spatial': 0.0 }\n",
    "\n",
    "\n",
    "start=time.time()\n",
    "\n",
    "print \"solving transformation matrix\"\n",
    "\n",
    "\n",
    "vertices0=np.hstack((np.asarray(mesh0.vs),np.ones((len(mesh0.vs),1))))\n",
    "vertices1=np.asarray(mesh1.vs)\n",
    "M=vertices0.shape[1]*vertices1.shape[1]\n",
    "\n",
    "\n",
    "x0=np.ones(len(vertices1)*M)/M\n",
    "    \n",
    "# x0=np.zeros(len(vertices1)*M)\n",
    "\n",
    "# x0=gt.ravel()\n",
    "\n",
    "\n",
    "res=run_one(mesh0, mesh1, output_prefix, weights, x0)\n",
    "res=res.reshape((len(mesh0.vs),-1))\n",
    "end=time.time()\n",
    "print \"using time: \", end-start\n",
    "print res.shape"
   ]
  },
  {
   "cell_type": "code",
   "execution_count": null,
   "metadata": {
    "collapsed": false
   },
   "outputs": [],
   "source": [
    "# print abs(res[ind,:].round(3)-gt[ind,:].round(3))\n",
    "\n",
    "print \"recover: \"\n",
    "print res[ind,:].round(3)\n",
    "print \"groundtruth: \"\n",
    "print gt[ind,:].round(3)\n",
    "\n",
    "vertices0=np.hstack((np.asarray(mesh0.vs),np.ones((len(mesh0.vs),1))))\n",
    "print \"vertices reconstruction error: \"\n",
    "print np.multiply(res.reshape((-1,3,4)), vertices0.reshape((-1,1,4))).sum(axis=-1)[:len(ind)]-asarray(mesh1.vs)[:len(ind)]"
   ]
  },
  {
   "cell_type": "code",
   "execution_count": null,
   "metadata": {
    "collapsed": false
   },
   "outputs": [],
   "source": [
    "print res.shape\n",
    "\n",
    "L=res-res.mean(axis=0).reshape((1,-1))\n",
    "\n",
    "eigenVal,eigenVec=np.linalg.eig(L.T.dot(L))\n",
    "\n",
    "print sorted(eigenVal)"
   ]
  },
  {
   "cell_type": "code",
   "execution_count": null,
   "metadata": {
    "collapsed": false
   },
   "outputs": [],
   "source": [
    "gtL=gt-gt.mean(axis=0).reshape((1,-1))\n",
    "\n",
    "gteigenVal,gteigenVec=np.linalg.eig(gtL.T.dot(gtL))\n",
    "\n",
    "print sorted(gteigenVal)"
   ]
  },
  {
   "cell_type": "code",
   "execution_count": null,
   "metadata": {
    "collapsed": true
   },
   "outputs": [],
   "source": []
  },
  {
   "cell_type": "code",
   "execution_count": null,
   "metadata": {
    "collapsed": false
   },
   "outputs": [],
   "source": [
    "print res.shape\n",
    "\n",
    "L=res-res.mean(axis=0).reshape((1,-1))\n",
    "\n",
    "s = np.linalg.svd(L, full_matrices=True, compute_uv=False)\n",
    "print s.round(3)"
   ]
  },
  {
   "cell_type": "code",
   "execution_count": null,
   "metadata": {
    "collapsed": false
   },
   "outputs": [],
   "source": [
    "gtL=gt-gt.mean(axis=0).reshape((1,-1))\n",
    "\n",
    "s = np.linalg.svd(gtL, full_matrices=True, compute_uv=False)\n",
    "print s.round(3)"
   ]
  },
  {
   "cell_type": "code",
   "execution_count": null,
   "metadata": {
    "collapsed": false
   },
   "outputs": [],
   "source": [
    "temp1=res.reshape((-1,3,4))[:,:,:3]\n",
    "temp2=temp1.transpose((0,2,1))\n",
    "identities=np.repeat(np.identity(3).reshape((1,-1)), len(temp1), 0).ravel()\n",
    "print abs((temp1[:,:,:,np.newaxis]*temp2[:,np.newaxis,:,:]).sum(axis=-2).ravel()-identities).max()"
   ]
  },
  {
   "cell_type": "code",
   "execution_count": null,
   "metadata": {
    "collapsed": false
   },
   "outputs": [],
   "source": [
    "temp1=gt.reshape((-1,3,4))[:,:,:3]\n",
    "temp2=temp1.transpose((0,2,1))\n",
    "identities=np.repeat(np.identity(3).reshape((1,-1)), len(temp1), 0).ravel()\n",
    "print abs((temp1[:,:,:,np.newaxis]*temp2[:,np.newaxis,:,:]).sum(axis=-2).ravel()-identities).max()"
   ]
  },
  {
   "cell_type": "code",
   "execution_count": null,
   "metadata": {
    "collapsed": true
   },
   "outputs": [],
   "source": []
  },
  {
   "cell_type": "code",
   "execution_count": null,
   "metadata": {
    "collapsed": true
   },
   "outputs": [],
   "source": []
  }
 ],
 "metadata": {
  "kernelspec": {
   "display_name": "Python 2",
   "language": "python",
   "name": "python2"
  },
  "language_info": {
   "codemirror_mode": {
    "name": "ipython",
    "version": 2
   },
   "file_extension": ".py",
   "mimetype": "text/x-python",
   "name": "python",
   "nbconvert_exporter": "python",
   "pygments_lexer": "ipython2",
   "version": "2.7.13"
  }
 },
 "nbformat": 4,
 "nbformat_minor": 0
}
