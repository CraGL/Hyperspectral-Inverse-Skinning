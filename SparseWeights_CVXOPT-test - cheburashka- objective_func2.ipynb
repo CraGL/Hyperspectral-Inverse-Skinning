{
 "cells": [
  {
   "cell_type": "code",
   "execution_count": 1,
   "metadata": {},
   "outputs": [],
   "source": [
    "import glob\n",
    "import time\n",
    "import numpy as np\n",
    "np.set_printoptions(suppress=True)\n",
    "\n",
    "from SmoothSparseWeights_CVXOPT import *"
   ]
  },
  {
   "cell_type": "code",
   "execution_count": 2,
   "metadata": {},
   "outputs": [],
   "source": [
    "exampleName=\"cheburashka\"\n",
    "poses_folder=\"poses-2\"\n",
    "poses_ind=7\n",
    "clip_k=4\n",
    "handle_num=11\n",
    "\n",
    "\n",
    "# exampleName=\"cow\"\n",
    "# poses_folder=\"poses-2\"\n",
    "# poses_ind=5\n",
    "# clip_k=4\n",
    "# handle_num=15\n",
    "\n",
    "\n",
    "# exampleName=\"wolf\"\n",
    "# poses_folder=\"poses-1\"\n",
    "# poses_ind=2\n",
    "# clip_k=4\n",
    "# handle_num=21\n",
    "\n",
    "\n",
    "\n",
    "weights = {'W_spatial': 0.0}"
   ]
  },
  {
   "cell_type": "code",
   "execution_count": 3,
   "metadata": {},
   "outputs": [
    {
     "name": "stdout",
     "output_type": "stream",
     "text": [
      "['./models/cheburashka-all/poses-2/cheburashka-01.obj', './models/cheburashka-all/poses-2/cheburashka-02.obj', './models/cheburashka-all/poses-2/cheburashka-03.obj', './models/cheburashka-all/poses-2/cheburashka-04.obj', './models/cheburashka-all/poses-2/cheburashka-05.obj', './models/cheburashka-all/poses-2/cheburashka-06.obj', './models/cheburashka-all/poses-2/cheburashka-07.obj', './models/cheburashka-all/poses-2/cheburashka-08.obj', './models/cheburashka-all/poses-2/cheburashka-09.obj', './models/cheburashka-all/poses-2/cheburashka-10.obj', './models/cheburashka-all/poses-2/cheburashka-11.obj']\n",
      "(6669, 44)\n",
      "(6669, 33)\n"
     ]
    }
   ],
   "source": [
    "#### read obj file\n",
    "\n",
    "### rest_poses:\n",
    "vertices_obj_path=\"./models/\"+exampleName+\"-all/\"+exampleName+\".obj\"\n",
    "mesh0=TriMesh.FromOBJ_FileName(vertices_obj_path)\n",
    "\n",
    "### other poses\n",
    "vertices_obj_dir=\"./models/\"+exampleName+\"-all/\"+poses_folder+\"/\"\n",
    "filenames=glob.glob(vertices_obj_dir+\"*.obj\")\n",
    "print(filenames)\n",
    "\n",
    "mesh1_list=[]\n",
    "for i in range(len(filenames)):\n",
    "    mesh1_list.append(TriMesh.FromOBJ_FileName(filenames[i]))\n",
    "\n",
    "\n",
    "vertices1=vertices1_temp=np.hstack((np.asarray(mesh0.vs),np.ones((len(mesh0.vs),1))))\n",
    "vertices2=vertices2_temp=np.asarray(mesh1_list[0].vs)\n",
    "for i in range(1,len(mesh1_list)):\n",
    "    vertices1=np.hstack((vertices1, vertices1_temp))\n",
    "    vertices2=np.hstack((vertices2, np.asarray(mesh1_list[i].vs)))\n",
    "print(vertices1.shape) \n",
    "print(vertices2.shape) \n"
   ]
  },
  {
   "cell_type": "code",
   "execution_count": 4,
   "metadata": {},
   "outputs": [
    {
     "name": "stdout",
     "output_type": "stream",
     "text": [
      "(11, 132)\n",
      "(6669, 11)\n",
      "[[0.74340239 0.11506757 0.04097593 0.05160312 0.00088833 0.00834796\n",
      "  0.00363905 0.00922954 0.0266172  0.00001564 0.00021327]\n",
      " [0.74232596 0.11532759 0.04167527 0.05171986 0.00088909 0.00840986\n",
      "  0.00362964 0.00925433 0.02653997 0.0000158  0.00021263]\n",
      " [0.74685587 0.1146399  0.03846723 0.05108695 0.00088842 0.00818181\n",
      "  0.00365574 0.00924161 0.02675569 0.00001549 0.0002113 ]]\n",
      "[[0.74340239 0.11506757 0.04097593 0.05160312 0.         0.\n",
      "  0.         0.         0.         0.         0.        ]\n",
      " [0.74232596 0.11532759 0.04167527 0.05171986 0.         0.\n",
      "  0.         0.         0.         0.         0.        ]\n",
      " [0.74685587 0.1146399  0.03846723 0.05108695 0.         0.\n",
      "  0.         0.         0.         0.         0.        ]]\n",
      "0.0\n"
     ]
    }
   ],
   "source": [
    "#### read our output of simplex_hull.py \n",
    "results_path=\"./results_pipeline/\"+exampleName+\"-\"+str(handle_num)+\"/result.txt\"\n",
    "endmembers, mixing_weights=load_result(results_path)\n",
    "### endmembers shape is handle * poses * 12??\n",
    "\n",
    "# ### this is to make sure the 3*4 or 4*3 error does not happen.\n",
    "# endmembers=endmembers.reshape((-1, 4, 3))\n",
    "# endmembers=np.transpose(endmembers, (0,2,1))\n",
    "# endmembers=endmembers.reshape((len(mixing_weights), -1, 12))\n",
    "\n",
    "\n",
    "endmembers=endmembers.reshape((len(mixing_weights),-1))\n",
    "mixing_weights=mixing_weights.T\n",
    "\n",
    "\n",
    "print (endmembers.shape)\n",
    "print (mixing_weights.shape)\n",
    "print (mixing_weights[:3])\n",
    "## grad_zero_indices is for col-major\n",
    "mixing_weights_clip, grad_zero_indices=clip_first_k_values(mixing_weights, clip_k)\n",
    "print (mixing_weights_clip[:3])\n",
    "print (col_major(mixing_weights_clip)[grad_zero_indices].sum())"
   ]
  },
  {
   "cell_type": "code",
   "execution_count": 5,
   "metadata": {},
   "outputs": [
    {
     "name": "stdout",
     "output_type": "stream",
     "text": [
      "4.224960630474087\n"
     ]
    }
   ],
   "source": [
    "scale=find_scale(vertices1)\n",
    "print (scale)"
   ]
  },
  {
   "cell_type": "code",
   "execution_count": 6,
   "metadata": {},
   "outputs": [
    {
     "name": "stdout",
     "output_type": "stream",
     "text": [
      "0.2769974449129444\n"
     ]
    }
   ],
   "source": [
    "recovered_vertices2=recover_vertices(mixing_weights, vertices1, endmembers)\n",
    "print (E_RMS_kavan2010(vertices2, recovered_vertices2, scale))"
   ]
  },
  {
   "cell_type": "code",
   "execution_count": 7,
   "metadata": {},
   "outputs": [
    {
     "name": "stdout",
     "output_type": "stream",
     "text": [
      "3101.787312222525\n",
      "(73359, 1)\n",
      "(6669, 44)\n",
      "(6669, 33)\n",
      "6669 11 11\n",
      "use vertices error as obj\n",
      "W_spatial 0.0\n",
      "     pcost       dcost       gap    pres   dres\n",
      " 0: -2.8761e+03 -9.9470e+04  4e+05  2e+00  7e-15\n",
      " 1: -2.7635e+03 -4.5350e+04  6e+04  2e-01  7e-15\n",
      " 2: -2.6737e+03 -1.4769e+04  2e+04  4e-02  5e-15\n",
      " 3: -2.6326e+03 -1.0351e+04  1e+04  2e-02  4e-15\n",
      " 4: -1.8412e+03 -5.8177e+03  1e+04  2e-02  4e-15\n",
      " 5: -1.3445e+03 -1.4928e+03  1e+04  2e-02  4e-15\n",
      " 6: -6.9847e+01  8.2048e+03  1e+04  1e-02  4e-15\n",
      " 7:  1.0635e+03  1.8374e+04  1e+04  1e-02  4e-15\n",
      " 8:  3.7459e+03  4.0795e+04  2e+04  1e-02  4e-15\n",
      " 9:  2.6368e+04  1.0639e+05  4e+04  9e-03  8e-15\n",
      "10:  9.3893e+04  1.6385e+05  4e+04  4e-03  9e-15\n",
      "11:  1.1194e+05  1.6883e+05  4e+04  3e-03  8e-15\n",
      "12:  1.2298e+05  1.7133e+05  4e+04  3e-03  8e-15\n",
      "13:  1.4091e+05  1.7751e+05  3e+04  2e-03  7e-15\n",
      "14:  1.5884e+05  1.8259e+05  3e+04  1e-03  7e-15\n",
      "15:  1.7305e+05  1.8656e+05  2e+04  8e-04  7e-15\n",
      "16:  1.8384e+05  1.8969e+05  2e+04  4e-04  8e-15\n",
      "17:  1.8983e+05  1.9208e+05  1e+04  2e-04  8e-15\n",
      "18:  1.9206e+05  1.9324e+05  1e+04  2e-04  8e-15\n",
      "19:  1.9398e+05  1.9428e+05  8e+03  1e-04  8e-15\n",
      "20:  1.9555e+05  1.9533e+05  6e+03  7e-05  9e-15\n",
      "21:  1.9669e+05  1.9611e+05  5e+03  5e-05  9e-15\n",
      "22:  1.9748e+05  1.9670e+05  4e+03  3e-05  1e-14\n",
      "23:  1.9800e+05  1.9720e+05  3e+03  2e-05  1e-14\n",
      "24:  1.9832e+05  1.9765e+05  2e+03  1e-05  1e-14\n",
      "25:  1.9850e+05  1.9800e+05  1e+03  6e-06  1e-14\n",
      "26:  1.9857e+05  1.9823e+05  7e+02  3e-06  1e-14\n",
      "27:  1.9860e+05  1.9840e+05  4e+02  2e-06  1e-14\n",
      "28:  1.9861e+05  1.9850e+05  2e+02  8e-07  1e-14\n",
      "29:  1.9862e+05  1.9856e+05  1e+02  4e-07  9e-15\n",
      "30:  1.9862e+05  1.9859e+05  4e+01  1e-07  1e-14\n",
      "31:  1.9862e+05  1.9861e+05  1e+01  4e-08  1e-14\n",
      "32:  1.9862e+05  1.9861e+05  2e+00  7e-09  1e-14\n",
      "33:  1.9862e+05  1.9861e+05  1e+00  5e-09  1e-14\n",
      "34:  1.9862e+05  1.9861e+05  7e-01  2e-09  1e-14\n",
      "35:  1.9862e+05  1.9862e+05  9e-02  3e-10  1e-14\n",
      "Optimal solution found.\n",
      "optimal\n",
      "using time:  379.1843237876892\n",
      "2964.4491744624142\n"
     ]
    }
   ],
   "source": [
    "recovered_vertices2=recover_vertices(mixing_weights_clip, vertices1, endmembers)\n",
    "print (E_RMS_kavan2010(vertices2, recovered_vertices2, scale))\n",
    "\n",
    "initials={'x': col_major(mixing_weights_clip.reshape((-1,len(endmembers)))).reshape((-1,1))}\n",
    "print (initials['x'].shape)\n",
    "\n",
    "start=time.time()\n",
    "\n",
    "res=run(mesh0, mesh1_list, weights, endmembers, mixing_weights.ravel(), grad_zero_indices, initials=initials, choice=\"vertices_error\")\n",
    "\n",
    "res=res.reshape(mixing_weights.shape)\n",
    "end=time.time()\n",
    "print(\"using time: \", end-start)\n",
    "\n",
    "recovered_vertices2=recover_vertices(res, vertices1, endmembers)\n",
    "print (E_RMS_kavan2010(vertices2, recovered_vertices2, scale))"
   ]
  },
  {
   "cell_type": "code",
   "execution_count": 8,
   "metadata": {},
   "outputs": [
    {
     "name": "stdout",
     "output_type": "stream",
     "text": [
      "[[ 0.00000054  0.00000119  0.00000025  0.99999801 -0.          0.\n",
      "   0.          0.          0.          0.         -0.        ]\n",
      " [ 0.00000055  0.00000122  0.00000026  0.99999797 -0.          0.\n",
      "   0.          0.          0.          0.         -0.        ]\n",
      " [ 0.00000056  0.00000127  0.00000026  0.99999791 -0.          0.\n",
      "   0.          0.          0.          0.         -0.        ]]\n",
      "1.1834638459918678e-18\n",
      "6.257620992130864e-10\n"
     ]
    }
   ],
   "source": [
    "print (res.reshape((-1, len(endmembers)))[:3]) ### should have same zeros as initial input.\n",
    "print ((col_major(res)[grad_zero_indices]).sum()) ### should be zero\n",
    "print ((col_major(res)[grad_zero_indices]).max()) ### should be zero"
   ]
  },
  {
   "cell_type": "code",
   "execution_count": 9,
   "metadata": {},
   "outputs": [
    {
     "name": "stdout",
     "output_type": "stream",
     "text": [
      "1.6639757482626633e-32\n",
      "-1.6213233323231443e-10 0.9999989648598264\n"
     ]
    }
   ],
   "source": [
    "print (((1-res.sum(axis=-1))**2).sum()/len(res))\n",
    "print (res.min(), res.max())"
   ]
  },
  {
   "cell_type": "code",
   "execution_count": 10,
   "metadata": {},
   "outputs": [
    {
     "name": "stdout",
     "output_type": "stream",
     "text": [
      "219823453.7029981\n"
     ]
    }
   ],
   "source": [
    "recover_diff= (res.dot(endmembers)-mixing_weights.dot(endmembers))\n",
    "recover_diff= (recover_diff**2).sum()\n",
    "print (recover_diff)"
   ]
  },
  {
   "cell_type": "code",
   "execution_count": 11,
   "metadata": {},
   "outputs": [],
   "source": [
    "# #### read gt per vertex transformation \n",
    "# groundtruth_names=glob.glob(\"./models/\"+exampleName+\"-all/\"+exampleName+\"-*.DMAT\")\n",
    "# print(groundtruth_names)\n",
    "\n",
    "# gt_all=None\n",
    "# for i in range(len(groundtruth_names)):\n",
    "#     gt=load_DMAT(groundtruth_names[i])\n",
    "#     gt=gt.T\n",
    "#     gt=gt.reshape((-1,4,3))\n",
    "#     gt=np.transpose(gt, (0,2,1)).reshape((-1,12))\n",
    "#     if gt_all is None:\n",
    "#         gt_all=gt\n",
    "#     else:\n",
    "#         gt_all=np.hstack((gt_all, gt))\n",
    "    \n",
    "# print(gt_all.shape)\n"
   ]
  },
  {
   "cell_type": "code",
   "execution_count": 12,
   "metadata": {},
   "outputs": [
    {
     "name": "stdout",
     "output_type": "stream",
     "text": [
      "['./models/cheburashka-all/cheburashka.DMAT']\n",
      "(6669, 11)\n",
      "7.810955556852425e-29\n"
     ]
    }
   ],
   "source": [
    "#### read gt per vertex mixing weights \n",
    "groundtruth_names=glob.glob(\"./models/\"+exampleName+\"-all/\"+exampleName+\".DMAT\")\n",
    "print(groundtruth_names)\n",
    "gt=load_DMAT(groundtruth_names[0])\n",
    "gt_mixing_weights=gt.T.copy()\n",
    "print (gt_mixing_weights.shape)\n",
    "\n",
    "print (((gt_mixing_weights.sum(axis=-1)-1)**2).sum())"
   ]
  },
  {
   "cell_type": "code",
   "execution_count": 13,
   "metadata": {},
   "outputs": [
    {
     "name": "stdout",
     "output_type": "stream",
     "text": [
      "['./models/cheburashka-all/poses-2/cheburashka-01.Tmat', './models/cheburashka-all/poses-2/cheburashka-02.Tmat', './models/cheburashka-all/poses-2/cheburashka-03.Tmat', './models/cheburashka-all/poses-2/cheburashka-04.Tmat', './models/cheburashka-all/poses-2/cheburashka-05.Tmat', './models/cheburashka-all/poses-2/cheburashka-06.Tmat', './models/cheburashka-all/poses-2/cheburashka-07.Tmat', './models/cheburashka-all/poses-2/cheburashka-08.Tmat', './models/cheburashka-all/poses-2/cheburashka-09.Tmat', './models/cheburashka-all/poses-2/cheburashka-10.Tmat', './models/cheburashka-all/poses-2/cheburashka-11.Tmat']\n",
      "(11, 132)\n",
      "(11, 11, 12)\n",
      "[[1. 0. 0. 0.]\n",
      " [0. 1. 0. 0.]\n",
      " [0. 0. 1. 0.]]\n",
      "[[1. 0. 0. 0.]\n",
      " [0. 1. 0. 0.]\n",
      " [0. 0. 1. 0.]]\n",
      "[[1. 0. 0. 0.]\n",
      " [0. 1. 0. 0.]\n",
      " [0. 0. 1. 0.]]\n",
      "[[1. 0. 0. 0.]\n",
      " [0. 1. 0. 0.]\n",
      " [0. 0. 1. 0.]]\n",
      "[[1. 0. 0. 0.]\n",
      " [0. 1. 0. 0.]\n",
      " [0. 0. 1. 0.]]\n",
      "[[ 0.963511  -0.265796   0.0316154  0.147363 ]\n",
      " [ 0.2199     0.85336    0.472673  -0.245936 ]\n",
      " [-0.152614  -0.448474   0.88067    0.372767 ]]\n",
      "[[ 0.975151    0.162289    0.150807   -0.117374  ]\n",
      " [-0.221388    0.688578    0.690541   -0.0838931 ]\n",
      " [ 0.00822447 -0.706769    0.707397    0.396286  ]]\n",
      "[[1. 0. 0. 0.]\n",
      " [0. 1. 0. 0.]\n",
      " [0. 0. 1. 0.]]\n",
      "[[1. 0. 0. 0.]\n",
      " [0. 1. 0. 0.]\n",
      " [0. 0. 1. 0.]]\n",
      "[[ 0.95777   -0.286759   0.0211061  0.0660874]\n",
      " [ 0.207725   0.740814   0.638784  -0.336794 ]\n",
      " [-0.198813  -0.607424   0.769097   0.316341 ]]\n",
      "[[ 0.982958   0.061022   0.173405  -0.0750406]\n",
      " [-0.162432   0.73       0.663864  -0.163852 ]\n",
      " [-0.0860755 -0.680718   0.727471   0.26127  ]]\n",
      "[[1. 0. 0.]\n",
      " [0. 1. 0.]\n",
      " [0. 0. 1.]]\n"
     ]
    }
   ],
   "source": [
    "### load groundtruth endmember\n",
    "groundtruth_names=glob.glob(\"./models/\"+exampleName+\"-all/\"+poses_folder+\"/\"+exampleName+\"-*.Tmat\")\n",
    "print(groundtruth_names)\n",
    "\n",
    "gt_handles=None\n",
    "for i in range(len(groundtruth_names)):\n",
    "    gt=load_Tmat(groundtruth_names[i])\n",
    "    gt=gt.reshape((-1,4,3))\n",
    "    gt=np.transpose(gt, (0,2,1)).reshape((-1,12))\n",
    "    if gt_handles is None:\n",
    "        gt_handles=gt\n",
    "    else:\n",
    "        gt_handles=np.hstack((gt_handles, gt))\n",
    "    \n",
    "print(gt_handles.shape)\n",
    "gt_handles=gt_handles.reshape(len(groundtruth_names), -1, 12)\n",
    "\n",
    "gt_handles=np.transpose(gt_handles.reshape(-1, len(groundtruth_names), 12), (1,0,2)) ### is this true?\n",
    "\n",
    "print(gt_handles.shape)\n",
    "\n",
    "for i in range(len(gt_handles)):\n",
    "    print (gt_handles[i][2].reshape((3,4)))\n",
    "\n",
    "test=gt_handles[1][2].reshape((3,4))[:,:3]\n",
    "print (test.T.dot(test))"
   ]
  },
  {
   "cell_type": "code",
   "execution_count": 14,
   "metadata": {},
   "outputs": [],
   "source": [
    "Vertices=vertices2[:,poses_ind*3:poses_ind*3+3]\n",
    "\n",
    "# ## use recovered vertices instead.\n",
    "# recovered_vertices2=recover_vertices(res, vertices1, endmembers).reshape((len(vertices1),-1))\n",
    "# Vertices=recovered_vertices2[:,poses_ind*3:poses_ind*3+3]\n"
   ]
  },
  {
   "cell_type": "code",
   "execution_count": 15,
   "metadata": {},
   "outputs": [
    {
     "name": "stdout",
     "output_type": "stream",
     "text": [
      "[1093.80852851  697.47119439  969.02710634 3769.03656377   -0.00000034\n",
      "   46.53619119    3.5239815    75.16438107   14.4320531     0.00000064\n",
      "   -0.00000016]\n",
      "[[ 563.03900696  274.34147334  569.34354579]\n",
      " [ 372.16492301  244.34966422  349.29156322]\n",
      " [ 320.93580356  564.55802279  492.45708201]\n",
      " [2000.38564797 2303.38659634 1891.250291  ]\n",
      " [  -0.00000016   -0.00000016   -0.00000017]\n",
      " [  21.48871645   19.78133056   25.34867692]\n",
      " [   1.64932315    0.59801547    1.82936084]\n",
      " [  30.25643578   29.56463681   38.15643906]\n",
      " [   9.44065098    7.42688807    6.43658718]\n",
      " [   0.00000036    0.00000047    0.00000032]\n",
      " [  -0.00000008   -0.00000008   -0.00000008]]\n"
     ]
    }
   ],
   "source": [
    "print (res.sum(axis=0))\n",
    "print (res.T.dot(Vertices))\n",
    "\n",
    "res2=res ### seems for cheburashka example, do not clip is better?\n",
    "\n",
    "# res2=res.clip(0,1) ### this is important, when estimate handle position later.\n",
    "# print (((1-res2.sum(axis=-1))**2).sum()/len(res2))\n",
    "\n",
    "# print (res2.sum(axis=0))\n",
    "# print (res2.T.dot(Vertices))"
   ]
  },
  {
   "cell_type": "code",
   "execution_count": 16,
   "metadata": {},
   "outputs": [
    {
     "name": "stdout",
     "output_type": "stream",
     "text": [
      "[[0.51475098 0.25081307 0.52051482]\n",
      " [0.53359182 0.35033657 0.50079712]\n",
      " [0.33119383 0.58260292 0.50819743]\n",
      " [0.53074191 0.61113405 0.50178614]\n",
      " [0.47029789 0.47900427 0.50469833]\n",
      " [0.46176354 0.42507412 0.54470889]\n",
      " [0.46802832 0.16969881 0.51911761]\n",
      " [0.40253688 0.39333307 0.5076399 ]\n",
      " [0.6541447  0.51461064 0.44599248]\n",
      " [0.56725945 0.73824709 0.50372869]\n",
      " [0.46481661 0.46449884 0.49917512]]\n",
      "Using matplotlib backend: MacOSX\n"
     ]
    }
   ],
   "source": [
    "### plot handles corresponding to gt mixing weights, recovered mixing weights, and post-processed mixing weights.\n",
    "###\n",
    "\n",
    "eps=1e-30\n",
    "\n",
    "gt_handle_position=gt_mixing_weights.T.dot(Vertices)/(gt_mixing_weights.T.sum(axis=-1)[...,np.newaxis]+eps)\n",
    "recovered_handle_position=mixing_weights.T.dot(Vertices)/(mixing_weights.T.sum(axis=-1)[...,np.newaxis]+eps)\n",
    "cliped_handle_position=mixing_weights_clip.T.dot(Vertices)/(mixing_weights_clip.T.sum(axis=-1)[...,np.newaxis]+eps)\n",
    "postprocessed_handle_position=res2.T.dot(Vertices)/(res2.T.sum(axis=-1)[...,np.newaxis]+eps)\n",
    "print (postprocessed_handle_position)\n",
    "\n",
    "%matplotlib \n",
    "import matplotlib.pyplot as plt\n",
    "from mpl_toolkits.mplot3d import Axes3D\n",
    "\n",
    "fig= plt.figure()\n",
    "ax=fig.add_subplot(111, projection='3d')\n",
    "\n",
    "ax.scatter(gt_handle_position[:,0],gt_handle_position[:,1], gt_handle_position[:,2], c='k', s=50)\n",
    "ax.scatter(recovered_handle_position[:,0],recovered_handle_position[:,1], recovered_handle_position[:,2], c='r', s=50)\n",
    "# ax.scatter(cliped_handle_position[:,0],cliped_handle_position[:,1], cliped_handle_position[:,2], c='g', s=50)\n",
    "ax.scatter(postprocessed_handle_position[:,0],postprocessed_handle_position[:,1], postprocessed_handle_position[:,2], c='b', s=50)\n",
    "ax.scatter(Vertices[:,0],Vertices[:,1], Vertices[:,2], color='y', s=1, edgecolors='none')\n",
    "\n",
    "plt.show()"
   ]
  },
  {
   "cell_type": "code",
   "execution_count": null,
   "metadata": {},
   "outputs": [],
   "source": []
  },
  {
   "cell_type": "code",
   "execution_count": null,
   "metadata": {},
   "outputs": [],
   "source": []
  },
  {
   "cell_type": "code",
   "execution_count": null,
   "metadata": {},
   "outputs": [],
   "source": []
  },
  {
   "cell_type": "code",
   "execution_count": null,
   "metadata": {},
   "outputs": [],
   "source": []
  },
  {
   "cell_type": "code",
   "execution_count": null,
   "metadata": {},
   "outputs": [],
   "source": []
  },
  {
   "cell_type": "code",
   "execution_count": null,
   "metadata": {},
   "outputs": [],
   "source": []
  }
 ],
 "metadata": {
  "kernelspec": {
   "display_name": "Python 3",
   "language": "python",
   "name": "python3"
  },
  "language_info": {
   "codemirror_mode": {
    "name": "ipython",
    "version": 3
   },
   "file_extension": ".py",
   "mimetype": "text/x-python",
   "name": "python",
   "nbconvert_exporter": "python",
   "pygments_lexer": "ipython3",
   "version": "3.6.5"
  }
 },
 "nbformat": 4,
 "nbformat_minor": 2
}
