{
 "cells": [
  {
   "cell_type": "code",
   "execution_count": 1,
   "metadata": {},
   "outputs": [],
   "source": [
    "import glob\n",
    "import time\n",
    "import numpy as np\n",
    "np.set_printoptions(suppress=True)\n",
    "\n",
    "from SmoothSparseWeights_CVXOPT import *"
   ]
  },
  {
   "cell_type": "code",
   "execution_count": 2,
   "metadata": {},
   "outputs": [],
   "source": [
    "# exampleName=\"cheburashka\"\n",
    "# poses_folder=\"poses-2\"\n",
    "# poses_ind=7\n",
    "# clip_k=4\n",
    "# handle_num=11\n",
    "\n",
    "\n",
    "exampleName=\"cow\"\n",
    "poses_folder=\"poses-2\"\n",
    "poses_ind=5\n",
    "clip_k=4\n",
    "handle_num=15\n",
    "\n",
    "\n",
    "# exampleName=\"wolf\"\n",
    "# poses_folder=\"poses-1\"\n",
    "# poses_ind=2\n",
    "# clip_k=4\n",
    "# handle_num=21\n",
    "\n",
    "\n",
    "\n",
    "weights = {'W_spatial': 0.0}"
   ]
  },
  {
   "cell_type": "code",
   "execution_count": 3,
   "metadata": {},
   "outputs": [
    {
     "name": "stdout",
     "output_type": "stream",
     "text": [
      "['./models/cow-all/poses-2/cow-1.obj', './models/cow-all/poses-2/cow-2.obj', './models/cow-all/poses-2/cow-3.obj', './models/cow-all/poses-2/cow-4.obj', './models/cow-all/poses-2/cow-5.obj', './models/cow-all/poses-2/cow-6.obj', './models/cow-all/poses-2/cow-7.obj']\n",
      "(11666, 28)\n",
      "(11666, 21)\n"
     ]
    }
   ],
   "source": [
    "#### read obj file\n",
    "\n",
    "### rest_poses:\n",
    "vertices_obj_path=\"./models/\"+exampleName+\"-all/\"+exampleName+\".obj\"\n",
    "mesh0=TriMesh.FromOBJ_FileName(vertices_obj_path)\n",
    "\n",
    "### other poses\n",
    "vertices_obj_dir=\"./models/\"+exampleName+\"-all/\"+poses_folder+\"/\"\n",
    "filenames=glob.glob(vertices_obj_dir+\"*.obj\")\n",
    "print(filenames)\n",
    "\n",
    "mesh1_list=[]\n",
    "for i in range(len(filenames)):\n",
    "    mesh1_list.append(TriMesh.FromOBJ_FileName(filenames[i]))\n",
    "\n",
    "\n",
    "vertices1=vertices1_temp=np.hstack((np.asarray(mesh0.vs),np.ones((len(mesh0.vs),1))))\n",
    "vertices2=vertices2_temp=np.asarray(mesh1_list[0].vs)\n",
    "for i in range(1,len(mesh1_list)):\n",
    "    vertices1=np.hstack((vertices1, vertices1_temp))\n",
    "    vertices2=np.hstack((vertices2, np.asarray(mesh1_list[i].vs)))\n",
    "print(vertices1.shape) \n",
    "print(vertices2.shape) \n"
   ]
  },
  {
   "cell_type": "code",
   "execution_count": 4,
   "metadata": {},
   "outputs": [
    {
     "name": "stdout",
     "output_type": "stream",
     "text": [
      "(15, 84)\n",
      "(11666, 15)\n",
      "[[0.20570602 0.00042219 0.02655054 0.15167153 0.00018981 0.00004767\n",
      "  0.00030539 0.00002423 0.02001831 0.00000105 0.00102998 0.14445015\n",
      "  0.00045419 0.44910447 0.00002447]\n",
      " [0.21555833 0.0004373  0.02679411 0.16466939 0.00016431 0.00004939\n",
      "  0.00029969 0.00002367 0.01424946 0.00000119 0.00101018 0.15187666\n",
      "  0.00048589 0.42435294 0.00002749]\n",
      " [0.24024097 0.00040106 0.02997077 0.15734726 0.00013956 0.00004676\n",
      "  0.00030475 0.00002278 0.01438586 0.00000122 0.00103343 0.11445163\n",
      "  0.00051674 0.44110425 0.00003297]]\n",
      "[[0.20570602 0.         0.         0.15167153 0.         0.\n",
      "  0.         0.         0.         0.         0.         0.14445015\n",
      "  0.         0.44910447 0.        ]\n",
      " [0.21555833 0.         0.         0.16466939 0.         0.\n",
      "  0.         0.         0.         0.         0.         0.15187666\n",
      "  0.         0.42435294 0.        ]\n",
      " [0.24024097 0.         0.         0.15734726 0.         0.\n",
      "  0.         0.         0.         0.         0.         0.11445163\n",
      "  0.         0.44110425 0.        ]]\n",
      "0.0\n"
     ]
    }
   ],
   "source": [
    "#### read our output of simplex_hull.py \n",
    "results_path=\"./results_pipeline/\"+exampleName+\"-\"+str(handle_num)+\"/result.txt\"\n",
    "endmembers, mixing_weights=load_result(results_path)\n",
    "### endmembers shape is handle * poses * 12??\n",
    "\n",
    "# ### this is to make sure the 3*4 or 4*3 error does not happen.\n",
    "# endmembers=endmembers.reshape((-1, 4, 3))\n",
    "# endmembers=np.transpose(endmembers, (0,2,1))\n",
    "# endmembers=endmembers.reshape((len(mixing_weights), -1, 12))\n",
    "\n",
    "\n",
    "endmembers=endmembers.reshape((len(mixing_weights),-1))\n",
    "mixing_weights=mixing_weights.T\n",
    "\n",
    "\n",
    "print (endmembers.shape)\n",
    "print (mixing_weights.shape)\n",
    "print (mixing_weights[:3])\n",
    "mixing_weights_clip, grad_zero_indices=clip_first_k_values(mixing_weights, clip_k)\n",
    "print (mixing_weights_clip[:3])\n",
    "print ((col_major(mixing_weights_clip)[grad_zero_indices]).sum()) ### should be zero"
   ]
  },
  {
   "cell_type": "code",
   "execution_count": 5,
   "metadata": {},
   "outputs": [
    {
     "name": "stdout",
     "output_type": "stream",
     "text": [
      "708.6870049193498\n"
     ]
    }
   ],
   "source": [
    "scale=find_scale(vertices1)\n",
    "print (scale)"
   ]
  },
  {
   "cell_type": "code",
   "execution_count": 6,
   "metadata": {},
   "outputs": [
    {
     "name": "stdout",
     "output_type": "stream",
     "text": [
      "0.07533573276941447\n"
     ]
    }
   ],
   "source": [
    "recovered_vertices2=recover_vertices(mixing_weights, vertices1, endmembers)\n",
    "print (E_RMS_kavan2010(vertices2, recovered_vertices2, scale))"
   ]
  },
  {
   "cell_type": "code",
   "execution_count": 7,
   "metadata": {},
   "outputs": [
    {
     "name": "stdout",
     "output_type": "stream",
     "text": [
      "37144.77739542564\n",
      "(174990, 1)\n",
      "(11666, 28)\n",
      "(11666, 21)\n",
      "11666 7 15\n",
      "W_spatial 0.0\n",
      "     pcost       dcost       gap    pres   dres\n",
      " 0: -1.0742e+08 -1.0873e+08  4e+07  2e+01  2e-13\n",
      " 1: -1.0708e+08 -1.0846e+08  2e+07  6e+00  2e-13\n",
      " 2: -1.0642e+08 -1.0780e+08  1e+07  3e+00  1e-13\n",
      " 3: -1.0600e+08 -1.0758e+08  8e+06  1e+00  1e-13\n",
      " 4: -1.0572e+08 -1.0724e+08  6e+06  8e-01  1e-13\n",
      " 5: -1.0571e+08 -1.0724e+08  6e+06  8e-01  1e-13\n",
      " 6: -1.0550e+08 -1.0673e+08  4e+06  4e-01  1e-13\n",
      " 7: -1.0542e+08 -1.0646e+08  3e+06  3e-01  1e-13\n",
      " 8: -1.0530e+08 -1.0614e+08  2e+06  2e-01  1e-13\n",
      " 9: -1.0527e+08 -1.0595e+08  2e+06  2e-01  1e-13\n",
      "10: -1.0525e+08 -1.0579e+08  2e+06  1e-01  1e-13\n",
      "11: -1.0519e+08 -1.0555e+08  2e+06  1e-01  1e-13\n",
      "12: -1.0511e+08 -1.0524e+08  2e+06  1e-01  1e-13\n",
      "13: -1.0503e+08 -1.0497e+08  2e+06  1e-01  1e-13\n",
      "14: -1.0485e+08 -1.0459e+08  2e+06  9e-02  1e-13\n",
      "15: -1.0457e+08 -1.0418e+08  2e+06  7e-02  1e-13\n",
      "16: -1.0421e+08 -1.0388e+08  2e+06  5e-02  1e-13\n",
      "17: -1.0384e+08 -1.0366e+08  2e+06  4e-02  1e-13\n",
      "18: -1.0348e+08 -1.0349e+08  2e+06  3e-02  1e-13\n",
      "19: -1.0348e+08 -1.0346e+08  2e+06  3e-02  1e-13\n",
      "20: -1.0344e+08 -1.0334e+08  2e+06  3e-02  1e-13\n",
      "21: -1.0335e+08 -1.0298e+08  2e+06  3e-02  1e-13\n",
      "22: -1.0323e+08 -1.0270e+08  2e+06  2e-02  1e-13\n",
      "23: -1.0306e+08 -1.0240e+08  2e+06  2e-02  1e-13\n",
      "24: -1.0286e+08 -1.0213e+08  2e+06  2e-02  1e-13\n",
      "25: -1.0264e+08 -1.0185e+08  2e+06  2e-02  1e-13\n",
      "26: -1.0258e+08 -1.0177e+08  2e+06  2e-02  1e-13\n",
      "27: -1.0250e+08 -1.0165e+08  2e+06  2e-02  1e-13\n",
      "28: -1.0241e+08 -1.0145e+08  2e+06  1e-02  1e-13\n",
      "29: -1.0229e+08 -1.0118e+08  2e+06  1e-02  1e-13\n",
      "30: -1.0214e+08 -1.0083e+08  2e+06  1e-02  1e-13\n",
      "31: -1.0197e+08 -1.0038e+08  2e+06  1e-02  1e-13\n",
      "32: -1.0173e+08 -9.9721e+07  2e+06  1e-02  1e-13\n",
      "33: -1.0140e+08 -9.8832e+07  2e+06  1e-02  1e-13\n",
      "34: -1.0100e+08 -9.7977e+07  3e+06  9e-03  1e-13\n",
      "35: -1.0067e+08 -9.7462e+07  3e+06  8e-03  1e-13\n",
      "36: -1.0035e+08 -9.7036e+07  3e+06  8e-03  1e-13\n",
      "37: -9.9783e+07 -9.6425e+07  3e+06  7e-03  1e-13\n",
      "38: -9.9486e+07 -9.6155e+07  3e+06  6e-03  1e-13\n",
      "39: -9.8767e+07 -9.5525e+07  3e+06  5e-03  9e-14\n",
      "40: -9.8329e+07 -9.5192e+07  3e+06  5e-03  8e-14\n",
      "41: -9.7945e+07 -9.4870e+07  3e+06  4e-03  8e-14\n",
      "42: -9.7648e+07 -9.4630e+07  3e+06  4e-03  8e-14\n",
      "43: -9.7420e+07 -9.4441e+07  3e+06  4e-03  8e-14\n",
      "44: -9.7226e+07 -9.4257e+07  3e+06  4e-03  7e-14\n",
      "45: -9.6712e+07 -9.3697e+07  4e+06  3e-03  7e-14\n",
      "46: -9.6454e+07 -9.3267e+07  4e+06  3e-03  7e-14\n",
      "47: -9.5800e+07 -9.2199e+07  4e+06  3e-03  6e-14\n",
      "48: -9.5457e+07 -9.1542e+07  4e+06  2e-03  6e-14\n",
      "49: -9.4894e+07 -9.0313e+07  4e+06  2e-03  6e-14\n",
      "50: -9.4369e+07 -8.7761e+07  5e+06  2e-03  6e-14\n",
      "51: -9.4201e+07 -8.4428e+07  5e+06  2e-03  6e-14\n",
      "52: -9.4092e+07 -7.8057e+07  6e+06  2e-03  6e-14\n",
      "53: -9.4003e+07 -6.9929e+07  7e+06  2e-03  6e-14\n",
      "54: -9.3994e+07 -6.8619e+07  7e+06  2e-03  6e-14\n",
      "55: -9.3908e+07 -5.9555e+07  8e+06  2e-03  6e-14\n",
      "56: -9.3901e+07 -5.8142e+07  8e+06  2e-03  6e-14\n",
      "57: -9.3811e+07 -4.9172e+07  1e+07  2e-03  6e-14\n",
      "58: -9.3711e+07 -3.9408e+07  1e+07  2e-03  6e-14\n",
      "59: -9.3494e+07 -1.4141e+07  1e+07  2e-03  7e-14\n",
      "60: -9.3380e+07  2.5239e+07  2e+07  2e-03  7e-14\n",
      "61: -9.2896e+07  7.5467e+07  2e+07  2e-03  7e-14\n",
      "62: -9.2604e+07  1.0254e+08  3e+07  2e-03  7e-14\n",
      "63: -9.1155e+07  2.0350e+08  4e+07  2e-03  7e-14\n",
      "64: -9.1069e+07  2.0942e+08  4e+07  2e-03  7e-14\n",
      "65: -9.0104e+07  2.7546e+08  5e+07  2e-03  7e-14\n",
      "66: -8.8322e+07  3.7746e+08  6e+07  2e-03  7e-14\n",
      "67: -8.6593e+07  4.5438e+08  7e+07  2e-03  7e-14\n",
      "68: -8.6138e+07  4.7544e+08  7e+07  2e-03  7e-14\n",
      "69: -8.4865e+07  5.6940e+08  8e+07  2e-03  7e-14\n",
      "70: -8.5567e+07  8.6077e+08  1e+08  2e-03  7e-14\n",
      "71: -8.4654e+07  9.5376e+08  1e+08  2e-03  8e-14\n",
      "72: -8.2972e+07  1.1182e+09  1e+08  2e-03  8e-14\n",
      "73: -7.3013e+07  1.8300e+09  2e+08  2e-03  8e-14\n",
      "74: -6.7060e+07  2.2145e+09  3e+08  2e-03  8e-14\n",
      "75: -5.8524e+07  2.8216e+09  3e+08  2e-03  8e-14\n",
      "76: -5.3694e+07  3.4330e+09  4e+08  2e-03  8e-14\n",
      "77: -4.4785e+07  4.1697e+09  5e+08  2e-03  9e-14\n",
      "78: -2.9847e+07  5.2227e+09  6e+08  2e-03  9e-14\n",
      "79: -4.4046e+06  6.6653e+09  7e+08  2e-03  9e-14\n",
      "80:  3.8417e+07  8.7623e+09  1e+09  2e-03  9e-14\n",
      "81:  1.0092e+08  1.1045e+10  1e+09  2e-03  9e-14\n",
      "82:  1.8769e+08  1.3573e+10  2e+09  2e-03  9e-14\n",
      "83:  3.5401e+08  1.7407e+10  2e+09  2e-03  9e-14\n",
      "84:  4.3688e+08  1.9110e+10  2e+09  2e-03  9e-14\n",
      "85:  4.2882e+08  2.0358e+10  2e+09  2e-03  9e-14\n",
      "86:  6.1122e+08  2.4460e+10  3e+09  2e-03  9e-14\n",
      "87:  7.7593e+08  2.7650e+10  3e+09  2e-03  9e-14\n",
      "88:  1.0527e+09  3.2338e+10  4e+09  2e-03  9e-14\n",
      "89:  1.0603e+09  3.2457e+10  4e+09  2e-03  9e-14\n",
      "90:  1.5337e+09  3.9059e+10  5e+09  2e-03  9e-14\n",
      "91:  2.6606e+09  5.1232e+10  7e+09  2e-03  1e-13\n",
      "92:  3.2619e+09  5.7148e+10  9e+09  2e-03  1e-13\n",
      "93:  4.2360e+09  6.7421e+10  1e+10  2e-03  1e-13\n",
      "94:  5.0597e+09  7.7411e+10  1e+10  2e-03  1e-13\n",
      "95:  7.9857e+09  1.0535e+11  2e+10  1e-03  1e-13\n",
      "96:  1.2259e+10  1.3421e+11  2e+10  1e-03  1e-13\n",
      "97:  1.3302e+10  1.4336e+11  3e+10  1e-03  1e-13\n",
      "98:  1.6837e+10  1.6221e+11  3e+10  1e-03  1e-13\n",
      "99:  3.7988e+10  2.3881e+11  5e+10  1e-03  9e-14\n",
      "100:  1.4497e+11  4.0358e+11  1e+11  9e-04  7e-14\n",
      "Terminated (maximum number of iterations reached).\n",
      "Solution status not optimal: unknown\n",
      "using time:  3373.7928009033203\n",
      "18538.333347374723\n"
     ]
    }
   ],
   "source": [
    "recovered_vertices2=recover_vertices(mixing_weights_clip, vertices1, endmembers)\n",
    "print (E_RMS_kavan2010(vertices2, recovered_vertices2, scale))\n",
    "\n",
    "initials={'x': col_major(mixing_weights_clip.reshape((-1,len(endmembers)))).reshape((-1,1))}\n",
    "print (initials['x'].shape)\n",
    "\n",
    "start=time.time()\n",
    "\n",
    "res=run(mesh0, mesh1_list, weights, endmembers, mixing_weights.ravel(), grad_zero_indices, initials=initials, choice=\"transformation_error\")\n",
    "\n",
    "res=res.reshape(mixing_weights.shape)\n",
    "end=time.time()\n",
    "print(\"using time: \", end-start)\n",
    "\n",
    "recovered_vertices2=recover_vertices(res, vertices1, endmembers)\n",
    "print (E_RMS_kavan2010(vertices2, recovered_vertices2, scale))"
   ]
  },
  {
   "cell_type": "code",
   "execution_count": 8,
   "metadata": {},
   "outputs": [
    {
     "name": "stdout",
     "output_type": "stream",
     "text": [
      "[[ 0.0488357  -0.00025218 -0.00049711  0.85894611 -0.00042451 -0.00019948\n",
      "   0.00003066  0.00020723 -0.00053548  0.00069607  0.00026473  0.04839043\n",
      "  -0.00035479  0.04373759  0.00115504]\n",
      " [ 0.04865433 -0.00023534 -0.00048779  0.85893776 -0.00040002 -0.00022618\n",
      "  -0.00009843  0.00020417 -0.00054918  0.00069575  0.00035076  0.0485271\n",
      "  -0.00032414  0.04379297  0.00115825]\n",
      " [ 0.04856603 -0.00030226 -0.00046907  0.858842   -0.00040621 -0.00025675\n",
      "  -0.00015609  0.0002012  -0.00055037  0.00069594  0.00048723  0.04853769\n",
      "  -0.00031577  0.04394801  0.00117843]]\n",
      "1.5993784074908035e-10\n",
      "0.0043737005785695355\n"
     ]
    }
   ],
   "source": [
    "print (res.reshape((-1, len(endmembers)))[:3]) ### should have same zeros as initial input.\n",
    "print ((col_major(res)[grad_zero_indices]).sum()) ### should be zero\n",
    "print ((col_major(res)[grad_zero_indices]).max()) ### should be zero"
   ]
  },
  {
   "cell_type": "code",
   "execution_count": 9,
   "metadata": {},
   "outputs": [
    {
     "name": "stdout",
     "output_type": "stream",
     "text": [
      "7.783510782681785e-27\n",
      "-0.0006422016771267755 0.9115699649712768\n"
     ]
    }
   ],
   "source": [
    "print (((1-res.sum(axis=-1))**2).sum()/len(res))\n",
    "print (res.min(), res.max())"
   ]
  },
  {
   "cell_type": "code",
   "execution_count": 10,
   "metadata": {},
   "outputs": [
    {
     "name": "stdout",
     "output_type": "stream",
     "text": [
      "15196379513975.172\n"
     ]
    }
   ],
   "source": [
    "recover_diff= (res.dot(endmembers)-mixing_weights.dot(endmembers))\n",
    "recover_diff= (recover_diff**2).sum()\n",
    "print (recover_diff)"
   ]
  },
  {
   "cell_type": "code",
   "execution_count": 11,
   "metadata": {},
   "outputs": [],
   "source": [
    "# #### read gt per vertex transformation \n",
    "# groundtruth_names=glob.glob(\"./models/\"+exampleName+\"-all/\"+exampleName+\"-*.DMAT\")\n",
    "# print(groundtruth_names)\n",
    "\n",
    "# gt_all=None\n",
    "# for i in range(len(groundtruth_names)):\n",
    "#     gt=load_DMAT(groundtruth_names[i])\n",
    "#     gt=gt.T\n",
    "#     gt=gt.reshape((-1,4,3))\n",
    "#     gt=np.transpose(gt, (0,2,1)).reshape((-1,12))\n",
    "#     if gt_all is None:\n",
    "#         gt_all=gt\n",
    "#     else:\n",
    "#         gt_all=np.hstack((gt_all, gt))\n",
    "    \n",
    "# print(gt_all.shape)\n"
   ]
  },
  {
   "cell_type": "code",
   "execution_count": 12,
   "metadata": {},
   "outputs": [
    {
     "name": "stdout",
     "output_type": "stream",
     "text": [
      "['./models/cow-all/cow.DMAT']\n",
      "(11666, 15)\n",
      "1.5653958587979453e-28\n"
     ]
    }
   ],
   "source": [
    "#### read gt per vertex mixing weights \n",
    "groundtruth_names=glob.glob(\"./models/\"+exampleName+\"-all/\"+exampleName+\".DMAT\")\n",
    "print(groundtruth_names)\n",
    "gt=load_DMAT(groundtruth_names[0])\n",
    "gt_mixing_weights=gt.T.copy()\n",
    "print (gt_mixing_weights.shape)\n",
    "\n",
    "print (((gt_mixing_weights.sum(axis=-1)-1)**2).sum())"
   ]
  },
  {
   "cell_type": "code",
   "execution_count": 13,
   "metadata": {},
   "outputs": [
    {
     "name": "stdout",
     "output_type": "stream",
     "text": [
      "['./models/cow-all/poses-2/cow-1.Tmat', './models/cow-all/poses-2/cow-2.Tmat', './models/cow-all/poses-2/cow-3.Tmat', './models/cow-all/poses-2/cow-4.Tmat', './models/cow-all/poses-2/cow-5.Tmat', './models/cow-all/poses-2/cow-6.Tmat', './models/cow-all/poses-2/cow-7.Tmat']\n",
      "(15, 84)\n",
      "(7, 15, 12)\n",
      "[[1. 0. 0. 0.]\n",
      " [0. 1. 0. 0.]\n",
      " [0. 0. 1. 0.]]\n",
      "[[ 0.998956    0.0322376   0.0323555  -2.24837   ]\n",
      " [-0.0456047   0.664913    0.745527   27.1422    ]\n",
      " [ 0.00252045 -0.746225    0.665689   53.4901    ]]\n",
      "[[1. 0. 0. 0.]\n",
      " [0. 1. 0. 0.]\n",
      " [0. 0. 1. 0.]]\n",
      "[[1. 0. 0. 0.]\n",
      " [0. 1. 0. 0.]\n",
      " [0. 0. 1. 0.]]\n",
      "[[1. 0. 0. 0.]\n",
      " [0. 1. 0. 0.]\n",
      " [0. 0. 1. 0.]]\n",
      "[[1. 0. 0. 0.]\n",
      " [0. 1. 0. 0.]\n",
      " [0. 0. 1. 0.]]\n",
      "[[1. 0. 0. 0.]\n",
      " [0. 1. 0. 0.]\n",
      " [0. 0. 1. 0.]]\n",
      "[[ 0.99999923 -0.00000004  0.00000002]\n",
      " [-0.00000004  1.00000031 -0.00000012]\n",
      " [ 0.00000002 -0.00000012  0.99999923]]\n"
     ]
    }
   ],
   "source": [
    "### load groundtruth endmember\n",
    "groundtruth_names=glob.glob(\"./models/\"+exampleName+\"-all/\"+poses_folder+\"/\"+exampleName+\"-*.Tmat\")\n",
    "print(groundtruth_names)\n",
    "\n",
    "gt_handles=None\n",
    "for i in range(len(groundtruth_names)):\n",
    "    gt=load_Tmat(groundtruth_names[i])\n",
    "    gt=gt.reshape((-1,4,3))\n",
    "    gt=np.transpose(gt, (0,2,1)).reshape((-1,12))\n",
    "    if gt_handles is None:\n",
    "        gt_handles=gt\n",
    "    else:\n",
    "        gt_handles=np.hstack((gt_handles, gt))\n",
    "    \n",
    "print(gt_handles.shape)\n",
    "gt_handles=gt_handles.reshape(len(groundtruth_names), -1, 12)\n",
    "\n",
    "gt_handles=np.transpose(gt_handles.reshape(-1, len(groundtruth_names), 12), (1,0,2)) ### is this true?\n",
    "\n",
    "print(gt_handles.shape)\n",
    "\n",
    "for i in range(len(gt_handles)):\n",
    "    print (gt_handles[i][2].reshape((3,4)))\n",
    "\n",
    "test=gt_handles[1][2].reshape((3,4))[:,:3]\n",
    "print (test.T.dot(test))"
   ]
  },
  {
   "cell_type": "code",
   "execution_count": 31,
   "metadata": {},
   "outputs": [],
   "source": [
    "Vertices=vertices2[:,poses_ind*3:poses_ind*3+3]\n",
    "\n",
    "## use recovered vertices instead.\n",
    "recovered_vertices2=recover_vertices(res2, vertices1, endmembers).reshape((len(vertices1),-1))\n",
    "Vertices=recovered_vertices2[:,poses_ind*3:poses_ind*3+3]\n"
   ]
  },
  {
   "cell_type": "code",
   "execution_count": 32,
   "metadata": {},
   "outputs": [
    {
     "name": "stdout",
     "output_type": "stream",
     "text": [
      "[ 670.2643694     0.63173762  739.75593732 9028.50360065   -3.90749162\n",
      "   -1.82023661    0.02634296    2.62539863   47.93159462    7.76160885\n",
      "   -2.70231202  589.26563627   -1.24419999  576.75633724   12.15167668]\n",
      "[[   676479.34981704   -431417.97732414     21503.8137028 ]\n",
      " [     -687.87545346      1120.00041222      -192.61510175]\n",
      " [ -1227436.62574041   1835023.70558569   5240164.03736247]\n",
      " [-11096625.44884238  23148140.25531221  24088450.23492969]\n",
      " [     4115.71521381     -8925.12642405    -10036.42163306]\n",
      " [     1346.33686403     -3529.12752935     -4107.65641221]\n",
      " [    -1013.8552239       1623.70769166     -2784.51020272]\n",
      " [    -2269.02912945      4912.10380954      7206.19482757]\n",
      " [   -81623.1529577     122312.20207824    317699.31117342]\n",
      " [   -11003.95074331     21619.91848198     24688.58872559]\n",
      " [     3630.43327626     -6828.85860072     -3896.34650231]\n",
      " [   401097.22589322    -85139.9718273     134955.06533218]\n",
      " [    14743.74640716    -21644.27465504    -20541.73320832]\n",
      " [   235754.98478547    127922.56394706    360325.68205144]\n",
      " [   -16420.012291       32829.23198319     37757.00270146]]\n",
      "5.801283923072726e-06\n",
      "[ 670.31686627    2.30990413  745.20796519 9029.10352366    0.00668651\n",
      "    0.03896628    1.47762904    2.62807882   53.76175071    7.83785233\n",
      "    0.8569483   589.72434434    1.55797296  576.79497586   12.19614884]\n",
      "[[   676428.50696466   -431310.830379       21553.9706827 ]\n",
      " [    -1480.78697231      3928.23581164      3138.33107026]\n",
      " [ -1232637.67999607   1847010.00317355   5252347.52046848]\n",
      " [-11095707.23965125  23147009.50974431  24089711.12936773]\n",
      " [       63.3189788        -86.72714136       -48.62224489]\n",
      " [       18.17389565        -2.36913121        26.35210804]\n",
      " [     -952.41675657      2531.23951579       270.80549686]\n",
      " [    -2242.94920318      4877.48116705      7180.18229513]\n",
      " [   -86770.91481128    134415.74044726    330856.83571873]\n",
      " [   -10104.77085229     20408.67973192     23627.42323321]\n",
      " [     -191.53664489      1135.9830974       3031.5926079 ]\n",
      " [   400303.53727836    -83961.31824917    138294.37405388]\n",
      " [    12071.6708145     -15628.61322997    -14527.22901311]\n",
      " [   235865.59777752    127791.68018293    360176.76630181]\n",
      " [   -15895.73444937     32122.44336428     37145.60727323]]\n"
     ]
    }
   ],
   "source": [
    "print (res.sum(axis=0))\n",
    "print (res.T.dot(Vertices))\n",
    "\n",
    "res2=res\n",
    "res2=res.clip(0,1) ### this is important, when estimate handle position later.\n",
    "print (((1-res2.sum(axis=-1))**2).sum()/len(res2))\n",
    "\n",
    "print (res2.sum(axis=0))\n",
    "print (res2.T.dot(Vertices))"
   ]
  },
  {
   "cell_type": "code",
   "execution_count": 34,
   "metadata": {},
   "outputs": [
    {
     "name": "stdout",
     "output_type": "stream",
     "text": [
      "Using matplotlib backend: MacOSX\n"
     ]
    }
   ],
   "source": [
    "### plot handles corresponding to gt mixing weights, recovered mixing weights, and post-processed mixing weights.\n",
    "###\n",
    "\n",
    "eps=1e-30\n",
    "\n",
    "gt_handle_position=gt_mixing_weights.T.dot(Vertices)/(gt_mixing_weights.T.sum(axis=-1)[...,np.newaxis]+eps)\n",
    "recovered_handle_position=mixing_weights.T.dot(Vertices)/(mixing_weights.T.sum(axis=-1)[...,np.newaxis]+eps)\n",
    "cliped_handle_position=mixing_weights_clip.T.dot(Vertices)/(mixing_weights_clip.T.sum(axis=-1)[...,np.newaxis]+eps)\n",
    "postprocessed_handle_position=res2.T.dot(Vertices)/(res2.T.sum(axis=-1)[...,np.newaxis]+eps)\n",
    "\n",
    "\n",
    "%matplotlib \n",
    "import matplotlib.pyplot as plt\n",
    "from mpl_toolkits.mplot3d import Axes3D\n",
    "\n",
    "fig= plt.figure()\n",
    "ax=fig.add_subplot(111, projection='3d')\n",
    "\n",
    "ax.scatter(gt_handle_position[:,0],gt_handle_position[:,1], gt_handle_position[:,2], c='k', s=50)\n",
    "ax.scatter(recovered_handle_position[:,0],recovered_handle_position[:,1], recovered_handle_position[:,2], c='r', s=50)\n",
    "# ax.scatter(cliped_handle_position[:,0],cliped_handle_position[:,1], cliped_handle_position[:,2], c='g', s=50)\n",
    "ax.scatter(postprocessed_handle_position[:,0],postprocessed_handle_position[:,1], postprocessed_handle_position[:,2], c='b', s=50)\n",
    "ax.scatter(Vertices[:,0],Vertices[:,1], Vertices[:,2], color='y', s=1, edgecolors='none')\n",
    "\n",
    "plt.show()"
   ]
  },
  {
   "cell_type": "code",
   "execution_count": null,
   "metadata": {},
   "outputs": [],
   "source": []
  },
  {
   "cell_type": "code",
   "execution_count": null,
   "metadata": {},
   "outputs": [],
   "source": []
  },
  {
   "cell_type": "code",
   "execution_count": null,
   "metadata": {},
   "outputs": [],
   "source": []
  },
  {
   "cell_type": "code",
   "execution_count": null,
   "metadata": {},
   "outputs": [],
   "source": []
  },
  {
   "cell_type": "code",
   "execution_count": null,
   "metadata": {},
   "outputs": [],
   "source": []
  },
  {
   "cell_type": "code",
   "execution_count": null,
   "metadata": {},
   "outputs": [],
   "source": []
  },
  {
   "cell_type": "code",
   "execution_count": null,
   "metadata": {},
   "outputs": [],
   "source": []
  }
 ],
 "metadata": {
  "kernelspec": {
   "display_name": "Python 3",
   "language": "python",
   "name": "python3"
  },
  "language_info": {
   "codemirror_mode": {
    "name": "ipython",
    "version": 3
   },
   "file_extension": ".py",
   "mimetype": "text/x-python",
   "name": "python",
   "nbconvert_exporter": "python",
   "pygments_lexer": "ipython3",
   "version": "3.6.5"
  }
 },
 "nbformat": 4,
 "nbformat_minor": 2
}
