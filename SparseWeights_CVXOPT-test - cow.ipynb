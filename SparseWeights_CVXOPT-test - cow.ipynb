{
 "cells": [
  {
   "cell_type": "code",
   "execution_count": 1,
   "metadata": {},
   "outputs": [],
   "source": [
    "import glob\n",
    "import time\n",
    "import numpy as np\n",
    "np.set_printoptions(suppress=True)\n",
    "\n",
    "from SmoothSparseWeights_CVXOPT import *"
   ]
  },
  {
   "cell_type": "code",
   "execution_count": 2,
   "metadata": {},
   "outputs": [],
   "source": [
    "# exampleName=\"cheburashka\"\n",
    "# poses_folder=\"poses-2\"\n",
    "# poses_ind=7\n",
    "# clip_k=4\n",
    "# handle_num=11\n",
    "\n",
    "\n",
    "exampleName=\"cow\"\n",
    "poses_folder=\"poses-2\"\n",
    "poses_ind=5\n",
    "clip_k=4\n",
    "handle_num=15\n",
    "\n",
    "\n",
    "# exampleName=\"wolf\"\n",
    "# poses_folder=\"poses-1\"\n",
    "# poses_ind=2\n",
    "# clip_k=4\n",
    "# handle_num=21\n",
    "\n",
    "\n",
    "\n",
    "weights = {'W_spatial': 0.0}"
   ]
  },
  {
   "cell_type": "code",
   "execution_count": 3,
   "metadata": {},
   "outputs": [
    {
     "name": "stdout",
     "output_type": "stream",
     "text": [
      "['./models/cow-all/poses-2/cow-1.obj', './models/cow-all/poses-2/cow-2.obj', './models/cow-all/poses-2/cow-3.obj', './models/cow-all/poses-2/cow-4.obj', './models/cow-all/poses-2/cow-5.obj', './models/cow-all/poses-2/cow-6.obj', './models/cow-all/poses-2/cow-7.obj']\n",
      "(11666, 28)\n",
      "(11666, 21)\n"
     ]
    }
   ],
   "source": [
    "#### read obj file\n",
    "\n",
    "### rest_poses:\n",
    "vertices_obj_path=\"./models/\"+exampleName+\"-all/\"+exampleName+\".obj\"\n",
    "mesh0=TriMesh.FromOBJ_FileName(vertices_obj_path)\n",
    "\n",
    "### other poses\n",
    "vertices_obj_dir=\"./models/\"+exampleName+\"-all/\"+poses_folder+\"/\"\n",
    "filenames=glob.glob(vertices_obj_dir+\"*.obj\")\n",
    "print(filenames)\n",
    "\n",
    "mesh1_list=[]\n",
    "for i in range(len(filenames)):\n",
    "    mesh1_list.append(TriMesh.FromOBJ_FileName(filenames[i]))\n",
    "\n",
    "\n",
    "vertices1=vertices1_temp=np.hstack((np.asarray(mesh0.vs),np.ones((len(mesh0.vs),1))))\n",
    "vertices2=vertices2_temp=np.asarray(mesh1_list[0].vs)\n",
    "for i in range(1,len(mesh1_list)):\n",
    "    vertices1=np.hstack((vertices1, vertices1_temp))\n",
    "    vertices2=np.hstack((vertices2, np.asarray(mesh1_list[i].vs)))\n",
    "print(vertices1.shape) \n",
    "print(vertices2.shape) \n"
   ]
  },
  {
   "cell_type": "code",
   "execution_count": 4,
   "metadata": {},
   "outputs": [
    {
     "name": "stdout",
     "output_type": "stream",
     "text": [
      "(15, 84)\n",
      "(11666, 15)\n",
      "[[0.20570602 0.00042219 0.02655054 0.15167153 0.00018981 0.00004767\n",
      "  0.00030539 0.00002423 0.02001831 0.00000105 0.00102998 0.14445015\n",
      "  0.00045419 0.44910447 0.00002447]\n",
      " [0.21555833 0.0004373  0.02679411 0.16466939 0.00016431 0.00004939\n",
      "  0.00029969 0.00002367 0.01424946 0.00000119 0.00101018 0.15187666\n",
      "  0.00048589 0.42435294 0.00002749]\n",
      " [0.24024097 0.00040106 0.02997077 0.15734726 0.00013956 0.00004676\n",
      "  0.00030475 0.00002278 0.01438586 0.00000122 0.00103343 0.11445163\n",
      "  0.00051674 0.44110425 0.00003297]]\n",
      "[[0.20570602 0.         0.         0.15167153 0.         0.\n",
      "  0.         0.         0.         0.         0.         0.14445015\n",
      "  0.         0.44910447 0.        ]\n",
      " [0.21555833 0.         0.         0.16466939 0.         0.\n",
      "  0.         0.         0.         0.         0.         0.15187666\n",
      "  0.         0.42435294 0.        ]\n",
      " [0.24024097 0.         0.         0.15734726 0.         0.\n",
      "  0.         0.         0.         0.         0.         0.11445163\n",
      "  0.         0.44110425 0.        ]]\n",
      "[ 9  7 14  5  4  6  1 12 10  8  2 24 22 29 20 19 21 16 27 25 23 17 39 37\n",
      " 44 35 34 36 31 42 40 38 32 54 52 59 50 49 51 46 57 55 53 47 69]\n",
      "0.0\n"
     ]
    }
   ],
   "source": [
    "#### read our output of simplex_hull.py \n",
    "results_path=\"./results_pipeline/\"+exampleName+\"-\"+str(handle_num)+\"/result.txt\"\n",
    "endmembers, mixing_weights=load_result(results_path)\n",
    "### endmembers shape is handle * poses * 12??\n",
    "\n",
    "# ### this is to make sure the 3*4 or 4*3 error does not happen.\n",
    "# endmembers=endmembers.reshape((-1, 4, 3))\n",
    "# endmembers=np.transpose(endmembers, (0,2,1))\n",
    "# endmembers=endmembers.reshape((len(mixing_weights), -1, 12))\n",
    "\n",
    "\n",
    "endmembers=endmembers.reshape((len(mixing_weights),-1))\n",
    "mixing_weights=mixing_weights.T\n",
    "\n",
    "\n",
    "print (endmembers.shape)\n",
    "print (mixing_weights.shape)\n",
    "print (mixing_weights[:3])\n",
    "mixing_weights_clip, grad_zero_indices=clip_first_k_values(mixing_weights, clip_k)\n",
    "print (mixing_weights_clip[:3])\n",
    "\n",
    "print (grad_zero_indices[:len(endmembers)*3])\n",
    "\n",
    "print (mixing_weights_clip.ravel()[grad_zero_indices].sum())"
   ]
  },
  {
   "cell_type": "code",
   "execution_count": 5,
   "metadata": {},
   "outputs": [
    {
     "name": "stdout",
     "output_type": "stream",
     "text": [
      "708.6870049193498\n"
     ]
    }
   ],
   "source": [
    "scale=find_scale(vertices1)\n",
    "print (scale)"
   ]
  },
  {
   "cell_type": "code",
   "execution_count": 6,
   "metadata": {},
   "outputs": [
    {
     "name": "stdout",
     "output_type": "stream",
     "text": [
      "0.07533573276941447\n"
     ]
    }
   ],
   "source": [
    "recovered_vertices2=recover_vertices(mixing_weights, vertices1, endmembers)\n",
    "print (E_RMS_kavan2010(vertices2, recovered_vertices2, scale))"
   ]
  },
  {
   "cell_type": "code",
   "execution_count": 7,
   "metadata": {},
   "outputs": [
    {
     "name": "stdout",
     "output_type": "stream",
     "text": [
      "37144.77739542564\n",
      "(174990, 1)\n",
      "(11666, 28)\n",
      "(11666, 21)\n",
      "11666 7 15\n",
      "W_spatial 0.0\n",
      "     pcost       dcost       gap    pres   dres\n",
      " 0: -4.9599e+07 -5.0121e+07  5e+06  4e+00  6e-13\n",
      " 1: -4.9599e+07 -5.0067e+07  3e+06  3e+00  6e-13\n",
      " 2: -4.9580e+07 -4.9899e+07  3e+06  2e+00  6e-13\n",
      " 3: -4.9472e+07 -4.9253e+07  3e+06  2e+00  6e-13\n",
      " 4: -4.9385e+07 -4.8820e+07  3e+06  2e+00  7e-13\n",
      " 5: -4.8948e+07 -4.7838e+07  3e+06  1e+00  6e-13\n",
      " 6: -4.8480e+07 -4.7108e+07  3e+06  1e+00  6e-13\n",
      " 7: -4.8309e+07 -4.6783e+07  3e+06  1e+00  6e-13\n",
      " 8: -4.7723e+07 -4.5944e+07  3e+06  7e-01  6e-13\n",
      " 9: -4.7219e+07 -4.5063e+07  3e+06  6e-01  5e-13\n",
      "10: -4.6767e+07 -4.4185e+07  3e+06  5e-01  5e-13\n",
      "11: -4.6435e+07 -4.3275e+07  3e+06  5e-01  5e-13\n",
      "12: -4.6293e+07 -4.2349e+07  3e+06  5e-01  6e-13\n",
      "13: -4.6140e+07 -4.0665e+07  4e+06  4e-01  6e-13\n",
      "14: -4.5640e+07 -3.8236e+07  4e+06  4e-01  6e-13\n",
      "15: -4.4743e+07 -3.5278e+07  5e+06  4e-01  6e-13\n",
      "16: -4.3478e+07 -3.1990e+07  6e+06  3e-01  6e-13\n",
      "17: -4.3210e+07 -2.8951e+07  7e+06  3e-01  7e-13\n",
      "18: -4.2537e+07 -2.4873e+07  8e+06  3e-01  7e-13\n",
      "19: -4.1635e+07 -1.8819e+07  9e+06  3e-01  7e-13\n",
      "20: -4.0996e+07 -1.4500e+07  1e+07  3e-01  7e-13\n",
      "21: -3.8953e+07 -3.6307e+06  1e+07  3e-01  7e-13\n",
      "22: -3.8021e+07  3.4579e+06  1e+07  3e-01  8e-13\n",
      "23: -3.5299e+07  2.0008e+07  2e+07  2e-01  8e-13\n",
      "24: -3.3531e+07  2.9320e+07  2e+07  2e-01  8e-13\n",
      "25: -3.2918e+07  3.2536e+07  2e+07  2e-01  8e-13\n",
      "26: -3.1350e+07  4.1934e+07  2e+07  2e-01  9e-13\n",
      "27: -2.9870e+07  5.3888e+07  3e+07  2e-01  9e-13\n",
      "28: -2.7687e+07  6.6676e+07  3e+07  2e-01  9e-13\n",
      "29: -2.6020e+07  7.6116e+07  3e+07  2e-01  1e-12\n",
      "30: -1.8605e+07  1.1029e+08  4e+07  2e-01  1e-12\n",
      "31: -9.7617e+06  1.4291e+08  5e+07  2e-01  1e-12\n",
      "32: -7.5695e+06  1.5159e+08  5e+07  2e-01  1e-12\n",
      "33: -2.9091e+06  1.7455e+08  6e+07  2e-01  1e-12\n",
      "34:  5.5035e+05  2.2129e+08  7e+07  2e-01  1e-12\n",
      "35:  9.0607e+06  2.9959e+08  9e+07  2e-01  1e-12\n",
      "36:  2.3357e+07  3.8519e+08  1e+08  2e-01  1e-12\n",
      "37:  5.4300e+07  5.1116e+08  1e+08  1e-01  1e-12\n",
      "38:  7.3330e+07  5.7810e+08  2e+08  1e-01  1e-12\n",
      "39:  1.0449e+08  7.1027e+08  2e+08  1e-01  1e-12\n",
      "40:  1.2272e+08  8.6679e+08  2e+08  1e-01  1e-12\n",
      "41:  1.3304e+08  1.0692e+09  3e+08  1e-01  1e-12\n",
      "42:  1.6540e+08  1.2759e+09  3e+08  1e-01  1e-12\n",
      "43:  2.4958e+08  1.6584e+09  5e+08  1e-01  1e-12\n",
      "44:  6.4528e+08  2.6393e+09  8e+08  1e-01  1e-12\n",
      "45:  6.5757e+08  2.6711e+09  8e+08  1e-01  1e-12\n",
      "46:  6.7806e+08  2.8388e+09  8e+08  9e-02  1e-12\n",
      "47:  6.4123e+08  3.1316e+09  8e+08  9e-02  1e-12\n",
      "48:  6.4732e+08  4.3476e+09  1e+09  9e-02  2e-12\n",
      "49:  7.2344e+08  6.0976e+09  1e+09  9e-02  2e-12\n",
      "50:  9.8194e+08  9.8515e+09  2e+09  8e-02  3e-12\n",
      "51:  1.8601e+09  1.6728e+10  4e+09  8e-02  4e-12\n",
      "52:  2.4571e+09  1.9850e+10  4e+09  8e-02  6e-12\n",
      "53:  3.6776e+09  2.4818e+10  6e+09  7e-02  7e-12\n",
      "54:  4.3424e+09  2.8200e+10  7e+09  7e-02  8e-12\n",
      "55:  5.3125e+09  3.4518e+10  8e+09  7e-02  9e-12\n",
      "56:  5.3811e+09  4.1156e+10  9e+09  7e-02  9e-12\n",
      "57:  6.1133e+09  5.1541e+10  1e+10  6e-02  1e-11\n",
      "58:  7.1294e+09  6.9407e+10  1e+10  6e-02  1e-11\n",
      "59:  7.5331e+09  8.0579e+10  2e+10  6e-02  1e-11\n",
      "60:  1.0068e+10  1.2033e+11  2e+10  6e-02  1e-11\n",
      "61:  1.7283e+10  1.8097e+11  4e+10  6e-02  1e-11\n",
      "62:  2.4860e+10  2.2296e+11  5e+10  6e-02  1e-11\n",
      "63:  3.1554e+10  2.5287e+11  6e+10  5e-02  1e-11\n",
      "64:  4.6010e+10  3.0648e+11  7e+10  5e-02  1e-11\n",
      "65:  5.4055e+10  3.7893e+11  9e+10  5e-02  1e-11\n",
      "66:  5.8324e+10  4.8813e+11  1e+11  5e-02  1e-11\n",
      "67:  6.1451e+10  6.3654e+11  1e+11  5e-02  1e-11\n",
      "68:  7.9319e+10  9.4081e+11  2e+11  5e-02  1e-11\n",
      "69:  1.0836e+11  1.2228e+12  3e+11  5e-02  1e-11\n",
      "70:  1.2617e+11  1.3819e+12  3e+11  4e-02  1e-11\n",
      "71:  1.7252e+11  1.7037e+12  4e+11  4e-02  1e-11\n",
      "72:  2.0157e+11  2.1234e+12  5e+11  4e-02  1e-11\n",
      "73:  2.1870e+11  2.4157e+12  5e+11  4e-02  1e-11\n",
      "74:  2.6439e+11  3.0052e+12  6e+11  4e-02  1e-11\n",
      "75:  3.2018e+11  3.7601e+12  8e+11  4e-02  1e-11\n",
      "76:  4.0512e+11  4.8221e+12  1e+12  4e-02  2e-11\n",
      "77:  5.3602e+11  6.3306e+12  1e+12  4e-02  2e-11\n",
      "78:  7.6730e+11  8.4824e+12  2e+12  4e-02  2e-11\n",
      "79:  1.0601e+12  1.0794e+13  2e+12  4e-02  2e-11\n",
      "80:  1.3756e+12  1.3316e+13  3e+12  3e-02  2e-11\n",
      "81:  1.7299e+12  1.7057e+13  4e+12  3e-02  2e-11\n",
      "82:  1.9059e+12  2.2438e+13  5e+12  3e-02  2e-11\n",
      "83:  2.1339e+12  2.5011e+13  6e+12  3e-02  2e-11\n",
      "84:  2.6739e+12  3.0190e+13  7e+12  3e-02  2e-11\n",
      "85:  3.7015e+12  3.9213e+13  9e+12  3e-02  2e-11\n",
      "86:  4.6540e+12  4.7036e+13  1e+13  3e-02  2e-11\n",
      "87:  4.9198e+12  5.7029e+13  1e+13  3e-02  2e-11\n",
      "88:  4.8712e+12  7.9452e+13  2e+13  3e-02  2e-11\n",
      "89:  5.5431e+12  9.8956e+13  2e+13  3e-02  2e-11\n",
      "90:  6.4336e+12  1.1973e+14  2e+13  3e-02  2e-11\n",
      "91:  7.4046e+12  1.4792e+14  3e+13  3e-02  2e-11\n",
      "92:  7.1945e+12  1.9156e+14  4e+13  3e-02  2e-11\n",
      "93:  1.0067e+13  3.7149e+14  6e+13  3e-02  2e-11\n",
      "94:  1.3551e+13  5.0605e+14  8e+13  3e-02  2e-11\n",
      "95:  2.2246e+13  7.3599e+14  1e+14  3e-02  2e-11\n",
      "96:  3.9070e+13  1.0431e+15  2e+14  3e-02  2e-11\n",
      "97:  6.5367e+13  1.3902e+15  2e+14  3e-02  2e-11\n",
      "98:  6.5318e+13  1.5667e+15  3e+14  3e-02  2e-11\n",
      "99:  7.5847e+13  2.0162e+15  3e+14  2e-02  2e-11\n",
      "100:  8.3964e+13  2.4764e+15  4e+14  2e-02  2e-11\n",
      "Terminated (maximum number of iterations reached).\n",
      "Solution status not optimal: unknown\n",
      "using time:  3184.3029148578644\n",
      "60741.010037796535\n"
     ]
    }
   ],
   "source": [
    "recovered_vertices2=recover_vertices(mixing_weights_clip, vertices1, endmembers)\n",
    "print (E_RMS_kavan2010(vertices2, recovered_vertices2, scale))\n",
    "\n",
    "initials={'x': col_major(mixing_weights_clip.reshape((-1,len(endmembers)))).reshape((-1,1))}\n",
    "print (initials['x'].shape)\n",
    "\n",
    "start=time.time()\n",
    "\n",
    "res=run(mesh0, mesh1_list, weights, endmembers, mixing_weights.ravel(), grad_zero_indices, initials=initials)\n",
    "\n",
    "res=res.reshape(mixing_weights.shape)\n",
    "end=time.time()\n",
    "print(\"using time: \", end-start)\n",
    "\n",
    "recovered_vertices2=recover_vertices(res, vertices1, endmembers)\n",
    "print (E_RMS_kavan2010(vertices2, recovered_vertices2, scale))"
   ]
  },
  {
   "cell_type": "code",
   "execution_count": 8,
   "metadata": {},
   "outputs": [
    {
     "name": "stdout",
     "output_type": "stream",
     "text": [
      "[[ 0.34404205  0.1080483  -0.01678851  0.34759121 -0.01501589 -0.01647529\n",
      "  -0.01515092 -0.00974305  0.35430319 -0.00315285 -0.01536651 -0.01699708\n",
      "  -0.01614025 -0.01710094 -0.01205345]\n",
      " [ 0.16045388 -0.0159742   0.1960362   0.15113497  0.04682882 -0.01151912\n",
      "  -0.01558226 -0.01152185  0.18173544 -0.00402929 -0.01581303  0.15609359\n",
      "   0.04478771  0.14975181 -0.01238268]\n",
      " [-0.01709864  0.05514794 -0.01638057 -0.01646635 -0.01210484  0.03631999\n",
      "  -0.0153973  -0.01397726  0.53034547 -0.0029637  -0.01486401  0.53272025\n",
      "  -0.01587188 -0.01708701 -0.0123221 ]]\n",
      "4256.591863514781\n",
      "1.017104944512035\n",
      "11666.000000000045\n"
     ]
    }
   ],
   "source": [
    "print (res.reshape((-1, len(endmembers)))[:3]) ### should have same zeros as initial input.\n",
    "print (res.ravel()[grad_zero_indices].sum()) ### should be zero\n",
    "print (res.ravel()[grad_zero_indices].max()) ### should be zero\n",
    "print (res.sum())"
   ]
  },
  {
   "cell_type": "code",
   "execution_count": 9,
   "metadata": {},
   "outputs": [
    {
     "name": "stdout",
     "output_type": "stream",
     "text": [
      "3.9379638865665833e-25\n",
      "-0.017420422698964173 1.0171398912454588\n"
     ]
    }
   ],
   "source": [
    "print (((1-res.sum(axis=-1))**2).sum()/len(res))\n",
    "print (res.min(), res.max())"
   ]
  },
  {
   "cell_type": "code",
   "execution_count": 10,
   "metadata": {},
   "outputs": [
    {
     "name": "stdout",
     "output_type": "stream",
     "text": [
      "83964547292262.84\n"
     ]
    }
   ],
   "source": [
    "recover_diff= (res.dot(endmembers)-mixing_weights.dot(endmembers))\n",
    "recover_diff= (recover_diff**2).sum()\n",
    "print (recover_diff)"
   ]
  },
  {
   "cell_type": "code",
   "execution_count": 11,
   "metadata": {},
   "outputs": [],
   "source": [
    "# #### read gt per vertex transformation \n",
    "# groundtruth_names=glob.glob(\"./models/\"+exampleName+\"-all/\"+exampleName+\"-*.DMAT\")\n",
    "# print(groundtruth_names)\n",
    "\n",
    "# gt_all=None\n",
    "# for i in range(len(groundtruth_names)):\n",
    "#     gt=load_DMAT(groundtruth_names[i])\n",
    "#     gt=gt.T\n",
    "#     gt=gt.reshape((-1,4,3))\n",
    "#     gt=np.transpose(gt, (0,2,1)).reshape((-1,12))\n",
    "#     if gt_all is None:\n",
    "#         gt_all=gt\n",
    "#     else:\n",
    "#         gt_all=np.hstack((gt_all, gt))\n",
    "    \n",
    "# print(gt_all.shape)\n"
   ]
  },
  {
   "cell_type": "code",
   "execution_count": 12,
   "metadata": {},
   "outputs": [
    {
     "name": "stdout",
     "output_type": "stream",
     "text": [
      "['./models/cow-all/cow.DMAT']\n",
      "(11666, 15)\n",
      "1.5653958587979453e-28\n"
     ]
    }
   ],
   "source": [
    "#### read gt per vertex mixing weights \n",
    "groundtruth_names=glob.glob(\"./models/\"+exampleName+\"-all/\"+exampleName+\".DMAT\")\n",
    "print(groundtruth_names)\n",
    "gt=load_DMAT(groundtruth_names[0])\n",
    "gt_mixing_weights=gt.T.copy()\n",
    "print (gt_mixing_weights.shape)\n",
    "\n",
    "print (((gt_mixing_weights.sum(axis=-1)-1)**2).sum())"
   ]
  },
  {
   "cell_type": "code",
   "execution_count": 13,
   "metadata": {},
   "outputs": [
    {
     "name": "stdout",
     "output_type": "stream",
     "text": [
      "['./models/cow-all/poses-2/cow-1.Tmat', './models/cow-all/poses-2/cow-2.Tmat', './models/cow-all/poses-2/cow-3.Tmat', './models/cow-all/poses-2/cow-4.Tmat', './models/cow-all/poses-2/cow-5.Tmat', './models/cow-all/poses-2/cow-6.Tmat', './models/cow-all/poses-2/cow-7.Tmat']\n",
      "(15, 84)\n",
      "(7, 15, 12)\n",
      "[[1. 0. 0. 0.]\n",
      " [0. 1. 0. 0.]\n",
      " [0. 0. 1. 0.]]\n",
      "[[ 0.998956    0.0322376   0.0323555  -2.24837   ]\n",
      " [-0.0456047   0.664913    0.745527   27.1422    ]\n",
      " [ 0.00252045 -0.746225    0.665689   53.4901    ]]\n",
      "[[1. 0. 0. 0.]\n",
      " [0. 1. 0. 0.]\n",
      " [0. 0. 1. 0.]]\n",
      "[[1. 0. 0. 0.]\n",
      " [0. 1. 0. 0.]\n",
      " [0. 0. 1. 0.]]\n",
      "[[1. 0. 0. 0.]\n",
      " [0. 1. 0. 0.]\n",
      " [0. 0. 1. 0.]]\n",
      "[[1. 0. 0. 0.]\n",
      " [0. 1. 0. 0.]\n",
      " [0. 0. 1. 0.]]\n",
      "[[1. 0. 0. 0.]\n",
      " [0. 1. 0. 0.]\n",
      " [0. 0. 1. 0.]]\n",
      "[[ 0.99999923 -0.00000004  0.00000002]\n",
      " [-0.00000004  1.00000031 -0.00000012]\n",
      " [ 0.00000002 -0.00000012  0.99999923]]\n"
     ]
    }
   ],
   "source": [
    "### load groundtruth endmember\n",
    "groundtruth_names=glob.glob(\"./models/\"+exampleName+\"-all/\"+poses_folder+\"/\"+exampleName+\"-*.Tmat\")\n",
    "print(groundtruth_names)\n",
    "\n",
    "gt_handles=None\n",
    "for i in range(len(groundtruth_names)):\n",
    "    gt=load_Tmat(groundtruth_names[i])\n",
    "    gt=gt.reshape((-1,4,3))\n",
    "    gt=np.transpose(gt, (0,2,1)).reshape((-1,12))\n",
    "    if gt_handles is None:\n",
    "        gt_handles=gt\n",
    "    else:\n",
    "        gt_handles=np.hstack((gt_handles, gt))\n",
    "    \n",
    "print(gt_handles.shape)\n",
    "gt_handles=gt_handles.reshape(len(groundtruth_names), -1, 12)\n",
    "\n",
    "gt_handles=np.transpose(gt_handles.reshape(-1, len(groundtruth_names), 12), (1,0,2)) ### is this true?\n",
    "\n",
    "print(gt_handles.shape)\n",
    "\n",
    "for i in range(len(gt_handles)):\n",
    "    print (gt_handles[i][2].reshape((3,4)))\n",
    "\n",
    "test=gt_handles[1][2].reshape((3,4))[:,:3]\n",
    "print (test.T.dot(test))"
   ]
  },
  {
   "cell_type": "code",
   "execution_count": null,
   "metadata": {},
   "outputs": [],
   "source": []
  },
  {
   "cell_type": "code",
   "execution_count": 14,
   "metadata": {},
   "outputs": [
    {
     "name": "stderr",
     "output_type": "stream",
     "text": [
      "/usr/local/lib/python3.6/site-packages/ipykernel_launcher.py:8: RuntimeWarning: invalid value encountered in true_divide\n",
      "  \n"
     ]
    },
    {
     "name": "stdout",
     "output_type": "stream",
     "text": [
      "Using matplotlib backend: MacOSX\n"
     ]
    }
   ],
   "source": [
    "### plot handles corresponding to gt mixing weights, recovered mixing weights, and post-processed mixing weights.\n",
    "###\n",
    "\n",
    "Vertices=vertices2[:,poses_ind*3:poses_ind*3+3]\n",
    "\n",
    "gt_handle_position=gt_mixing_weights.T.dot(Vertices)/gt_mixing_weights.T.sum(axis=-1)[...,np.newaxis]\n",
    "recovered_handle_position=mixing_weights.T.dot(Vertices)/mixing_weights.T.sum(axis=-1)[...,np.newaxis]\n",
    "cliped_handle_position=mixing_weights_clip.T.dot(Vertices)/mixing_weights_clip.T.sum(axis=-1)[...,np.newaxis]\n",
    "postprocessed_handle_position=res.T.dot(Vertices)/res.T.sum(axis=-1)[...,np.newaxis]\n",
    "\n",
    "%matplotlib \n",
    "import matplotlib.pyplot as plt\n",
    "from mpl_toolkits.mplot3d import Axes3D\n",
    "\n",
    "fig= plt.figure()\n",
    "ax=fig.add_subplot(111, projection='3d')\n",
    "\n",
    "ax.scatter(gt_handle_position[:,0],gt_handle_position[:,1], gt_handle_position[:,2], c='k', s=50)\n",
    "ax.scatter(recovered_handle_position[:,0],recovered_handle_position[:,1], recovered_handle_position[:,2], c='r', s=50)\n",
    "# ax.scatter(cliped_handle_position[:,0],cliped_handle_position[:,1], cliped_handle_position[:,2], c='g', s=50)\n",
    "ax.scatter(postprocessed_handle_position[:,0],postprocessed_handle_position[:,1], postprocessed_handle_position[:,2], c='b', s=50)\n",
    "ax.scatter(Vertices[:,0],Vertices[:,1], Vertices[:,2], color='y', s=1, edgecolors='none')\n",
    "\n",
    "plt.show()"
   ]
  },
  {
   "cell_type": "code",
   "execution_count": null,
   "metadata": {},
   "outputs": [],
   "source": []
  },
  {
   "cell_type": "code",
   "execution_count": null,
   "metadata": {},
   "outputs": [],
   "source": []
  },
  {
   "cell_type": "code",
   "execution_count": null,
   "metadata": {},
   "outputs": [],
   "source": []
  },
  {
   "cell_type": "code",
   "execution_count": null,
   "metadata": {},
   "outputs": [],
   "source": []
  },
  {
   "cell_type": "code",
   "execution_count": null,
   "metadata": {},
   "outputs": [],
   "source": []
  },
  {
   "cell_type": "code",
   "execution_count": null,
   "metadata": {},
   "outputs": [],
   "source": []
  },
  {
   "cell_type": "code",
   "execution_count": null,
   "metadata": {},
   "outputs": [],
   "source": []
  }
 ],
 "metadata": {
  "kernelspec": {
   "display_name": "Python 3",
   "language": "python",
   "name": "python3"
  },
  "language_info": {
   "codemirror_mode": {
    "name": "ipython",
    "version": 3
   },
   "file_extension": ".py",
   "mimetype": "text/x-python",
   "name": "python",
   "nbconvert_exporter": "python",
   "pygments_lexer": "ipython3",
   "version": "3.6.5"
  }
 },
 "nbformat": 4,
 "nbformat_minor": 2
}
